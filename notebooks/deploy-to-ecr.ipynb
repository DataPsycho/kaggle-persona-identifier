{
 "cells": [
  {
   "cell_type": "code",
   "execution_count": null,
   "id": "e673712f",
   "metadata": {},
   "outputs": [],
   "source": [
    "%%capture\n",
    "\n",
    "%cd ../../"
   ]
  },
  {
   "cell_type": "code",
   "execution_count": 2,
   "id": "eedc262c",
   "metadata": {},
   "outputs": [],
   "source": [
    "import sys\n",
    "sys.path.extend([\"kaggle-persona_identifier/src\"])"
   ]
  },
  {
   "cell_type": "code",
   "execution_count": 3,
   "id": "f0a9ef6c",
   "metadata": {},
   "outputs": [],
   "source": [
    "import pandas as pd\n",
    "import os\n",
    "from pathlib import Path\n",
    "import json"
   ]
  },
  {
   "cell_type": "code",
   "execution_count": 4,
   "id": "1ccec1d4",
   "metadata": {},
   "outputs": [],
   "source": [
    "current_dir = Path.cwd()\n",
    "raw_data_dir = current_dir.joinpath('kaggle-persona_identifier/data/raw')\n",
    "processed_data_dir = current_dir.joinpath('kaggle-persona_identifier/data/processed')\n",
    "config_dir = current_dir.joinpath('kaggle-persona_identifier/configs')\n",
    "artifacts_dir = current_dir.joinpath('kaggle-persona_identifier/models/artifacts')\n",
    "features_dir = current_dir.joinpath('kaggle-persona_identifier/models/features')\n",
    "filename = 'kaggle_survey_2017_2021.csv'"
   ]
  },
  {
   "cell_type": "code",
   "execution_count": 5,
   "id": "224dcba3",
   "metadata": {},
   "outputs": [],
   "source": [
    "full_data_dir = processed_data_dir.joinpath('full-data')\n",
    "train_dir =  processed_data_dir.joinpath('train-data')\n",
    "test_dir = processed_data_dir.joinpath('test-data')\n",
    "models_dir = current_dir.joinpath('model/artifacts/')"
   ]
  },
  {
   "cell_type": "code",
   "execution_count": 6,
   "id": "c40fcfb3",
   "metadata": {},
   "outputs": [
    {
     "data": {
      "text/plain": [
       "(31870, 37)"
      ]
     },
     "execution_count": 6,
     "metadata": {},
     "output_type": "execute_result"
    }
   ],
   "source": [
    "test_data = pd.read_csv(test_dir.joinpath('KaggleResponses-Test.csv'))\n",
    "test_data.shape"
   ]
  },
  {
   "cell_type": "code",
   "execution_count": 9,
   "id": "d7130ab1",
   "metadata": {},
   "outputs": [],
   "source": [
    "test_sample = test_data.iloc[:,:-1][0:1]\n",
    "json_data = json.dumps(test_sample.to_dict(orient='records'))\n",
    "json_dat= {\"test_data\": json_data}"
   ]
  },
  {
   "cell_type": "code",
   "execution_count": 12,
   "id": "3d5f67ed",
   "metadata": {},
   "outputs": [
    {
     "data": {
      "text/plain": [
       "(1, 36)"
      ]
     },
     "execution_count": 12,
     "metadata": {},
     "output_type": "execute_result"
    }
   ],
   "source": [
    "test_sample.shape"
   ]
  },
  {
   "cell_type": "code",
   "execution_count": 10,
   "id": "51d24754",
   "metadata": {},
   "outputs": [],
   "source": [
    "import json\n",
    "with open('test_data.json', 'w') as f:\n",
    "    json.dump(json_data, f)"
   ]
  },
  {
   "cell_type": "code",
   "execution_count": 11,
   "id": "a3021166",
   "metadata": {
    "collapsed": true,
    "jupyter": {
     "outputs_hidden": true
    }
   },
   "outputs": [
    {
     "data": {
      "text/plain": [
       "Index(['What is your current yearly compensation (approximate $USD)?',\n",
       "       'Uses Computer Vision Algorithms Count',\n",
       "       'What is the highest level of formal education that you have attained or plan to attain within the next 2 years?_Doctorate',\n",
       "       'Uses ML Framework Count', 'Uses ML Algorithms Count',\n",
       "       'Which of the following big data products (relational database, data warehouse, data lake, or similar) do you use most often? - Selected Choice',\n",
       "       'What type of computing platform do you use most often for your data science projects? - Selected Choice',\n",
       "       'In what industry is your current employer/contract (or your most recent employer if retired)? - Selected Choice',\n",
       "       'For how many years have you used machine learning methods?',\n",
       "       'Uses NLP Algorithms Count',\n",
       "       'What programming languages do you use on a regular basis? (Select all that apply) - Selected Choice - Javascript',\n",
       "       'Which types of specialized hardware do you use on a regular basis?  (Select all that apply) - Selected Choice -  NVIDIA GPUs ',\n",
       "       'Which of the following integrated development environments (IDE's) do you use on a regular basis?  (Select all that apply) - Selected Choice -  RStudio ',\n",
       "       'What programming languages do you use on a regular basis? (Select all that apply) - Selected Choice - R',\n",
       "       'Who/what are your favorite media sources that report on data science topics? (Select all that apply) - Selected Choice - Journal Publications (peer-reviewed journals, conference proceedings, etc)',\n",
       "       'Which of the following integrated development environments (IDE's) do you use on a regular basis?  (Select all that apply) - Selected Choice -  Visual Studio / Visual Studio Code ',\n",
       "       'Select any activities that make up an important part of your role at work: (Select all that apply) - Selected Choice - None of these activities are an important part of my role at work',\n",
       "       'Which of the following machine learning frameworks do you use on a regular basis? (Select all that apply) - Selected Choice -  Xgboost ',\n",
       "       'Which of the following ML algorithms do you use on a regular basis? (Select all that apply): - Selected Choice - Convolutional Neural Networks',\n",
       "       'Which categories of computer vision methods do you use on a regular basis?  (Select all that apply) - Selected Choice - Image classification and other general purpose networks (VGG, Inception, ResNet, ResNeXt, NASNet, EfficientNet, etc)',\n",
       "       'Select any activities that make up an important part of your role at work: (Select all that apply) - Selected Choice - Do research that advances the state of the art of machine learning',\n",
       "       'Select any activities that make up an important part of your role at work: (Select all that apply) - Selected Choice - Experimentation and iteration to improve existing ML models',\n",
       "       'Uses Big Data Products Count',\n",
       "       'Select any activities that make up an important part of your role at work: (Select all that apply) - Selected Choice - Build prototypes to explore applying machine learning to new areas',\n",
       "       'Select any activities that make up an important part of your role at work: (Select all that apply) - Selected Choice - Build and/or run a machine learning service that operationally improves my product or workflows',\n",
       "       'What data visualization libraries or tools do you use on a regular basis?  (Select all that apply) - Selected Choice -  Ggplot / ggplot2 ',\n",
       "       'Approximately how much money have you (or your team) spent on machine learning and/or cloud computing services at home (or at work) in the past 5 years (approximate $USD)?',\n",
       "       'What programming language would you recommend an aspiring data scientist to learn first? - Selected Choice',\n",
       "       'Which of the following integrated development environments (IDE's) do you use on a regular basis?  (Select all that apply) - Selected Choice -  MATLAB ',\n",
       "       'What programming languages do you use on a regular basis? (Select all that apply) - Selected Choice - Java',\n",
       "       'Which of the following ML algorithms do you use on a regular basis? (Select all that apply): - Selected Choice - Dense Neural Networks (MLPs, etc)',\n",
       "       'Which categories of computer vision methods do you use on a regular basis?  (Select all that apply) - Selected Choice - Object detection methods (YOLOv3, RetinaNet, etc)',\n",
       "       'Which of the following cloud computing platforms do you use on a regular basis? (Select all that apply) - Selected Choice -  Amazon Web Services (AWS) ',\n",
       "       'Select any activities that make up an important part of your role at work: (Select all that apply) - Selected Choice - Build and/or run the data infrastructure that my business uses for storing, analyzing, and operationalizing data',\n",
       "       'What programming languages do you use on a regular basis? (Select all that apply) - Selected Choice - Python',\n",
       "       'Approximately how many times have you used a TPU (tensor processing unit)?'],\n",
       "      dtype='object')"
      ]
     },
     "execution_count": 11,
     "metadata": {},
     "output_type": "execute_result"
    }
   ],
   "source": [
    "test_sample.columns"
   ]
  },
  {
   "cell_type": "code",
   "execution_count": 8,
   "id": "8c595fa8",
   "metadata": {
    "collapsed": true,
    "jupyter": {
     "outputs_hidden": true
    }
   },
   "outputs": [
    {
     "data": {
      "text/plain": [
       "'[{\"What is your current yearly compensation (approximate $USD)?\": 1.0, \"Uses Computer Vision Algorithms Count\": 0.0, \"What is the highest level of formal education that you have attained or plan to attain within the next 2 years?_Doctorate\": 0.0, \"Uses ML Framework Count\": 0.0, \"Uses ML Algorithms Count\": 0.0, \"Which of the following big data products (relational database, data warehouse, data lake, or similar) do you use most often? - Selected Choice\": 0.0, \"What type of computing platform do you use most often for your data science projects? - Selected Choice\": 0.0, \"In what industry is your current employer/contract (or your most recent employer if retired)? - Selected Choice\": 0.0, \"For how many years have you used machine learning methods?\": 0.0, \"Uses NLP Algorithms Count\": 0.0, \"What programming languages do you use on a regular basis? (Select all that apply) - Selected Choice - Javascript\": 0.0, \"Which types of specialized hardware do you use on a regular basis?  (Select all that apply) - Selected Choice -  NVIDIA GPUs \": 0.0, \"Which of the following integrated development environments (IDE\\'s) do you use on a regular basis?  (Select all that apply) - Selected Choice -  RStudio \": 0.0, \"What programming languages do you use on a regular basis? (Select all that apply) - Selected Choice - R\": 0.0, \"Who/what are your favorite media sources that report on data science topics? (Select all that apply) - Selected Choice - Journal Publications (peer-reviewed journals, conference proceedings, etc)\": 0.0, \"Which of the following integrated development environments (IDE\\'s) do you use on a regular basis?  (Select all that apply) - Selected Choice -  Visual Studio / Visual Studio Code \": 3.0, \"Select any activities that make up an important part of your role at work: (Select all that apply) - Selected Choice - None of these activities are an important part of my role at work\": 0.0, \"Which of the following machine learning frameworks do you use on a regular basis? (Select all that apply) - Selected Choice -  Xgboost \": 0.0, \"Which of the following ML algorithms do you use on a regular basis? (Select all that apply): - Selected Choice - Convolutional Neural Networks\": 0.0, \"Which categories of computer vision methods do you use on a regular basis?  (Select all that apply) - Selected Choice - Image classification and other general purpose networks (VGG, Inception, ResNet, ResNeXt, NASNet, EfficientNet, etc)\": 0.0, \"Select any activities that make up an important part of your role at work: (Select all that apply) - Selected Choice - Do research that advances the state of the art of machine learning\": 0.0, \"Select any activities that make up an important part of your role at work: (Select all that apply) - Selected Choice - Experimentation and iteration to improve existing ML models\": 0.0, \"Uses Big Data Products Count\": 0.0, \"Select any activities that make up an important part of your role at work: (Select all that apply) - Selected Choice - Build prototypes to explore applying machine learning to new areas\": 0.0, \"Select any activities that make up an important part of your role at work: (Select all that apply) - Selected Choice - Build and/or run a machine learning service that operationally improves my product or workflows\": 0.0, \"What data visualization libraries or tools do you use on a regular basis?  (Select all that apply) - Selected Choice -  Ggplot / ggplot2 \": 0.0, \"Approximately how much money have you (or your team) spent on machine learning and/or cloud computing services at home (or at work) in the past 5 years (approximate $USD)?\": 2.0, \"What programming language would you recommend an aspiring data scientist to learn first? - Selected Choice\": 1.0, \"Which of the following integrated development environments (IDE\\'s) do you use on a regular basis?  (Select all that apply) - Selected Choice -  MATLAB \": 0.0, \"What programming languages do you use on a regular basis? (Select all that apply) - Selected Choice - Java\": 0.0, \"Which of the following ML algorithms do you use on a regular basis? (Select all that apply): - Selected Choice - Dense Neural Networks (MLPs, etc)\": 0.0, \"Which categories of computer vision methods do you use on a regular basis?  (Select all that apply) - Selected Choice - Object detection methods (YOLOv3, RetinaNet, etc)\": 0.0, \"Which of the following cloud computing platforms do you use on a regular basis? (Select all that apply) - Selected Choice -  Amazon Web Services (AWS) \": 0.0, \"Select any activities that make up an important part of your role at work: (Select all that apply) - Selected Choice - Build and/or run the data infrastructure that my business uses for storing, analyzing, and operationalizing data\": 1.0, \"What programming languages do you use on a regular basis? (Select all that apply) - Selected Choice - Python\": 1.0, \"Approximately how many times have you used a TPU (tensor processing unit)?\": 0.0}, {\"What is your current yearly compensation (approximate $USD)?\": 2.0, \"Uses Computer Vision Algorithms Count\": 0.0, \"What is the highest level of formal education that you have attained or plan to attain within the next 2 years?_Doctorate\": 0.0, \"Uses ML Framework Count\": 0.0, \"Uses ML Algorithms Count\": 0.0, \"Which of the following big data products (relational database, data warehouse, data lake, or similar) do you use most often? - Selected Choice\": 0.0, \"What type of computing platform do you use most often for your data science projects? - Selected Choice\": 0.0, \"In what industry is your current employer/contract (or your most recent employer if retired)? - Selected Choice\": 3.0, \"For how many years have you used machine learning methods?\": 4.0, \"Uses NLP Algorithms Count\": 0.0, \"What programming languages do you use on a regular basis? (Select all that apply) - Selected Choice - Javascript\": 0.0, \"Which types of specialized hardware do you use on a regular basis?  (Select all that apply) - Selected Choice -  NVIDIA GPUs \": 0.0, \"Which of the following integrated development environments (IDE\\'s) do you use on a regular basis?  (Select all that apply) - Selected Choice -  RStudio \": 2.0, \"What programming languages do you use on a regular basis? (Select all that apply) - Selected Choice - R\": 1.0, \"Who/what are your favorite media sources that report on data science topics? (Select all that apply) - Selected Choice - Journal Publications (peer-reviewed journals, conference proceedings, etc)\": 0.0, \"Which of the following integrated development environments (IDE\\'s) do you use on a regular basis?  (Select all that apply) - Selected Choice -  Visual Studio / Visual Studio Code \": 0.0, \"Select any activities that make up an important part of your role at work: (Select all that apply) - Selected Choice - None of these activities are an important part of my role at work\": 0.0, \"Which of the following machine learning frameworks do you use on a regular basis? (Select all that apply) - Selected Choice -  Xgboost \": 0.0, \"Which of the following ML algorithms do you use on a regular basis? (Select all that apply): - Selected Choice - Convolutional Neural Networks\": 0.0, \"Which categories of computer vision methods do you use on a regular basis?  (Select all that apply) - Selected Choice - Image classification and other general purpose networks (VGG, Inception, ResNet, ResNeXt, NASNet, EfficientNet, etc)\": 0.0, \"Select any activities that make up an important part of your role at work: (Select all that apply) - Selected Choice - Do research that advances the state of the art of machine learning\": 0.0, \"Select any activities that make up an important part of your role at work: (Select all that apply) - Selected Choice - Experimentation and iteration to improve existing ML models\": 0.0, \"Uses Big Data Products Count\": 0.0, \"Select any activities that make up an important part of your role at work: (Select all that apply) - Selected Choice - Build prototypes to explore applying machine learning to new areas\": 0.0, \"Select any activities that make up an important part of your role at work: (Select all that apply) - Selected Choice - Build and/or run a machine learning service that operationally improves my product or workflows\": 1.0, \"What data visualization libraries or tools do you use on a regular basis?  (Select all that apply) - Selected Choice -  Ggplot / ggplot2 \": 2.0, \"Approximately how much money have you (or your team) spent on machine learning and/or cloud computing services at home (or at work) in the past 5 years (approximate $USD)?\": 0.0, \"What programming language would you recommend an aspiring data scientist to learn first? - Selected Choice\": 3.0, \"Which of the following integrated development environments (IDE\\'s) do you use on a regular basis?  (Select all that apply) - Selected Choice -  MATLAB \": 0.0, \"What programming languages do you use on a regular basis? (Select all that apply) - Selected Choice - Java\": 0.0, \"Which of the following ML algorithms do you use on a regular basis? (Select all that apply): - Selected Choice - Dense Neural Networks (MLPs, etc)\": 0.0, \"Which categories of computer vision methods do you use on a regular basis?  (Select all that apply) - Selected Choice - Object detection methods (YOLOv3, RetinaNet, etc)\": 0.0, \"Which of the following cloud computing platforms do you use on a regular basis? (Select all that apply) - Selected Choice -  Amazon Web Services (AWS) \": 0.0, \"Select any activities that make up an important part of your role at work: (Select all that apply) - Selected Choice - Build and/or run the data infrastructure that my business uses for storing, analyzing, and operationalizing data\": 0.0, \"What programming languages do you use on a regular basis? (Select all that apply) - Selected Choice - Python\": 0.0, \"Approximately how many times have you used a TPU (tensor processing unit)?\": 0.0}, {\"What is your current yearly compensation (approximate $USD)?\": 0.0, \"Uses Computer Vision Algorithms Count\": 0.0, \"What is the highest level of formal education that you have attained or plan to attain within the next 2 years?_Doctorate\": 0.0, \"Uses ML Framework Count\": 0.0, \"Uses ML Algorithms Count\": 0.0, \"Which of the following big data products (relational database, data warehouse, data lake, or similar) do you use most often? - Selected Choice\": 0.0, \"What type of computing platform do you use most often for your data science projects? - Selected Choice\": 0.0, \"In what industry is your current employer/contract (or your most recent employer if retired)? - Selected Choice\": 0.0, \"For how many years have you used machine learning methods?\": 0.0, \"Uses NLP Algorithms Count\": 0.0, \"What programming languages do you use on a regular basis? (Select all that apply) - Selected Choice - Javascript\": 0.0, \"Which types of specialized hardware do you use on a regular basis?  (Select all that apply) - Selected Choice -  NVIDIA GPUs \": 0.0, \"Which of the following integrated development environments (IDE\\'s) do you use on a regular basis?  (Select all that apply) - Selected Choice -  RStudio \": 0.0, \"What programming languages do you use on a regular basis? (Select all that apply) - Selected Choice - R\": 0.0, \"Who/what are your favorite media sources that report on data science topics? (Select all that apply) - Selected Choice - Journal Publications (peer-reviewed journals, conference proceedings, etc)\": 0.0, \"Which of the following integrated development environments (IDE\\'s) do you use on a regular basis?  (Select all that apply) - Selected Choice -  Visual Studio / Visual Studio Code \": 0.0, \"Select any activities that make up an important part of your role at work: (Select all that apply) - Selected Choice - None of these activities are an important part of my role at work\": 0.0, \"Which of the following machine learning frameworks do you use on a regular basis? (Select all that apply) - Selected Choice -  Xgboost \": 0.0, \"Which of the following ML algorithms do you use on a regular basis? (Select all that apply): - Selected Choice - Convolutional Neural Networks\": 0.0, \"Which categories of computer vision methods do you use on a regular basis?  (Select all that apply) - Selected Choice - Image classification and other general purpose networks (VGG, Inception, ResNet, ResNeXt, NASNet, EfficientNet, etc)\": 0.0, \"Select any activities that make up an important part of your role at work: (Select all that apply) - Selected Choice - Do research that advances the state of the art of machine learning\": 0.0, \"Select any activities that make up an important part of your role at work: (Select all that apply) - Selected Choice - Experimentation and iteration to improve existing ML models\": 0.0, \"Uses Big Data Products Count\": 0.0, \"Select any activities that make up an important part of your role at work: (Select all that apply) - Selected Choice - Build prototypes to explore applying machine learning to new areas\": 0.0, \"Select any activities that make up an important part of your role at work: (Select all that apply) - Selected Choice - Build and/or run a machine learning service that operationally improves my product or workflows\": 0.0, \"What data visualization libraries or tools do you use on a regular basis?  (Select all that apply) - Selected Choice -  Ggplot / ggplot2 \": 0.0, \"Approximately how much money have you (or your team) spent on machine learning and/or cloud computing services at home (or at work) in the past 5 years (approximate $USD)?\": 0.0, \"What programming language would you recommend an aspiring data scientist to learn first? - Selected Choice\": 1.0, \"Which of the following integrated development environments (IDE\\'s) do you use on a regular basis?  (Select all that apply) - Selected Choice -  MATLAB \": 0.0, \"What programming languages do you use on a regular basis? (Select all that apply) - Selected Choice - Java\": 0.0, \"Which of the following ML algorithms do you use on a regular basis? (Select all that apply): - Selected Choice - Dense Neural Networks (MLPs, etc)\": 0.0, \"Which categories of computer vision methods do you use on a regular basis?  (Select all that apply) - Selected Choice - Object detection methods (YOLOv3, RetinaNet, etc)\": 0.0, \"Which of the following cloud computing platforms do you use on a regular basis? (Select all that apply) - Selected Choice -  Amazon Web Services (AWS) \": 0.0, \"Select any activities that make up an important part of your role at work: (Select all that apply) - Selected Choice - Build and/or run the data infrastructure that my business uses for storing, analyzing, and operationalizing data\": 0.0, \"What programming languages do you use on a regular basis? (Select all that apply) - Selected Choice - Python\": 1.0, \"Approximately how many times have you used a TPU (tensor processing unit)?\": 0.0}]'"
      ]
     },
     "execution_count": 8,
     "metadata": {},
     "output_type": "execute_result"
    }
   ],
   "source": [
    "json_data"
   ]
  },
  {
   "cell_type": "code",
   "execution_count": 9,
   "id": "ed6eedb4",
   "metadata": {},
   "outputs": [
    {
     "data": {
      "text/plain": [
       "14799"
      ]
     },
     "execution_count": 9,
     "metadata": {},
     "output_type": "execute_result"
    }
   ],
   "source": [
    "len(json_data)"
   ]
  },
  {
   "cell_type": "code",
   "execution_count": 4,
   "id": "8634f38c",
   "metadata": {
    "collapsed": true,
    "jupyter": {
     "outputs_hidden": true
    }
   },
   "outputs": [
    {
     "ename": "ModuleNotFoundError",
     "evalue": "No module named 'src'",
     "output_type": "error",
     "traceback": [
      "\u001b[0;31m---------------------------------------------------------------------------\u001b[0m",
      "\u001b[0;31mModuleNotFoundError\u001b[0m                       Traceback (most recent call last)",
      "Cell \u001b[0;32mIn[4], line 2\u001b[0m\n\u001b[1;32m      1\u001b[0m \u001b[38;5;28;01mimport\u001b[39;00m \u001b[38;5;21;01mjson\u001b[39;00m\n\u001b[0;32m----> 2\u001b[0m \u001b[38;5;28;01mfrom\u001b[39;00m \u001b[38;5;21;01mmodel\u001b[39;00m \u001b[38;5;28;01mimport\u001b[39;00m test_model, convert\n",
      "File \u001b[0;32m~/SageMaker/kaggle-persona_identifier/src/model.py:7\u001b[0m\n\u001b[1;32m      4\u001b[0m \u001b[38;5;28;01mimport\u001b[39;00m \u001b[38;5;21;01mjoblib\u001b[39;00m\n\u001b[1;32m      5\u001b[0m \u001b[38;5;28;01mimport\u001b[39;00m \u001b[38;5;21;01mpandas\u001b[39;00m \u001b[38;5;28;01mas\u001b[39;00m \u001b[38;5;21;01mpd\u001b[39;00m\n\u001b[0;32m----> 7\u001b[0m \u001b[38;5;28;01mfrom\u001b[39;00m \u001b[38;5;21;01msrc\u001b[39;00m\u001b[38;5;21;01m.\u001b[39;00m\u001b[38;5;21;01mpathfinder\u001b[39;00m \u001b[38;5;28;01mimport\u001b[39;00m PathConfig\n\u001b[1;32m      8\u001b[0m \u001b[38;5;28;01mfrom\u001b[39;00m \u001b[38;5;21;01msrc\u001b[39;00m\u001b[38;5;21;01m.\u001b[39;00m\u001b[38;5;21;01mutils\u001b[39;00m\u001b[38;5;21;01m.\u001b[39;00m\u001b[38;5;21;01mmetrics_report\u001b[39;00m \u001b[38;5;28;01mimport\u001b[39;00m get_multiclass_report\n\u001b[1;32m     10\u001b[0m pathconfig \u001b[38;5;241m=\u001b[39m PathConfig()\n",
      "\u001b[0;31mModuleNotFoundError\u001b[0m: No module named 'src'"
     ]
    }
   ],
   "source": [
    "import json\n",
    "from model import test_model, convert\n"
   ]
  },
  {
   "cell_type": "code",
   "execution_count": null,
   "id": "c29ce796",
   "metadata": {},
   "outputs": [],
   "source": []
  },
  {
   "cell_type": "code",
   "execution_count": null,
   "id": "5a3a4b43",
   "metadata": {},
   "outputs": [],
   "source": [
    "def handler(event, context):\n",
    "    \"\"\"\n",
    "    Lambda function handler for predicting linguistic acceptability of the given sentence\n",
    "    :param event: post/get request context\n",
    "    :param context: Context of Meta data\n",
    "    \"\"\"\n",
    "    if \"resource\" in event.keys():\n",
    "        body = event[\"body\"]\n",
    "        body = json.loads(body)\n",
    "        test_df = pd.DataFrame(body)\n",
    "        prediction = test_model(test_df)\n",
    "        response = convert(prediction)\n",
    "        return {\n",
    "            \"statusCode\": 200,\n",
    "            \"headers\": {},\n",
    "            \"body\": json.dumps(response)\n",
    "        }\n",
    "    else:\n",
    "        body = json.loads(event['test_data'])\n",
    "        test_df = pd.DataFrame(body)\n",
    "        prediction = test_model(test_df)\n",
    "        response = convert(prediction)\n",
    "        return response\n",
    "\n",
    "\n",
    "if __name__ == \"__main__\":\n",
    "    test = json_dat\n",
    "    result = handler(test, None)\n",
    "    print(result)"
   ]
  },
  {
   "cell_type": "code",
   "execution_count": 1,
   "id": "c267ea7d",
   "metadata": {},
   "outputs": [],
   "source": [
    "\n",
    "## Build docker image"
   ]
  },
  {
   "cell_type": "code",
   "execution_count": 4,
   "id": "d1c66956",
   "metadata": {},
   "outputs": [],
   "source": [
    "import os\n",
    "os.chdir('/home/ec2-user/SageMaker/persona_identifier/')"
   ]
  },
  {
   "cell_type": "code",
   "execution_count": 5,
   "id": "4fe9dab6",
   "metadata": {},
   "outputs": [
    {
     "data": {
      "text/plain": [
       "'/home/ec2-user/SageMaker/persona_identifier'"
      ]
     },
     "execution_count": 5,
     "metadata": {},
     "output_type": "execute_result"
    }
   ],
   "source": [
    "os.getcwd()"
   ]
  },
  {
   "cell_type": "code",
   "execution_count": 6,
   "id": "5884e1cf",
   "metadata": {},
   "outputs": [
    {
     "name": "stdout",
     "output_type": "stream",
     "text": [
      "REPOSITORY   TAG       IMAGE ID   CREATED   SIZE\n"
     ]
    }
   ],
   "source": [
    "!docker images"
   ]
  },
  {
   "cell_type": "code",
   "execution_count": 7,
   "id": "e005b6d7",
   "metadata": {},
   "outputs": [
    {
     "name": "stdout",
     "output_type": "stream",
     "text": [
      "Error: No such image: 9d97d58341d\n",
      "Error: No such image: dangling\n",
      "Error response from daemon: invalid reference format\n",
      "Error: No such image: true\n"
     ]
    }
   ],
   "source": [
    "!docker rmi -f  9d97d58341d  dangling = true"
   ]
  },
  {
   "cell_type": "code",
   "execution_count": 1,
   "id": "14fcbdf6",
   "metadata": {},
   "outputs": [
    {
     "name": "stdout",
     "output_type": "stream",
     "text": [
      "unable to prepare context: unable to evaluate symlinks in Dockerfile path: lstat /home/ec2-user/SageMaker/persona_identifier/notebooks/Dockerfile: no such file or directory\n"
     ]
    }
   ],
   "source": [
    "!docker build -t 505184942745.dkr.ecr.us-east-1.amazonaws.com/kaggle-persona-identifier:dev ."
   ]
  },
  {
   "cell_type": "code",
   "execution_count": 51,
   "id": "9af620d0",
   "metadata": {},
   "outputs": [
    {
     "name": "stdout",
     "output_type": "stream",
     "text": [
      "WARNING! Your password will be stored unencrypted in /home/ec2-user/.docker/config.json.\n",
      "Configure a credential helper to remove this warning. See\n",
      "https://docs.docker.com/engine/reference/commandline/login/#credentials-store\n",
      "\n",
      "Login Succeeded\n"
     ]
    }
   ],
   "source": [
    "!aws ecr get-login-password --region us-east-1 | docker login --username AWS --password-stdin 505184942745.dkr.ecr.us-east-1.amazonaws.com"
   ]
  },
  {
   "cell_type": "code",
   "execution_count": 52,
   "id": "2a418164",
   "metadata": {},
   "outputs": [
    {
     "name": "stdout",
     "output_type": "stream",
     "text": [
      "The push refers to repository [505184942745.dkr.ecr.us-east-1.amazonaws.com/kaggle-persona-identifier]\n",
      "\n",
      "\u001b[1Ba1ab5726: Preparing \n",
      "\u001b[1B7f38f717: Preparing \n",
      "\u001b[1B220ed00c: Preparing \n",
      "\u001b[1B02664824: Preparing \n",
      "\u001b[1B27e40e2e: Preparing \n",
      "\u001b[1B33d1c8af: Preparing \n",
      "\u001b[1B6c63f3a2: Preparing \n",
      "\u001b[1Bf6bb007b: Preparing \n",
      "\u001b[1B77e4650a: Preparing \n",
      "\u001b[8B220ed00c: Pushed   543.3MB/543.1MBA\u001b[2K\u001b[5A\u001b[2K\u001b[3A\u001b[2K\u001b[2A\u001b[2K\u001b[9A\u001b[2K\u001b[8A\u001b[2K\u001b[1A\u001b[2K\u001b[8A\u001b[2K\u001b[9A\u001b[2K\u001b[8A\u001b[2K\u001b[9A\u001b[2K\u001b[8A\u001b[2K\u001b[9A\u001b[2K\u001b[8A\u001b[2K\u001b[9A\u001b[2K\u001b[8A\u001b[2K\u001b[9A\u001b[2K\u001b[8A\u001b[2K\u001b[9A\u001b[2K\u001b[8A\u001b[2K\u001b[9A\u001b[2K\u001b[8A\u001b[2K\u001b[9A\u001b[2K\u001b[8A\u001b[2K\u001b[9A\u001b[2K\u001b[8A\u001b[2K\u001b[8A\u001b[2K\u001b[9A\u001b[2K\u001b[8A\u001b[2K\u001b[9A\u001b[2K\u001b[8A\u001b[2K\u001b[9A\u001b[2K\u001b[8A\u001b[2K\u001b[9A\u001b[2K\u001b[8A\u001b[2K\u001b[9A\u001b[2K\u001b[8A\u001b[2K\u001b[8A\u001b[2K\u001b[9A\u001b[2K\u001b[8A\u001b[2K\u001b[9A\u001b[2K\u001b[8A\u001b[2K\u001b[9A\u001b[2K\u001b[8A\u001b[2K\u001b[9A\u001b[2K\u001b[8A\u001b[2K\u001b[9A\u001b[2K\u001b[8A\u001b[2K\u001b[9A\u001b[2K\u001b[8A\u001b[2K\u001b[9A\u001b[2K\u001b[8A\u001b[2K\u001b[9A\u001b[2K\u001b[8A\u001b[2K\u001b[9A\u001b[2K\u001b[8A\u001b[2K\u001b[9A\u001b[2K\u001b[8A\u001b[2K\u001b[9A\u001b[2K\u001b[8A\u001b[2K\u001b[8A\u001b[2K\u001b[9A\u001b[2K\u001b[8A\u001b[2K\u001b[8A\u001b[2K\u001b[8A\u001b[2K\u001b[9A\u001b[2K\u001b[8A\u001b[2K\u001b[9A\u001b[2K\u001b[8A\u001b[2K\u001b[9A\u001b[2K\u001b[8A\u001b[2K\u001b[9A\u001b[2K\u001b[8A\u001b[2K\u001b[8A\u001b[2K\u001b[9A\u001b[2K\u001b[9A\u001b[2K\u001b[8A\u001b[2K\u001b[9A\u001b[2K\u001b[8A\u001b[2K\u001b[8A\u001b[2K\u001b[9A\u001b[2K\u001b[8A\u001b[2K\u001b[9A\u001b[2K\u001b[8A\u001b[2K\u001b[9A\u001b[2K\u001b[8A\u001b[2K\u001b[9A\u001b[2K\u001b[8A\u001b[2K\u001b[9A\u001b[2K\u001b[8A\u001b[2K\u001b[9A\u001b[2K\u001b[8A\u001b[2K\u001b[9A\u001b[2K\u001b[8A\u001b[2K\u001b[9A\u001b[2K\u001b[8A\u001b[2K\u001b[9A\u001b[2K\u001b[8A\u001b[2K\u001b[9A\u001b[2K\u001b[8A\u001b[2K\u001b[9A\u001b[2K\u001b[8A\u001b[2K\u001b[9A\u001b[2K\u001b[8A\u001b[2K\u001b[8A\u001b[2K\u001b[9A\u001b[2K\u001b[9A\u001b[2K\u001b[9A\u001b[2K\u001b[9A\u001b[2K\u001b[8A\u001b[2K\u001b[9A\u001b[2K\u001b[9A\u001b[2K\u001b[8A\u001b[2K\u001b[9A\u001b[2K\u001b[8A\u001b[2K\u001b[9A\u001b[2K\u001b[8A\u001b[2K\u001b[9A\u001b[2K\u001b[8A\u001b[2K\u001b[9A\u001b[2K\u001b[8A\u001b[2K\u001b[9A\u001b[2K\u001b[8A\u001b[2K\u001b[9A\u001b[2K\u001b[8A\u001b[2K\u001b[9A\u001b[2K\u001b[9A\u001b[2K\u001b[9A\u001b[2K\u001b[8A\u001b[2K\u001b[9A\u001b[2K\u001b[8A\u001b[2K\u001b[9A\u001b[2K\u001b[8A\u001b[2K\u001b[9A\u001b[2K\u001b[8A\u001b[2K\u001b[9A\u001b[2K\u001b[8A\u001b[2K\u001b[9A\u001b[2K\u001b[8A\u001b[2K\u001b[9A\u001b[2K\u001b[8A\u001b[2K\u001b[8A\u001b[2K\u001b[8A\u001b[2K\u001b[9A\u001b[2K\u001b[8A\u001b[2K\u001b[9A\u001b[2K\u001b[8A\u001b[2K\u001b[8A\u001b[2K\u001b[9A\u001b[2K\u001b[8A\u001b[2K\u001b[9A\u001b[2K\u001b[8A\u001b[2K\u001b[9A\u001b[2K\u001b[8A\u001b[2K\u001b[9A\u001b[2K\u001b[8A\u001b[2K\u001b[9A\u001b[2K\u001b[8A\u001b[2K\u001b[9A\u001b[2K\u001b[9A\u001b[2K\u001b[8A\u001b[2K\u001b[8A\u001b[2K\u001b[8A\u001b[2K\u001b[9A\u001b[2K\u001b[8A\u001b[2K\u001b[9A\u001b[2K\u001b[8A\u001b[2K\u001b[8A\u001b[2K\u001b[9A\u001b[2K\u001b[8A\u001b[2K\u001b[9A\u001b[2K\u001b[8A\u001b[2K\u001b[9A\u001b[2K\u001b[8A\u001b[2K\u001b[8A\u001b[2K\u001b[9A\u001b[2K\u001b[8A\u001b[2K\u001b[8A\u001b[2K\u001b[9A\u001b[2K\u001b[8A\u001b[2K\u001b[8A\u001b[2K\u001b[9A\u001b[2K\u001b[8A\u001b[2K\u001b[9A\u001b[2K\u001b[8A\u001b[2K\u001b[9A\u001b[2K\u001b[8A\u001b[2K\u001b[9A\u001b[2K\u001b[8A\u001b[2K\u001b[8A\u001b[2K\u001b[9A\u001b[2K\u001b[8A\u001b[2K\u001b[9A\u001b[2K\u001b[8A\u001b[2K\u001b[9A\u001b[2K\u001b[8A\u001b[2K\u001b[9A\u001b[2K\u001b[8A\u001b[2K\u001b[9A\u001b[2K\u001b[8A\u001b[2K\u001b[8A\u001b[2K\u001b[8A\u001b[2K\u001b[8A\u001b[2K\u001b[9A\u001b[2K\u001b[8A\u001b[2K\u001b[9A\u001b[2K\u001b[9A\u001b[2K\u001b[8A\u001b[2K\u001b[9A\u001b[2K\u001b[8A\u001b[2K\u001b[8A\u001b[2K\u001b[8A\u001b[2K\u001b[8A\u001b[2K\u001b[8A\u001b[2K\u001b[9A\u001b[2K\u001b[8A\u001b[2K\u001b[9A\u001b[2K\u001b[8A\u001b[2K\u001b[9A\u001b[2K\u001b[8A\u001b[2K\u001b[9A\u001b[2K\u001b[8A\u001b[2K\u001b[9A\u001b[2K\u001b[8A\u001b[2K\u001b[8A\u001b[2K\u001b[9A\u001b[2K\u001b[8A\u001b[2K\u001b[9A\u001b[2K\u001b[8A\u001b[2K\u001b[9A\u001b[2K\u001b[8A\u001b[2K\u001b[9A\u001b[2K\u001b[8A\u001b[2K\u001b[9A\u001b[2K\u001b[8A\u001b[2K\u001b[8A\u001b[2K\u001b[8A\u001b[2K\u001b[8A\u001b[2K\u001b[9A\u001b[2K\u001b[8A\u001b[2K\u001b[9A\u001b[2K\u001b[8A\u001b[2K\u001b[9A\u001b[2K\u001b[8A\u001b[2K\u001b[9A\u001b[2K\u001b[8A\u001b[2K\u001b[9A\u001b[2K\u001b[8A\u001b[2K\u001b[8A\u001b[2K\u001b[8A\u001b[2K\u001b[9A\u001b[2K\u001b[8A\u001b[2K\u001b[8A\u001b[2K\u001b[9A\u001b[2K\u001b[8A\u001b[2K\u001b[9A\u001b[2K\u001b[8A\u001b[2K\u001b[9A\u001b[2K\u001b[9A\u001b[2K\u001b[9A\u001b[2K\u001b[8A\u001b[2K\u001b[9A\u001b[2K\u001b[8A\u001b[2K\u001b[9A\u001b[2K\u001b[8A\u001b[2K\u001b[9A\u001b[2K\u001b[8A\u001b[2K\u001b[9A\u001b[2K\u001b[8A\u001b[2K\u001b[9A\u001b[2K\u001b[8A\u001b[2K\u001b[9A\u001b[2K\u001b[8A\u001b[2K\u001b[9A\u001b[2K\u001b[8A\u001b[2K\u001b[8A\u001b[2K\u001b[9A\u001b[2K\u001b[8A\u001b[2K\u001b[9A\u001b[2K\u001b[8A\u001b[2K\u001b[9A\u001b[2K\u001b[8A\u001b[2K\u001b[9A\u001b[2K\u001b[8A\u001b[2K\u001b[9A\u001b[2K\u001b[8A\u001b[2K\u001b[8A\u001b[2K\u001b[9A\u001b[2K\u001b[8A\u001b[2K\u001b[9A\u001b[2K\u001b[8A\u001b[2K\u001b[9A\u001b[2K\u001b[8A\u001b[2K\u001b[9A\u001b[2K\u001b[8A\u001b[2K\u001b[9A\u001b[2K\u001b[8A\u001b[2K\u001b[9A\u001b[2K\u001b[8A\u001b[2K\u001b[9A\u001b[2K\u001b[8A\u001b[2K\u001b[9A\u001b[2K\u001b[8A\u001b[2K\u001b[8A\u001b[2K\u001b[8A\u001b[2K\u001b[9A\u001b[2K\u001b[8A\u001b[2K\u001b[9A\u001b[2K\u001b[8A\u001b[2K\u001b[9A\u001b[2K\u001b[8A\u001b[2K\u001b[9A\u001b[2K\u001b[8A\u001b[2K\u001b[9A\u001b[2K\u001b[8A\u001b[2K\u001b[9A\u001b[2K\u001b[8A\u001b[2K\u001b[9A\u001b[2K\u001b[8A\u001b[2K\u001b[9A\u001b[2K\u001b[8A\u001b[2K\u001b[9A\u001b[2K\u001b[9A\u001b[2K\u001b[8A\u001b[2K\u001b[9A\u001b[2K\u001b[8A\u001b[2K\u001b[9A\u001b[2K\u001b[8A\u001b[2K\u001b[8A\u001b[2K\u001b[8A\u001b[2K\u001b[8A\u001b[2K\u001b[9A\u001b[2K\u001b[8A\u001b[2K\u001b[9A\u001b[2K\u001b[8A\u001b[2K\u001b[9A\u001b[2K\u001b[9A\u001b[2K\u001b[8A\u001b[2K\u001b[9A\u001b[2K\u001b[9A\u001b[2K\u001b[9A\u001b[2K\u001b[8A\u001b[2K\u001b[8A\u001b[2K\u001b[8A\u001b[2K\u001b[9A\u001b[2K\u001b[8A\u001b[2K\u001b[9A\u001b[2K\u001b[8A\u001b[2K\u001b[9A\u001b[2K\u001b[8A\u001b[2K\u001b[9A\u001b[2K\u001b[8A\u001b[2K\u001b[9A\u001b[2K\u001b[8A\u001b[2K\u001b[9A\u001b[2K\u001b[8A\u001b[2K\u001b[9A\u001b[2K\u001b[8A\u001b[2K\u001b[9A\u001b[2K\u001b[8A\u001b[2K\u001b[9A\u001b[2K\u001b[8A\u001b[2K\u001b[9A\u001b[2K\u001b[8A\u001b[2K\u001b[8A\u001b[2K\u001b[8A\u001b[2K\u001b[8A\u001b[2K\u001b[8A\u001b[2K\u001b[8A\u001b[2K\u001b[8A\u001b[2K\u001b[8A\u001b[2K\u001b[8A\u001b[2K\u001b[8A\u001b[2K\u001b[9A\u001b[2K\u001b[8A\u001b[2K\u001b[9A\u001b[2K\u001b[8A\u001b[2K\u001b[9A\u001b[2K\u001b[8A\u001b[2K\u001b[8A\u001b[2K\u001b[8A\u001b[2K\u001b[9A\u001b[2K\u001b[8A\u001b[2K\u001b[9A\u001b[2K\u001b[8A\u001b[2K\u001b[9A\u001b[2K\u001b[8A\u001b[2K\u001b[9A\u001b[2K\u001b[8A\u001b[2K\u001b[8A\u001b[2K\u001b[9A\u001b[2K\u001b[8A\u001b[2K\u001b[9A\u001b[2K\u001b[8A\u001b[2K\u001b[9A\u001b[2K\u001b[8A\u001b[2K\u001b[9A\u001b[2K\u001b[8A\u001b[2K\u001b[9A\u001b[2K\u001b[8A\u001b[2K\u001b[9A\u001b[2K\u001b[9A\u001b[2K\u001b[8A\u001b[2K\u001b[9A\u001b[2K\u001b[8A\u001b[2K\u001b[9A\u001b[2K\u001b[8A\u001b[2K\u001b[9A\u001b[2K\u001b[8A\u001b[2K\u001b[9A\u001b[2K\u001b[8A\u001b[2K\u001b[9A\u001b[2K\u001b[8A\u001b[2K\u001b[9A\u001b[2K\u001b[8A\u001b[2K\u001b[9A\u001b[2K\u001b[8A\u001b[2K\u001b[9A\u001b[2K\u001b[8A\u001b[2K\u001b[9A\u001b[2K\u001b[8A\u001b[2K\u001b[9A\u001b[2K\u001b[8A\u001b[2K\u001b[9A\u001b[2K\u001b[9A\u001b[2K\u001b[8A\u001b[2K\u001b[8A\u001b[2K\u001b[8A\u001b[2K\u001b[8A\u001b[2K\u001b[8A\u001b[2K\u001b[9A\u001b[2K\u001b[8A\u001b[2K\u001b[8A\u001b[2K\u001b[8A\u001b[2K\u001b[8A\u001b[2K\u001b[8A\u001b[2K\u001b[8A\u001b[2K\u001b[8A\u001b[2K\u001b[8A\u001b[2K\u001b[8A\u001b[2K\u001b[8A\u001b[2K\u001b[8A\u001b[2Kdev: digest: sha256:0ba19177cc9aeab7e388072d3006e79c30541bae9b8f435c3b6d91916629e3e8 size: 2428\n"
     ]
    }
   ],
   "source": [
    "!docker push 505184942745.dkr.ecr.us-east-1.amazonaws.com/kaggle-persona-identifier:dev"
   ]
  },
  {
   "cell_type": "markdown",
   "id": "c6ade8b0",
   "metadata": {},
   "source": [
    "# Danger Zone: Donot Run them or Touch it If you do not Understand"
   ]
  },
  {
   "cell_type": "code",
   "execution_count": null,
   "id": "51a64fe4",
   "metadata": {},
   "outputs": [],
   "source": [
    "# !aws lambda update-function-code \\\n",
    "#     --function-name  kaggle-persona-identifier \\\n",
    "#     --image-uri 505184942745.dkr.ecr.us-east-1.amazonaws.com/kaggle-persona-identifier:dev"
   ]
  },
  {
   "cell_type": "code",
   "execution_count": 19,
   "id": "3861e3a6",
   "metadata": {},
   "outputs": [],
   "source": [
    "# !aws lambda update-function-configuration \\\n",
    "#     --function-name kaggle-persona-identifier \\\n",
    "#     --memory-size 1024"
   ]
  },
  {
   "cell_type": "code",
   "execution_count": 18,
   "id": "127de906",
   "metadata": {},
   "outputs": [],
   "source": [
    "# !aws lambda get-function \\\n",
    "#     --function-name  kaggle-persona-identifier"
   ]
  },
  {
   "cell_type": "markdown",
   "id": "f128c483",
   "metadata": {},
   "source": [
    "# Danger zone Ended"
   ]
  }
 ],
 "metadata": {
  "kernelspec": {
   "display_name": "conda_persona_identifier",
   "language": "python",
   "name": "conda_persona_identifier"
  },
  "language_info": {
   "codemirror_mode": {
    "name": "ipython",
    "version": 3
   },
   "file_extension": ".py",
   "mimetype": "text/x-python",
   "name": "python",
   "nbconvert_exporter": "python",
   "pygments_lexer": "ipython3",
   "version": "3.9.17"
  }
 },
 "nbformat": 4,
 "nbformat_minor": 5
}
