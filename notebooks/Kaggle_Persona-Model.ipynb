{
 "cells": [
  {
   "cell_type": "code",
   "execution_count": 1,
   "id": "9ae7492e-2c52-4775-9aae-e0dcfd90d2cc",
   "metadata": {
    "tags": []
   },
   "outputs": [],
   "source": [
    "%%capture\n",
    "%cd ../../\n"
   ]
  },
  {
   "cell_type": "code",
   "execution_count": 2,
   "id": "258b4574-a358-4132-8723-809c74e0490c",
   "metadata": {
    "tags": []
   },
   "outputs": [],
   "source": [
    "import sys\n",
    "sys.path.extend([\"recommender/src\"])"
   ]
  },
  {
   "cell_type": "code",
   "execution_count": 3,
   "id": "e159f149-6aa8-4349-b85b-f45c6a20d0b7",
   "metadata": {
    "tags": []
   },
   "outputs": [],
   "source": [
    "import pandas as pd\n",
    "import numpy as np\n",
    "import warnings\n",
    "import pickle\n",
    "from scipy import stats\n",
    "warnings.simplefilter(\"ignore\")\n",
    "\n",
    "import os\n",
    "import numpy as np\n",
    "from pathlib import Path\n",
    "import json\n",
    "import yaml\n",
    "import typing as t\n",
    "\n",
    "from sklearn.preprocessing import LabelEncoder\n",
    "from sklearn.ensemble import RandomForestClassifier\n",
    "from sklearn.model_selection import train_test_split\n",
    "from sklearn.linear_model import LogisticRegression\n",
    "from sklearn.metrics import precision_score,accuracy_score,f1_score,recall_score\n",
    "import xgboost as xgb\n",
    "from sklearn.base import clone\n",
    "from sklearn.ensemble import RandomForestClassifier\n",
    "##utils import\n",
    "from utils.encodes import gen_encode_cols\n",
    "from utils.io import gen_dict,drop_cols, merge_dfs,drop_cols_list\n",
    "from utils.metrics_report import get_multiclass_report\n",
    "##src\n",
    "from feature_engineering import group_feats, count_selected_options\n",
    "from majorityvote import build_majorityvote\n",
    "from feature_selection import get_feat_importance\n",
    "from omegaconf import DictConfig, OmegaConf\n",
    "\n",
    "\n",
    "##hyperparams tuning\n",
    "import optuna"
   ]
  },
  {
   "cell_type": "code",
   "execution_count": 10,
   "id": "fe818cf7-28d2-4882-8537-a2eccbe2b4da",
   "metadata": {
    "tags": []
   },
   "outputs": [],
   "source": [
    "current_dir = Path.cwd()\n",
    "raw_data_dir = current_dir.joinpath('recommender/data/raw')\n",
    "processed_data_dir = current_dir.joinpath('recommender/data/processed')\n",
    "config_dir = current_dir.joinpath('recommender/configs')\n",
    "artifacts_dir = current_dir.joinpath('recommender/models/artifacts')\n",
    "features_dir = current_dir.joinpath('recommender/models/features')\n",
    "filename = 'kaggle_survey_2017_2021.csv'"
   ]
  },
  {
   "cell_type": "code",
   "execution_count": 11,
   "id": "80f090ac-df00-4eb6-b134-f9609488ac73",
   "metadata": {
    "tags": []
   },
   "outputs": [],
   "source": [
    "full_data_dir = processed_data_dir.joinpath('full-data')\n",
    "train_dir =  processed_data_dir.joinpath('train-data')\n",
    "test_dir = processed_data_dir.joinpath('test-data')\n",
    "models_dir = current_dir.joinpath('model/artifacts/')"
   ]
  },
  {
   "cell_type": "code",
   "execution_count": 12,
   "id": "0b3a6eb9-4c94-4e40-bb6e-02d53e6cfa7e",
   "metadata": {
    "tags": []
   },
   "outputs": [],
   "source": [
    "## config calls\n",
    "map_config= OmegaConf.load(config_dir.joinpath(\"col-mapping.yaml\"))\n",
    "colvals_config = OmegaConf.load(config_dir.joinpath(\"col-values.yaml\"))"
   ]
  },
  {
   "cell_type": "code",
   "execution_count": 14,
   "id": "f8195566-ae13-4c7d-b507-d0b5ef7f0876",
   "metadata": {
    "tags": []
   },
   "outputs": [
    {
     "data": {
      "text/plain": [
       "(159348, 279)"
      ]
     },
     "execution_count": 14,
     "metadata": {},
     "output_type": "execute_result"
    }
   ],
   "source": [
    "sampled_data = pd.read_csv(full_data_dir.joinpath('Features_KaggleResponses_v4.csv'))\n",
    "sampled_data = sampled_data.fillna(0)\n",
    "sampled_data.shape"
   ]
  },
  {
   "cell_type": "code",
   "execution_count": 15,
   "id": "535aac57-bf55-4dbd-89ea-76df4ea94af3",
   "metadata": {
    "collapsed": true,
    "jupyter": {
     "outputs_hidden": true
    },
    "tags": []
   },
   "outputs": [
    {
     "data": {
      "text/plain": [
       "dict_values(['What is your current yearly compensation (approximate $USD)?', 'Uses Computer Vision Algorithms Count', 'What is the highest level of formal education that you have attained or plan to attain within the next 2 years?_Doctorate', 'Uses ML Framework Count', 'Uses ML Algorithms Count', 'Which of the following big data products (relational database, data warehouse, data lake, or similar) do you use most often? - Selected Choice', 'What type of computing platform do you use most often for your data science projects? - Selected Choice', 'In what industry is your current employer/contract (or your most recent employer if retired)? - Selected Choice', 'For how many years have you used machine learning methods?', 'Uses NLP Algorithms Count', 'What programming languages do you use on a regular basis? (Select all that apply) - Selected Choice - Javascript', 'Which types of specialized hardware do you use on a regular basis?  (Select all that apply) - Selected Choice -  NVIDIA GPUs ', \"Which of the following integrated development environments (IDE's) do you use on a regular basis?  (Select all that apply) - Selected Choice -  RStudio \", 'What programming languages do you use on a regular basis? (Select all that apply) - Selected Choice - R', 'Who/what are your favorite media sources that report on data science topics? (Select all that apply) - Selected Choice - Journal Publications (peer-reviewed journals, conference proceedings, etc)', \"Which of the following integrated development environments (IDE's) do you use on a regular basis?  (Select all that apply) - Selected Choice -  Visual Studio / Visual Studio Code \", 'Select any activities that make up an important part of your role at work: (Select all that apply) - Selected Choice - None of these activities are an important part of my role at work', 'Which of the following machine learning frameworks do you use on a regular basis? (Select all that apply) - Selected Choice -  Xgboost ', 'Which of the following ML algorithms do you use on a regular basis? (Select all that apply): - Selected Choice - Convolutional Neural Networks', 'Which categories of computer vision methods do you use on a regular basis?  (Select all that apply) - Selected Choice - Image classification and other general purpose networks (VGG, Inception, ResNet, ResNeXt, NASNet, EfficientNet, etc)', 'Select any activities that make up an important part of your role at work: (Select all that apply) - Selected Choice - Do research that advances the state of the art of machine learning', 'Select any activities that make up an important part of your role at work: (Select all that apply) - Selected Choice - Experimentation and iteration to improve existing ML models', 'Uses Big Data Products Count', 'Select any activities that make up an important part of your role at work: (Select all that apply) - Selected Choice - Build prototypes to explore applying machine learning to new areas', 'Select any activities that make up an important part of your role at work: (Select all that apply) - Selected Choice - Build and/or run a machine learning service that operationally improves my product or workflows', 'What data visualization libraries or tools do you use on a regular basis?  (Select all that apply) - Selected Choice -  Ggplot / ggplot2 ', 'Approximately how much money have you (or your team) spent on machine learning and/or cloud computing services at home (or at work) in the past 5 years (approximate $USD)?', 'What programming language would you recommend an aspiring data scientist to learn first? - Selected Choice', \"Which of the following integrated development environments (IDE's) do you use on a regular basis?  (Select all that apply) - Selected Choice -  MATLAB \", 'What programming languages do you use on a regular basis? (Select all that apply) - Selected Choice - Java', 'Which of the following ML algorithms do you use on a regular basis? (Select all that apply): - Selected Choice - Dense Neural Networks (MLPs, etc)', 'Which categories of computer vision methods do you use on a regular basis?  (Select all that apply) - Selected Choice - Object detection methods (YOLOv3, RetinaNet, etc)', 'Which of the following cloud computing platforms do you use on a regular basis? (Select all that apply) - Selected Choice -  Amazon Web Services (AWS) ', 'Select any activities that make up an important part of your role at work: (Select all that apply) - Selected Choice - Build and/or run the data infrastructure that my business uses for storing, analyzing, and operationalizing data', 'What programming languages do you use on a regular basis? (Select all that apply) - Selected Choice - Python', 'Approximately how many times have you used a TPU (tensor processing unit)?'])"
      ]
     },
     "execution_count": 15,
     "metadata": {},
     "output_type": "execute_result"
    }
   ],
   "source": [
    "with open(features_dir.joinpath('features_select_v4.json')) as feat_file:\n",
    "    file_contents = feat_file.read()\n",
    "features = (json.loads(file_contents)).values()\n",
    "features"
   ]
  },
  {
   "cell_type": "code",
   "execution_count": 8,
   "id": "b7680a5f-84de-491b-b9ee-baba70ca7b5a",
   "metadata": {
    "collapsed": true,
    "jupyter": {
     "outputs_hidden": true
    },
    "tags": []
   },
   "outputs": [
    {
     "data": {
      "text/plain": [
       "dict_values(['Does your current employer incorporate machine learning methods into their business?', 'For how many years have you used machine learning methods?', 'What is your current yearly compensation (approximate $USD)?', 'Uses ML Framework Count', 'In what industry is your current employer/contract (or your most recent employer if retired)? - Selected Choice', 'Knows Pgm Lang Count', 'Uses IDE for dev Count', 'Uses Data Visualization libs Count', 'What is the highest level of formal education that you have attained or plan to attain within the next 2 years?_Doctorate', 'Has taken DS Course Count', 'Uses ML Algorithms Count', 'Approximately how many individuals are responsible for data science workloads at your place of business?', 'What is the size of the company where you are employed?', 'What is the primary tool that you use at work or school to analyze data? (Include text response) - Selected Choice', 'Uses Big Data Products Count', 'Approximately how much money have you (or your team) spent on machine learning and/or cloud computing services at home (or at work) in the past 5 years (approximate $USD)?', 'What type of computing platform do you use most often for your data science projects? - Selected Choice', 'Knows Cloud Compute Platforms Count', 'Select any activities that make up an important part of your role at work: (Select all that apply) - Selected Choice - Analyze and understand data to influence product or business decisions', 'What programming language would you recommend an aspiring data scientist to learn first? - Selected Choice', 'Select any activities that make up an important part of your role at work: (Select all that apply) - Selected Choice - Build prototypes to explore applying machine learning to new areas', 'What is the highest level of formal education that you have attained or plan to attain within the next 2 years?_Masters', 'What is the highest level of formal education that you have attained or plan to attain within the next 2 years?_Bachelors', \"Which of the following integrated development environments (IDE's) do you use on a regular basis?  (Select all that apply) - Selected Choice - Jupyter (JupyterLab, Jupyter Notebooks, etc) \", 'Who/what are your favorite media sources that report on data science topics? (Select all that apply) - Selected Choice - Kaggle (notebooks, forums, etc)', 'What data visualization libraries or tools do you use on a regular basis?  (Select all that apply) - Selected Choice -  Matplotlib ', \"Which of the following integrated development environments (IDE's) do you use on a regular basis?  (Select all that apply) - Selected Choice -  Visual Studio / Visual Studio Code \", 'What data visualization libraries or tools do you use on a regular basis?  (Select all that apply) - Selected Choice -  Seaborn ', 'What programming languages do you use on a regular basis? (Select all that apply) - Selected Choice - SQL', 'What programming languages do you use on a regular basis? (Select all that apply) - Selected Choice - R', \"Which of the following integrated development environments (IDE's) do you use on a regular basis?  (Select all that apply) - Selected Choice -  RStudio \", 'Which of the following machine learning frameworks do you use on a regular basis? (Select all that apply) - Selected Choice -   TensorFlow ', 'Select any activities that make up an important part of your role at work: (Select all that apply) - Selected Choice - Build and/or run a machine learning service that operationally improves my product or workflows', 'Which of the following machine learning frameworks do you use on a regular basis? (Select all that apply) - Selected Choice -   Scikit-learn ', 'Which types of specialized hardware do you use on a regular basis?  (Select all that apply) - Selected Choice -  NVIDIA GPUs ', 'Select any activities that make up an important part of your role at work: (Select all that apply) - Selected Choice - Build and/or run the data infrastructure that my business uses for storing, analyzing, and operationalizing data'])"
      ]
     },
     "execution_count": 8,
     "metadata": {},
     "output_type": "execute_result"
    }
   ],
   "source": [
    "with open(features_dir.joinpath('features_select_mutual_info_v4.json')) as feat_file:\n",
    "    file_contents = feat_file.read()\n",
    "features_mutual = (json.loads(file_contents)).values()\n",
    "features_mutual"
   ]
  },
  {
   "cell_type": "markdown",
   "id": "a467c00c-e7b5-4c51-8efb-e47c0ff4d1c5",
   "metadata": {},
   "source": [
    "### Train/Validation Test Split"
   ]
  },
  {
   "cell_type": "code",
   "execution_count": 9,
   "id": "69a685dd-f6b1-41e7-ad6f-e59380753955",
   "metadata": {
    "tags": []
   },
   "outputs": [
    {
     "name": "stdout",
     "output_type": "stream",
     "text": [
      "(119511, 36) (23902, 36) (15935, 36)\n"
     ]
    }
   ],
   "source": [
    "### Test Model Baseline/Ensemble/Boosting\n",
    "train_ratio = 0.75\n",
    "validation_ratio = 0.15\n",
    "test_ratio = 0.10\n",
    "\n",
    "X = sampled_data[features].values\n",
    "y = sampled_data['Target'].values\n",
    "\n",
    "# train is now 75% of the entire data set\n",
    "x_train, x_test, y_train, y_test = train_test_split(X, y, test_size=1 - train_ratio, stratify= y)\n",
    "\n",
    "# test is now 10% of the initial data set\n",
    "# validation is now 15% of the initial data set\n",
    "x_val, x_test, y_val, y_test = train_test_split(x_test, y_test, test_size= test_ratio/(test_ratio + validation_ratio)) \n",
    "\n",
    "print(x_train.shape, x_val.shape, x_test.shape)"
   ]
  },
  {
   "cell_type": "code",
   "execution_count": 10,
   "id": "f8117a79-341d-4bcd-a8ac-3aab64fd44f0",
   "metadata": {
    "tags": []
   },
   "outputs": [
    {
     "name": "stdout",
     "output_type": "stream",
     "text": [
      "(119511, 36) (23902, 36) (15935, 36)\n"
     ]
    }
   ],
   "source": [
    "### Test Model Baseline/Ensemble/Boosting\n",
    "train_ratio = 0.75\n",
    "validation_ratio = 0.15\n",
    "test_ratio = 0.10\n",
    "\n",
    "X_red = sampled_data[features_mutual].values\n",
    "y_red = sampled_data['Target'].values\n",
    "\n",
    "# train is now 75% of the entire data set\n",
    "x_train_red, x_test_red, y_train_red, y_test_red = train_test_split(X_red, y_red, test_size=1 - train_ratio, stratify= y)\n",
    "\n",
    "# test is now 10% of the initial data set\n",
    "# validation is now 15% of the initial data set\n",
    "x_val_red, x_test_red, y_val_red, y_test_red = train_test_split(x_test, y_test, test_size= test_ratio/(test_ratio + validation_ratio)) \n",
    "\n",
    "print(x_train.shape, x_val.shape, x_test.shape)"
   ]
  },
  {
   "cell_type": "code",
   "execution_count": 9,
   "id": "8c1d00bc-65ac-4c17-8d8c-3919ffa3be89",
   "metadata": {
    "tags": []
   },
   "outputs": [
    {
     "name": "stdout",
     "output_type": "stream",
     "text": [
      "Metrics for Baseline & Chisquare are \n",
      "               precision    recall  f1-score   support\n",
      "\n",
      "           0       0.30      0.55      0.39      2651\n",
      "           1       0.33      0.20      0.25      1436\n",
      "           2       0.42      0.43      0.42      3352\n",
      "           3       0.40      0.31      0.35      1485\n",
      "           4       0.36      0.11      0.17      1394\n",
      "           5       0.46      0.51      0.49      1738\n",
      "           6       0.45      0.43      0.44      2590\n",
      "           7       0.48      0.28      0.35      1289\n",
      "\n",
      "    accuracy                           0.39     15935\n",
      "   macro avg       0.40      0.35      0.36     15935\n",
      "weighted avg       0.40      0.39      0.38     15935\n",
      "\n"
     ]
    }
   ],
   "source": [
    "log_regression = LogisticRegression(random_state = 42)\n",
    "log_regression.fit(x_train, y_train)\n",
    "y_preds = log_regression.predict(x_test)\n",
    "get_multiclass_report(\"Baseline\", \"Chisquare\",y_preds, y_test)"
   ]
  },
  {
   "cell_type": "code",
   "execution_count": 12,
   "id": "15dc8e1f-cd07-466e-bc85-1331db23bfb2",
   "metadata": {
    "tags": []
   },
   "outputs": [
    {
     "name": "stdout",
     "output_type": "stream",
     "text": [
      "Metrics for Baseline & Mutual Information Gain are \n",
      "               precision    recall  f1-score   support\n",
      "\n",
      "           0       0.17      0.01      0.03      1028\n",
      "           1       0.08      0.05      0.06       580\n",
      "           2       0.21      0.39      0.27      1361\n",
      "           3       0.15      0.09      0.11       603\n",
      "           4       0.00      0.00      0.00       550\n",
      "           5       0.14      0.56      0.23       663\n",
      "           6       0.15      0.06      0.09      1026\n",
      "           7       0.00      0.00      0.00       563\n",
      "\n",
      "    accuracy                           0.17      6374\n",
      "   macro avg       0.11      0.14      0.10      6374\n",
      "weighted avg       0.13      0.17      0.12      6374\n",
      "\n"
     ]
    }
   ],
   "source": [
    "# log_regression = LogisticRegression(random_state = 42)\n",
    "# log_regression.fit(x_train_red, y_train_red)\n",
    "# y_preds = log_regression.predict(x_test_red)\n",
    "get_multiclass_report(\"Baseline\", \"Mutual Information Gain\",y_preds, y_test_red)"
   ]
  },
  {
   "cell_type": "code",
   "execution_count": 11,
   "id": "8f0fe822-7767-46ed-a40a-91590e99532b",
   "metadata": {
    "tags": []
   },
   "outputs": [
    {
     "name": "stdout",
     "output_type": "stream",
     "text": [
      "{'Data Analyst': 0, 'Data Engineer': 1, 'Data Scientist': 2, 'Machine Learning Engineer': 3, 'Product/Project Manager': 4, 'Research Scientist': 5, 'Software Engineer': 6, 'Statistician': 7}\n"
     ]
    }
   ],
   "source": [
    "## Load the feature and label encoder \n",
    "file = open(artifacts_dir.joinpath('target_encoder_v2.pkl'),'rb')\n",
    "label_obj = pickle.load(file)\n",
    "le_name_mapping = dict(zip(label_obj.classes_, label_obj.transform(label_obj.classes_)))\n",
    "print(le_name_mapping)"
   ]
  },
  {
   "cell_type": "code",
   "execution_count": 10,
   "id": "5cef0b70-2909-4f40-9d58-f7f1b100598b",
   "metadata": {
    "tags": []
   },
   "outputs": [
    {
     "name": "stdout",
     "output_type": "stream",
     "text": [
      "Metrics for Majority Vote & Chisquare are \n",
      "               precision    recall  f1-score   support\n",
      "\n",
      "           0       0.38      0.74      0.50      2651\n",
      "           1       0.75      0.43      0.55      1436\n",
      "           2       0.41      0.70      0.52      3352\n",
      "           3       0.92      0.31      0.46      1485\n",
      "           4       0.84      0.12      0.21      1394\n",
      "           5       0.56      0.68      0.62      1738\n",
      "           6       0.94      0.38      0.54      2590\n",
      "           7       0.95      0.25      0.40      1289\n",
      "\n",
      "    accuracy                           0.50     15935\n",
      "   macro avg       0.72      0.45      0.47     15935\n",
      "weighted avg       0.67      0.50      0.49     15935\n",
      "\n"
     ]
    }
   ],
   "source": [
    "majority_vote = build_majorityvote()\n",
    "majority_vote.fit(x_train, y_train)\n",
    "y_preds = majority_vote.predict(x_test)\n",
    "get_multiclass_report(\"Majority Vote\", \"Chisquare\",y_preds, y_test)"
   ]
  },
  {
   "cell_type": "code",
   "execution_count": 15,
   "id": "0e165ba4-46b4-452f-849c-f47cf5328f9b",
   "metadata": {
    "tags": []
   },
   "outputs": [
    {
     "name": "stdout",
     "output_type": "stream",
     "text": [
      "Metrics for Majority Vote & Mutual Info Gain are \n",
      "               precision    recall  f1-score   support\n",
      "\n",
      "           0       0.17      0.17      0.17      1028\n",
      "           1       0.09      0.04      0.06       580\n",
      "           2       0.20      0.29      0.24      1361\n",
      "           3       0.27      0.02      0.04       603\n",
      "           4       0.00      0.00      0.00       550\n",
      "           5       0.14      0.62      0.23       663\n",
      "           6       0.13      0.02      0.04      1026\n",
      "           7       0.00      0.00      0.00       563\n",
      "\n",
      "    accuracy                           0.16      6374\n",
      "   macro avg       0.12      0.15      0.10      6374\n",
      "weighted avg       0.14      0.16      0.12      6374\n",
      "\n"
     ]
    }
   ],
   "source": [
    "majority_vote = build_majorityvote()\n",
    "majority_vote.fit(x_train_red, y_train_red)\n",
    "y_preds = majority_vote.predict(x_test_red)\n",
    "get_multiclass_report(\"Majority Vote\",\"Mutual Info Gain\",y_preds, y_test_red)"
   ]
  },
  {
   "cell_type": "code",
   "execution_count": 13,
   "id": "e42321a4-7b07-4a4e-867b-783701c2716f",
   "metadata": {
    "tags": []
   },
   "outputs": [
    {
     "name": "stdout",
     "output_type": "stream",
     "text": [
      "{'Data Analyst': 0, 'Data Engineer': 1, 'Data Scientist': 2, 'Machine Learning Engineer': 3, 'Product/Project Manager': 4, 'Research Scientist': 5, 'Software Engineer': 6, 'Statistician': 7}\n"
     ]
    }
   ],
   "source": [
    "## Load the feature and label encoder \n",
    "file = open(artifacts_dir.joinpath('target_encoder_v2.pkl'),'rb')\n",
    "label_obj = pickle.load(file)\n",
    "le_name_mapping = dict(zip(label_obj.classes_, label_obj.transform(label_obj.classes_)))\n",
    "print(le_name_mapping)"
   ]
  },
  {
   "cell_type": "code",
   "execution_count": 11,
   "id": "491d542f-032c-4d24-9612-49c575d001a7",
   "metadata": {
    "tags": []
   },
   "outputs": [
    {
     "name": "stdout",
     "output_type": "stream",
     "text": [
      "Metrics for Random Classification & Chisquare are \n",
      "               precision    recall  f1-score   support\n",
      "\n",
      "           0       0.63      0.79      0.70      2651\n",
      "           1       0.88      0.78      0.83      1436\n",
      "           2       0.72      0.81      0.76      3352\n",
      "           3       0.85      0.69      0.76      1485\n",
      "           4       0.87      0.84      0.85      1394\n",
      "           5       0.82      0.81      0.81      1738\n",
      "           6       0.80      0.70      0.75      2590\n",
      "           7       0.86      0.72      0.78      1289\n",
      "\n",
      "    accuracy                           0.77     15935\n",
      "   macro avg       0.80      0.77      0.78     15935\n",
      "weighted avg       0.78      0.77      0.77     15935\n",
      "\n"
     ]
    }
   ],
   "source": [
    "rf_class = RandomForestClassifier(random_state=42)\n",
    "rf_class.fit(x_train, y_train)\n",
    "y_preds = rf_class.predict(x_test)\n",
    "get_multiclass_report(\"Random Classification\", \"Chisquare\",y_preds, y_test)"
   ]
  },
  {
   "cell_type": "code",
   "execution_count": 14,
   "id": "bd9cb96c-a9e3-462c-86af-8a4aba12cf20",
   "metadata": {
    "tags": []
   },
   "outputs": [
    {
     "name": "stdout",
     "output_type": "stream",
     "text": [
      "Metrics for Random Classification & Mutual Info Gain are \n",
      "               precision    recall  f1-score   support\n",
      "\n",
      "           0       0.19      0.27      0.23      1028\n",
      "           1       0.10      0.01      0.02       580\n",
      "           2       0.33      0.18      0.23      1361\n",
      "           3       0.11      0.01      0.01       603\n",
      "           4       0.17      0.00      0.01       550\n",
      "           5       0.11      0.66      0.19       663\n",
      "           6       0.11      0.02      0.04      1026\n",
      "           7       0.00      0.00      0.00       563\n",
      "\n",
      "    accuracy                           0.16      6374\n",
      "   macro avg       0.14      0.14      0.09      6374\n",
      "weighted avg       0.17      0.16      0.12      6374\n",
      "\n"
     ]
    }
   ],
   "source": [
    "rf_class = RandomForestClassifier(random_state=42)\n",
    "rf_class.fit(x_train_red, y_train_red)\n",
    "y_preds = rf_class.predict(x_test_red)\n",
    "get_multiclass_report(\"Random Classification\", \"Mutual Info Gain\",y_preds, y_test_red)"
   ]
  },
  {
   "cell_type": "code",
   "execution_count": null,
   "id": "408d3c9c-4c82-4481-a08f-b5acb0d0e5a7",
   "metadata": {},
   "outputs": [],
   "source": [
    "## from test separate underperforming class\n",
    "## test model spearetely for these\n",
    "## then have separate models (baed on above accuracy)\n"
   ]
  },
  {
   "cell_type": "code",
   "execution_count": 15,
   "id": "4b9f8e40-7857-433b-9438-d297d232ebe1",
   "metadata": {
    "tags": []
   },
   "outputs": [
    {
     "name": "stdout",
     "output_type": "stream",
     "text": [
      "[18:38:24] WARNING: ../src/learner.cc:1115: Starting in XGBoost 1.3.0, the default evaluation metric used with the objective 'multi:softprob' was changed from 'merror' to 'mlogloss'. Explicitly set eval_metric if you'd like to restore the old behavior.\n",
      "Metrics for XGB Classification & Chisquare are \n",
      "               precision    recall  f1-score   support\n",
      "\n",
      "           0       0.43      0.59      0.50      2651\n",
      "           1       0.76      0.50      0.61      1436\n",
      "           2       0.51      0.65      0.57      3352\n",
      "           3       0.67      0.53      0.59      1485\n",
      "           4       0.76      0.61      0.68      1394\n",
      "           5       0.70      0.61      0.65      1738\n",
      "           6       0.58      0.53      0.55      2590\n",
      "           7       0.77      0.60      0.68      1289\n",
      "\n",
      "    accuracy                           0.58     15935\n",
      "   macro avg       0.65      0.58      0.60     15935\n",
      "weighted avg       0.61      0.58      0.59     15935\n",
      "\n"
     ]
    }
   ],
   "source": [
    "xgb_class = xgb.XGBClassifier(random_state=42)\n",
    "xgb_class.fit(x_train, y_train)\n",
    "y_preds = xgb_class.predict(x_test)\n",
    "get_multiclass_report(\"XGB Classification\", \"Chisquare\",y_preds, y_test)"
   ]
  },
  {
   "cell_type": "code",
   "execution_count": 13,
   "id": "a18d4a80-2b01-4d6b-9839-69061f472e79",
   "metadata": {
    "tags": []
   },
   "outputs": [
    {
     "name": "stdout",
     "output_type": "stream",
     "text": [
      "[02:28:57] WARNING: ../src/learner.cc:1115: Starting in XGBoost 1.3.0, the default evaluation metric used with the objective 'multi:softprob' was changed from 'merror' to 'mlogloss'. Explicitly set eval_metric if you'd like to restore the old behavior.\n",
      "Metrics for XGB Classification & Mutual Info Gain are \n",
      "               precision    recall  f1-score   support\n",
      "\n",
      "           0       0.18      0.22      0.20      1028\n",
      "           1       0.17      0.17      0.17       580\n",
      "           2       0.31      0.54      0.39      1361\n",
      "           3       0.11      0.01      0.02       603\n",
      "           4       0.10      0.01      0.01       550\n",
      "           5       0.12      0.34      0.18       663\n",
      "           6       0.09      0.01      0.02      1026\n",
      "           7       0.19      0.02      0.04       563\n",
      "\n",
      "    accuracy                           0.21      6374\n",
      "   macro avg       0.16      0.17      0.13      6374\n",
      "weighted avg       0.17      0.21      0.16      6374\n",
      "\n"
     ]
    }
   ],
   "source": [
    "xgb_class = xgb.XGBClassifier(random_state=42)\n",
    "xgb_class.fit(x_train_red, y_train_red)\n",
    "y_preds = xgb_class.predict(x_test_red)\n",
    "get_multiclass_report(\"XGB Classification\", \"Mutual Info Gain\",y_preds, y_test_red)"
   ]
  },
  {
   "cell_type": "markdown",
   "id": "0f98f26e-2052-4c10-ba6e-ce65dbfaa55b",
   "metadata": {},
   "source": [
    "### Hyperparameter Tuning"
   ]
  },
  {
   "cell_type": "code",
   "execution_count": 16,
   "id": "092b14ae-ebfa-4c35-9bba-af5ee0ba5281",
   "metadata": {
    "tags": []
   },
   "outputs": [],
   "source": [
    "def objective(trial):\n",
    "    \"\"\"Define the objective function\"\"\"\n",
    "    rf_params =   {\n",
    "            'n_estimators': trial.suggest_int('n_estimators', 50, 1000),\n",
    "            'max_depth': trial.suggest_int('max_depth', 4, 50),\n",
    "            # 'min_samples_split': trial.suggest_int('min_samples_split', 1, 150),\n",
    "            # 'min_samples_leaf': trial.suggest_int('min_samples_leaf', 1, 60),\n",
    "        }\n",
    "\n",
    "    xgb_params = {\n",
    "        'max_depth': trial.suggest_int('max_depth', 1, 9),\n",
    "        'n_estimators': trial.suggest_int('n_estimators', 50, 500),\n",
    "        #'min_child_weight': trial.suggest_int('min_child_weight', 1, 10),\n",
    "        # 'gamma': trial.suggest_loguniform('gamma', 1e-8, 1.0),\n",
    "        # 'subsample': trial.suggest_loguniform('subsample', 0.01, 1.0),\n",
    "        # 'colsample_bytree': trial.suggest_loguniform('colsample_bytree', 0.01, 1.0),\n",
    "        # 'reg_alpha': trial.suggest_loguniform('reg_alpha', 1e-8, 1.0),\n",
    "        # 'reg_lambda': trial.suggest_loguniform('reg_lambda', 1e-8, 1.0),\n",
    "        # 'eval_metric': 'mlogloss',\n",
    "        # 'use_label_encoder': False\n",
    "    }\n",
    "\n",
    "    # Fit the model\n",
    "    optuna_model = RandomForestClassifier(**rf_params, random_state = 42)\n",
    "    optuna_model.fit(x_train,y_train)\n",
    "\n",
    "    # Make predictions\n",
    "    y_pred = optuna_model.predict(x_val)\n",
    "\n",
    "    # Evaluate predictions\n",
    "    precision = precision_score(y_pred, y_val, average='micro')\n",
    "    return precision"
   ]
  },
  {
   "cell_type": "code",
   "execution_count": 20,
   "id": "440b6866-12c6-499e-9019-25754aa27c53",
   "metadata": {
    "tags": []
   },
   "outputs": [
    {
     "name": "stderr",
     "output_type": "stream",
     "text": [
      "\u001b[32m[I 2023-08-09 05:21:25,476]\u001b[0m A new study created in memory with name: no-name-04ec4ea3-f9c8-4d81-84ce-1685122987ba\u001b[0m\n",
      "\u001b[32m[I 2023-08-09 05:22:45,709]\u001b[0m Trial 0 finished with value: 0.7604802945360221 and parameters: {'n_estimators': 396, 'max_depth': 27}. Best is trial 0 with value: 0.7604802945360221.\u001b[0m\n",
      "\u001b[32m[I 2023-08-09 05:23:06,723]\u001b[0m Trial 1 finished with value: 0.6885197891389842 and parameters: {'n_estimators': 118, 'max_depth': 19}. Best is trial 0 with value: 0.7604802945360221.\u001b[0m\n",
      "\u001b[32m[I 2023-08-09 05:25:13,123]\u001b[0m Trial 2 finished with value: 0.7480963936072296 and parameters: {'n_estimators': 643, 'max_depth': 24}. Best is trial 0 with value: 0.7604802945360221.\u001b[0m\n",
      "\u001b[32m[I 2023-08-09 05:25:25,075]\u001b[0m Trial 3 finished with value: 0.7512342063425654 and parameters: {'n_estimators': 60, 'max_depth': 26}. Best is trial 0 with value: 0.7604802945360221.\u001b[0m\n",
      "\u001b[32m[I 2023-08-09 05:28:15,782]\u001b[0m Trial 4 finished with value: 0.7705212952890972 and parameters: {'n_estimators': 828, 'max_depth': 44}. Best is trial 4 with value: 0.7705212952890972.\u001b[0m\n",
      "\u001b[32m[I 2023-08-09 05:30:01,559]\u001b[0m Trial 5 finished with value: 0.7690569826792737 and parameters: {'n_estimators': 514, 'max_depth': 33}. Best is trial 4 with value: 0.7705212952890972.\u001b[0m\n",
      "\u001b[32m[I 2023-08-09 05:32:42,751]\u001b[0m Trial 6 finished with value: 0.7470086185256464 and parameters: {'n_estimators': 823, 'max_depth': 24}. Best is trial 4 with value: 0.7705212952890972.\u001b[0m\n",
      "\u001b[32m[I 2023-08-09 05:35:54,829]\u001b[0m Trial 7 finished with value: 0.769433520207514 and parameters: {'n_estimators': 933, 'max_depth': 50}. Best is trial 4 with value: 0.7705212952890972.\u001b[0m\n",
      "\u001b[32m[I 2023-08-09 05:36:58,667]\u001b[0m Trial 8 finished with value: 0.4267006945025521 and parameters: {'n_estimators': 901, 'max_depth': 5}. Best is trial 4 with value: 0.7705212952890972.\u001b[0m\n",
      "\u001b[32m[I 2023-08-09 05:38:26,681]\u001b[0m Trial 9 finished with value: 0.7696427077232031 and parameters: {'n_estimators': 427, 'max_depth': 46}. Best is trial 4 with value: 0.7705212952890972.\u001b[0m\n",
      "\u001b[32m[I 2023-08-09 05:40:56,882]\u001b[0m Trial 10 finished with value: 0.7691824951886871 and parameters: {'n_estimators': 731, 'max_depth': 39}. Best is trial 4 with value: 0.7705212952890972.\u001b[0m\n",
      "\u001b[32m[I 2023-08-09 05:41:59,398]\u001b[0m Trial 11 finished with value: 0.7693498452012384 and parameters: {'n_estimators': 305, 'max_depth': 49}. Best is trial 4 with value: 0.7705212952890972.\u001b[0m\n",
      "\u001b[32m[I 2023-08-09 05:43:59,346]\u001b[0m Trial 12 finished with value: 0.7704376202828215 and parameters: {'n_estimators': 579, 'max_depth': 43}. Best is trial 4 with value: 0.7705212952890972.\u001b[0m\n",
      "\u001b[32m[I 2023-08-09 05:46:17,710]\u001b[0m Trial 13 finished with value: 0.7690151451761359 and parameters: {'n_estimators': 671, 'max_depth': 40}. Best is trial 4 with value: 0.7705212952890972.\u001b[0m\n",
      "\u001b[32m[I 2023-08-09 05:48:58,107]\u001b[0m Trial 14 finished with value: 0.7688477951635846 and parameters: {'n_estimators': 778, 'max_depth': 40}. Best is trial 4 with value: 0.7705212952890972.\u001b[0m\n",
      "\u001b[32m[I 2023-08-09 05:50:54,821]\u001b[0m Trial 15 finished with value: 0.7703957827796837 and parameters: {'n_estimators': 565, 'max_depth': 43}. Best is trial 4 with value: 0.7705212952890972.\u001b[0m\n",
      "\u001b[32m[I 2023-08-09 05:54:16,516]\u001b[0m Trial 16 finished with value: 0.7695590327169275 and parameters: {'n_estimators': 978, 'max_depth': 34}. Best is trial 4 with value: 0.7705212952890972.\u001b[0m\n",
      "\u001b[32m[I 2023-08-09 05:54:59,287]\u001b[0m Trial 17 finished with value: 0.7693498452012384 and parameters: {'n_estimators': 208, 'max_depth': 35}. Best is trial 4 with value: 0.7705212952890972.\u001b[0m\n",
      "\u001b[32m[I 2023-08-09 05:57:16,196]\u001b[0m Trial 18 finished with value: 0.6294870722115304 and parameters: {'n_estimators': 856, 'max_depth': 16}. Best is trial 4 with value: 0.7705212952890972.\u001b[0m\n",
      "\u001b[32m[I 2023-08-09 05:59:13,127]\u001b[0m Trial 19 finished with value: 0.7699774077483056 and parameters: {'n_estimators': 569, 'max_depth': 44}. Best is trial 4 with value: 0.7705212952890972.\u001b[0m\n",
      "\u001b[32m[I 2023-08-09 06:01:41,155]\u001b[0m Trial 20 finished with value: 0.7682202326165174 and parameters: {'n_estimators': 725, 'max_depth': 31}. Best is trial 4 with value: 0.7705212952890972.\u001b[0m\n",
      "\u001b[32m[I 2023-08-09 06:03:32,102]\u001b[0m Trial 21 finished with value: 0.7703539452765459 and parameters: {'n_estimators': 541, 'max_depth': 43}. Best is trial 4 with value: 0.7705212952890972.\u001b[0m\n",
      "\u001b[32m[I 2023-08-09 06:05:04,049]\u001b[0m Trial 22 finished with value: 0.76989373274203 and parameters: {'n_estimators': 435, 'max_depth': 46}. Best is trial 4 with value: 0.7705212952890972.\u001b[0m\n",
      "\u001b[32m[I 2023-08-09 06:07:06,463]\u001b[0m Trial 23 finished with value: 0.7693498452012384 and parameters: {'n_estimators': 586, 'max_depth': 37}. Best is trial 4 with value: 0.7705212952890972.\u001b[0m\n",
      "\u001b[32m[I 2023-08-09 06:08:15,475]\u001b[0m Trial 24 finished with value: 0.770102920257719 and parameters: {'n_estimators': 333, 'max_depth': 43}. Best is trial 4 with value: 0.7705212952890972.\u001b[0m\n",
      "\u001b[32m[I 2023-08-09 06:10:26,153]\u001b[0m Trial 25 finished with value: 0.765626307421973 and parameters: {'n_estimators': 633, 'max_depth': 30}. Best is trial 4 with value: 0.7705212952890972.\u001b[0m\n",
      "\u001b[32m[I 2023-08-09 06:12:02,480]\u001b[0m Trial 26 finished with value: 0.770772320307924 and parameters: {'n_estimators': 463, 'max_depth': 50}. Best is trial 26 with value: 0.770772320307924.\u001b[0m\n",
      "\u001b[32m[I 2023-08-09 06:13:42,456]\u001b[0m Trial 27 finished with value: 0.770772320307924 and parameters: {'n_estimators': 479, 'max_depth': 50}. Best is trial 26 with value: 0.770772320307924.\u001b[0m\n",
      "\u001b[32m[I 2023-08-09 06:15:23,860]\u001b[0m Trial 28 finished with value: 0.7705212952890972 and parameters: {'n_estimators': 486, 'max_depth': 50}. Best is trial 26 with value: 0.770772320307924.\u001b[0m\n",
      "\u001b[32m[I 2023-08-09 06:17:02,065]\u001b[0m Trial 29 finished with value: 0.7690988201824115 and parameters: {'n_estimators': 471, 'max_depth': 49}. Best is trial 26 with value: 0.770772320307924.\u001b[0m\n",
      "\u001b[32m[I 2023-08-09 06:18:12,021]\u001b[0m Trial 30 finished with value: 0.7686804451510334 and parameters: {'n_estimators': 335, 'max_depth': 47}. Best is trial 26 with value: 0.770772320307924.\u001b[0m\n",
      "\u001b[32m[I 2023-08-09 06:19:30,729]\u001b[0m Trial 31 finished with value: 0.7691406576855493 and parameters: {'n_estimators': 378, 'max_depth': 49}. Best is trial 26 with value: 0.770772320307924.\u001b[0m\n",
      "\u001b[32m[I 2023-08-09 06:21:14,308]\u001b[0m Trial 32 finished with value: 0.7700192452514434 and parameters: {'n_estimators': 494, 'max_depth': 50}. Best is trial 26 with value: 0.770772320307924.\u001b[0m\n",
      "\u001b[32m[I 2023-08-09 06:22:05,764]\u001b[0m Trial 33 finished with value: 0.7701447577608568 and parameters: {'n_estimators': 247, 'max_depth': 46}. Best is trial 26 with value: 0.770772320307924.\u001b[0m\n",
      "\u001b[32m[I 2023-08-09 06:22:59,980]\u001b[0m Trial 34 finished with value: 0.5616266421219982 and parameters: {'n_estimators': 384, 'max_depth': 13}. Best is trial 26 with value: 0.770772320307924.\u001b[0m\n",
      "\u001b[32m[I 2023-08-09 06:24:37,241]\u001b[0m Trial 35 finished with value: 0.7700192452514434 and parameters: {'n_estimators': 466, 'max_depth': 46}. Best is trial 26 with value: 0.770772320307924.\u001b[0m\n",
      "\u001b[32m[I 2023-08-09 06:26:51,871]\u001b[0m Trial 36 finished with value: 0.7687222826541712 and parameters: {'n_estimators': 643, 'max_depth': 40}. Best is trial 26 with value: 0.770772320307924.\u001b[0m\n",
      "\u001b[32m[I 2023-08-09 06:27:35,585]\u001b[0m Trial 37 finished with value: 0.770102920257719 and parameters: {'n_estimators': 211, 'max_depth': 50}. Best is trial 26 with value: 0.770772320307924.\u001b[0m\n",
      "\u001b[32m[I 2023-08-09 06:29:22,916]\u001b[0m Trial 38 finished with value: 0.769224332691825 and parameters: {'n_estimators': 518, 'max_depth': 37}. Best is trial 26 with value: 0.770772320307924.\u001b[0m\n",
      "\u001b[32m[I 2023-08-09 06:29:42,077]\u001b[0m Trial 39 finished with value: 0.7671324575349343 and parameters: {'n_estimators': 93, 'max_depth': 47}. Best is trial 26 with value: 0.770772320307924.\u001b[0m\n",
      "\u001b[32m[I 2023-08-09 06:30:16,645]\u001b[0m Trial 40 finished with value: 0.44925110869383317 and parameters: {'n_estimators': 424, 'max_depth': 6}. Best is trial 26 with value: 0.770772320307924.\u001b[0m\n",
      "\u001b[32m[I 2023-08-09 06:32:24,716]\u001b[0m Trial 41 finished with value: 0.7701447577608568 and parameters: {'n_estimators': 617, 'max_depth': 43}. Best is trial 26 with value: 0.770772320307924.\u001b[0m\n",
      "\u001b[32m[I 2023-08-09 06:34:41,813]\u001b[0m Trial 42 finished with value: 0.7227847042088528 and parameters: {'n_estimators': 731, 'max_depth': 21}. Best is trial 26 with value: 0.770772320307924.\u001b[0m\n",
      "\u001b[32m[I 2023-08-09 06:37:03,118]\u001b[0m Trial 43 finished with value: 0.769433520207514 and parameters: {'n_estimators': 687, 'max_depth': 45}. Best is trial 26 with value: 0.770772320307924.\u001b[0m\n",
      "\u001b[32m[I 2023-08-09 06:39:48,528]\u001b[0m Trial 44 finished with value: 0.7691406576855493 and parameters: {'n_estimators': 810, 'max_depth': 48}. Best is trial 26 with value: 0.770772320307924.\u001b[0m\n",
      "\u001b[32m[I 2023-08-09 06:41:34,434]\u001b[0m Trial 45 finished with value: 0.7692661701949628 and parameters: {'n_estimators': 519, 'max_depth': 42}. Best is trial 26 with value: 0.770772320307924.\u001b[0m\n",
      "\u001b[32m[I 2023-08-09 06:44:39,652]\u001b[0m Trial 46 finished with value: 0.76989373274203 and parameters: {'n_estimators': 903, 'max_depth': 41}. Best is trial 26 with value: 0.770772320307924.\u001b[0m\n",
      "\u001b[32m[I 2023-08-09 06:45:36,090]\u001b[0m Trial 47 finished with value: 0.7686386076478956 and parameters: {'n_estimators': 279, 'max_depth': 38}. Best is trial 26 with value: 0.770772320307924.\u001b[0m\n",
      "\u001b[32m[I 2023-08-09 06:47:38,134]\u001b[0m Trial 48 finished with value: 0.769224332691825 and parameters: {'n_estimators': 597, 'max_depth': 48}. Best is trial 26 with value: 0.770772320307924.\u001b[0m\n",
      "\u001b[32m[I 2023-08-09 06:49:11,412]\u001b[0m Trial 49 finished with value: 0.7693080076981006 and parameters: {'n_estimators': 458, 'max_depth': 45}. Best is trial 26 with value: 0.770772320307924.\u001b[0m\n"
     ]
    }
   ],
   "source": [
    "study = optuna.create_study(direction='maximize')\n",
    "study.optimize(objective, n_trials=50)\n",
    "params = study.best_trial.params\n"
   ]
  },
  {
   "cell_type": "code",
   "execution_count": 21,
   "id": "172e169e-5c49-4ca2-a33d-0a3163ebd2f2",
   "metadata": {
    "tags": []
   },
   "outputs": [
    {
     "name": "stdout",
     "output_type": "stream",
     "text": [
      "Metrics for  Tuned Random Classification & Chisquare are \n",
      "               precision    recall  f1-score   support\n",
      "\n",
      "           0       0.61      0.78      0.68      2604\n",
      "           1       0.87      0.79      0.83      1411\n",
      "           2       0.72      0.81      0.76      3432\n",
      "           3       0.87      0.72      0.78      1507\n",
      "           4       0.87      0.83      0.85      1373\n",
      "           5       0.82      0.83      0.83      1687\n",
      "           6       0.83      0.69      0.75      2540\n",
      "           7       0.87      0.70      0.77      1381\n",
      "\n",
      "    accuracy                           0.77     15935\n",
      "   macro avg       0.81      0.77      0.78     15935\n",
      "weighted avg       0.78      0.77      0.77     15935\n",
      "\n"
     ]
    }
   ],
   "source": [
    "params =  {'n_estimators': 463, 'max_depth': 50}\n",
    "rf_tuned = RandomForestClassifier(**params,random_state=42)\n",
    "rf_tuned.fit(x_train, y_train)\n",
    "y_preds = rf_tuned.predict(x_test)\n",
    "get_multiclass_report(\" Tuned Random Classification\", \"Chisquare\",y_preds, y_test)"
   ]
  },
  {
   "cell_type": "markdown",
   "id": "4cb6e709-975f-4629-b4a2-4a905b913f1e",
   "metadata": {},
   "source": [
    "### Filter for SE target"
   ]
  },
  {
   "cell_type": "code",
   "execution_count": 21,
   "id": "1a78f421-9791-43a1-98f7-a5dadefb8098",
   "metadata": {
    "tags": []
   },
   "outputs": [
    {
     "name": "stdout",
     "output_type": "stream",
     "text": [
      "{'Business Analyst': 0, 'Data Analyst': 1, 'Data Engineer': 2, 'Data Scientist': 3, 'Machine Learning Engineer': 4, 'Other': 5, 'Product/Project Manager': 6, 'Research Scientist': 7, 'Software Engineer': 8, 'Statistician': 9, 'Student': 10}\n"
     ]
    }
   ],
   "source": [
    "## Load the feature and label encoder \n",
    "file = open(artifacts_dir.joinpath('target_encoder_v2.pkl'),'rb')\n",
    "label_obj = pickle.load(file)\n",
    "le_name_mapping = dict(zip(label_obj.classes_, label_obj.transform(label_obj.classes_)))\n",
    "print(le_name_mapping)"
   ]
  },
  {
   "cell_type": "code",
   "execution_count": 22,
   "id": "cbbb15c3-7613-42f8-8451-2933c1dc1ec8",
   "metadata": {
    "collapsed": true,
    "jupyter": {
     "outputs_hidden": true
    },
    "tags": []
   },
   "outputs": [
    {
     "data": {
      "text/plain": [
       "[10,\n",
       " 28,\n",
       " 59,\n",
       " 69,\n",
       " 74,\n",
       " 76,\n",
       " 89,\n",
       " 91,\n",
       " 110,\n",
       " 131,\n",
       " 147,\n",
       " 152,\n",
       " 161,\n",
       " 214,\n",
       " 231,\n",
       " 242,\n",
       " 243,\n",
       " 259,\n",
       " 268,\n",
       " 278,\n",
       " 297,\n",
       " 305,\n",
       " 309,\n",
       " 312,\n",
       " 329,\n",
       " 353,\n",
       " 375,\n",
       " 376,\n",
       " 400,\n",
       " 420,\n",
       " 441,\n",
       " 456,\n",
       " 459,\n",
       " 464,\n",
       " 468,\n",
       " 473,\n",
       " 475,\n",
       " 477,\n",
       " 482,\n",
       " 495,\n",
       " 502,\n",
       " 519,\n",
       " 529,\n",
       " 537,\n",
       " 543,\n",
       " 565,\n",
       " 566,\n",
       " 573,\n",
       " 595,\n",
       " 604,\n",
       " 607,\n",
       " 625,\n",
       " 628,\n",
       " 637,\n",
       " 645,\n",
       " 647,\n",
       " 660,\n",
       " 694,\n",
       " 696,\n",
       " 698,\n",
       " 703,\n",
       " 726,\n",
       " 739,\n",
       " 745,\n",
       " 748,\n",
       " 769,\n",
       " 786,\n",
       " 795,\n",
       " 797,\n",
       " 823,\n",
       " 846,\n",
       " 861,\n",
       " 868,\n",
       " 874,\n",
       " 876,\n",
       " 902,\n",
       " 914,\n",
       " 916,\n",
       " 924,\n",
       " 928,\n",
       " 955,\n",
       " 968,\n",
       " 969,\n",
       " 978,\n",
       " 979,\n",
       " 988,\n",
       " 994,\n",
       " 1011,\n",
       " 1019,\n",
       " 1029,\n",
       " 1037,\n",
       " 1062,\n",
       " 1070,\n",
       " 1072,\n",
       " 1073,\n",
       " 1097,\n",
       " 1099,\n",
       " 1119,\n",
       " 1120,\n",
       " 1137,\n",
       " 1147,\n",
       " 1149,\n",
       " 1159,\n",
       " 1181,\n",
       " 1193,\n",
       " 1199,\n",
       " 1202,\n",
       " 1209,\n",
       " 1219,\n",
       " 1221,\n",
       " 1282,\n",
       " 1295,\n",
       " 1303,\n",
       " 1317,\n",
       " 1332,\n",
       " 1352,\n",
       " 1378,\n",
       " 1382,\n",
       " 1397,\n",
       " 1398,\n",
       " 1406,\n",
       " 1410,\n",
       " 1416,\n",
       " 1419,\n",
       " 1433,\n",
       " 1447,\n",
       " 1456,\n",
       " 1469,\n",
       " 1479,\n",
       " 1505,\n",
       " 1519,\n",
       " 1537,\n",
       " 1539,\n",
       " 1541,\n",
       " 1545,\n",
       " 1578,\n",
       " 1586,\n",
       " 1589,\n",
       " 1590,\n",
       " 1594,\n",
       " 1597,\n",
       " 1599,\n",
       " 1603,\n",
       " 1604,\n",
       " 1626,\n",
       " 1652,\n",
       " 1661,\n",
       " 1664,\n",
       " 1668,\n",
       " 1692,\n",
       " 1726,\n",
       " 1775,\n",
       " 1776,\n",
       " 1807,\n",
       " 1818,\n",
       " 1824,\n",
       " 1846,\n",
       " 1847,\n",
       " 1901,\n",
       " 1909,\n",
       " 1915,\n",
       " 1917,\n",
       " 1918,\n",
       " 1930,\n",
       " 1950,\n",
       " 1962,\n",
       " 1971,\n",
       " 1972,\n",
       " 1977,\n",
       " 1986,\n",
       " 1987,\n",
       " 1995,\n",
       " 2001,\n",
       " 2006,\n",
       " 2007,\n",
       " 2038,\n",
       " 2058,\n",
       " 2060,\n",
       " 2082,\n",
       " 2090,\n",
       " 2098,\n",
       " 2117,\n",
       " 2121,\n",
       " 2141,\n",
       " 2159,\n",
       " 2165,\n",
       " 2170,\n",
       " 2177,\n",
       " 2194,\n",
       " 2203,\n",
       " 2224,\n",
       " 2244,\n",
       " 2259,\n",
       " 2262,\n",
       " 2267,\n",
       " 2268,\n",
       " 2280,\n",
       " 2283,\n",
       " 2293,\n",
       " 2295,\n",
       " 2301,\n",
       " 2307,\n",
       " 2312,\n",
       " 2325,\n",
       " 2328,\n",
       " 2334,\n",
       " 2368,\n",
       " 2380,\n",
       " 2390,\n",
       " 2397,\n",
       " 2406,\n",
       " 2418,\n",
       " 2420,\n",
       " 2421,\n",
       " 2422,\n",
       " 2436,\n",
       " 2481,\n",
       " 2497,\n",
       " 2503,\n",
       " 2516,\n",
       " 2518,\n",
       " 2521,\n",
       " 2523,\n",
       " 2527,\n",
       " 2539,\n",
       " 2609,\n",
       " 2621,\n",
       " 2623,\n",
       " 2630,\n",
       " 2646,\n",
       " 2657,\n",
       " 2669,\n",
       " 2686,\n",
       " 2696,\n",
       " 2704,\n",
       " 2713,\n",
       " 2725,\n",
       " 2732,\n",
       " 2737,\n",
       " 2748,\n",
       " 2749,\n",
       " 2783,\n",
       " 2802,\n",
       " 2820,\n",
       " 2851,\n",
       " 2861,\n",
       " 2863,\n",
       " 2871,\n",
       " 2884,\n",
       " 2898,\n",
       " 2914,\n",
       " 2942,\n",
       " 2946,\n",
       " 2949,\n",
       " 2952,\n",
       " 2976,\n",
       " 2984,\n",
       " 2988,\n",
       " 2993,\n",
       " 2994,\n",
       " 3003,\n",
       " 3020,\n",
       " 3021,\n",
       " 3040,\n",
       " 3054,\n",
       " 3066,\n",
       " 3072,\n",
       " 3074,\n",
       " 3080,\n",
       " 3108,\n",
       " 3118,\n",
       " 3132,\n",
       " 3135,\n",
       " 3136,\n",
       " 3158,\n",
       " 3163,\n",
       " 3193,\n",
       " 3195,\n",
       " 3238,\n",
       " 3243,\n",
       " 3266,\n",
       " 3277,\n",
       " 3287,\n",
       " 3290,\n",
       " 3306,\n",
       " 3334,\n",
       " 3342,\n",
       " 3343,\n",
       " 3349,\n",
       " 3370,\n",
       " 3376,\n",
       " 3395,\n",
       " 3396,\n",
       " 3403,\n",
       " 3429,\n",
       " 3435,\n",
       " 3437,\n",
       " 3446,\n",
       " 3452,\n",
       " 3462,\n",
       " 3473,\n",
       " 3481,\n",
       " 3483,\n",
       " 3486,\n",
       " 3501,\n",
       " 3542,\n",
       " 3548,\n",
       " 3552,\n",
       " 3589,\n",
       " 3605,\n",
       " 3608,\n",
       " 3616,\n",
       " 3628,\n",
       " 3635,\n",
       " 3636,\n",
       " 3638,\n",
       " 3639,\n",
       " 3676,\n",
       " 3708,\n",
       " 3722,\n",
       " 3723,\n",
       " 3735,\n",
       " 3753,\n",
       " 3754,\n",
       " 3762,\n",
       " 3767,\n",
       " 3768,\n",
       " 3769,\n",
       " 3780,\n",
       " 3802,\n",
       " 3805,\n",
       " 3811,\n",
       " 3816,\n",
       " 3846,\n",
       " 3857,\n",
       " 3858,\n",
       " 3864,\n",
       " 3865,\n",
       " 3898,\n",
       " 3929,\n",
       " 3936,\n",
       " 3948,\n",
       " 3963,\n",
       " 3969,\n",
       " 3983,\n",
       " 3985,\n",
       " 3986,\n",
       " 3987,\n",
       " 3996,\n",
       " 4020,\n",
       " 4030,\n",
       " 4035,\n",
       " 4037,\n",
       " 4048,\n",
       " 4055,\n",
       " 4057,\n",
       " 4073,\n",
       " 4074,\n",
       " 4075,\n",
       " 4093,\n",
       " 4099,\n",
       " 4104,\n",
       " 4132,\n",
       " 4137,\n",
       " 4168,\n",
       " 4174,\n",
       " 4175,\n",
       " 4242,\n",
       " 4246,\n",
       " 4248,\n",
       " 4259,\n",
       " 4274,\n",
       " 4281,\n",
       " 4335,\n",
       " 4355,\n",
       " 4374,\n",
       " 4401,\n",
       " 4404,\n",
       " 4412,\n",
       " 4418,\n",
       " 4421,\n",
       " 4422,\n",
       " 4437,\n",
       " 4442,\n",
       " 4443,\n",
       " 4461,\n",
       " 4464,\n",
       " 4467,\n",
       " 4468,\n",
       " 4488,\n",
       " 4497,\n",
       " 4506,\n",
       " 4562,\n",
       " 4585,\n",
       " 4595,\n",
       " 4613,\n",
       " 4614,\n",
       " 4638,\n",
       " 4642,\n",
       " 4648,\n",
       " 4650,\n",
       " 4664,\n",
       " 4675,\n",
       " 4680,\n",
       " 4689,\n",
       " 4695,\n",
       " 4696,\n",
       " 4700,\n",
       " 4708,\n",
       " 4723,\n",
       " 4728,\n",
       " 4743,\n",
       " 4762,\n",
       " 4765,\n",
       " 4778,\n",
       " 4790,\n",
       " 4809,\n",
       " 4812,\n",
       " 4814,\n",
       " 4820,\n",
       " 4834,\n",
       " 4880,\n",
       " 4889,\n",
       " 4890,\n",
       " 4907,\n",
       " 4928,\n",
       " 4945,\n",
       " 4946,\n",
       " 4964,\n",
       " 4968,\n",
       " 4991,\n",
       " 5009,\n",
       " 5010,\n",
       " 5013,\n",
       " 5016,\n",
       " 5031,\n",
       " 5049,\n",
       " 5067,\n",
       " 5077,\n",
       " 5080,\n",
       " 5084,\n",
       " 5103,\n",
       " 5108,\n",
       " 5130,\n",
       " 5136,\n",
       " 5140,\n",
       " 5141,\n",
       " 5152,\n",
       " 5167,\n",
       " 5171,\n",
       " 5173,\n",
       " 5178,\n",
       " 5191,\n",
       " 5202,\n",
       " 5204,\n",
       " 5229,\n",
       " 5230,\n",
       " 5240,\n",
       " 5244,\n",
       " 5251,\n",
       " 5254,\n",
       " 5255,\n",
       " 5257,\n",
       " 5258,\n",
       " 5273,\n",
       " 5280,\n",
       " 5303,\n",
       " 5312,\n",
       " 5316,\n",
       " 5317,\n",
       " 5318,\n",
       " 5339,\n",
       " 5345,\n",
       " 5388,\n",
       " 5394,\n",
       " 5415,\n",
       " 5425,\n",
       " 5433,\n",
       " 5442,\n",
       " 5471,\n",
       " 5472,\n",
       " 5474,\n",
       " 5476,\n",
       " 5489,\n",
       " 5520,\n",
       " 5532,\n",
       " 5543,\n",
       " 5568,\n",
       " 5570,\n",
       " 5577,\n",
       " 5581,\n",
       " 5611,\n",
       " 5612,\n",
       " 5643,\n",
       " 5654,\n",
       " 5663,\n",
       " 5670,\n",
       " 5674,\n",
       " 5681,\n",
       " 5682,\n",
       " 5687,\n",
       " 5700,\n",
       " 5701,\n",
       " 5720,\n",
       " 5739,\n",
       " 5744,\n",
       " 5751,\n",
       " 5756,\n",
       " 5762,\n",
       " 5780,\n",
       " 5781,\n",
       " 5800,\n",
       " 5814,\n",
       " 5819,\n",
       " 5827,\n",
       " 5830,\n",
       " 5844,\n",
       " 5845,\n",
       " 5855,\n",
       " 5878,\n",
       " 5885,\n",
       " 5887,\n",
       " 5892,\n",
       " 5896,\n",
       " 5898,\n",
       " 5899,\n",
       " 5910,\n",
       " 5913,\n",
       " 5923,\n",
       " 5953,\n",
       " 5963,\n",
       " 5978,\n",
       " 5989,\n",
       " 5997,\n",
       " 6005,\n",
       " 6006,\n",
       " 6022,\n",
       " 6033,\n",
       " 6034,\n",
       " 6039,\n",
       " 6066,\n",
       " 6108,\n",
       " 6110,\n",
       " 6119,\n",
       " 6131,\n",
       " 6143,\n",
       " 6144,\n",
       " 6178,\n",
       " 6183,\n",
       " 6190,\n",
       " 6201,\n",
       " 6225,\n",
       " 6228,\n",
       " 6244,\n",
       " 6246,\n",
       " 6263,\n",
       " 6274,\n",
       " 6275,\n",
       " 6279,\n",
       " 6282,\n",
       " 6284,\n",
       " 6288,\n",
       " 6296,\n",
       " 6310,\n",
       " 6319,\n",
       " 6321,\n",
       " 6326,\n",
       " 6365,\n",
       " 6372,\n",
       " 6385,\n",
       " 6440,\n",
       " 6445,\n",
       " 6452,\n",
       " 6457,\n",
       " 6474,\n",
       " 6494,\n",
       " 6496,\n",
       " 6499,\n",
       " 6507,\n",
       " 6521,\n",
       " 6526,\n",
       " 6532,\n",
       " 6535,\n",
       " 6549,\n",
       " 6562,\n",
       " 6571,\n",
       " 6576,\n",
       " 6579,\n",
       " 6603,\n",
       " 6607,\n",
       " 6629,\n",
       " 6640,\n",
       " 6642,\n",
       " 6646,\n",
       " 6658,\n",
       " 6672,\n",
       " 6692,\n",
       " 6709,\n",
       " 6716,\n",
       " 6720,\n",
       " 6735,\n",
       " 6738,\n",
       " 6743,\n",
       " 6752,\n",
       " 6763,\n",
       " 6782,\n",
       " 6792,\n",
       " 6808,\n",
       " 6832,\n",
       " 6837,\n",
       " 6842,\n",
       " 6853,\n",
       " 6854,\n",
       " 6864,\n",
       " 6866,\n",
       " 6893,\n",
       " 6897,\n",
       " 6900,\n",
       " 6903,\n",
       " 6925,\n",
       " 6959,\n",
       " 6977,\n",
       " 6980,\n",
       " 6985,\n",
       " 6991,\n",
       " 7020,\n",
       " 7033,\n",
       " 7039,\n",
       " 7049,\n",
       " 7051,\n",
       " 7053,\n",
       " 7056,\n",
       " 7067,\n",
       " 7085,\n",
       " 7105,\n",
       " 7111,\n",
       " 7125,\n",
       " 7137,\n",
       " 7199,\n",
       " 7212,\n",
       " 7227,\n",
       " 7286,\n",
       " 7322,\n",
       " 7326,\n",
       " 7345,\n",
       " 7360,\n",
       " 7386,\n",
       " 7402,\n",
       " 7409,\n",
       " 7419,\n",
       " 7428,\n",
       " 7440,\n",
       " 7457,\n",
       " 7466,\n",
       " 7470,\n",
       " 7474,\n",
       " 7489,\n",
       " 7490,\n",
       " 7499,\n",
       " 7504,\n",
       " 7512,\n",
       " 7513,\n",
       " 7520,\n",
       " 7521,\n",
       " 7536,\n",
       " 7561,\n",
       " 7581,\n",
       " 7591,\n",
       " 7599,\n",
       " 7600,\n",
       " 7624,\n",
       " 7639,\n",
       " 7646,\n",
       " 7647,\n",
       " 7650,\n",
       " 7658,\n",
       " 7666,\n",
       " 7668,\n",
       " 7671,\n",
       " 7700,\n",
       " 7709,\n",
       " 7722,\n",
       " 7741,\n",
       " 7744,\n",
       " 7746,\n",
       " 7765,\n",
       " 7772,\n",
       " 7775,\n",
       " 7777,\n",
       " 7790,\n",
       " 7805,\n",
       " 7815,\n",
       " 7817,\n",
       " 7826,\n",
       " 7833,\n",
       " 7839,\n",
       " 7841,\n",
       " 7842,\n",
       " 7849,\n",
       " 7854,\n",
       " 7858,\n",
       " 7861,\n",
       " 7873,\n",
       " 7879,\n",
       " 7886,\n",
       " 7899,\n",
       " 7900,\n",
       " 7930,\n",
       " 7952,\n",
       " 7955,\n",
       " 7959,\n",
       " 7965,\n",
       " 7966,\n",
       " 7970,\n",
       " 7981,\n",
       " 8003,\n",
       " 8004,\n",
       " 8012,\n",
       " 8020,\n",
       " 8029,\n",
       " 8040,\n",
       " 8041,\n",
       " 8047,\n",
       " 8049,\n",
       " 8053,\n",
       " 8067,\n",
       " 8075,\n",
       " 8082,\n",
       " 8091,\n",
       " 8094,\n",
       " 8095,\n",
       " 8117,\n",
       " 8126,\n",
       " 8127,\n",
       " 8130,\n",
       " 8135,\n",
       " 8148,\n",
       " 8151,\n",
       " 8158,\n",
       " 8174,\n",
       " 8176,\n",
       " 8212,\n",
       " 8214,\n",
       " 8222,\n",
       " 8227,\n",
       " 8230,\n",
       " 8236,\n",
       " 8242,\n",
       " 8248,\n",
       " 8283,\n",
       " 8299,\n",
       " 8307,\n",
       " 8310,\n",
       " 8311,\n",
       " 8329,\n",
       " 8333,\n",
       " 8350,\n",
       " 8356,\n",
       " 8357,\n",
       " 8364,\n",
       " 8369,\n",
       " 8383,\n",
       " 8398,\n",
       " 8401,\n",
       " 8403,\n",
       " 8406,\n",
       " 8413,\n",
       " 8416,\n",
       " 8427,\n",
       " 8436,\n",
       " 8438,\n",
       " 8459,\n",
       " 8471,\n",
       " 8476,\n",
       " 8488,\n",
       " 8490,\n",
       " 8494,\n",
       " 8526,\n",
       " 8527,\n",
       " 8544,\n",
       " 8546,\n",
       " 8554,\n",
       " 8561,\n",
       " 8567,\n",
       " 8576,\n",
       " 8588,\n",
       " 8600,\n",
       " 8611,\n",
       " 8631,\n",
       " 8650,\n",
       " 8653,\n",
       " 8667,\n",
       " 8669,\n",
       " 8692,\n",
       " 8716,\n",
       " 8717,\n",
       " 8741,\n",
       " 8742,\n",
       " 8743,\n",
       " 8744,\n",
       " 8770,\n",
       " 8775,\n",
       " 8776,\n",
       " 8780,\n",
       " 8799,\n",
       " 8803,\n",
       " 8811,\n",
       " 8813,\n",
       " 8823,\n",
       " 8838,\n",
       " 8867,\n",
       " 8887,\n",
       " 8889,\n",
       " 8896,\n",
       " 8903,\n",
       " 8915,\n",
       " 8917,\n",
       " 8924,\n",
       " 8927,\n",
       " 8941,\n",
       " 8956,\n",
       " 8963,\n",
       " 8965,\n",
       " 9025,\n",
       " 9033,\n",
       " 9040,\n",
       " 9048,\n",
       " 9061,\n",
       " 9078,\n",
       " 9090,\n",
       " 9113,\n",
       " 9116,\n",
       " 9125,\n",
       " 9137,\n",
       " 9156,\n",
       " 9165,\n",
       " 9177,\n",
       " 9183,\n",
       " 9184,\n",
       " 9189,\n",
       " 9201,\n",
       " 9205,\n",
       " 9208,\n",
       " 9218,\n",
       " 9229,\n",
       " 9240,\n",
       " 9256,\n",
       " 9287,\n",
       " 9289,\n",
       " 9293,\n",
       " 9299,\n",
       " 9301,\n",
       " 9319,\n",
       " 9321,\n",
       " 9327,\n",
       " 9331,\n",
       " 9332,\n",
       " 9343,\n",
       " 9348,\n",
       " 9358,\n",
       " 9362,\n",
       " 9363,\n",
       " 9364,\n",
       " 9370,\n",
       " 9373,\n",
       " 9383,\n",
       " 9390,\n",
       " 9427,\n",
       " 9438,\n",
       " 9439,\n",
       " 9457,\n",
       " 9461,\n",
       " 9529,\n",
       " 9553,\n",
       " 9557,\n",
       " 9558,\n",
       " 9560,\n",
       " 9573,\n",
       " 9587,\n",
       " 9596,\n",
       " 9603,\n",
       " 9630,\n",
       " 9631,\n",
       " 9676,\n",
       " 9698,\n",
       " 9704,\n",
       " 9722,\n",
       " 9729,\n",
       " 9732,\n",
       " 9744,\n",
       " 9745,\n",
       " 9758,\n",
       " 9775,\n",
       " 9778,\n",
       " 9781,\n",
       " 9800,\n",
       " 9809,\n",
       " 9821,\n",
       " 9839,\n",
       " 9889,\n",
       " 9890,\n",
       " 9892,\n",
       " 9893,\n",
       " 9910,\n",
       " 9913,\n",
       " 9919,\n",
       " 9933,\n",
       " 9950,\n",
       " 9959,\n",
       " 9972,\n",
       " 9977,\n",
       " 9986,\n",
       " 9987,\n",
       " 9988,\n",
       " 9994,\n",
       " 10017,\n",
       " 10025,\n",
       " 10065,\n",
       " 10066,\n",
       " 10069,\n",
       " 10075,\n",
       " 10090,\n",
       " 10106,\n",
       " 10118,\n",
       " 10126,\n",
       " 10141,\n",
       " 10145,\n",
       " 10146,\n",
       " 10152,\n",
       " 10160,\n",
       " 10170,\n",
       " 10187,\n",
       " 10189,\n",
       " 10199,\n",
       " 10201,\n",
       " 10216,\n",
       " 10223,\n",
       " 10224,\n",
       " 10244,\n",
       " 10253,\n",
       " 10259,\n",
       " 10290,\n",
       " 10299,\n",
       " 10301,\n",
       " 10307,\n",
       " 10313,\n",
       " 10317,\n",
       " 10326,\n",
       " 10344,\n",
       " 10346,\n",
       " 10347,\n",
       " 10353,\n",
       " 10360,\n",
       " 10392,\n",
       " 10409,\n",
       " 10433,\n",
       " 10443,\n",
       " 10456,\n",
       " 10459,\n",
       " 10463,\n",
       " 10493,\n",
       " 10494,\n",
       " 10495,\n",
       " 10499,\n",
       " 10503,\n",
       " 10527,\n",
       " 10539,\n",
       " 10547,\n",
       " 10551,\n",
       " 10554,\n",
       " 10557,\n",
       " 10588,\n",
       " 10590,\n",
       " 10592,\n",
       " 10601,\n",
       " 10608,\n",
       " 10614,\n",
       " 10622,\n",
       " 10623,\n",
       " 10637,\n",
       " 10658,\n",
       " 10671,\n",
       " 10679,\n",
       " 10697,\n",
       " 10699,\n",
       " 10717,\n",
       " 10728,\n",
       " 10750,\n",
       " 10774,\n",
       " 10787,\n",
       " 10798,\n",
       " 10803,\n",
       " 10813,\n",
       " 10818,\n",
       " 10819,\n",
       " 10820,\n",
       " 10821,\n",
       " 10826,\n",
       " 10835,\n",
       " 10841,\n",
       " ...]"
      ]
     },
     "execution_count": 22,
     "metadata": {},
     "output_type": "execute_result"
    }
   ],
   "source": [
    "se_list = [elem for elem in range(len(y_test)) if y_test[elem] == 3]\n",
    "se_list"
   ]
  },
  {
   "cell_type": "code",
   "execution_count": 23,
   "id": "ec93b52e-a8e0-45e1-b1a1-10c0f8bc3557",
   "metadata": {
    "tags": []
   },
   "outputs": [
    {
     "data": {
      "text/plain": [
       "5645"
      ]
     },
     "execution_count": 23,
     "metadata": {},
     "output_type": "execute_result"
    }
   ],
   "source": [
    "se_df = X_test[se_list]\n",
    "len(se_df)"
   ]
  },
  {
   "cell_type": "code",
   "execution_count": 28,
   "id": "921b61f9-7d3a-4d86-abdc-bbc559bc205c",
   "metadata": {
    "tags": []
   },
   "outputs": [],
   "source": [
    "se_preds = rf_class.predict(se_df)"
   ]
  },
  {
   "cell_type": "code",
   "execution_count": 29,
   "id": "7c2fb67d-f929-4a70-8266-9216f99c15ef",
   "metadata": {
    "tags": []
   },
   "outputs": [
    {
     "data": {
      "text/plain": [
       "0.4967227635075288"
      ]
     },
     "execution_count": 29,
     "metadata": {},
     "output_type": "execute_result"
    }
   ],
   "source": [
    "precision_score(y_test[se_list], se_preds, average='micro')"
   ]
  },
  {
   "cell_type": "code",
   "execution_count": 30,
   "id": "aef1b1d5-34a6-4406-adc5-b63f663cf0aa",
   "metadata": {
    "tags": []
   },
   "outputs": [
    {
     "data": {
      "text/plain": [
       "0.4967227635075288"
      ]
     },
     "execution_count": 30,
     "metadata": {},
     "output_type": "execute_result"
    }
   ],
   "source": [
    "accuracy_score(y_test[se_list], se_preds)"
   ]
  },
  {
   "cell_type": "code",
   "execution_count": null,
   "id": "6c256695-33d6-4210-846a-3ba20cfc3b1e",
   "metadata": {},
   "outputs": [],
   "source": [
    "## Filter for datascientist role"
   ]
  },
  {
   "cell_type": "code",
   "execution_count": 31,
   "id": "354abe82-38e3-474e-ad98-85b89742db3b",
   "metadata": {
    "tags": []
   },
   "outputs": [],
   "source": [
    "from sklearn.multiclass import OneVsOneClassifier, OneVsRestClassifier   #1vs1 & 1vsRest Classifiers\n",
    "from sklearn.svm import SVC"
   ]
  },
  {
   "cell_type": "code",
   "execution_count": 32,
   "id": "26dfc000-2635-4f31-a6b9-c7c8c20dafd8",
   "metadata": {
    "tags": []
   },
   "outputs": [],
   "source": [
    "model = SVC(gamma='scale',random_state=0)\n",
    "\n",
    "#Define 1-vs-1 Strategy / Classifier\n",
    "ovo = OneVsOneClassifier(model)"
   ]
  },
  {
   "cell_type": "code",
   "execution_count": 33,
   "id": "76182b3b-615f-4c70-9809-294df1770131",
   "metadata": {
    "collapsed": true,
    "jupyter": {
     "outputs_hidden": true
    },
    "tags": []
   },
   "outputs": [
    {
     "ename": "KeyboardInterrupt",
     "evalue": "",
     "output_type": "error",
     "traceback": [
      "\u001b[0;31m---------------------------------------------------------------------------\u001b[0m",
      "\u001b[0;31mKeyboardInterrupt\u001b[0m                         Traceback (most recent call last)",
      "Cell \u001b[0;32mIn[33], line 2\u001b[0m\n\u001b[1;32m      1\u001b[0m \u001b[38;5;66;03m#fit model to training data\u001b[39;00m\n\u001b[0;32m----> 2\u001b[0m \u001b[43movo\u001b[49m\u001b[38;5;241;43m.\u001b[39;49m\u001b[43mfit\u001b[49m\u001b[43m(\u001b[49m\u001b[43mX_train\u001b[49m\u001b[43m,\u001b[49m\u001b[43m \u001b[49m\u001b[43my_train\u001b[49m\u001b[43m)\u001b[49m\n",
      "File \u001b[0;32m~/SageMaker/.persisted_conda/authentifield/lib/python3.9/site-packages/sklearn/multiclass.py:742\u001b[0m, in \u001b[0;36mOneVsOneClassifier.fit\u001b[0;34m(self, X, y)\u001b[0m\n\u001b[1;32m    735\u001b[0m     \u001b[38;5;28;01mraise\u001b[39;00m \u001b[38;5;167;01mValueError\u001b[39;00m(\n\u001b[1;32m    736\u001b[0m         \u001b[38;5;124m\"\u001b[39m\u001b[38;5;124mOneVsOneClassifier can not be fit when only one class is present.\u001b[39m\u001b[38;5;124m\"\u001b[39m\n\u001b[1;32m    737\u001b[0m     )\n\u001b[1;32m    738\u001b[0m n_classes \u001b[38;5;241m=\u001b[39m \u001b[38;5;28mself\u001b[39m\u001b[38;5;241m.\u001b[39mclasses_\u001b[38;5;241m.\u001b[39mshape[\u001b[38;5;241m0\u001b[39m]\n\u001b[1;32m    739\u001b[0m estimators_indices \u001b[38;5;241m=\u001b[39m \u001b[38;5;28mlist\u001b[39m(\n\u001b[1;32m    740\u001b[0m     \u001b[38;5;28mzip\u001b[39m(\n\u001b[1;32m    741\u001b[0m         \u001b[38;5;241m*\u001b[39m(\n\u001b[0;32m--> 742\u001b[0m             \u001b[43mParallel\u001b[49m\u001b[43m(\u001b[49m\u001b[43mn_jobs\u001b[49m\u001b[38;5;241;43m=\u001b[39;49m\u001b[38;5;28;43mself\u001b[39;49m\u001b[38;5;241;43m.\u001b[39;49m\u001b[43mn_jobs\u001b[49m\u001b[43m)\u001b[49m\u001b[43m(\u001b[49m\n\u001b[1;32m    743\u001b[0m \u001b[43m                \u001b[49m\u001b[43mdelayed\u001b[49m\u001b[43m(\u001b[49m\u001b[43m_fit_ovo_binary\u001b[49m\u001b[43m)\u001b[49m\u001b[43m(\u001b[49m\n\u001b[1;32m    744\u001b[0m \u001b[43m                    \u001b[49m\u001b[38;5;28;43mself\u001b[39;49m\u001b[38;5;241;43m.\u001b[39;49m\u001b[43mestimator\u001b[49m\u001b[43m,\u001b[49m\u001b[43m \u001b[49m\u001b[43mX\u001b[49m\u001b[43m,\u001b[49m\u001b[43m \u001b[49m\u001b[43my\u001b[49m\u001b[43m,\u001b[49m\u001b[43m \u001b[49m\u001b[38;5;28;43mself\u001b[39;49m\u001b[38;5;241;43m.\u001b[39;49m\u001b[43mclasses_\u001b[49m\u001b[43m[\u001b[49m\u001b[43mi\u001b[49m\u001b[43m]\u001b[49m\u001b[43m,\u001b[49m\u001b[43m \u001b[49m\u001b[38;5;28;43mself\u001b[39;49m\u001b[38;5;241;43m.\u001b[39;49m\u001b[43mclasses_\u001b[49m\u001b[43m[\u001b[49m\u001b[43mj\u001b[49m\u001b[43m]\u001b[49m\n\u001b[1;32m    745\u001b[0m \u001b[43m                \u001b[49m\u001b[43m)\u001b[49m\n\u001b[1;32m    746\u001b[0m \u001b[43m                \u001b[49m\u001b[38;5;28;43;01mfor\u001b[39;49;00m\u001b[43m \u001b[49m\u001b[43mi\u001b[49m\u001b[43m \u001b[49m\u001b[38;5;129;43;01min\u001b[39;49;00m\u001b[43m \u001b[49m\u001b[38;5;28;43mrange\u001b[39;49m\u001b[43m(\u001b[49m\u001b[43mn_classes\u001b[49m\u001b[43m)\u001b[49m\n\u001b[1;32m    747\u001b[0m \u001b[43m                \u001b[49m\u001b[38;5;28;43;01mfor\u001b[39;49;00m\u001b[43m \u001b[49m\u001b[43mj\u001b[49m\u001b[43m \u001b[49m\u001b[38;5;129;43;01min\u001b[39;49;00m\u001b[43m \u001b[49m\u001b[38;5;28;43mrange\u001b[39;49m\u001b[43m(\u001b[49m\u001b[43mi\u001b[49m\u001b[43m \u001b[49m\u001b[38;5;241;43m+\u001b[39;49m\u001b[43m \u001b[49m\u001b[38;5;241;43m1\u001b[39;49m\u001b[43m,\u001b[49m\u001b[43m \u001b[49m\u001b[43mn_classes\u001b[49m\u001b[43m)\u001b[49m\n\u001b[1;32m    748\u001b[0m \u001b[43m            \u001b[49m\u001b[43m)\u001b[49m\n\u001b[1;32m    749\u001b[0m         )\n\u001b[1;32m    750\u001b[0m     )\n\u001b[1;32m    751\u001b[0m )\n\u001b[1;32m    753\u001b[0m \u001b[38;5;28mself\u001b[39m\u001b[38;5;241m.\u001b[39mestimators_ \u001b[38;5;241m=\u001b[39m estimators_indices[\u001b[38;5;241m0\u001b[39m]\n\u001b[1;32m    755\u001b[0m pairwise \u001b[38;5;241m=\u001b[39m _is_pairwise(\u001b[38;5;28mself\u001b[39m)\n",
      "File \u001b[0;32m~/SageMaker/.persisted_conda/authentifield/lib/python3.9/site-packages/joblib/parallel.py:1088\u001b[0m, in \u001b[0;36mParallel.__call__\u001b[0;34m(self, iterable)\u001b[0m\n\u001b[1;32m   1085\u001b[0m \u001b[38;5;28;01mif\u001b[39;00m \u001b[38;5;28mself\u001b[39m\u001b[38;5;241m.\u001b[39mdispatch_one_batch(iterator):\n\u001b[1;32m   1086\u001b[0m     \u001b[38;5;28mself\u001b[39m\u001b[38;5;241m.\u001b[39m_iterating \u001b[38;5;241m=\u001b[39m \u001b[38;5;28mself\u001b[39m\u001b[38;5;241m.\u001b[39m_original_iterator \u001b[38;5;129;01mis\u001b[39;00m \u001b[38;5;129;01mnot\u001b[39;00m \u001b[38;5;28;01mNone\u001b[39;00m\n\u001b[0;32m-> 1088\u001b[0m \u001b[38;5;28;01mwhile\u001b[39;00m \u001b[38;5;28;43mself\u001b[39;49m\u001b[38;5;241;43m.\u001b[39;49m\u001b[43mdispatch_one_batch\u001b[49m\u001b[43m(\u001b[49m\u001b[43miterator\u001b[49m\u001b[43m)\u001b[49m:\n\u001b[1;32m   1089\u001b[0m     \u001b[38;5;28;01mpass\u001b[39;00m\n\u001b[1;32m   1091\u001b[0m \u001b[38;5;28;01mif\u001b[39;00m pre_dispatch \u001b[38;5;241m==\u001b[39m \u001b[38;5;124m\"\u001b[39m\u001b[38;5;124mall\u001b[39m\u001b[38;5;124m\"\u001b[39m \u001b[38;5;129;01mor\u001b[39;00m n_jobs \u001b[38;5;241m==\u001b[39m \u001b[38;5;241m1\u001b[39m:\n\u001b[1;32m   1092\u001b[0m     \u001b[38;5;66;03m# The iterable was consumed all at once by the above for loop.\u001b[39;00m\n\u001b[1;32m   1093\u001b[0m     \u001b[38;5;66;03m# No need to wait for async callbacks to trigger to\u001b[39;00m\n\u001b[1;32m   1094\u001b[0m     \u001b[38;5;66;03m# consumption.\u001b[39;00m\n",
      "File \u001b[0;32m~/SageMaker/.persisted_conda/authentifield/lib/python3.9/site-packages/joblib/parallel.py:901\u001b[0m, in \u001b[0;36mParallel.dispatch_one_batch\u001b[0;34m(self, iterator)\u001b[0m\n\u001b[1;32m    899\u001b[0m     \u001b[38;5;28;01mreturn\u001b[39;00m \u001b[38;5;28;01mFalse\u001b[39;00m\n\u001b[1;32m    900\u001b[0m \u001b[38;5;28;01melse\u001b[39;00m:\n\u001b[0;32m--> 901\u001b[0m     \u001b[38;5;28;43mself\u001b[39;49m\u001b[38;5;241;43m.\u001b[39;49m\u001b[43m_dispatch\u001b[49m\u001b[43m(\u001b[49m\u001b[43mtasks\u001b[49m\u001b[43m)\u001b[49m\n\u001b[1;32m    902\u001b[0m     \u001b[38;5;28;01mreturn\u001b[39;00m \u001b[38;5;28;01mTrue\u001b[39;00m\n",
      "File \u001b[0;32m~/SageMaker/.persisted_conda/authentifield/lib/python3.9/site-packages/joblib/parallel.py:819\u001b[0m, in \u001b[0;36mParallel._dispatch\u001b[0;34m(self, batch)\u001b[0m\n\u001b[1;32m    817\u001b[0m \u001b[38;5;28;01mwith\u001b[39;00m \u001b[38;5;28mself\u001b[39m\u001b[38;5;241m.\u001b[39m_lock:\n\u001b[1;32m    818\u001b[0m     job_idx \u001b[38;5;241m=\u001b[39m \u001b[38;5;28mlen\u001b[39m(\u001b[38;5;28mself\u001b[39m\u001b[38;5;241m.\u001b[39m_jobs)\n\u001b[0;32m--> 819\u001b[0m     job \u001b[38;5;241m=\u001b[39m \u001b[38;5;28;43mself\u001b[39;49m\u001b[38;5;241;43m.\u001b[39;49m\u001b[43m_backend\u001b[49m\u001b[38;5;241;43m.\u001b[39;49m\u001b[43mapply_async\u001b[49m\u001b[43m(\u001b[49m\u001b[43mbatch\u001b[49m\u001b[43m,\u001b[49m\u001b[43m \u001b[49m\u001b[43mcallback\u001b[49m\u001b[38;5;241;43m=\u001b[39;49m\u001b[43mcb\u001b[49m\u001b[43m)\u001b[49m\n\u001b[1;32m    820\u001b[0m     \u001b[38;5;66;03m# A job can complete so quickly than its callback is\u001b[39;00m\n\u001b[1;32m    821\u001b[0m     \u001b[38;5;66;03m# called before we get here, causing self._jobs to\u001b[39;00m\n\u001b[1;32m    822\u001b[0m     \u001b[38;5;66;03m# grow. To ensure correct results ordering, .insert is\u001b[39;00m\n\u001b[1;32m    823\u001b[0m     \u001b[38;5;66;03m# used (rather than .append) in the following line\u001b[39;00m\n\u001b[1;32m    824\u001b[0m     \u001b[38;5;28mself\u001b[39m\u001b[38;5;241m.\u001b[39m_jobs\u001b[38;5;241m.\u001b[39minsert(job_idx, job)\n",
      "File \u001b[0;32m~/SageMaker/.persisted_conda/authentifield/lib/python3.9/site-packages/joblib/_parallel_backends.py:208\u001b[0m, in \u001b[0;36mSequentialBackend.apply_async\u001b[0;34m(self, func, callback)\u001b[0m\n\u001b[1;32m    206\u001b[0m \u001b[38;5;28;01mdef\u001b[39;00m \u001b[38;5;21mapply_async\u001b[39m(\u001b[38;5;28mself\u001b[39m, func, callback\u001b[38;5;241m=\u001b[39m\u001b[38;5;28;01mNone\u001b[39;00m):\n\u001b[1;32m    207\u001b[0m \u001b[38;5;250m    \u001b[39m\u001b[38;5;124;03m\"\"\"Schedule a func to be run\"\"\"\u001b[39;00m\n\u001b[0;32m--> 208\u001b[0m     result \u001b[38;5;241m=\u001b[39m \u001b[43mImmediateResult\u001b[49m\u001b[43m(\u001b[49m\u001b[43mfunc\u001b[49m\u001b[43m)\u001b[49m\n\u001b[1;32m    209\u001b[0m     \u001b[38;5;28;01mif\u001b[39;00m callback:\n\u001b[1;32m    210\u001b[0m         callback(result)\n",
      "File \u001b[0;32m~/SageMaker/.persisted_conda/authentifield/lib/python3.9/site-packages/joblib/_parallel_backends.py:597\u001b[0m, in \u001b[0;36mImmediateResult.__init__\u001b[0;34m(self, batch)\u001b[0m\n\u001b[1;32m    594\u001b[0m \u001b[38;5;28;01mdef\u001b[39;00m \u001b[38;5;21m__init__\u001b[39m(\u001b[38;5;28mself\u001b[39m, batch):\n\u001b[1;32m    595\u001b[0m     \u001b[38;5;66;03m# Don't delay the application, to avoid keeping the input\u001b[39;00m\n\u001b[1;32m    596\u001b[0m     \u001b[38;5;66;03m# arguments in memory\u001b[39;00m\n\u001b[0;32m--> 597\u001b[0m     \u001b[38;5;28mself\u001b[39m\u001b[38;5;241m.\u001b[39mresults \u001b[38;5;241m=\u001b[39m \u001b[43mbatch\u001b[49m\u001b[43m(\u001b[49m\u001b[43m)\u001b[49m\n",
      "File \u001b[0;32m~/SageMaker/.persisted_conda/authentifield/lib/python3.9/site-packages/joblib/parallel.py:288\u001b[0m, in \u001b[0;36mBatchedCalls.__call__\u001b[0;34m(self)\u001b[0m\n\u001b[1;32m    284\u001b[0m \u001b[38;5;28;01mdef\u001b[39;00m \u001b[38;5;21m__call__\u001b[39m(\u001b[38;5;28mself\u001b[39m):\n\u001b[1;32m    285\u001b[0m     \u001b[38;5;66;03m# Set the default nested backend to self._backend but do not set the\u001b[39;00m\n\u001b[1;32m    286\u001b[0m     \u001b[38;5;66;03m# change the default number of processes to -1\u001b[39;00m\n\u001b[1;32m    287\u001b[0m     \u001b[38;5;28;01mwith\u001b[39;00m parallel_backend(\u001b[38;5;28mself\u001b[39m\u001b[38;5;241m.\u001b[39m_backend, n_jobs\u001b[38;5;241m=\u001b[39m\u001b[38;5;28mself\u001b[39m\u001b[38;5;241m.\u001b[39m_n_jobs):\n\u001b[0;32m--> 288\u001b[0m         \u001b[38;5;28;01mreturn\u001b[39;00m [func(\u001b[38;5;241m*\u001b[39margs, \u001b[38;5;241m*\u001b[39m\u001b[38;5;241m*\u001b[39mkwargs)\n\u001b[1;32m    289\u001b[0m                 \u001b[38;5;28;01mfor\u001b[39;00m func, args, kwargs \u001b[38;5;129;01min\u001b[39;00m \u001b[38;5;28mself\u001b[39m\u001b[38;5;241m.\u001b[39mitems]\n",
      "File \u001b[0;32m~/SageMaker/.persisted_conda/authentifield/lib/python3.9/site-packages/joblib/parallel.py:288\u001b[0m, in \u001b[0;36m<listcomp>\u001b[0;34m(.0)\u001b[0m\n\u001b[1;32m    284\u001b[0m \u001b[38;5;28;01mdef\u001b[39;00m \u001b[38;5;21m__call__\u001b[39m(\u001b[38;5;28mself\u001b[39m):\n\u001b[1;32m    285\u001b[0m     \u001b[38;5;66;03m# Set the default nested backend to self._backend but do not set the\u001b[39;00m\n\u001b[1;32m    286\u001b[0m     \u001b[38;5;66;03m# change the default number of processes to -1\u001b[39;00m\n\u001b[1;32m    287\u001b[0m     \u001b[38;5;28;01mwith\u001b[39;00m parallel_backend(\u001b[38;5;28mself\u001b[39m\u001b[38;5;241m.\u001b[39m_backend, n_jobs\u001b[38;5;241m=\u001b[39m\u001b[38;5;28mself\u001b[39m\u001b[38;5;241m.\u001b[39m_n_jobs):\n\u001b[0;32m--> 288\u001b[0m         \u001b[38;5;28;01mreturn\u001b[39;00m [\u001b[43mfunc\u001b[49m\u001b[43m(\u001b[49m\u001b[38;5;241;43m*\u001b[39;49m\u001b[43margs\u001b[49m\u001b[43m,\u001b[49m\u001b[43m \u001b[49m\u001b[38;5;241;43m*\u001b[39;49m\u001b[38;5;241;43m*\u001b[39;49m\u001b[43mkwargs\u001b[49m\u001b[43m)\u001b[49m\n\u001b[1;32m    289\u001b[0m                 \u001b[38;5;28;01mfor\u001b[39;00m func, args, kwargs \u001b[38;5;129;01min\u001b[39;00m \u001b[38;5;28mself\u001b[39m\u001b[38;5;241m.\u001b[39mitems]\n",
      "File \u001b[0;32m~/SageMaker/.persisted_conda/authentifield/lib/python3.9/site-packages/sklearn/utils/fixes.py:216\u001b[0m, in \u001b[0;36m_FuncWrapper.__call__\u001b[0;34m(self, *args, **kwargs)\u001b[0m\n\u001b[1;32m    214\u001b[0m \u001b[38;5;28;01mdef\u001b[39;00m \u001b[38;5;21m__call__\u001b[39m(\u001b[38;5;28mself\u001b[39m, \u001b[38;5;241m*\u001b[39margs, \u001b[38;5;241m*\u001b[39m\u001b[38;5;241m*\u001b[39mkwargs):\n\u001b[1;32m    215\u001b[0m     \u001b[38;5;28;01mwith\u001b[39;00m config_context(\u001b[38;5;241m*\u001b[39m\u001b[38;5;241m*\u001b[39m\u001b[38;5;28mself\u001b[39m\u001b[38;5;241m.\u001b[39mconfig):\n\u001b[0;32m--> 216\u001b[0m         \u001b[38;5;28;01mreturn\u001b[39;00m \u001b[38;5;28;43mself\u001b[39;49m\u001b[38;5;241;43m.\u001b[39;49m\u001b[43mfunction\u001b[49m\u001b[43m(\u001b[49m\u001b[38;5;241;43m*\u001b[39;49m\u001b[43margs\u001b[49m\u001b[43m,\u001b[49m\u001b[43m \u001b[49m\u001b[38;5;241;43m*\u001b[39;49m\u001b[38;5;241;43m*\u001b[39;49m\u001b[43mkwargs\u001b[49m\u001b[43m)\u001b[49m\n",
      "File \u001b[0;32m~/SageMaker/.persisted_conda/authentifield/lib/python3.9/site-packages/sklearn/multiclass.py:605\u001b[0m, in \u001b[0;36m_fit_ovo_binary\u001b[0;34m(estimator, X, y, i, j)\u001b[0m\n\u001b[1;32m    602\u001b[0m y_binary[y \u001b[38;5;241m==\u001b[39m j] \u001b[38;5;241m=\u001b[39m \u001b[38;5;241m1\u001b[39m\n\u001b[1;32m    603\u001b[0m indcond \u001b[38;5;241m=\u001b[39m np\u001b[38;5;241m.\u001b[39marange(_num_samples(X))[cond]\n\u001b[1;32m    604\u001b[0m \u001b[38;5;28;01mreturn\u001b[39;00m (\n\u001b[0;32m--> 605\u001b[0m     \u001b[43m_fit_binary\u001b[49m\u001b[43m(\u001b[49m\n\u001b[1;32m    606\u001b[0m \u001b[43m        \u001b[49m\u001b[43mestimator\u001b[49m\u001b[43m,\u001b[49m\n\u001b[1;32m    607\u001b[0m \u001b[43m        \u001b[49m\u001b[43m_safe_split\u001b[49m\u001b[43m(\u001b[49m\u001b[43mestimator\u001b[49m\u001b[43m,\u001b[49m\u001b[43m \u001b[49m\u001b[43mX\u001b[49m\u001b[43m,\u001b[49m\u001b[43m \u001b[49m\u001b[38;5;28;43;01mNone\u001b[39;49;00m\u001b[43m,\u001b[49m\u001b[43m \u001b[49m\u001b[43mindices\u001b[49m\u001b[38;5;241;43m=\u001b[39;49m\u001b[43mindcond\u001b[49m\u001b[43m)\u001b[49m\u001b[43m[\u001b[49m\u001b[38;5;241;43m0\u001b[39;49m\u001b[43m]\u001b[49m\u001b[43m,\u001b[49m\n\u001b[1;32m    608\u001b[0m \u001b[43m        \u001b[49m\u001b[43my_binary\u001b[49m\u001b[43m,\u001b[49m\n\u001b[1;32m    609\u001b[0m \u001b[43m        \u001b[49m\u001b[43mclasses\u001b[49m\u001b[38;5;241;43m=\u001b[39;49m\u001b[43m[\u001b[49m\u001b[43mi\u001b[49m\u001b[43m,\u001b[49m\u001b[43m \u001b[49m\u001b[43mj\u001b[49m\u001b[43m]\u001b[49m\u001b[43m,\u001b[49m\n\u001b[1;32m    610\u001b[0m \u001b[43m    \u001b[49m\u001b[43m)\u001b[49m,\n\u001b[1;32m    611\u001b[0m     indcond,\n\u001b[1;32m    612\u001b[0m )\n",
      "File \u001b[0;32m~/SageMaker/.persisted_conda/authentifield/lib/python3.9/site-packages/sklearn/multiclass.py:85\u001b[0m, in \u001b[0;36m_fit_binary\u001b[0;34m(estimator, X, y, classes)\u001b[0m\n\u001b[1;32m     83\u001b[0m \u001b[38;5;28;01melse\u001b[39;00m:\n\u001b[1;32m     84\u001b[0m     estimator \u001b[38;5;241m=\u001b[39m clone(estimator)\n\u001b[0;32m---> 85\u001b[0m     \u001b[43mestimator\u001b[49m\u001b[38;5;241;43m.\u001b[39;49m\u001b[43mfit\u001b[49m\u001b[43m(\u001b[49m\u001b[43mX\u001b[49m\u001b[43m,\u001b[49m\u001b[43m \u001b[49m\u001b[43my\u001b[49m\u001b[43m)\u001b[49m\n\u001b[1;32m     86\u001b[0m \u001b[38;5;28;01mreturn\u001b[39;00m estimator\n",
      "File \u001b[0;32m~/SageMaker/.persisted_conda/authentifield/lib/python3.9/site-packages/sklearn/svm/_base.py:255\u001b[0m, in \u001b[0;36mBaseLibSVM.fit\u001b[0;34m(self, X, y, sample_weight)\u001b[0m\n\u001b[1;32m    252\u001b[0m     \u001b[38;5;28mprint\u001b[39m(\u001b[38;5;124m\"\u001b[39m\u001b[38;5;124m[LibSVM]\u001b[39m\u001b[38;5;124m\"\u001b[39m, end\u001b[38;5;241m=\u001b[39m\u001b[38;5;124m\"\u001b[39m\u001b[38;5;124m\"\u001b[39m)\n\u001b[1;32m    254\u001b[0m seed \u001b[38;5;241m=\u001b[39m rnd\u001b[38;5;241m.\u001b[39mrandint(np\u001b[38;5;241m.\u001b[39miinfo(\u001b[38;5;124m\"\u001b[39m\u001b[38;5;124mi\u001b[39m\u001b[38;5;124m\"\u001b[39m)\u001b[38;5;241m.\u001b[39mmax)\n\u001b[0;32m--> 255\u001b[0m \u001b[43mfit\u001b[49m\u001b[43m(\u001b[49m\u001b[43mX\u001b[49m\u001b[43m,\u001b[49m\u001b[43m \u001b[49m\u001b[43my\u001b[49m\u001b[43m,\u001b[49m\u001b[43m \u001b[49m\u001b[43msample_weight\u001b[49m\u001b[43m,\u001b[49m\u001b[43m \u001b[49m\u001b[43msolver_type\u001b[49m\u001b[43m,\u001b[49m\u001b[43m \u001b[49m\u001b[43mkernel\u001b[49m\u001b[43m,\u001b[49m\u001b[43m \u001b[49m\u001b[43mrandom_seed\u001b[49m\u001b[38;5;241;43m=\u001b[39;49m\u001b[43mseed\u001b[49m\u001b[43m)\u001b[49m\n\u001b[1;32m    256\u001b[0m \u001b[38;5;66;03m# see comment on the other call to np.iinfo in this file\u001b[39;00m\n\u001b[1;32m    258\u001b[0m \u001b[38;5;28mself\u001b[39m\u001b[38;5;241m.\u001b[39mshape_fit_ \u001b[38;5;241m=\u001b[39m X\u001b[38;5;241m.\u001b[39mshape \u001b[38;5;28;01mif\u001b[39;00m \u001b[38;5;28mhasattr\u001b[39m(X, \u001b[38;5;124m\"\u001b[39m\u001b[38;5;124mshape\u001b[39m\u001b[38;5;124m\"\u001b[39m) \u001b[38;5;28;01melse\u001b[39;00m (n_samples,)\n",
      "File \u001b[0;32m~/SageMaker/.persisted_conda/authentifield/lib/python3.9/site-packages/sklearn/svm/_base.py:315\u001b[0m, in \u001b[0;36mBaseLibSVM._dense_fit\u001b[0;34m(self, X, y, sample_weight, solver_type, kernel, random_seed)\u001b[0m\n\u001b[1;32m    302\u001b[0m libsvm\u001b[38;5;241m.\u001b[39mset_verbosity_wrap(\u001b[38;5;28mself\u001b[39m\u001b[38;5;241m.\u001b[39mverbose)\n\u001b[1;32m    304\u001b[0m \u001b[38;5;66;03m# we don't pass **self.get_params() to allow subclasses to\u001b[39;00m\n\u001b[1;32m    305\u001b[0m \u001b[38;5;66;03m# add other parameters to __init__\u001b[39;00m\n\u001b[1;32m    306\u001b[0m (\n\u001b[1;32m    307\u001b[0m     \u001b[38;5;28mself\u001b[39m\u001b[38;5;241m.\u001b[39msupport_,\n\u001b[1;32m    308\u001b[0m     \u001b[38;5;28mself\u001b[39m\u001b[38;5;241m.\u001b[39msupport_vectors_,\n\u001b[1;32m    309\u001b[0m     \u001b[38;5;28mself\u001b[39m\u001b[38;5;241m.\u001b[39m_n_support,\n\u001b[1;32m    310\u001b[0m     \u001b[38;5;28mself\u001b[39m\u001b[38;5;241m.\u001b[39mdual_coef_,\n\u001b[1;32m    311\u001b[0m     \u001b[38;5;28mself\u001b[39m\u001b[38;5;241m.\u001b[39mintercept_,\n\u001b[1;32m    312\u001b[0m     \u001b[38;5;28mself\u001b[39m\u001b[38;5;241m.\u001b[39m_probA,\n\u001b[1;32m    313\u001b[0m     \u001b[38;5;28mself\u001b[39m\u001b[38;5;241m.\u001b[39m_probB,\n\u001b[1;32m    314\u001b[0m     \u001b[38;5;28mself\u001b[39m\u001b[38;5;241m.\u001b[39mfit_status_,\n\u001b[0;32m--> 315\u001b[0m ) \u001b[38;5;241m=\u001b[39m \u001b[43mlibsvm\u001b[49m\u001b[38;5;241;43m.\u001b[39;49m\u001b[43mfit\u001b[49m\u001b[43m(\u001b[49m\n\u001b[1;32m    316\u001b[0m \u001b[43m    \u001b[49m\u001b[43mX\u001b[49m\u001b[43m,\u001b[49m\n\u001b[1;32m    317\u001b[0m \u001b[43m    \u001b[49m\u001b[43my\u001b[49m\u001b[43m,\u001b[49m\n\u001b[1;32m    318\u001b[0m \u001b[43m    \u001b[49m\u001b[43msvm_type\u001b[49m\u001b[38;5;241;43m=\u001b[39;49m\u001b[43msolver_type\u001b[49m\u001b[43m,\u001b[49m\n\u001b[1;32m    319\u001b[0m \u001b[43m    \u001b[49m\u001b[43msample_weight\u001b[49m\u001b[38;5;241;43m=\u001b[39;49m\u001b[43msample_weight\u001b[49m\u001b[43m,\u001b[49m\n\u001b[1;32m    320\u001b[0m \u001b[43m    \u001b[49m\u001b[43mclass_weight\u001b[49m\u001b[38;5;241;43m=\u001b[39;49m\u001b[38;5;28;43mself\u001b[39;49m\u001b[38;5;241;43m.\u001b[39;49m\u001b[43mclass_weight_\u001b[49m\u001b[43m,\u001b[49m\n\u001b[1;32m    321\u001b[0m \u001b[43m    \u001b[49m\u001b[43mkernel\u001b[49m\u001b[38;5;241;43m=\u001b[39;49m\u001b[43mkernel\u001b[49m\u001b[43m,\u001b[49m\n\u001b[1;32m    322\u001b[0m \u001b[43m    \u001b[49m\u001b[43mC\u001b[49m\u001b[38;5;241;43m=\u001b[39;49m\u001b[38;5;28;43mself\u001b[39;49m\u001b[38;5;241;43m.\u001b[39;49m\u001b[43mC\u001b[49m\u001b[43m,\u001b[49m\n\u001b[1;32m    323\u001b[0m \u001b[43m    \u001b[49m\u001b[43mnu\u001b[49m\u001b[38;5;241;43m=\u001b[39;49m\u001b[38;5;28;43mself\u001b[39;49m\u001b[38;5;241;43m.\u001b[39;49m\u001b[43mnu\u001b[49m\u001b[43m,\u001b[49m\n\u001b[1;32m    324\u001b[0m \u001b[43m    \u001b[49m\u001b[43mprobability\u001b[49m\u001b[38;5;241;43m=\u001b[39;49m\u001b[38;5;28;43mself\u001b[39;49m\u001b[38;5;241;43m.\u001b[39;49m\u001b[43mprobability\u001b[49m\u001b[43m,\u001b[49m\n\u001b[1;32m    325\u001b[0m \u001b[43m    \u001b[49m\u001b[43mdegree\u001b[49m\u001b[38;5;241;43m=\u001b[39;49m\u001b[38;5;28;43mself\u001b[39;49m\u001b[38;5;241;43m.\u001b[39;49m\u001b[43mdegree\u001b[49m\u001b[43m,\u001b[49m\n\u001b[1;32m    326\u001b[0m \u001b[43m    \u001b[49m\u001b[43mshrinking\u001b[49m\u001b[38;5;241;43m=\u001b[39;49m\u001b[38;5;28;43mself\u001b[39;49m\u001b[38;5;241;43m.\u001b[39;49m\u001b[43mshrinking\u001b[49m\u001b[43m,\u001b[49m\n\u001b[1;32m    327\u001b[0m \u001b[43m    \u001b[49m\u001b[43mtol\u001b[49m\u001b[38;5;241;43m=\u001b[39;49m\u001b[38;5;28;43mself\u001b[39;49m\u001b[38;5;241;43m.\u001b[39;49m\u001b[43mtol\u001b[49m\u001b[43m,\u001b[49m\n\u001b[1;32m    328\u001b[0m \u001b[43m    \u001b[49m\u001b[43mcache_size\u001b[49m\u001b[38;5;241;43m=\u001b[39;49m\u001b[38;5;28;43mself\u001b[39;49m\u001b[38;5;241;43m.\u001b[39;49m\u001b[43mcache_size\u001b[49m\u001b[43m,\u001b[49m\n\u001b[1;32m    329\u001b[0m \u001b[43m    \u001b[49m\u001b[43mcoef0\u001b[49m\u001b[38;5;241;43m=\u001b[39;49m\u001b[38;5;28;43mself\u001b[39;49m\u001b[38;5;241;43m.\u001b[39;49m\u001b[43mcoef0\u001b[49m\u001b[43m,\u001b[49m\n\u001b[1;32m    330\u001b[0m \u001b[43m    \u001b[49m\u001b[43mgamma\u001b[49m\u001b[38;5;241;43m=\u001b[39;49m\u001b[38;5;28;43mself\u001b[39;49m\u001b[38;5;241;43m.\u001b[39;49m\u001b[43m_gamma\u001b[49m\u001b[43m,\u001b[49m\n\u001b[1;32m    331\u001b[0m \u001b[43m    \u001b[49m\u001b[43mepsilon\u001b[49m\u001b[38;5;241;43m=\u001b[39;49m\u001b[38;5;28;43mself\u001b[39;49m\u001b[38;5;241;43m.\u001b[39;49m\u001b[43mepsilon\u001b[49m\u001b[43m,\u001b[49m\n\u001b[1;32m    332\u001b[0m \u001b[43m    \u001b[49m\u001b[43mmax_iter\u001b[49m\u001b[38;5;241;43m=\u001b[39;49m\u001b[38;5;28;43mself\u001b[39;49m\u001b[38;5;241;43m.\u001b[39;49m\u001b[43mmax_iter\u001b[49m\u001b[43m,\u001b[49m\n\u001b[1;32m    333\u001b[0m \u001b[43m    \u001b[49m\u001b[43mrandom_seed\u001b[49m\u001b[38;5;241;43m=\u001b[39;49m\u001b[43mrandom_seed\u001b[49m\u001b[43m,\u001b[49m\n\u001b[1;32m    334\u001b[0m \u001b[43m\u001b[49m\u001b[43m)\u001b[49m\n\u001b[1;32m    336\u001b[0m \u001b[38;5;28mself\u001b[39m\u001b[38;5;241m.\u001b[39m_warn_from_fit_status()\n",
      "\u001b[0;31mKeyboardInterrupt\u001b[0m: "
     ]
    }
   ],
   "source": [
    "#fit model to training data\n",
    "ovo.fit(X_train, y_train)"
   ]
  },
  {
   "cell_type": "code",
   "execution_count": null,
   "id": "518adae9-2077-47ba-b5b3-662cd22ebaee",
   "metadata": {
    "tags": []
   },
   "outputs": [],
   "source": [
    "ovo_pred = ovo.predict(X_test)"
   ]
  },
  {
   "cell_type": "code",
   "execution_count": null,
   "id": "b8ce5884-cc0f-444b-bd5d-eafb7f390a77",
   "metadata": {
    "tags": []
   },
   "outputs": [],
   "source": [
    "get_multiclass_report(\"SVM\", \"Chisquare\",ovo_pred, y_test)"
   ]
  },
  {
   "cell_type": "markdown",
   "id": "f4e8208a-b85a-48a4-bdcf-ca897675000c",
   "metadata": {},
   "source": [
    "### Separate Models for 3- DS, 5-Other, 10-Student"
   ]
  },
  {
   "cell_type": "code",
   "execution_count": 39,
   "id": "5b76433c-3714-407e-afcd-322437a5b947",
   "metadata": {
    "tags": []
   },
   "outputs": [
    {
     "data": {
      "text/plain": [
       "2859"
      ]
     },
     "execution_count": 39,
     "metadata": {},
     "output_type": "execute_result"
    }
   ],
   "source": [
    "ds_list = [elem for elem in range(len(y_test)) if y_test[elem] == 3]\n",
    "len(ds_list)"
   ]
  },
  {
   "cell_type": "code",
   "execution_count": 42,
   "id": "c43a4008-4d6f-4c9b-9a23-1fd9671ddf3d",
   "metadata": {
    "tags": []
   },
   "outputs": [
    {
     "data": {
      "text/plain": [
       "21170"
      ]
     },
     "execution_count": 42,
     "metadata": {},
     "output_type": "execute_result"
    }
   ],
   "source": [
    "ds_list = [elem for elem in range(len(y_train)) if y_train[elem] == 3]\n",
    "len(ds_list)"
   ]
  },
  {
   "cell_type": "code",
   "execution_count": 48,
   "id": "b751a259-a725-4201-b015-f5821b80c4c5",
   "metadata": {
    "tags": []
   },
   "outputs": [
    {
     "data": {
      "text/plain": [
       "357.375"
      ]
     },
     "execution_count": 48,
     "metadata": {},
     "output_type": "execute_result"
    }
   ],
   "source": [
    "2859/8"
   ]
  },
  {
   "cell_type": "code",
   "execution_count": 43,
   "id": "414bc25f-df4a-4fb2-9330-ebce46bac051",
   "metadata": {
    "tags": []
   },
   "outputs": [
    {
     "data": {
      "text/plain": [
       "4198"
      ]
     },
     "execution_count": 43,
     "metadata": {},
     "output_type": "execute_result"
    }
   ],
   "source": [
    "ds_list = [elem for elem in range(len(y_val)) if y_val[elem] == 3]\n",
    "len(ds_list)"
   ]
  },
  {
   "cell_type": "code",
   "execution_count": 16,
   "id": "e7fae9fd-f1d0-43f8-a2a0-33db046ce764",
   "metadata": {
    "tags": []
   },
   "outputs": [],
   "source": [
    "def get_exclusive_indices(exclude_id:int, input_arr: np.array, length:int) -> t.List:\n",
    "    other_class = []\n",
    "    for i in range(9):\n",
    "        if i == exclude_id:\n",
    "            pass\n",
    "        else:\n",
    "            indices = [elem for elem in range(len(input_arr)) if input_arr[elem] == i][0:length]\n",
    "            [other_class.append(i) for i in indices]\n",
    "    return list(set(other_class))\n",
    "\n",
    "def get_inclusive_indices(include_id:int, input_arr: np.array) -> t.List:\n",
    "    inc_list = [elem for elem in range(len(input_arr)) if input_arr[elem] == include_id]\n",
    "    return inc_list"
   ]
  },
  {
   "cell_type": "code",
   "execution_count": 49,
   "id": "c83238d3-db4e-4bf5-af5f-67cac4b04016",
   "metadata": {
    "tags": []
   },
   "outputs": [],
   "source": [
    "train_inc = get_inclusive_indices(3,y_train)\n",
    "valid_inc = get_inclusive_indices(3,y_val)\n",
    "test_inc = get_inclusive_indices(3, y_test)\n",
    "train_exc = get_exclusive_indices(3,y_train,2646)\n",
    "valid_exc = get_exclusive_indices(3, y_val, 524)\n",
    "test_exc = get_exclusive_indices(3, y_test,357)"
   ]
  },
  {
   "cell_type": "code",
   "execution_count": 50,
   "id": "9f1a9357-55d4-4df3-94ed-e677f5ab4bb1",
   "metadata": {
    "tags": []
   },
   "outputs": [
    {
     "data": {
      "text/plain": [
       "2856"
      ]
     },
     "execution_count": 50,
     "metadata": {},
     "output_type": "execute_result"
    }
   ],
   "source": [
    "len(test_exc)"
   ]
  },
  {
   "cell_type": "code",
   "execution_count": 52,
   "id": "79896044-bfef-4bb1-908f-b7be998ac0e4",
   "metadata": {
    "tags": []
   },
   "outputs": [],
   "source": [
    "X_train_ds = x_train[train_inc]\n",
    "X_train_non_ds = x_train[train_exc] \n",
    "X_test_ds = x_test[test_inc]\n",
    "X_test_non_ds = x_test[test_exc]"
   ]
  },
  {
   "cell_type": "code",
   "execution_count": 53,
   "id": "2dd4ef83-f8e1-4a10-b4e1-014802afdf4d",
   "metadata": {
    "tags": []
   },
   "outputs": [],
   "source": [
    "arr_ds_train = np.repeat(1, len(X_train_ds))\n",
    "arr_non_ds_train = np.repeat(0, len(X_train_non_ds))\n",
    "arr_ds_test = np.repeat(1, len(X_test_ds))\n",
    "arr_non_ds_test = np.repeat(0, len(X_test_non_ds))\n"
   ]
  },
  {
   "cell_type": "code",
   "execution_count": 56,
   "id": "3b0e0714-bff4-4973-8933-8700bf8e77f6",
   "metadata": {
    "tags": []
   },
   "outputs": [],
   "source": [
    "X_train_ds_final = np.concatenate((X_train_ds,X_train_non_ds),axis=0)\n",
    "y_train_ds_final = np.concatenate((arr_ds_train, arr_non_ds_train), axis=0)\n",
    "X_test_ds_final = np.concatenate((X_test_ds,X_test_non_ds),axis=0)\n",
    "y_test_ds_final = np.concatenate((arr_ds_test, arr_non_ds_test), axis=0)\n"
   ]
  },
  {
   "cell_type": "code",
   "execution_count": 60,
   "id": "64bd2924-6d38-4a58-8ffd-23711a1a6cbc",
   "metadata": {
    "tags": []
   },
   "outputs": [
    {
     "name": "stdout",
     "output_type": "stream",
     "text": [
      "0.7765529308836395\n",
      "0.8433018537950332\n",
      "0.7441358024691358\n",
      "0.7906214133464502\n"
     ]
    }
   ],
   "source": [
    "# rf_class = RandomForestClassifier(**params, random_state=42)\n",
    "# rf_class.fit(X_train_ds_final, y_train_ds_final)\n",
    "# y_preds = rf_class.predict(X_test_ds_final)\n",
    "print(accuracy_score(y_preds, y_test_ds_final))\n",
    "print(precision_score(y_preds, y_test_ds_final))\n",
    "print(recall_score(y_preds, y_test_ds_final))\n",
    "print(f1_score(y_preds, y_test_ds_final))"
   ]
  },
  {
   "cell_type": "code",
   "execution_count": 61,
   "id": "0e0b6b7b-8be0-400d-8024-74a333dc1185",
   "metadata": {
    "tags": []
   },
   "outputs": [
    {
     "name": "stdout",
     "output_type": "stream",
     "text": [
      "Metrics for  Random Classification - Data Scientist & Chisquare are \n",
      "               precision    recall  f1-score   support\n",
      "\n",
      "           0       0.82      0.71      0.76      2856\n",
      "           1       0.74      0.84      0.79      2859\n",
      "\n",
      "    accuracy                           0.78      5715\n",
      "   macro avg       0.78      0.78      0.78      5715\n",
      "weighted avg       0.78      0.78      0.78      5715\n",
      "\n"
     ]
    }
   ],
   "source": [
    "get_multiclass_report(\" Random Classification - Data Scientist\", \"Chisquare\",y_preds, y_test_ds_final)"
   ]
  },
  {
   "cell_type": "markdown",
   "id": "33eed825-5381-4126-9176-d61b61b03c27",
   "metadata": {},
   "source": [
    "### Business Analyst model\n"
   ]
  },
  {
   "cell_type": "code",
   "execution_count": 10,
   "id": "b46de7f1-fe4e-4b9d-8ed2-20b66a4d399b",
   "metadata": {
    "tags": []
   },
   "outputs": [
    {
     "data": {
      "text/plain": [
       "2824"
      ]
     },
     "execution_count": 10,
     "metadata": {},
     "output_type": "execute_result"
    }
   ],
   "source": [
    "ds_list = [elem for elem in range(len(y_test)) if y_test[elem] == 0]\n",
    "len(ds_list)\n"
   ]
  },
  {
   "cell_type": "code",
   "execution_count": 11,
   "id": "3a558223-f4db-4af2-954c-293ae045308e",
   "metadata": {
    "tags": []
   },
   "outputs": [
    {
     "data": {
      "text/plain": [
       "21093"
      ]
     },
     "execution_count": 11,
     "metadata": {},
     "output_type": "execute_result"
    }
   ],
   "source": [
    "ds_list = [elem for elem in range(len(y_train)) if y_train[elem] == 0]\n",
    "len(ds_list)"
   ]
  },
  {
   "cell_type": "code",
   "execution_count": 12,
   "id": "d89b309e-e8c4-4cbf-8731-e7ddc77dfe62",
   "metadata": {
    "tags": []
   },
   "outputs": [
    {
     "data": {
      "text/plain": [
       "4206"
      ]
     },
     "execution_count": 12,
     "metadata": {},
     "output_type": "execute_result"
    }
   ],
   "source": [
    "ds_list = [elem for elem in range(len(y_val)) if y_val[elem] == 0]\n",
    "len(ds_list)"
   ]
  },
  {
   "cell_type": "code",
   "execution_count": 14,
   "id": "5cf8b9ad-5eb5-4b93-b56f-75194fa8084c",
   "metadata": {
    "tags": []
   },
   "outputs": [
    {
     "data": {
      "text/plain": [
       "353.0"
      ]
     },
     "execution_count": 14,
     "metadata": {},
     "output_type": "execute_result"
    }
   ],
   "source": [
    "2824/8"
   ]
  },
  {
   "cell_type": "code",
   "execution_count": 17,
   "id": "7f11fd4c-8c3b-4646-ab94-b3149ed1a793",
   "metadata": {
    "tags": []
   },
   "outputs": [],
   "source": [
    "train_inc = get_inclusive_indices(0,y_train)\n",
    "valid_inc = get_inclusive_indices(0,y_val)\n",
    "test_inc = get_inclusive_indices(0, y_test)\n",
    "train_exc = get_exclusive_indices(0,y_train,2636)\n",
    "valid_exc = get_exclusive_indices(0, y_val, 526)\n",
    "test_exc = get_exclusive_indices(0, y_test,353)"
   ]
  },
  {
   "cell_type": "code",
   "execution_count": 18,
   "id": "668f5bb8-0017-491e-8e6e-3a9e46068c19",
   "metadata": {
    "tags": []
   },
   "outputs": [],
   "source": [
    "X_train_ds = x_train[train_inc]\n",
    "X_train_non_ds = x_train[train_exc] \n",
    "X_test_ds = x_test[test_inc]\n",
    "X_test_non_ds = x_test[test_exc]"
   ]
  },
  {
   "cell_type": "code",
   "execution_count": 19,
   "id": "d373b2d0-4ad7-42e9-870c-03fc4ba7350a",
   "metadata": {
    "tags": []
   },
   "outputs": [],
   "source": [
    "arr_ba_train = np.repeat(1, len(X_train_ds))\n",
    "arr_non_ba_train = np.repeat(0, len(X_train_non_ds))\n",
    "arr_ba_test = np.repeat(1, len(X_test_ds))\n",
    "arr_non_ba_test = np.repeat(0, len(X_test_non_ds))\n"
   ]
  },
  {
   "cell_type": "code",
   "execution_count": 20,
   "id": "623b4424-63a8-49c0-a4fa-f1d0ce8bb8b5",
   "metadata": {
    "tags": []
   },
   "outputs": [],
   "source": [
    "X_train_ds_final = np.concatenate((X_train_ds,X_train_non_ds),axis=0)\n",
    "y_train_ds_final = np.concatenate((arr_ba_train, arr_non_ba_train), axis=0)\n",
    "X_test_ds_final = np.concatenate((X_test_ds,X_test_non_ds),axis=0)\n",
    "y_test_ds_final = np.concatenate((arr_ba_test, arr_non_ba_test), axis=0)\n"
   ]
  },
  {
   "cell_type": "code",
   "execution_count": 21,
   "id": "4e482514-7fb0-41ad-8344-7a89f38daeb1",
   "metadata": {
    "tags": []
   },
   "outputs": [
    {
     "name": "stdout",
     "output_type": "stream",
     "text": [
      "0.844003777148253\n",
      "0.9171388101983002\n",
      "0.813953488372093\n",
      "0.8624708624708625\n"
     ]
    }
   ],
   "source": [
    "rf_class = RandomForestClassifier(**params, random_state=42)\n",
    "rf_class.fit(X_train_ds_final, y_train_ds_final)\n",
    "y_preds = rf_class.predict(X_test_ds_final)\n",
    "print(accuracy_score(y_preds, y_test_ds_final))\n",
    "print(precision_score(y_preds, y_test_ds_final))\n",
    "print(recall_score(y_preds, y_test_ds_final))\n",
    "print(f1_score(y_preds, y_test_ds_final))"
   ]
  },
  {
   "cell_type": "code",
   "execution_count": null,
   "id": "4687ecd6-8933-46cb-9128-fdac65b33c01",
   "metadata": {},
   "outputs": [],
   "source": []
  },
  {
   "cell_type": "code",
   "execution_count": null,
   "id": "a242c874-244d-463e-9838-9600870a6c35",
   "metadata": {},
   "outputs": [],
   "source": []
  }
 ],
 "metadata": {
  "kernelspec": {
   "display_name": "conda_authentifield",
   "language": "python",
   "name": "conda_authentifield"
  },
  "language_info": {
   "codemirror_mode": {
    "name": "ipython",
    "version": 3
   },
   "file_extension": ".py",
   "mimetype": "text/x-python",
   "name": "python",
   "nbconvert_exporter": "python",
   "pygments_lexer": "ipython3",
   "version": "3.9.16"
  }
 },
 "nbformat": 4,
 "nbformat_minor": 5
}
