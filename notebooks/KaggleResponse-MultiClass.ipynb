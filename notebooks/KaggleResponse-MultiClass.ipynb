{
 "cells": [
  {
   "cell_type": "code",
   "execution_count": 1,
   "id": "30dc4984-6d69-481b-96be-0d6c3c2f8de4",
   "metadata": {
    "tags": []
   },
   "outputs": [],
   "source": [
    "%%capture\n",
    "%cd ../../"
   ]
  },
  {
   "cell_type": "code",
   "execution_count": 2,
   "id": "b1ff6152-9b50-4bda-bbfa-582b6580a226",
   "metadata": {
    "tags": []
   },
   "outputs": [],
   "source": [
    "import sys\n",
    "\n",
    "sys.path.extend([\"recommender\"])"
   ]
  },
  {
   "cell_type": "code",
   "execution_count": 3,
   "id": "eecb6c4a-1b2a-4076-a5e7-e30057d8b8cf",
   "metadata": {
    "tags": []
   },
   "outputs": [],
   "source": [
    "import pandas as pd\n",
    "import numpy as np\n",
    "import warnings\n",
    "import pickle\n",
    "from scipy import stats\n",
    "\n",
    "warnings.simplefilter(\"ignore\")\n",
    "\n",
    "import os\n",
    "import numpy as np\n",
    "from pathlib import Path\n",
    "from sklearn.preprocessing import LabelEncoder\n",
    "from sklearn.ensemble import RandomForestClassifier\n",
    "from sklearn.pipeline import Pipeline\n",
    "from sklearn.model_selection import train_test_split\n",
    "from sklearn.linear_model import LogisticRegression\n",
    "import xgboost as xgb\n",
    "from sklearn.base import clone\n",
    "from sklearn.ensemble import RandomForestClassifier\n",
    "\n",
    "##utils import\n",
    "from utils.encodes import gen_encode_cols\n",
    "from utils.io import gen_dict, drop_cols, merge_dfs, drop_cols_list\n",
    "from utils.metrics_report import get_multiclass_report\n",
    "\n",
    "##src\n",
    "from src.feature_engineering import group_feats, count_selected_options\n",
    "from src.majorityvote import build_majorityvote\n",
    "from src.feature_selection import get_feat_importance\n",
    "\n",
    "\n",
    "from omegaconf import DictConfig, OmegaConf\n",
    "\n",
    "##imbalance\n",
    "from imblearn.combine import SMOTETomek\n",
    "from imblearn.under_sampling import TomekLinks\n",
    "\n",
    "##hyperparams tuning\n",
    "import optuna"
   ]
  },
  {
   "cell_type": "code",
   "execution_count": 4,
   "id": "73db1dd6-d9cf-44d4-80e1-2d09baf1d7d8",
   "metadata": {
    "tags": []
   },
   "outputs": [],
   "source": [
    "current_dir = Path.cwd()\n",
    "raw_data_dir = current_dir.joinpath(\"recommender/data/raw\")\n",
    "processed_data_dir = current_dir.joinpath(\"recommender/data/processed\")\n",
    "config_dir = current_dir.joinpath(\"recommender/configs\")\n",
    "artifacts_dir = current_dir.joinpath(\"recommender/models/artifacts\")\n",
    "features_dir = current_dir.joinpath(\"recommender/models/features\")\n",
    "filename = \"kaggle_survey_2017_2021.csv\""
   ]
  },
  {
   "cell_type": "code",
   "execution_count": 5,
   "id": "91f564c4-97b4-40d5-8925-7b91b8a5770d",
   "metadata": {
    "tags": []
   },
   "outputs": [
    {
     "name": "stdout",
     "output_type": "stream",
     "text": [
      "(105856, 248)\n"
     ]
    }
   ],
   "source": [
    "data = pd.read_csv(raw_data_dir.joinpath(filename), skiprows=1)\n",
    "data = data.iloc[:, 2:250]\n",
    "data = data[~data[\"What is your age (# years)?\"].isna()]\n",
    "data = data.fillna(0)\n",
    "data.shape\n",
    "print(data.shape)"
   ]
  },
  {
   "cell_type": "code",
   "execution_count": 6,
   "id": "35c1171a-59bd-4b77-936e-7c2c81cb1625",
   "metadata": {
    "tags": []
   },
   "outputs": [],
   "source": [
    "## config calls\n",
    "map_config = OmegaConf.load(config_dir.joinpath(\"col-mapping.yaml\"))\n",
    "colvals_config = OmegaConf.load(config_dir.joinpath(\"col-values.yaml\"))"
   ]
  },
  {
   "cell_type": "code",
   "execution_count": 7,
   "id": "c3ea1e98-81c2-431d-9a74-35372e6c6a40",
   "metadata": {
    "tags": []
   },
   "outputs": [
    {
     "data": {
      "text/plain": [
       "(105856, 248)"
      ]
     },
     "execution_count": 7,
     "metadata": {},
     "output_type": "execute_result"
    }
   ],
   "source": [
    "encode_df = gen_encode_cols(data)\n",
    "encode_df.shape"
   ]
  },
  {
   "cell_type": "markdown",
   "id": "491dcf81-08f9-4c8e-9fb3-e3c0d2770e90",
   "metadata": {},
   "source": [
    "### Mapping the columns of raw data(before encoding) i.e Age, Higher Education, Coding experience with proper scale\n"
   ]
  },
  {
   "cell_type": "code",
   "execution_count": 8,
   "id": "b8fd2db7-33c0-4879-a0cd-6ada708cd246",
   "metadata": {
    "collapsed": true,
    "jupyter": {
     "outputs_hidden": true
    },
    "tags": []
   },
   "outputs": [
    {
     "data": {
      "text/plain": [
       "{0: 'What is your age (# years)?',\n",
       " 1: 'What is your gender? - Selected Choice',\n",
       " 2: 'In which country do you currently reside?',\n",
       " 3: 'What is the highest level of formal education that you have attained or plan to attain within the next 2 years?',\n",
       " 4: 'Select the title most similar to your current role (or most recent title if retired): - Selected Choice',\n",
       " 5: 'For how many years have you been writing code and/or programming?',\n",
       " 6: 'What programming languages do you use on a regular basis? (Select all that apply) - Selected Choice - Python',\n",
       " 7: 'What programming languages do you use on a regular basis? (Select all that apply) - Selected Choice - R',\n",
       " 8: 'What programming languages do you use on a regular basis? (Select all that apply) - Selected Choice - SQL',\n",
       " 9: 'What programming languages do you use on a regular basis? (Select all that apply) - Selected Choice - C',\n",
       " 10: 'What programming languages do you use on a regular basis? (Select all that apply) - Selected Choice - C++',\n",
       " 11: 'What programming languages do you use on a regular basis? (Select all that apply) - Selected Choice - Java',\n",
       " 12: 'What programming languages do you use on a regular basis? (Select all that apply) - Selected Choice - Javascript',\n",
       " 13: 'What programming languages do you use on a regular basis? (Select all that apply) - Selected Choice - Julia',\n",
       " 14: 'What programming languages do you use on a regular basis? (Select all that apply) - Selected Choice - Swift',\n",
       " 15: 'What programming languages do you use on a regular basis? (Select all that apply) - Selected Choice - Bash',\n",
       " 16: 'What programming languages do you use on a regular basis? (Select all that apply) - Selected Choice - MATLAB',\n",
       " 17: 'What programming languages do you use on a regular basis? (Select all that apply) - Selected Choice - None',\n",
       " 18: 'What programming languages do you use on a regular basis? (Select all that apply) - Selected Choice - Other',\n",
       " 19: 'What programming language would you recommend an aspiring data scientist to learn first? - Selected Choice',\n",
       " 20: \"Which of the following integrated development environments (IDE's) do you use on a regular basis?  (Select all that apply) - Selected Choice - Jupyter (JupyterLab, Jupyter Notebooks, etc) \",\n",
       " 21: \"Which of the following integrated development environments (IDE's) do you use on a regular basis?  (Select all that apply) - Selected Choice -  RStudio \",\n",
       " 22: \"Which of the following integrated development environments (IDE's) do you use on a regular basis?  (Select all that apply) - Selected Choice -  Visual Studio / Visual Studio Code \",\n",
       " 23: \"Which of the following integrated development environments (IDE's) do you use on a regular basis?  (Select all that apply) - Selected Choice -  PyCharm \",\n",
       " 24: \"Which of the following integrated development environments (IDE's) do you use on a regular basis?  (Select all that apply) - Selected Choice -   Spyder  \",\n",
       " 25: \"Which of the following integrated development environments (IDE's) do you use on a regular basis?  (Select all that apply) - Selected Choice -   Notepad++  \",\n",
       " 26: \"Which of the following integrated development environments (IDE's) do you use on a regular basis?  (Select all that apply) - Selected Choice -   Sublime Text  \",\n",
       " 27: \"Which of the following integrated development environments (IDE's) do you use on a regular basis?  (Select all that apply) - Selected Choice -   Vim / Emacs  \",\n",
       " 28: \"Which of the following integrated development environments (IDE's) do you use on a regular basis?  (Select all that apply) - Selected Choice -  MATLAB \",\n",
       " 29: \"Which of the following integrated development environments (IDE's) do you use on a regular basis?  (Select all that apply) - Selected Choice - None\",\n",
       " 30: \"Which of the following integrated development environments (IDE's) do you use on a regular basis?  (Select all that apply) - Selected Choice - Other\",\n",
       " 31: 'Which of the following hosted notebook products do you use on a regular basis?  (Select all that apply) - Selected Choice -  Kaggle Notebooks',\n",
       " 32: 'Which of the following hosted notebook products do you use on a regular basis?  (Select all that apply) - Selected Choice - Colab Notebooks',\n",
       " 33: 'Which of the following hosted notebook products do you use on a regular basis?  (Select all that apply) - Selected Choice - Azure Notebooks',\n",
       " 34: 'Which of the following hosted notebook products do you use on a regular basis?  (Select all that apply) - Selected Choice -  Paperspace / Gradient ',\n",
       " 35: 'Which of the following hosted notebook products do you use on a regular basis?  (Select all that apply) - Selected Choice -  Binder / JupyterHub ',\n",
       " 36: 'Which of the following hosted notebook products do you use on a regular basis?  (Select all that apply) - Selected Choice -  Code Ocean ',\n",
       " 37: 'Which of the following hosted notebook products do you use on a regular basis?  (Select all that apply) - Selected Choice -  IBM Watson Studio ',\n",
       " 38: 'Which of the following hosted notebook products do you use on a regular basis?  (Select all that apply) - Selected Choice -  Amazon Sagemaker Studio Notebooks ',\n",
       " 39: 'Which of the following hosted notebook products do you use on a regular basis?  (Select all that apply) - Selected Choice -  Amazon EMR Notebooks ',\n",
       " 40: 'Which of the following hosted notebook products do you use on a regular basis?  (Select all that apply) - Selected Choice - Google Cloud Notebooks (AI Platform / Vertex AI) ',\n",
       " 41: 'Which of the following hosted notebook products do you use on a regular basis?  (Select all that apply) - Selected Choice - Google Cloud Datalab',\n",
       " 42: 'Which of the following hosted notebook products do you use on a regular basis?  (Select all that apply) - Selected Choice -  Databricks Collaborative Notebooks ',\n",
       " 43: 'Which of the following hosted notebook products do you use on a regular basis?  (Select all that apply) - Selected Choice - None',\n",
       " 44: 'Which of the following hosted notebook products do you use on a regular basis?  (Select all that apply) - Selected Choice - Other',\n",
       " 45: 'What type of computing platform do you use most often for your data science projects? - Selected Choice',\n",
       " 46: 'Which types of specialized hardware do you use on a regular basis?  (Select all that apply) - Selected Choice - CPUs',\n",
       " 47: 'Which types of specialized hardware do you use on a regular basis?  (Select all that apply) - Selected Choice -  NVIDIA GPUs ',\n",
       " 48: 'Which types of specialized hardware do you use on a regular basis?  (Select all that apply) - Selected Choice -  Google Cloud TPUs ',\n",
       " 49: 'Which types of specialized hardware do you use on a regular basis?  (Select all that apply) - Selected Choice - None',\n",
       " 50: 'Which types of specialized hardware do you use on a regular basis?  (Select all that apply) - Selected Choice - Other',\n",
       " 51: 'Approximately how many times have you used a TPU (tensor processing unit)?',\n",
       " 52: 'What data visualization libraries or tools do you use on a regular basis?  (Select all that apply) - Selected Choice -  Matplotlib ',\n",
       " 53: 'What data visualization libraries or tools do you use on a regular basis?  (Select all that apply) - Selected Choice -  Seaborn ',\n",
       " 54: 'What data visualization libraries or tools do you use on a regular basis?  (Select all that apply) - Selected Choice -  Plotly / Plotly Express ',\n",
       " 55: 'What data visualization libraries or tools do you use on a regular basis?  (Select all that apply) - Selected Choice -  Ggplot / ggplot2 ',\n",
       " 56: 'What data visualization libraries or tools do you use on a regular basis?  (Select all that apply) - Selected Choice -  Shiny ',\n",
       " 57: 'What data visualization libraries or tools do you use on a regular basis?  (Select all that apply) - Selected Choice -  D3 js ',\n",
       " 58: 'What data visualization libraries or tools do you use on a regular basis?  (Select all that apply) - Selected Choice -  Altair ',\n",
       " 59: 'What data visualization libraries or tools do you use on a regular basis?  (Select all that apply) - Selected Choice -  Bokeh ',\n",
       " 60: 'What data visualization libraries or tools do you use on a regular basis?  (Select all that apply) - Selected Choice -  Geoplotlib ',\n",
       " 61: 'What data visualization libraries or tools do you use on a regular basis?  (Select all that apply) - Selected Choice -  Leaflet / Folium ',\n",
       " 62: 'What data visualization libraries or tools do you use on a regular basis?  (Select all that apply) - Selected Choice - None',\n",
       " 63: 'What data visualization libraries or tools do you use on a regular basis?  (Select all that apply) - Selected Choice - Other',\n",
       " 64: 'For how many years have you used machine learning methods?',\n",
       " 65: 'Which of the following machine learning frameworks do you use on a regular basis? (Select all that apply) - Selected Choice -   Scikit-learn ',\n",
       " 66: 'Which of the following machine learning frameworks do you use on a regular basis? (Select all that apply) - Selected Choice -   TensorFlow ',\n",
       " 67: 'Which of the following machine learning frameworks do you use on a regular basis? (Select all that apply) - Selected Choice -  Keras ',\n",
       " 68: 'Which of the following machine learning frameworks do you use on a regular basis? (Select all that apply) - Selected Choice -  PyTorch ',\n",
       " 69: 'Which of the following machine learning frameworks do you use on a regular basis? (Select all that apply) - Selected Choice -  Fast.ai ',\n",
       " 70: 'Which of the following machine learning frameworks do you use on a regular basis? (Select all that apply) - Selected Choice -  MXNet ',\n",
       " 71: 'Which of the following machine learning frameworks do you use on a regular basis? (Select all that apply) - Selected Choice -  Xgboost ',\n",
       " 72: 'Which of the following machine learning frameworks do you use on a regular basis? (Select all that apply) - Selected Choice -  LightGBM ',\n",
       " 73: 'Which of the following machine learning frameworks do you use on a regular basis? (Select all that apply) - Selected Choice -  CatBoost ',\n",
       " 74: 'Which of the following machine learning frameworks do you use on a regular basis? (Select all that apply) - Selected Choice -  Prophet ',\n",
       " 75: 'Which of the following machine learning frameworks do you use on a regular basis? (Select all that apply) - Selected Choice -  H2O 3 ',\n",
       " 76: 'Which of the following machine learning frameworks do you use on a regular basis? (Select all that apply) - Selected Choice -  Caret ',\n",
       " 77: 'Which of the following machine learning frameworks do you use on a regular basis? (Select all that apply) - Selected Choice -  Tidymodels ',\n",
       " 78: 'Which of the following machine learning frameworks do you use on a regular basis? (Select all that apply) - Selected Choice -  JAX ',\n",
       " 79: 'Which of the following machine learning frameworks do you use on a regular basis? (Select all that apply) - Selected Choice - None',\n",
       " 80: 'Which of the following machine learning frameworks do you use on a regular basis? (Select all that apply) - Selected Choice - Other',\n",
       " 81: 'Which of the following ML algorithms do you use on a regular basis? (Select all that apply): - Selected Choice - Linear or Logistic Regression',\n",
       " 82: 'Which of the following ML algorithms do you use on a regular basis? (Select all that apply): - Selected Choice - Decision Trees or Random Forests',\n",
       " 83: 'Which of the following ML algorithms do you use on a regular basis? (Select all that apply): - Selected Choice - Gradient Boosting Machines (xgboost, lightgbm, etc)',\n",
       " 84: 'Which of the following ML algorithms do you use on a regular basis? (Select all that apply): - Selected Choice - Bayesian Approaches',\n",
       " 85: 'Which of the following ML algorithms do you use on a regular basis? (Select all that apply): - Selected Choice - Evolutionary Approaches',\n",
       " 86: 'Which of the following ML algorithms do you use on a regular basis? (Select all that apply): - Selected Choice - Dense Neural Networks (MLPs, etc)',\n",
       " 87: 'Which of the following ML algorithms do you use on a regular basis? (Select all that apply): - Selected Choice - Convolutional Neural Networks',\n",
       " 88: 'Which of the following ML algorithms do you use on a regular basis? (Select all that apply): - Selected Choice - Generative Adversarial Networks',\n",
       " 89: 'Which of the following ML algorithms do you use on a regular basis? (Select all that apply): - Selected Choice - Recurrent Neural Networks',\n",
       " 90: 'Which of the following ML algorithms do you use on a regular basis? (Select all that apply): - Selected Choice - Transformer Networks (BERT, gpt-3, etc)',\n",
       " 91: 'Which of the following ML algorithms do you use on a regular basis? (Select all that apply): - Selected Choice - None',\n",
       " 92: 'Which of the following ML algorithms do you use on a regular basis? (Select all that apply): - Selected Choice - Other',\n",
       " 93: 'Which categories of computer vision methods do you use on a regular basis?  (Select all that apply) - Selected Choice - General purpose image/video tools (PIL, cv2, skimage, etc)',\n",
       " 94: 'Which categories of computer vision methods do you use on a regular basis?  (Select all that apply) - Selected Choice - Image segmentation methods (U-Net, Mask R-CNN, etc)',\n",
       " 95: 'Which categories of computer vision methods do you use on a regular basis?  (Select all that apply) - Selected Choice - Object detection methods (YOLOv3, RetinaNet, etc)',\n",
       " 96: 'Which categories of computer vision methods do you use on a regular basis?  (Select all that apply) - Selected Choice - Image classification and other general purpose networks (VGG, Inception, ResNet, ResNeXt, NASNet, EfficientNet, etc)',\n",
       " 97: 'Which categories of computer vision methods do you use on a regular basis?  (Select all that apply) - Selected Choice - Generative Networks (GAN, VAE, etc)',\n",
       " 98: 'Which categories of computer vision methods do you use on a regular basis?  (Select all that apply) - Selected Choice - None',\n",
       " 99: 'Which categories of computer vision methods do you use on a regular basis?  (Select all that apply) - Selected Choice - Other',\n",
       " 100: 'Which of the following natural language processing (NLP) methods do you use on a regular basis?  (Select all that apply) - Selected Choice - Word embeddings/vectors (GLoVe, fastText, word2vec)',\n",
       " 101: 'Which of the following natural language processing (NLP) methods do you use on a regular basis?  (Select all that apply) - Selected Choice - Encoder-decorder models (seq2seq, vanilla transformers)',\n",
       " 102: 'Which of the following natural language processing (NLP) methods do you use on a regular basis?  (Select all that apply) - Selected Choice - Contextualized embeddings (ELMo, CoVe)',\n",
       " 103: 'Which of the following natural language processing (NLP) methods do you use on a regular basis?  (Select all that apply) - Selected Choice - Transformer language models (GPT-3, BERT, XLnet, etc)',\n",
       " 104: 'Which of the following natural language processing (NLP) methods do you use on a regular basis?  (Select all that apply) - Selected Choice - None',\n",
       " 105: 'Which of the following natural language processing (NLP) methods do you use on a regular basis?  (Select all that apply) - Selected Choice - Other',\n",
       " 106: 'In what industry is your current employer/contract (or your most recent employer if retired)? - Selected Choice',\n",
       " 107: 'What is the size of the company where you are employed?',\n",
       " 108: 'Approximately how many individuals are responsible for data science workloads at your place of business?',\n",
       " 109: 'Does your current employer incorporate machine learning methods into their business?',\n",
       " 110: 'Select any activities that make up an important part of your role at work: (Select all that apply) - Selected Choice - Analyze and understand data to influence product or business decisions',\n",
       " 111: 'Select any activities that make up an important part of your role at work: (Select all that apply) - Selected Choice - Build and/or run the data infrastructure that my business uses for storing, analyzing, and operationalizing data',\n",
       " 112: 'Select any activities that make up an important part of your role at work: (Select all that apply) - Selected Choice - Build prototypes to explore applying machine learning to new areas',\n",
       " 113: 'Select any activities that make up an important part of your role at work: (Select all that apply) - Selected Choice - Build and/or run a machine learning service that operationally improves my product or workflows',\n",
       " 114: 'Select any activities that make up an important part of your role at work: (Select all that apply) - Selected Choice - Experimentation and iteration to improve existing ML models',\n",
       " 115: 'Select any activities that make up an important part of your role at work: (Select all that apply) - Selected Choice - Do research that advances the state of the art of machine learning',\n",
       " 116: 'Select any activities that make up an important part of your role at work: (Select all that apply) - Selected Choice - None of these activities are an important part of my role at work',\n",
       " 117: 'Select any activities that make up an important part of your role at work: (Select all that apply) - Selected Choice - Other',\n",
       " 118: 'What is your current yearly compensation (approximate $USD)?',\n",
       " 119: 'Approximately how much money have you (or your team) spent on machine learning and/or cloud computing services at home (or at work) in the past 5 years (approximate $USD)?',\n",
       " 120: 'Which of the following cloud computing platforms do you use on a regular basis? (Select all that apply) - Selected Choice -  Amazon Web Services (AWS) ',\n",
       " 121: 'Which of the following cloud computing platforms do you use on a regular basis? (Select all that apply) - Selected Choice -  Microsoft Azure ',\n",
       " 122: 'Which of the following cloud computing platforms do you use on a regular basis? (Select all that apply) - Selected Choice -  Google Cloud Platform (GCP) ',\n",
       " 123: 'Which of the following cloud computing platforms do you use on a regular basis? (Select all that apply) - Selected Choice -  IBM Cloud / Red Hat ',\n",
       " 124: 'Which of the following cloud computing platforms do you use on a regular basis? (Select all that apply) - Selected Choice -  Oracle Cloud ',\n",
       " 125: 'Which of the following cloud computing platforms do you use on a regular basis? (Select all that apply) - Selected Choice -  SAP Cloud ',\n",
       " 126: 'Which of the following cloud computing platforms do you use on a regular basis? (Select all that apply) - Selected Choice -  Salesforce Cloud ',\n",
       " 127: 'Which of the following cloud computing platforms do you use on a regular basis? (Select all that apply) - Selected Choice -  VMware Cloud ',\n",
       " 128: 'Which of the following cloud computing platforms do you use on a regular basis? (Select all that apply) - Selected Choice -  Alibaba Cloud ',\n",
       " 129: 'Which of the following cloud computing platforms do you use on a regular basis? (Select all that apply) - Selected Choice -  Tencent Cloud ',\n",
       " 130: 'Which of the following cloud computing platforms do you use on a regular basis? (Select all that apply) - Selected Choice - None',\n",
       " 131: 'Which of the following cloud computing platforms do you use on a regular basis? (Select all that apply) - Selected Choice - Other',\n",
       " 132: 'Do you use any of the following managed machine learning products on a regular basis? (Select all that apply) - Selected Choice -  Amazon SageMaker ',\n",
       " 133: 'Do you use any of the following managed machine learning products on a regular basis? (Select all that apply) - Selected Choice -  Azure Machine Learning Studio ',\n",
       " 134: 'Do you use any of the following managed machine learning products on a regular basis? (Select all that apply) - Selected Choice - No / None',\n",
       " 135: 'Do you use any of the following managed machine learning products on a regular basis? (Select all that apply) - Selected Choice - Other',\n",
       " 136: 'Which of the following big data products (relational databases, data warehouses, data lakes, or similar) do you use on a regular basis? (Select all that apply) - Selected Choice - MySQL ',\n",
       " 137: 'Which of the following big data products (relational databases, data warehouses, data lakes, or similar) do you use on a regular basis? (Select all that apply) - Selected Choice - PostgreSQL ',\n",
       " 138: 'Which of the following big data products (relational databases, data warehouses, data lakes, or similar) do you use on a regular basis? (Select all that apply) - Selected Choice - SQLite ',\n",
       " 139: 'Which of the following big data products (relational databases, data warehouses, data lakes, or similar) do you use on a regular basis? (Select all that apply) - Selected Choice - Oracle Database ',\n",
       " 140: 'Which of the following big data products (relational databases, data warehouses, data lakes, or similar) do you use on a regular basis? (Select all that apply) - Selected Choice - MongoDB ',\n",
       " 141: 'Which of the following big data products (relational databases, data warehouses, data lakes, or similar) do you use on a regular basis? (Select all that apply) - Selected Choice - Snowflake ',\n",
       " 142: 'Which of the following big data products (relational databases, data warehouses, data lakes, or similar) do you use on a regular basis? (Select all that apply) - Selected Choice - IBM Db2 ',\n",
       " 143: 'Which of the following big data products (relational databases, data warehouses, data lakes, or similar) do you use on a regular basis? (Select all that apply) - Selected Choice - Microsoft SQL Server ',\n",
       " 144: 'Which of the following big data products (relational databases, data warehouses, data lakes, or similar) do you use on a regular basis? (Select all that apply) - Selected Choice - Amazon Redshift ',\n",
       " 145: 'Which of the following big data products (relational databases, data warehouses, data lakes, or similar) do you use on a regular basis? (Select all that apply) - Selected Choice - Amazon DynamoDB ',\n",
       " 146: 'Which of the following big data products (relational databases, data warehouses, data lakes, or similar) do you use on a regular basis? (Select all that apply) - Selected Choice - Google Cloud BigQuery ',\n",
       " 147: 'Which of the following big data products (relational databases, data warehouses, data lakes, or similar) do you use on a regular basis? (Select all that apply) - Selected Choice - Google Cloud SQL ',\n",
       " 148: 'Which of the following big data products (relational databases, data warehouses, data lakes, or similar) do you use on a regular basis? (Select all that apply) - Selected Choice - Google Cloud Firestore ',\n",
       " 149: 'Which of the following big data products (relational databases, data warehouses, data lakes, or similar) do you use on a regular basis? (Select all that apply) - Selected Choice - None',\n",
       " 150: 'Which of the following big data products (relational databases, data warehouses, data lakes, or similar) do you use on a regular basis? (Select all that apply) - Selected Choice - Other',\n",
       " 151: 'Which of the following big data products (relational database, data warehouse, data lake, or similar) do you use most often? - Selected Choice',\n",
       " 152: 'Which of the following business intelligence tools do you use on a regular basis? (Select all that apply) - Selected Choice - Amazon QuickSight',\n",
       " 153: 'Which of the following business intelligence tools do you use on a regular basis? (Select all that apply) - Selected Choice - Microsoft Power BI',\n",
       " 154: 'Which of the following business intelligence tools do you use on a regular basis? (Select all that apply) - Selected Choice - Google Data Studio',\n",
       " 155: 'Which of the following business intelligence tools do you use on a regular basis? (Select all that apply) - Selected Choice - Looker',\n",
       " 156: 'Which of the following business intelligence tools do you use on a regular basis? (Select all that apply) - Selected Choice - Tableau',\n",
       " 157: 'Which of the following business intelligence tools do you use on a regular basis? (Select all that apply) - Selected Choice - Salesforce',\n",
       " 158: 'Which of the following business intelligence tools do you use on a regular basis? (Select all that apply) - Selected Choice - Qlik',\n",
       " 159: 'Which of the following business intelligence tools do you use on a regular basis? (Select all that apply) - Selected Choice - Domo',\n",
       " 160: 'Which of the following business intelligence tools do you use on a regular basis? (Select all that apply) - Selected Choice - TIBCO Spotfire',\n",
       " 161: 'Which of the following business intelligence tools do you use on a regular basis? (Select all that apply) - Selected Choice - Alteryx ',\n",
       " 162: 'Which of the following business intelligence tools do you use on a regular basis? (Select all that apply) - Selected Choice - Sisense ',\n",
       " 163: 'Which of the following business intelligence tools do you use on a regular basis? (Select all that apply) - Selected Choice - SAP Analytics Cloud ',\n",
       " 164: 'Which of the following business intelligence tools do you use on a regular basis? (Select all that apply) - Selected Choice - None',\n",
       " 165: 'Which of the following business intelligence tools do you use on a regular basis? (Select all that apply) - Selected Choice - Other',\n",
       " 166: 'Which of the following business intelligence tools do you use most often? - Selected Choice',\n",
       " 167: 'Do you use any automated machine learning tools (or partial AutoML tools) on a regular basis?  (Select all that apply) - Selected Choice - Automated data augmentation (e.g. imgaug, albumentations)',\n",
       " 168: 'Do you use any automated machine learning tools (or partial AutoML tools) on a regular basis?  (Select all that apply) - Selected Choice - Automated feature engineering/selection (e.g. tpot, boruta_py)',\n",
       " 169: 'Do you use any automated machine learning tools (or partial AutoML tools) on a regular basis?  (Select all that apply) - Selected Choice - Automated model selection (e.g. auto-sklearn, xcessiv)',\n",
       " 170: 'Do you use any automated machine learning tools (or partial AutoML tools) on a regular basis?  (Select all that apply) - Selected Choice - Automated model architecture searches (e.g. darts, enas)',\n",
       " 171: 'Do you use any automated machine learning tools (or partial AutoML tools) on a regular basis?  (Select all that apply) - Selected Choice - Automated hyperparameter tuning (e.g. hyperopt, ray.tune, Vizier)',\n",
       " 172: 'Do you use any automated machine learning tools (or partial AutoML tools) on a regular basis?  (Select all that apply) - Selected Choice - Automation of full ML pipelines (e.g. Google AutoML, H2O Driverless AI)',\n",
       " 173: 'Do you use any automated machine learning tools (or partial AutoML tools) on a regular basis?  (Select all that apply) - Selected Choice - No / None',\n",
       " 174: 'Do you use any automated machine learning tools (or partial AutoML tools) on a regular basis?  (Select all that apply) - Selected Choice - Other',\n",
       " 175: 'Which of the following automated machine learning tools (or partial AutoML tools) do you use on a regular basis?  (Select all that apply) - Selected Choice -  Google Cloud AutoML ',\n",
       " 176: 'Which of the following automated machine learning tools (or partial AutoML tools) do you use on a regular basis?  (Select all that apply) - Selected Choice -  H2O Driverless AI  ',\n",
       " 177: 'Which of the following automated machine learning tools (or partial AutoML tools) do you use on a regular basis?  (Select all that apply) - Selected Choice -  Databricks AutoML ',\n",
       " 178: 'Which of the following automated machine learning tools (or partial AutoML tools) do you use on a regular basis?  (Select all that apply) - Selected Choice -  DataRobot AutoML ',\n",
       " 179: 'Which of the following automated machine learning tools (or partial AutoML tools) do you use on a regular basis?  (Select all that apply) - Selected Choice - No / None',\n",
       " 180: 'Which of the following automated machine learning tools (or partial AutoML tools) do you use on a regular basis?  (Select all that apply) - Selected Choice - Other',\n",
       " 181: 'Do you use any tools to help manage machine learning experiments? (Select all that apply) - Selected Choice -  Neptune.ai ',\n",
       " 182: 'Do you use any tools to help manage machine learning experiments? (Select all that apply) - Selected Choice -  Weights & Biases ',\n",
       " 183: 'Do you use any tools to help manage machine learning experiments? (Select all that apply) - Selected Choice -  Comet.ml ',\n",
       " 184: 'Do you use any tools to help manage machine learning experiments? (Select all that apply) - Selected Choice -  Sacred + Omniboard ',\n",
       " 185: 'Do you use any tools to help manage machine learning experiments? (Select all that apply) - Selected Choice -  TensorBoard ',\n",
       " 186: 'Do you use any tools to help manage machine learning experiments? (Select all that apply) - Selected Choice -  Guild.ai ',\n",
       " 187: 'Do you use any tools to help manage machine learning experiments? (Select all that apply) - Selected Choice -  Polyaxon ',\n",
       " 188: 'Do you use any tools to help manage machine learning experiments? (Select all that apply) - Selected Choice -  Domino Model Monitor ',\n",
       " 189: 'Do you use any tools to help manage machine learning experiments? (Select all that apply) - Selected Choice - No / None',\n",
       " 190: 'Do you use any tools to help manage machine learning experiments? (Select all that apply) - Selected Choice - Other',\n",
       " 191: 'Where do you publicly share your data analysis or machine learning applications? (Select all that apply) - Selected Choice -  Plotly Dash ',\n",
       " 192: 'Where do you publicly share your data analysis or machine learning applications? (Select all that apply) - Selected Choice -  Streamlit ',\n",
       " 193: 'Where do you publicly share your data analysis or machine learning applications? (Select all that apply) - Selected Choice -  NBViewer ',\n",
       " 194: 'Where do you publicly share your data analysis or machine learning applications? (Select all that apply) - Selected Choice -  GitHub ',\n",
       " 195: 'Where do you publicly share your data analysis or machine learning applications? (Select all that apply) - Selected Choice -  Personal blog ',\n",
       " 196: 'Where do you publicly share your data analysis or machine learning applications? (Select all that apply) - Selected Choice -  Kaggle ',\n",
       " 197: 'Where do you publicly share your data analysis or machine learning applications? (Select all that apply) - Selected Choice -  Colab ',\n",
       " 198: 'Where do you publicly share your data analysis or machine learning applications? (Select all that apply) - Selected Choice -  Shiny ',\n",
       " 199: 'Where do you publicly share your data analysis or machine learning applications? (Select all that apply) - Selected Choice - I do not share my work publicly',\n",
       " 200: 'Where do you publicly share your data analysis or machine learning applications? (Select all that apply) - Selected Choice - Other',\n",
       " 201: 'On which platforms have you begun or completed data science courses? (Select all that apply) - Selected Choice - Coursera',\n",
       " 202: 'On which platforms have you begun or completed data science courses? (Select all that apply) - Selected Choice - edX',\n",
       " 203: 'On which platforms have you begun or completed data science courses? (Select all that apply) - Selected Choice - Kaggle Learn Courses',\n",
       " 204: 'On which platforms have you begun or completed data science courses? (Select all that apply) - Selected Choice - DataCamp',\n",
       " 205: 'On which platforms have you begun or completed data science courses? (Select all that apply) - Selected Choice - Fast.ai',\n",
       " 206: 'On which platforms have you begun or completed data science courses? (Select all that apply) - Selected Choice - Udacity',\n",
       " 207: 'On which platforms have you begun or completed data science courses? (Select all that apply) - Selected Choice - Udemy',\n",
       " 208: 'On which platforms have you begun or completed data science courses? (Select all that apply) - Selected Choice - LinkedIn Learning',\n",
       " 209: 'On which platforms have you begun or completed data science courses? (Select all that apply) - Selected Choice - Cloud-certification programs (direct from AWS, Azure, GCP, or similar)',\n",
       " 210: 'On which platforms have you begun or completed data science courses? (Select all that apply) - Selected Choice - University Courses (resulting in a university degree)',\n",
       " 211: 'On which platforms have you begun or completed data science courses? (Select all that apply) - Selected Choice - None',\n",
       " 212: 'On which platforms have you begun or completed data science courses? (Select all that apply) - Selected Choice - Other',\n",
       " 213: 'What is the primary tool that you use at work or school to analyze data? (Include text response) - Selected Choice',\n",
       " 214: 'Who/what are your favorite media sources that report on data science topics? (Select all that apply) - Selected Choice - Twitter (data science influencers)',\n",
       " 215: \"Who/what are your favorite media sources that report on data science topics? (Select all that apply) - Selected Choice - Email newsletters (Data Elixir, O'Reilly Data & AI, etc)\",\n",
       " 216: 'Who/what are your favorite media sources that report on data science topics? (Select all that apply) - Selected Choice - Reddit (r/machinelearning, etc)',\n",
       " 217: 'Who/what are your favorite media sources that report on data science topics? (Select all that apply) - Selected Choice - Kaggle (notebooks, forums, etc)',\n",
       " 218: 'Who/what are your favorite media sources that report on data science topics? (Select all that apply) - Selected Choice - Course Forums (forums.fast.ai, Coursera forums, etc)',\n",
       " 219: 'Who/what are your favorite media sources that report on data science topics? (Select all that apply) - Selected Choice - YouTube (Kaggle YouTube, Cloud AI Adventures, etc)',\n",
       " 220: 'Who/what are your favorite media sources that report on data science topics? (Select all that apply) - Selected Choice - Podcasts (Chai Time Data Science, Oâ€™Reilly Data Show, etc)',\n",
       " 221: 'Who/what are your favorite media sources that report on data science topics? (Select all that apply) - Selected Choice - Blogs (Towards Data Science, Analytics Vidhya, etc)',\n",
       " 222: 'Who/what are your favorite media sources that report on data science topics? (Select all that apply) - Selected Choice - Journal Publications (peer-reviewed journals, conference proceedings, etc)',\n",
       " 223: 'Who/what are your favorite media sources that report on data science topics? (Select all that apply) - Selected Choice - Slack Communities (ods.ai, kagglenoobs, etc)',\n",
       " 224: 'Who/what are your favorite media sources that report on data science topics? (Select all that apply) - Selected Choice - None',\n",
       " 225: 'Who/what are your favorite media sources that report on data science topics? (Select all that apply) - Selected Choice - Other',\n",
       " 226: 'Which of the following cloud computing platforms do you hope to become more familiar with in the next 2 years? - Selected Choice -  Amazon Web Services (AWS) ',\n",
       " 227: 'Which of the following cloud computing platforms do you hope to become more familiar with in the next 2 years? - Selected Choice -  Microsoft Azure ',\n",
       " 228: 'Which of the following cloud computing platforms do you hope to become more familiar with in the next 2 years? - Selected Choice -  Google Cloud Platform (GCP) ',\n",
       " 229: 'Which of the following cloud computing platforms do you hope to become more familiar with in the next 2 years? - Selected Choice -  IBM Cloud / Red Hat ',\n",
       " 230: 'Which of the following cloud computing platforms do you hope to become more familiar with in the next 2 years? - Selected Choice -  Oracle Cloud ',\n",
       " 231: 'Which of the following cloud computing platforms do you hope to become more familiar with in the next 2 years? - Selected Choice -  SAP Cloud ',\n",
       " 232: 'Which of the following cloud computing platforms do you hope to become more familiar with in the next 2 years? - Selected Choice -  VMware Cloud ',\n",
       " 233: 'Which of the following cloud computing platforms do you hope to become more familiar with in the next 2 years? - Selected Choice -  Salesforce Cloud ',\n",
       " 234: 'Which of the following cloud computing platforms do you hope to become more familiar with in the next 2 years? - Selected Choice -  Alibaba Cloud ',\n",
       " 235: 'Which of the following cloud computing platforms do you hope to become more familiar with in the next 2 years? - Selected Choice -  Tencent Cloud ',\n",
       " 236: 'Which of the following cloud computing platforms do you hope to become more familiar with in the next 2 years? - Selected Choice - None',\n",
       " 237: 'Which of the following cloud computing platforms do you hope to become more familiar with in the next 2 years? - Selected Choice - Other',\n",
       " 238: 'Which of the following big data products (relational databases, data warehouses, data lakes, or similar) do you hope to become more familiar with in the next 2 years? (Select all that apply) - Selected Choice - MySQL ',\n",
       " 239: 'Which of the following big data products (relational databases, data warehouses, data lakes, or similar) do you hope to become more familiar with in the next 2 years? (Select all that apply) - Selected Choice - PostgreSQL ',\n",
       " 240: 'Which of the following big data products (relational databases, data warehouses, data lakes, or similar) do you hope to become more familiar with in the next 2 years? (Select all that apply) - Selected Choice - SQLite ',\n",
       " 241: 'Which of the following big data products (relational databases, data warehouses, data lakes, or similar) do you hope to become more familiar with in the next 2 years? (Select all that apply) - Selected Choice - Oracle Database ',\n",
       " 242: 'Which of the following big data products (relational databases, data warehouses, data lakes, or similar) do you hope to become more familiar with in the next 2 years? (Select all that apply) - Selected Choice - MongoDB ',\n",
       " 243: 'Which of the following big data products (relational databases, data warehouses, data lakes, or similar) do you hope to become more familiar with in the next 2 years? (Select all that apply) - Selected Choice - Snowflake ',\n",
       " 244: 'Which of the following big data products (relational databases, data warehouses, data lakes, or similar) do you hope to become more familiar with in the next 2 years? (Select all that apply) - Selected Choice - IBM Db2 ',\n",
       " 245: 'Which of the following big data products (relational databases, data warehouses, data lakes, or similar) do you hope to become more familiar with in the next 2 years? (Select all that apply) - Selected Choice - Microsoft SQL Server ',\n",
       " 246: 'Which of the following big data products (relational databases, data warehouses, data lakes, or similar) do you hope to become more familiar with in the next 2 years? (Select all that apply) - Selected Choice - Amazon Redshift ',\n",
       " 247: 'Which of the following big data products (relational databases, data warehouses, data lakes, or similar) do you hope to become more familiar with in the next 2 years? (Select all that apply) - Selected Choice - Amazon DynamoDB '}"
      ]
     },
     "execution_count": 8,
     "metadata": {},
     "output_type": "execute_result"
    }
   ],
   "source": [
    "q_dict = gen_dict(data)\n",
    "q_dict"
   ]
  },
  {
   "cell_type": "code",
   "execution_count": 9,
   "id": "b3ab930e-9435-44aa-b17a-c8803fa4939b",
   "metadata": {
    "tags": []
   },
   "outputs": [],
   "source": [
    "age_label = map_config[\"age_label\"]\n",
    "\n",
    "data[\"What is your age (# years)?\"] = data[\"What is your age (# years)?\"].map(age_label)\n",
    "\n",
    "code_exp_label = map_config[\"code_exp_label\"]\n",
    "data[q_dict.get(5)] = data[q_dict.get(5)].map(code_exp_label)\n",
    "data[q_dict.get(5)] = data[q_dict.get(5)].fillna(0)\n",
    "\n",
    "bachelors = colvals_config[\"bachelors\"]\n",
    "masters = colvals_config[\"masters\"]\n",
    "doctoral = colvals_config[\"doctoral\"]\n",
    "highschool = colvals_config[\"highschool\"]\n",
    "none = colvals_config[\"none\"]\n",
    "\n",
    "data.loc[data[q_dict.get(3)].isin(bachelors), q_dict.get(3)] = \"Bachelors\"\n",
    "data.loc[data[q_dict.get(3)].isin(masters), q_dict.get(3)] = \"Masters\"\n",
    "data.loc[data[q_dict.get(3)].isin(doctoral), q_dict.get(3)] = \"Doctorate\"\n",
    "data.loc[data[q_dict.get(3)].isin(highschool), q_dict.get(3)] = \"High-School\"\n",
    "data.loc[data[q_dict.get(3)].isin(none), q_dict.get(3)] = \"None\""
   ]
  },
  {
   "cell_type": "markdown",
   "id": "6b3f2278-d50e-47f5-b4b3-1cacd316374d",
   "metadata": {},
   "source": [
    "#### One hot columns for Higher education"
   ]
  },
  {
   "cell_type": "code",
   "execution_count": 10,
   "id": "66b4894a-fe89-4fd2-9964-5b09c1dda71c",
   "metadata": {
    "tags": []
   },
   "outputs": [
    {
     "data": {
      "text/html": [
       "<div>\n",
       "<style scoped>\n",
       "    .dataframe tbody tr th:only-of-type {\n",
       "        vertical-align: middle;\n",
       "    }\n",
       "\n",
       "    .dataframe tbody tr th {\n",
       "        vertical-align: top;\n",
       "    }\n",
       "\n",
       "    .dataframe thead th {\n",
       "        text-align: right;\n",
       "    }\n",
       "</style>\n",
       "<table border=\"1\" class=\"dataframe\">\n",
       "  <thead>\n",
       "    <tr style=\"text-align: right;\">\n",
       "      <th></th>\n",
       "      <th>What is the highest level of formal education that you have attained or plan to attain within the next 2 years?_Bachelors</th>\n",
       "      <th>What is the highest level of formal education that you have attained or plan to attain within the next 2 years?_Doctorate</th>\n",
       "      <th>What is the highest level of formal education that you have attained or plan to attain within the next 2 years?_High-School</th>\n",
       "      <th>What is the highest level of formal education that you have attained or plan to attain within the next 2 years?_Masters</th>\n",
       "      <th>What is the highest level of formal education that you have attained or plan to attain within the next 2 years?_No formal education past high school</th>\n",
       "      <th>What is the highest level of formal education that you have attained or plan to attain within the next 2 years?_None</th>\n",
       "      <th>What is the highest level of formal education that you have attained or plan to attain within the next 2 years?_Professional degree</th>\n",
       "    </tr>\n",
       "  </thead>\n",
       "  <tbody>\n",
       "    <tr>\n",
       "      <th>0</th>\n",
       "      <td>1</td>\n",
       "      <td>0</td>\n",
       "      <td>0</td>\n",
       "      <td>0</td>\n",
       "      <td>0</td>\n",
       "      <td>0</td>\n",
       "      <td>0</td>\n",
       "    </tr>\n",
       "    <tr>\n",
       "      <th>1</th>\n",
       "      <td>0</td>\n",
       "      <td>0</td>\n",
       "      <td>0</td>\n",
       "      <td>1</td>\n",
       "      <td>0</td>\n",
       "      <td>0</td>\n",
       "      <td>0</td>\n",
       "    </tr>\n",
       "  </tbody>\n",
       "</table>\n",
       "</div>"
      ],
      "text/plain": [
       "   What is the highest level of formal education that you have attained or plan to attain within the next 2 years?_Bachelors  \\\n",
       "0                                                  1                                                                           \n",
       "1                                                  0                                                                           \n",
       "\n",
       "   What is the highest level of formal education that you have attained or plan to attain within the next 2 years?_Doctorate  \\\n",
       "0                                                  0                                                                           \n",
       "1                                                  0                                                                           \n",
       "\n",
       "   What is the highest level of formal education that you have attained or plan to attain within the next 2 years?_High-School  \\\n",
       "0                                                  0                                                                             \n",
       "1                                                  0                                                                             \n",
       "\n",
       "   What is the highest level of formal education that you have attained or plan to attain within the next 2 years?_Masters  \\\n",
       "0                                                  0                                                                         \n",
       "1                                                  1                                                                         \n",
       "\n",
       "   What is the highest level of formal education that you have attained or plan to attain within the next 2 years?_No formal education past high school  \\\n",
       "0                                                  0                                                                                                      \n",
       "1                                                  0                                                                                                      \n",
       "\n",
       "   What is the highest level of formal education that you have attained or plan to attain within the next 2 years?_None  \\\n",
       "0                                                  0                                                                      \n",
       "1                                                  0                                                                      \n",
       "\n",
       "   What is the highest level of formal education that you have attained or plan to attain within the next 2 years?_Professional degree  \n",
       "0                                                  0                                                                                    \n",
       "1                                                  0                                                                                    "
      ]
     },
     "execution_count": 10,
     "metadata": {},
     "output_type": "execute_result"
    }
   ],
   "source": [
    "ohe_cols = [q_dict.get(3)]\n",
    "ohe_df = pd.get_dummies(data[ohe_cols])\n",
    "ohe_df.head(2)"
   ]
  },
  {
   "cell_type": "markdown",
   "id": "7d77cc17-4af7-4fce-93c2-b4ecb65ca9ae",
   "metadata": {},
   "source": [
    "### Add 2 Kinds of Features\n",
    "- Flag for group of features i.e if the particular answer is attempted or no\n",
    "- Count of the options selected under that caetgory of question"
   ]
  },
  {
   "cell_type": "code",
   "execution_count": 11,
   "id": "87a3f642-dfe3-4546-bb8f-859a35018ed1",
   "metadata": {
    "tags": []
   },
   "outputs": [],
   "source": [
    "platform_ds = [col for col in encode_df.columns if \"data science courses\" in col]\n",
    "pgm_lang = [col for col in encode_df.columns if \"programming languages\" in col]\n",
    "ide = [col for col in encode_df.columns if \"IDE's\" in col]\n",
    "notebooks = [col for col in encode_df.columns if \"hosted notebook\" in col]\n",
    "data_viz = [col for col in encode_df.columns if \"data visualization\" in col]\n",
    "ml_framework = [\n",
    "    col for col in encode_df.columns if \"machine learning frameworks\" in col\n",
    "]\n",
    "ml_algo = [col for col in encode_df.columns if \"ML algorithms\" in col]\n",
    "comp_vision = [col for col in encode_df.columns if \"computer vision\" in col]\n",
    "nlp_method = [col for col in encode_df.columns if \"(NLP) methods\" in col]\n",
    "cloud_compute = [col for col in encode_df.columns if \"cloud computing platforms\" in col]\n",
    "automate_ml = [col for col in encode_df.columns if \"automated\" in col]\n",
    "business_intel = [col for col in encode_df.columns if \"business intelligence\" in col]\n",
    "big_data = [col for col in encode_df.columns if \"big data products\" in col]\n",
    "managed_ml = [col for col in encode_df.columns if \"managed machine learning\" in col]"
   ]
  },
  {
   "cell_type": "markdown",
   "id": "1a65d083-f93e-47fd-bbb4-e1d70b54344d",
   "metadata": {},
   "source": [
    "### 1. Feature to flag the particular question"
   ]
  },
  {
   "cell_type": "code",
   "execution_count": 13,
   "id": "c41180b3-d60a-4085-8012-b2634e4f22b5",
   "metadata": {
    "tags": []
   },
   "outputs": [],
   "source": [
    "platform_df = group_feats(platform_ds, encode_df, \"Has taken DS Course\")\n",
    "pgm_lang_df = group_feats(pgm_lang, encode_df, \"Knows Pgm Lang\")\n",
    "ide_df = group_feats(ide, encode_df, \"Uses IDE for dev\")\n",
    "notebooks_df = group_feats(notebooks, encode_df, \"Uses Notebooks for dev\")\n",
    "data_viz_df = group_feats(platform_ds, encode_df, \"Uses Data Visualization libs\")\n",
    "ml_framework_df = group_feats(ml_framework, encode_df, \"Uses ML Framework\")\n",
    "ml_algo_df = group_feats(ml_algo, encode_df, \"Uses ML Algorithms\")\n",
    "cv_df = group_feats(comp_vision, encode_df, \"Uses Computer Vision Algorithms\")\n",
    "nlp_df = group_feats(nlp_method, encode_df, \"Uses NLP Algorithms\")\n",
    "automate_df = group_feats(automate_ml, encode_df, \"Uses Auto ML tools\")\n",
    "business_intel_df = group_feats(business_intel, encode_df, \"Uses Business Intel tools\")\n",
    "big_data_df = group_feats(big_data, encode_df, \"Uses Big Data Products\")\n",
    "managed_ml_df = group_feats(managed_ml, encode_df, \"Has Managed ML tools\")\n",
    "cloud_compute_df = group_feats(\n",
    "    cloud_compute, encode_df, \"Knows Cloud Compute Platforms\"\n",
    ")"
   ]
  },
  {
   "cell_type": "markdown",
   "id": "8d354528-0a8c-4537-8938-87232075909b",
   "metadata": {},
   "source": [
    "### 2. Count of multiple choice answers"
   ]
  },
  {
   "cell_type": "code",
   "execution_count": 14,
   "id": "c96ba40e-5b70-4a4b-add9-d6c713754d6e",
   "metadata": {
    "tags": []
   },
   "outputs": [],
   "source": [
    "count_platform_df = count_selected_options(\n",
    "    platform_ds, encode_df, \"Has taken DS Course Count\"\n",
    ")\n",
    "count_pgm_lang_df = count_selected_options(pgm_lang, encode_df, \"Knows Pgm Lang Count\")\n",
    "count_ide_df = count_selected_options(ide, encode_df, \"Uses IDE for dev Count\")\n",
    "count_notebooks_df = count_selected_options(\n",
    "    notebooks, encode_df, \"Uses Notebooks for dev Count\"\n",
    ")\n",
    "count_data_viz_df = count_selected_options(\n",
    "    platform_ds, encode_df, \"Uses Data Visualization libs Count\"\n",
    ")\n",
    "count_ml_framework_df = count_selected_options(\n",
    "    ml_framework, encode_df, \"Uses ML Framework Count\"\n",
    ")\n",
    "count_ml_algo_df = count_selected_options(\n",
    "    ml_algo, encode_df, \"Uses ML Algorithms Count\"\n",
    ")\n",
    "count_cv_df = count_selected_options(\n",
    "    comp_vision, encode_df, \"Uses Computer Vision Algorithms Count\"\n",
    ")\n",
    "count_nlp_df = count_selected_options(\n",
    "    nlp_method, encode_df, \"Uses NLP Algorithms Count\"\n",
    ")\n",
    "count_automate_df = count_selected_options(\n",
    "    automate_ml, encode_df, \"Uses Auto ML tools Count\"\n",
    ")\n",
    "count_business_intel_df = count_selected_options(\n",
    "    business_intel, encode_df, \"Uses Business Intel tools Count\"\n",
    ")\n",
    "count_big_data_df = count_selected_options(\n",
    "    big_data, encode_df, \"Uses Big Data Products Count\"\n",
    ")\n",
    "count_managed_ml_df = count_selected_options(\n",
    "    managed_ml, encode_df, \"Has Managed ML tools Count\"\n",
    ")\n",
    "count_cloud_compute_df = count_selected_options(\n",
    "    cloud_compute, encode_df, \"Knows Cloud Compute Platforms Count\"\n",
    ")"
   ]
  },
  {
   "cell_type": "markdown",
   "id": "ea5b52f3-2c20-4ca3-ad0d-a2d2e8c9e797",
   "metadata": {},
   "source": [
    "### Add the above feature to our encoded dataframe \n"
   ]
  },
  {
   "cell_type": "code",
   "execution_count": 15,
   "id": "216c4e56-2a6d-4146-9af0-e0d162cecb30",
   "metadata": {
    "tags": []
   },
   "outputs": [],
   "source": [
    "group_dfs = [\n",
    "    platform_df,\n",
    "    pgm_lang_df,\n",
    "    ide_df,\n",
    "    notebooks_df,\n",
    "    data_viz_df,\n",
    "    ml_framework_df,\n",
    "    ml_algo_df,\n",
    "    cv_df,\n",
    "    nlp_df,\n",
    "    cloud_compute_df,\n",
    "    automate_df,\n",
    "    business_intel_df,\n",
    "    big_data_df,\n",
    "    managed_ml_df,\n",
    "]\n",
    "encode_df = merge_dfs(group_dfs, encode_df)"
   ]
  },
  {
   "cell_type": "code",
   "execution_count": 15,
   "id": "5510a700-0299-4b60-8bb2-53e0579b6f8e",
   "metadata": {
    "tags": []
   },
   "outputs": [
    {
     "data": {
      "text/html": [
       "<div>\n",
       "<style scoped>\n",
       "    .dataframe tbody tr th:only-of-type {\n",
       "        vertical-align: middle;\n",
       "    }\n",
       "\n",
       "    .dataframe tbody tr th {\n",
       "        vertical-align: top;\n",
       "    }\n",
       "\n",
       "    .dataframe thead th {\n",
       "        text-align: right;\n",
       "    }\n",
       "</style>\n",
       "<table border=\"1\" class=\"dataframe\">\n",
       "  <thead>\n",
       "    <tr style=\"text-align: right;\">\n",
       "      <th></th>\n",
       "      <th>What is your age (# years)?</th>\n",
       "      <th>What is your gender? - Selected Choice</th>\n",
       "      <th>In which country do you currently reside?</th>\n",
       "      <th>What is the highest level of formal education that you have attained or plan to attain within the next 2 years?</th>\n",
       "      <th>Select the title most similar to your current role (or most recent title if retired): - Selected Choice</th>\n",
       "      <th>For how many years have you been writing code and/or programming?</th>\n",
       "      <th>What programming languages do you use on a regular basis? (Select all that apply) - Selected Choice - Python</th>\n",
       "      <th>What programming languages do you use on a regular basis? (Select all that apply) - Selected Choice - R</th>\n",
       "      <th>What programming languages do you use on a regular basis? (Select all that apply) - Selected Choice - SQL</th>\n",
       "      <th>What programming languages do you use on a regular basis? (Select all that apply) - Selected Choice - C</th>\n",
       "      <th>...</th>\n",
       "      <th>Uses Data Visualization libs</th>\n",
       "      <th>Uses ML Framework</th>\n",
       "      <th>Uses ML Algorithms</th>\n",
       "      <th>Uses Computer Vision Algorithms</th>\n",
       "      <th>Uses NLP Algorithms</th>\n",
       "      <th>Knows Cloud Compute Platforms</th>\n",
       "      <th>Uses Auto ML tools</th>\n",
       "      <th>Uses Business Intel tools</th>\n",
       "      <th>Uses Big Data Products</th>\n",
       "      <th>Has Managed ML tools</th>\n",
       "    </tr>\n",
       "  </thead>\n",
       "  <tbody>\n",
       "    <tr>\n",
       "      <th>0</th>\n",
       "      <td>7</td>\n",
       "      <td>1</td>\n",
       "      <td>0</td>\n",
       "      <td>1</td>\n",
       "      <td>4</td>\n",
       "      <td>4</td>\n",
       "      <td>0</td>\n",
       "      <td>1</td>\n",
       "      <td>0</td>\n",
       "      <td>0</td>\n",
       "      <td>...</td>\n",
       "      <td>0.0</td>\n",
       "      <td>0.0</td>\n",
       "      <td>0.0</td>\n",
       "      <td>0.0</td>\n",
       "      <td>0.0</td>\n",
       "      <td>0.0</td>\n",
       "      <td>0.0</td>\n",
       "      <td>0.0</td>\n",
       "      <td>0.0</td>\n",
       "      <td>0.0</td>\n",
       "    </tr>\n",
       "    <tr>\n",
       "      <th>1</th>\n",
       "      <td>7</td>\n",
       "      <td>1</td>\n",
       "      <td>18</td>\n",
       "      <td>0</td>\n",
       "      <td>16</td>\n",
       "      <td>8</td>\n",
       "      <td>1</td>\n",
       "      <td>0</td>\n",
       "      <td>1</td>\n",
       "      <td>1</td>\n",
       "      <td>...</td>\n",
       "      <td>0.0</td>\n",
       "      <td>0.0</td>\n",
       "      <td>0.0</td>\n",
       "      <td>0.0</td>\n",
       "      <td>0.0</td>\n",
       "      <td>0.0</td>\n",
       "      <td>0.0</td>\n",
       "      <td>0.0</td>\n",
       "      <td>0.0</td>\n",
       "      <td>0.0</td>\n",
       "    </tr>\n",
       "    <tr>\n",
       "      <th>2</th>\n",
       "      <td>1</td>\n",
       "      <td>1</td>\n",
       "      <td>17</td>\n",
       "      <td>0</td>\n",
       "      <td>2</td>\n",
       "      <td>5</td>\n",
       "      <td>0</td>\n",
       "      <td>0</td>\n",
       "      <td>0</td>\n",
       "      <td>0</td>\n",
       "      <td>...</td>\n",
       "      <td>0.0</td>\n",
       "      <td>0.0</td>\n",
       "      <td>0.0</td>\n",
       "      <td>0.0</td>\n",
       "      <td>0.0</td>\n",
       "      <td>0.0</td>\n",
       "      <td>0.0</td>\n",
       "      <td>0.0</td>\n",
       "      <td>0.0</td>\n",
       "      <td>0.0</td>\n",
       "    </tr>\n",
       "    <tr>\n",
       "      <th>3</th>\n",
       "      <td>6</td>\n",
       "      <td>1</td>\n",
       "      <td>22</td>\n",
       "      <td>2</td>\n",
       "      <td>6</td>\n",
       "      <td>8</td>\n",
       "      <td>0</td>\n",
       "      <td>0</td>\n",
       "      <td>0</td>\n",
       "      <td>0</td>\n",
       "      <td>...</td>\n",
       "      <td>0.0</td>\n",
       "      <td>0.0</td>\n",
       "      <td>0.0</td>\n",
       "      <td>0.0</td>\n",
       "      <td>0.0</td>\n",
       "      <td>0.0</td>\n",
       "      <td>0.0</td>\n",
       "      <td>0.0</td>\n",
       "      <td>0.0</td>\n",
       "      <td>0.0</td>\n",
       "    </tr>\n",
       "    <tr>\n",
       "      <th>4</th>\n",
       "      <td>6</td>\n",
       "      <td>1</td>\n",
       "      <td>0</td>\n",
       "      <td>2</td>\n",
       "      <td>4</td>\n",
       "      <td>3</td>\n",
       "      <td>0</td>\n",
       "      <td>0</td>\n",
       "      <td>0</td>\n",
       "      <td>1</td>\n",
       "      <td>...</td>\n",
       "      <td>0.0</td>\n",
       "      <td>0.0</td>\n",
       "      <td>0.0</td>\n",
       "      <td>0.0</td>\n",
       "      <td>0.0</td>\n",
       "      <td>0.0</td>\n",
       "      <td>0.0</td>\n",
       "      <td>0.0</td>\n",
       "      <td>0.0</td>\n",
       "      <td>0.0</td>\n",
       "    </tr>\n",
       "  </tbody>\n",
       "</table>\n",
       "<p>5 rows × 276 columns</p>\n",
       "</div>"
      ],
      "text/plain": [
       "   What is your age (# years)?  What is your gender? - Selected Choice  \\\n",
       "0                            7                                       1   \n",
       "1                            7                                       1   \n",
       "2                            1                                       1   \n",
       "3                            6                                       1   \n",
       "4                            6                                       1   \n",
       "\n",
       "   In which country do you currently reside?  \\\n",
       "0                                          0   \n",
       "1                                         18   \n",
       "2                                         17   \n",
       "3                                         22   \n",
       "4                                          0   \n",
       "\n",
       "   What is the highest level of formal education that you have attained or plan to attain within the next 2 years?  \\\n",
       "0                                                  1                                                                 \n",
       "1                                                  0                                                                 \n",
       "2                                                  0                                                                 \n",
       "3                                                  2                                                                 \n",
       "4                                                  2                                                                 \n",
       "\n",
       "   Select the title most similar to your current role (or most recent title if retired): - Selected Choice  \\\n",
       "0                                                  4                                                         \n",
       "1                                                 16                                                         \n",
       "2                                                  2                                                         \n",
       "3                                                  6                                                         \n",
       "4                                                  4                                                         \n",
       "\n",
       "   For how many years have you been writing code and/or programming?  \\\n",
       "0                                                  4                   \n",
       "1                                                  8                   \n",
       "2                                                  5                   \n",
       "3                                                  8                   \n",
       "4                                                  3                   \n",
       "\n",
       "   What programming languages do you use on a regular basis? (Select all that apply) - Selected Choice - Python  \\\n",
       "0                                                  0                                                              \n",
       "1                                                  1                                                              \n",
       "2                                                  0                                                              \n",
       "3                                                  0                                                              \n",
       "4                                                  0                                                              \n",
       "\n",
       "   What programming languages do you use on a regular basis? (Select all that apply) - Selected Choice - R  \\\n",
       "0                                                  1                                                         \n",
       "1                                                  0                                                         \n",
       "2                                                  0                                                         \n",
       "3                                                  0                                                         \n",
       "4                                                  0                                                         \n",
       "\n",
       "   What programming languages do you use on a regular basis? (Select all that apply) - Selected Choice - SQL  \\\n",
       "0                                                  0                                                           \n",
       "1                                                  1                                                           \n",
       "2                                                  0                                                           \n",
       "3                                                  0                                                           \n",
       "4                                                  0                                                           \n",
       "\n",
       "   What programming languages do you use on a regular basis? (Select all that apply) - Selected Choice - C  \\\n",
       "0                                                  0                                                         \n",
       "1                                                  1                                                         \n",
       "2                                                  0                                                         \n",
       "3                                                  0                                                         \n",
       "4                                                  1                                                         \n",
       "\n",
       "   ...  Uses Data Visualization libs  Uses ML Framework  Uses ML Algorithms  \\\n",
       "0  ...                           0.0                0.0                 0.0   \n",
       "1  ...                           0.0                0.0                 0.0   \n",
       "2  ...                           0.0                0.0                 0.0   \n",
       "3  ...                           0.0                0.0                 0.0   \n",
       "4  ...                           0.0                0.0                 0.0   \n",
       "\n",
       "   Uses Computer Vision Algorithms  Uses NLP Algorithms  \\\n",
       "0                              0.0                  0.0   \n",
       "1                              0.0                  0.0   \n",
       "2                              0.0                  0.0   \n",
       "3                              0.0                  0.0   \n",
       "4                              0.0                  0.0   \n",
       "\n",
       "   Knows Cloud Compute Platforms  Uses Auto ML tools  \\\n",
       "0                            0.0                 0.0   \n",
       "1                            0.0                 0.0   \n",
       "2                            0.0                 0.0   \n",
       "3                            0.0                 0.0   \n",
       "4                            0.0                 0.0   \n",
       "\n",
       "   Uses Business Intel tools  Uses Big Data Products  Has Managed ML tools  \n",
       "0                        0.0                     0.0                   0.0  \n",
       "1                        0.0                     0.0                   0.0  \n",
       "2                        0.0                     0.0                   0.0  \n",
       "3                        0.0                     0.0                   0.0  \n",
       "4                        0.0                     0.0                   0.0  \n",
       "\n",
       "[5 rows x 276 columns]"
      ]
     },
     "execution_count": 15,
     "metadata": {},
     "output_type": "execute_result"
    }
   ],
   "source": [
    "encode_df.head()"
   ]
  },
  {
   "cell_type": "code",
   "execution_count": 16,
   "id": "9467e0ab-67c2-4f5e-9251-26e2209885f7",
   "metadata": {
    "tags": []
   },
   "outputs": [
    {
     "data": {
      "text/plain": [
       "(105856, 276)"
      ]
     },
     "execution_count": 16,
     "metadata": {},
     "output_type": "execute_result"
    }
   ],
   "source": [
    "encode_df.shape"
   ]
  },
  {
   "cell_type": "markdown",
   "id": "44c51af9-e489-4f9c-a886-930d8d098491",
   "metadata": {},
   "source": [
    "### Add correctly mapped columns/onehot encoded columns i.e Age, Code experience, Higher Education\n"
   ]
  },
  {
   "cell_type": "code",
   "execution_count": 17,
   "id": "53ae8329-a0cb-4448-b5d7-316c7cf93d3c",
   "metadata": {
    "tags": []
   },
   "outputs": [
    {
     "data": {
      "text/plain": [
       "(105856, 285)"
      ]
     },
     "execution_count": 17,
     "metadata": {},
     "output_type": "execute_result"
    }
   ],
   "source": [
    "encode_df = pd.concat([encode_df, data[[q_dict.get(3), q_dict.get(5)]]], axis=1)\n",
    "encode_df = pd.concat([encode_df, ohe_df], axis=1)\n",
    "encode_df.shape"
   ]
  },
  {
   "cell_type": "code",
   "execution_count": 18,
   "id": "ca30bd41-72b8-464a-a6a4-51df4fcf1060",
   "metadata": {
    "tags": []
   },
   "outputs": [
    {
     "data": {
      "text/html": [
       "<div>\n",
       "<style scoped>\n",
       "    .dataframe tbody tr th:only-of-type {\n",
       "        vertical-align: middle;\n",
       "    }\n",
       "\n",
       "    .dataframe tbody tr th {\n",
       "        vertical-align: top;\n",
       "    }\n",
       "\n",
       "    .dataframe thead th {\n",
       "        text-align: right;\n",
       "    }\n",
       "</style>\n",
       "<table border=\"1\" class=\"dataframe\">\n",
       "  <thead>\n",
       "    <tr style=\"text-align: right;\">\n",
       "      <th></th>\n",
       "      <th>Select the title most similar to your current role (or most recent title if retired): - Selected Choice</th>\n",
       "      <th>What programming languages do you use on a regular basis? (Select all that apply) - Selected Choice - Python</th>\n",
       "      <th>What programming languages do you use on a regular basis? (Select all that apply) - Selected Choice - R</th>\n",
       "      <th>What programming languages do you use on a regular basis? (Select all that apply) - Selected Choice - SQL</th>\n",
       "      <th>What programming languages do you use on a regular basis? (Select all that apply) - Selected Choice - C</th>\n",
       "      <th>What programming languages do you use on a regular basis? (Select all that apply) - Selected Choice - C++</th>\n",
       "      <th>What programming languages do you use on a regular basis? (Select all that apply) - Selected Choice - Java</th>\n",
       "      <th>What programming languages do you use on a regular basis? (Select all that apply) - Selected Choice - Javascript</th>\n",
       "      <th>What programming languages do you use on a regular basis? (Select all that apply) - Selected Choice - Julia</th>\n",
       "      <th>What programming languages do you use on a regular basis? (Select all that apply) - Selected Choice - Swift</th>\n",
       "      <th>...</th>\n",
       "      <th>Uses Business Intel tools</th>\n",
       "      <th>Uses Big Data Products</th>\n",
       "      <th>Has Managed ML tools</th>\n",
       "      <th>What is the highest level of formal education that you have attained or plan to attain within the next 2 years?_Bachelors</th>\n",
       "      <th>What is the highest level of formal education that you have attained or plan to attain within the next 2 years?_Doctorate</th>\n",
       "      <th>What is the highest level of formal education that you have attained or plan to attain within the next 2 years?_High-School</th>\n",
       "      <th>What is the highest level of formal education that you have attained or plan to attain within the next 2 years?_Masters</th>\n",
       "      <th>What is the highest level of formal education that you have attained or plan to attain within the next 2 years?_No formal education past high school</th>\n",
       "      <th>What is the highest level of formal education that you have attained or plan to attain within the next 2 years?_None</th>\n",
       "      <th>What is the highest level of formal education that you have attained or plan to attain within the next 2 years?_Professional degree</th>\n",
       "    </tr>\n",
       "  </thead>\n",
       "  <tbody>\n",
       "    <tr>\n",
       "      <th>0</th>\n",
       "      <td>4</td>\n",
       "      <td>0</td>\n",
       "      <td>1</td>\n",
       "      <td>0</td>\n",
       "      <td>0</td>\n",
       "      <td>0</td>\n",
       "      <td>0</td>\n",
       "      <td>0</td>\n",
       "      <td>0</td>\n",
       "      <td>0</td>\n",
       "      <td>...</td>\n",
       "      <td>0.0</td>\n",
       "      <td>0.0</td>\n",
       "      <td>0.0</td>\n",
       "      <td>1</td>\n",
       "      <td>0</td>\n",
       "      <td>0</td>\n",
       "      <td>0</td>\n",
       "      <td>0</td>\n",
       "      <td>0</td>\n",
       "      <td>0</td>\n",
       "    </tr>\n",
       "    <tr>\n",
       "      <th>1</th>\n",
       "      <td>16</td>\n",
       "      <td>1</td>\n",
       "      <td>0</td>\n",
       "      <td>1</td>\n",
       "      <td>1</td>\n",
       "      <td>1</td>\n",
       "      <td>1</td>\n",
       "      <td>0</td>\n",
       "      <td>0</td>\n",
       "      <td>0</td>\n",
       "      <td>...</td>\n",
       "      <td>0.0</td>\n",
       "      <td>0.0</td>\n",
       "      <td>0.0</td>\n",
       "      <td>0</td>\n",
       "      <td>0</td>\n",
       "      <td>0</td>\n",
       "      <td>1</td>\n",
       "      <td>0</td>\n",
       "      <td>0</td>\n",
       "      <td>0</td>\n",
       "    </tr>\n",
       "    <tr>\n",
       "      <th>2</th>\n",
       "      <td>2</td>\n",
       "      <td>0</td>\n",
       "      <td>0</td>\n",
       "      <td>0</td>\n",
       "      <td>0</td>\n",
       "      <td>1</td>\n",
       "      <td>1</td>\n",
       "      <td>0</td>\n",
       "      <td>0</td>\n",
       "      <td>0</td>\n",
       "      <td>...</td>\n",
       "      <td>0.0</td>\n",
       "      <td>0.0</td>\n",
       "      <td>0.0</td>\n",
       "      <td>0</td>\n",
       "      <td>0</td>\n",
       "      <td>0</td>\n",
       "      <td>1</td>\n",
       "      <td>0</td>\n",
       "      <td>0</td>\n",
       "      <td>0</td>\n",
       "    </tr>\n",
       "    <tr>\n",
       "      <th>3</th>\n",
       "      <td>6</td>\n",
       "      <td>0</td>\n",
       "      <td>0</td>\n",
       "      <td>0</td>\n",
       "      <td>0</td>\n",
       "      <td>0</td>\n",
       "      <td>0</td>\n",
       "      <td>0</td>\n",
       "      <td>0</td>\n",
       "      <td>0</td>\n",
       "      <td>...</td>\n",
       "      <td>0.0</td>\n",
       "      <td>0.0</td>\n",
       "      <td>0.0</td>\n",
       "      <td>0</td>\n",
       "      <td>1</td>\n",
       "      <td>0</td>\n",
       "      <td>0</td>\n",
       "      <td>0</td>\n",
       "      <td>0</td>\n",
       "      <td>0</td>\n",
       "    </tr>\n",
       "    <tr>\n",
       "      <th>4</th>\n",
       "      <td>4</td>\n",
       "      <td>0</td>\n",
       "      <td>0</td>\n",
       "      <td>0</td>\n",
       "      <td>1</td>\n",
       "      <td>0</td>\n",
       "      <td>0</td>\n",
       "      <td>0</td>\n",
       "      <td>0</td>\n",
       "      <td>0</td>\n",
       "      <td>...</td>\n",
       "      <td>0.0</td>\n",
       "      <td>0.0</td>\n",
       "      <td>0.0</td>\n",
       "      <td>0</td>\n",
       "      <td>1</td>\n",
       "      <td>0</td>\n",
       "      <td>0</td>\n",
       "      <td>0</td>\n",
       "      <td>0</td>\n",
       "      <td>0</td>\n",
       "    </tr>\n",
       "  </tbody>\n",
       "</table>\n",
       "<p>5 rows × 278 columns</p>\n",
       "</div>"
      ],
      "text/plain": [
       "   Select the title most similar to your current role (or most recent title if retired): - Selected Choice  \\\n",
       "0                                                  4                                                         \n",
       "1                                                 16                                                         \n",
       "2                                                  2                                                         \n",
       "3                                                  6                                                         \n",
       "4                                                  4                                                         \n",
       "\n",
       "   What programming languages do you use on a regular basis? (Select all that apply) - Selected Choice - Python  \\\n",
       "0                                                  0                                                              \n",
       "1                                                  1                                                              \n",
       "2                                                  0                                                              \n",
       "3                                                  0                                                              \n",
       "4                                                  0                                                              \n",
       "\n",
       "   What programming languages do you use on a regular basis? (Select all that apply) - Selected Choice - R  \\\n",
       "0                                                  1                                                         \n",
       "1                                                  0                                                         \n",
       "2                                                  0                                                         \n",
       "3                                                  0                                                         \n",
       "4                                                  0                                                         \n",
       "\n",
       "   What programming languages do you use on a regular basis? (Select all that apply) - Selected Choice - SQL  \\\n",
       "0                                                  0                                                           \n",
       "1                                                  1                                                           \n",
       "2                                                  0                                                           \n",
       "3                                                  0                                                           \n",
       "4                                                  0                                                           \n",
       "\n",
       "   What programming languages do you use on a regular basis? (Select all that apply) - Selected Choice - C  \\\n",
       "0                                                  0                                                         \n",
       "1                                                  1                                                         \n",
       "2                                                  0                                                         \n",
       "3                                                  0                                                         \n",
       "4                                                  1                                                         \n",
       "\n",
       "   What programming languages do you use on a regular basis? (Select all that apply) - Selected Choice - C++  \\\n",
       "0                                                  0                                                           \n",
       "1                                                  1                                                           \n",
       "2                                                  1                                                           \n",
       "3                                                  0                                                           \n",
       "4                                                  0                                                           \n",
       "\n",
       "   What programming languages do you use on a regular basis? (Select all that apply) - Selected Choice - Java  \\\n",
       "0                                                  0                                                            \n",
       "1                                                  1                                                            \n",
       "2                                                  1                                                            \n",
       "3                                                  0                                                            \n",
       "4                                                  0                                                            \n",
       "\n",
       "   What programming languages do you use on a regular basis? (Select all that apply) - Selected Choice - Javascript  \\\n",
       "0                                                  0                                                                  \n",
       "1                                                  0                                                                  \n",
       "2                                                  0                                                                  \n",
       "3                                                  0                                                                  \n",
       "4                                                  0                                                                  \n",
       "\n",
       "   What programming languages do you use on a regular basis? (Select all that apply) - Selected Choice - Julia  \\\n",
       "0                                                  0                                                             \n",
       "1                                                  0                                                             \n",
       "2                                                  0                                                             \n",
       "3                                                  0                                                             \n",
       "4                                                  0                                                             \n",
       "\n",
       "   What programming languages do you use on a regular basis? (Select all that apply) - Selected Choice - Swift  \\\n",
       "0                                                  0                                                             \n",
       "1                                                  0                                                             \n",
       "2                                                  0                                                             \n",
       "3                                                  0                                                             \n",
       "4                                                  0                                                             \n",
       "\n",
       "   ...  Uses Business Intel tools  Uses Big Data Products  \\\n",
       "0  ...                        0.0                     0.0   \n",
       "1  ...                        0.0                     0.0   \n",
       "2  ...                        0.0                     0.0   \n",
       "3  ...                        0.0                     0.0   \n",
       "4  ...                        0.0                     0.0   \n",
       "\n",
       "   Has Managed ML tools  \\\n",
       "0                   0.0   \n",
       "1                   0.0   \n",
       "2                   0.0   \n",
       "3                   0.0   \n",
       "4                   0.0   \n",
       "\n",
       "   What is the highest level of formal education that you have attained or plan to attain within the next 2 years?_Bachelors  \\\n",
       "0                                                  1                                                                           \n",
       "1                                                  0                                                                           \n",
       "2                                                  0                                                                           \n",
       "3                                                  0                                                                           \n",
       "4                                                  0                                                                           \n",
       "\n",
       "   What is the highest level of formal education that you have attained or plan to attain within the next 2 years?_Doctorate  \\\n",
       "0                                                  0                                                                           \n",
       "1                                                  0                                                                           \n",
       "2                                                  0                                                                           \n",
       "3                                                  1                                                                           \n",
       "4                                                  1                                                                           \n",
       "\n",
       "   What is the highest level of formal education that you have attained or plan to attain within the next 2 years?_High-School  \\\n",
       "0                                                  0                                                                             \n",
       "1                                                  0                                                                             \n",
       "2                                                  0                                                                             \n",
       "3                                                  0                                                                             \n",
       "4                                                  0                                                                             \n",
       "\n",
       "   What is the highest level of formal education that you have attained or plan to attain within the next 2 years?_Masters  \\\n",
       "0                                                  0                                                                         \n",
       "1                                                  1                                                                         \n",
       "2                                                  1                                                                         \n",
       "3                                                  0                                                                         \n",
       "4                                                  0                                                                         \n",
       "\n",
       "   What is the highest level of formal education that you have attained or plan to attain within the next 2 years?_No formal education past high school  \\\n",
       "0                                                  0                                                                                                      \n",
       "1                                                  0                                                                                                      \n",
       "2                                                  0                                                                                                      \n",
       "3                                                  0                                                                                                      \n",
       "4                                                  0                                                                                                      \n",
       "\n",
       "   What is the highest level of formal education that you have attained or plan to attain within the next 2 years?_None  \\\n",
       "0                                                  0                                                                      \n",
       "1                                                  0                                                                      \n",
       "2                                                  0                                                                      \n",
       "3                                                  0                                                                      \n",
       "4                                                  0                                                                      \n",
       "\n",
       "   What is the highest level of formal education that you have attained or plan to attain within the next 2 years?_Professional degree  \n",
       "0                                                  0                                                                                    \n",
       "1                                                  0                                                                                    \n",
       "2                                                  0                                                                                    \n",
       "3                                                  0                                                                                    \n",
       "4                                                  0                                                                                    \n",
       "\n",
       "[5 rows x 278 columns]"
      ]
     },
     "execution_count": 18,
     "metadata": {},
     "output_type": "execute_result"
    }
   ],
   "source": [
    "encode_dict = gen_dict(encode_df)\n",
    "encode_df = drop_cols([0, 1, 2, 3, 5], encode_df, index_label=True)\n",
    "encode_df.head()"
   ]
  },
  {
   "cell_type": "markdown",
   "id": "367208fb-9f23-4eff-ad3f-5982971e898f",
   "metadata": {},
   "source": [
    "#### Target Labels Generation"
   ]
  },
  {
   "cell_type": "code",
   "execution_count": 19,
   "id": "3eb58399-4091-46da-9974-351b51cc381e",
   "metadata": {
    "tags": []
   },
   "outputs": [],
   "source": [
    "feat_df = encode_df.copy(deep=True)"
   ]
  },
  {
   "cell_type": "code",
   "execution_count": 20,
   "id": "ad8ba51f-d905-48f5-9f85-304fe879592c",
   "metadata": {
    "collapsed": true,
    "jupyter": {
     "outputs_hidden": true
    },
    "tags": []
   },
   "outputs": [
    {
     "data": {
      "text/plain": [
       "{0: 'What is your age (# years)?',\n",
       " 1: 'What is your gender? - Selected Choice',\n",
       " 2: 'In which country do you currently reside?',\n",
       " 3: 'What is the highest level of formal education that you have attained or plan to attain within the next 2 years?',\n",
       " 4: 'Select the title most similar to your current role (or most recent title if retired): - Selected Choice',\n",
       " 5: 'For how many years have you been writing code and/or programming?',\n",
       " 6: 'What programming languages do you use on a regular basis? (Select all that apply) - Selected Choice - Python',\n",
       " 7: 'What programming languages do you use on a regular basis? (Select all that apply) - Selected Choice - R',\n",
       " 8: 'What programming languages do you use on a regular basis? (Select all that apply) - Selected Choice - SQL',\n",
       " 9: 'What programming languages do you use on a regular basis? (Select all that apply) - Selected Choice - C',\n",
       " 10: 'What programming languages do you use on a regular basis? (Select all that apply) - Selected Choice - C++',\n",
       " 11: 'What programming languages do you use on a regular basis? (Select all that apply) - Selected Choice - Java',\n",
       " 12: 'What programming languages do you use on a regular basis? (Select all that apply) - Selected Choice - Javascript',\n",
       " 13: 'What programming languages do you use on a regular basis? (Select all that apply) - Selected Choice - Julia',\n",
       " 14: 'What programming languages do you use on a regular basis? (Select all that apply) - Selected Choice - Swift',\n",
       " 15: 'What programming languages do you use on a regular basis? (Select all that apply) - Selected Choice - Bash',\n",
       " 16: 'What programming languages do you use on a regular basis? (Select all that apply) - Selected Choice - MATLAB',\n",
       " 17: 'What programming languages do you use on a regular basis? (Select all that apply) - Selected Choice - None',\n",
       " 18: 'What programming languages do you use on a regular basis? (Select all that apply) - Selected Choice - Other',\n",
       " 19: 'What programming language would you recommend an aspiring data scientist to learn first? - Selected Choice',\n",
       " 20: \"Which of the following integrated development environments (IDE's) do you use on a regular basis?  (Select all that apply) - Selected Choice - Jupyter (JupyterLab, Jupyter Notebooks, etc) \",\n",
       " 21: \"Which of the following integrated development environments (IDE's) do you use on a regular basis?  (Select all that apply) - Selected Choice -  RStudio \",\n",
       " 22: \"Which of the following integrated development environments (IDE's) do you use on a regular basis?  (Select all that apply) - Selected Choice -  Visual Studio / Visual Studio Code \",\n",
       " 23: \"Which of the following integrated development environments (IDE's) do you use on a regular basis?  (Select all that apply) - Selected Choice -  PyCharm \",\n",
       " 24: \"Which of the following integrated development environments (IDE's) do you use on a regular basis?  (Select all that apply) - Selected Choice -   Spyder  \",\n",
       " 25: \"Which of the following integrated development environments (IDE's) do you use on a regular basis?  (Select all that apply) - Selected Choice -   Notepad++  \",\n",
       " 26: \"Which of the following integrated development environments (IDE's) do you use on a regular basis?  (Select all that apply) - Selected Choice -   Sublime Text  \",\n",
       " 27: \"Which of the following integrated development environments (IDE's) do you use on a regular basis?  (Select all that apply) - Selected Choice -   Vim / Emacs  \",\n",
       " 28: \"Which of the following integrated development environments (IDE's) do you use on a regular basis?  (Select all that apply) - Selected Choice -  MATLAB \",\n",
       " 29: \"Which of the following integrated development environments (IDE's) do you use on a regular basis?  (Select all that apply) - Selected Choice - None\",\n",
       " 30: \"Which of the following integrated development environments (IDE's) do you use on a regular basis?  (Select all that apply) - Selected Choice - Other\",\n",
       " 31: 'Which of the following hosted notebook products do you use on a regular basis?  (Select all that apply) - Selected Choice -  Kaggle Notebooks',\n",
       " 32: 'Which of the following hosted notebook products do you use on a regular basis?  (Select all that apply) - Selected Choice - Colab Notebooks',\n",
       " 33: 'Which of the following hosted notebook products do you use on a regular basis?  (Select all that apply) - Selected Choice - Azure Notebooks',\n",
       " 34: 'Which of the following hosted notebook products do you use on a regular basis?  (Select all that apply) - Selected Choice -  Paperspace / Gradient ',\n",
       " 35: 'Which of the following hosted notebook products do you use on a regular basis?  (Select all that apply) - Selected Choice -  Binder / JupyterHub ',\n",
       " 36: 'Which of the following hosted notebook products do you use on a regular basis?  (Select all that apply) - Selected Choice -  Code Ocean ',\n",
       " 37: 'Which of the following hosted notebook products do you use on a regular basis?  (Select all that apply) - Selected Choice -  IBM Watson Studio ',\n",
       " 38: 'Which of the following hosted notebook products do you use on a regular basis?  (Select all that apply) - Selected Choice -  Amazon Sagemaker Studio Notebooks ',\n",
       " 39: 'Which of the following hosted notebook products do you use on a regular basis?  (Select all that apply) - Selected Choice -  Amazon EMR Notebooks ',\n",
       " 40: 'Which of the following hosted notebook products do you use on a regular basis?  (Select all that apply) - Selected Choice - Google Cloud Notebooks (AI Platform / Vertex AI) ',\n",
       " 41: 'Which of the following hosted notebook products do you use on a regular basis?  (Select all that apply) - Selected Choice - Google Cloud Datalab',\n",
       " 42: 'Which of the following hosted notebook products do you use on a regular basis?  (Select all that apply) - Selected Choice -  Databricks Collaborative Notebooks ',\n",
       " 43: 'Which of the following hosted notebook products do you use on a regular basis?  (Select all that apply) - Selected Choice - None',\n",
       " 44: 'Which of the following hosted notebook products do you use on a regular basis?  (Select all that apply) - Selected Choice - Other',\n",
       " 45: 'What type of computing platform do you use most often for your data science projects? - Selected Choice',\n",
       " 46: 'Which types of specialized hardware do you use on a regular basis?  (Select all that apply) - Selected Choice - CPUs',\n",
       " 47: 'Which types of specialized hardware do you use on a regular basis?  (Select all that apply) - Selected Choice -  NVIDIA GPUs ',\n",
       " 48: 'Which types of specialized hardware do you use on a regular basis?  (Select all that apply) - Selected Choice -  Google Cloud TPUs ',\n",
       " 49: 'Which types of specialized hardware do you use on a regular basis?  (Select all that apply) - Selected Choice - None',\n",
       " 50: 'Which types of specialized hardware do you use on a regular basis?  (Select all that apply) - Selected Choice - Other',\n",
       " 51: 'Approximately how many times have you used a TPU (tensor processing unit)?',\n",
       " 52: 'What data visualization libraries or tools do you use on a regular basis?  (Select all that apply) - Selected Choice -  Matplotlib ',\n",
       " 53: 'What data visualization libraries or tools do you use on a regular basis?  (Select all that apply) - Selected Choice -  Seaborn ',\n",
       " 54: 'What data visualization libraries or tools do you use on a regular basis?  (Select all that apply) - Selected Choice -  Plotly / Plotly Express ',\n",
       " 55: 'What data visualization libraries or tools do you use on a regular basis?  (Select all that apply) - Selected Choice -  Ggplot / ggplot2 ',\n",
       " 56: 'What data visualization libraries or tools do you use on a regular basis?  (Select all that apply) - Selected Choice -  Shiny ',\n",
       " 57: 'What data visualization libraries or tools do you use on a regular basis?  (Select all that apply) - Selected Choice -  D3 js ',\n",
       " 58: 'What data visualization libraries or tools do you use on a regular basis?  (Select all that apply) - Selected Choice -  Altair ',\n",
       " 59: 'What data visualization libraries or tools do you use on a regular basis?  (Select all that apply) - Selected Choice -  Bokeh ',\n",
       " 60: 'What data visualization libraries or tools do you use on a regular basis?  (Select all that apply) - Selected Choice -  Geoplotlib ',\n",
       " 61: 'What data visualization libraries or tools do you use on a regular basis?  (Select all that apply) - Selected Choice -  Leaflet / Folium ',\n",
       " 62: 'What data visualization libraries or tools do you use on a regular basis?  (Select all that apply) - Selected Choice - None',\n",
       " 63: 'What data visualization libraries or tools do you use on a regular basis?  (Select all that apply) - Selected Choice - Other',\n",
       " 64: 'For how many years have you used machine learning methods?',\n",
       " 65: 'Which of the following machine learning frameworks do you use on a regular basis? (Select all that apply) - Selected Choice -   Scikit-learn ',\n",
       " 66: 'Which of the following machine learning frameworks do you use on a regular basis? (Select all that apply) - Selected Choice -   TensorFlow ',\n",
       " 67: 'Which of the following machine learning frameworks do you use on a regular basis? (Select all that apply) - Selected Choice -  Keras ',\n",
       " 68: 'Which of the following machine learning frameworks do you use on a regular basis? (Select all that apply) - Selected Choice -  PyTorch ',\n",
       " 69: 'Which of the following machine learning frameworks do you use on a regular basis? (Select all that apply) - Selected Choice -  Fast.ai ',\n",
       " 70: 'Which of the following machine learning frameworks do you use on a regular basis? (Select all that apply) - Selected Choice -  MXNet ',\n",
       " 71: 'Which of the following machine learning frameworks do you use on a regular basis? (Select all that apply) - Selected Choice -  Xgboost ',\n",
       " 72: 'Which of the following machine learning frameworks do you use on a regular basis? (Select all that apply) - Selected Choice -  LightGBM ',\n",
       " 73: 'Which of the following machine learning frameworks do you use on a regular basis? (Select all that apply) - Selected Choice -  CatBoost ',\n",
       " 74: 'Which of the following machine learning frameworks do you use on a regular basis? (Select all that apply) - Selected Choice -  Prophet ',\n",
       " 75: 'Which of the following machine learning frameworks do you use on a regular basis? (Select all that apply) - Selected Choice -  H2O 3 ',\n",
       " 76: 'Which of the following machine learning frameworks do you use on a regular basis? (Select all that apply) - Selected Choice -  Caret ',\n",
       " 77: 'Which of the following machine learning frameworks do you use on a regular basis? (Select all that apply) - Selected Choice -  Tidymodels ',\n",
       " 78: 'Which of the following machine learning frameworks do you use on a regular basis? (Select all that apply) - Selected Choice -  JAX ',\n",
       " 79: 'Which of the following machine learning frameworks do you use on a regular basis? (Select all that apply) - Selected Choice - None',\n",
       " 80: 'Which of the following machine learning frameworks do you use on a regular basis? (Select all that apply) - Selected Choice - Other',\n",
       " 81: 'Which of the following ML algorithms do you use on a regular basis? (Select all that apply): - Selected Choice - Linear or Logistic Regression',\n",
       " 82: 'Which of the following ML algorithms do you use on a regular basis? (Select all that apply): - Selected Choice - Decision Trees or Random Forests',\n",
       " 83: 'Which of the following ML algorithms do you use on a regular basis? (Select all that apply): - Selected Choice - Gradient Boosting Machines (xgboost, lightgbm, etc)',\n",
       " 84: 'Which of the following ML algorithms do you use on a regular basis? (Select all that apply): - Selected Choice - Bayesian Approaches',\n",
       " 85: 'Which of the following ML algorithms do you use on a regular basis? (Select all that apply): - Selected Choice - Evolutionary Approaches',\n",
       " 86: 'Which of the following ML algorithms do you use on a regular basis? (Select all that apply): - Selected Choice - Dense Neural Networks (MLPs, etc)',\n",
       " 87: 'Which of the following ML algorithms do you use on a regular basis? (Select all that apply): - Selected Choice - Convolutional Neural Networks',\n",
       " 88: 'Which of the following ML algorithms do you use on a regular basis? (Select all that apply): - Selected Choice - Generative Adversarial Networks',\n",
       " 89: 'Which of the following ML algorithms do you use on a regular basis? (Select all that apply): - Selected Choice - Recurrent Neural Networks',\n",
       " 90: 'Which of the following ML algorithms do you use on a regular basis? (Select all that apply): - Selected Choice - Transformer Networks (BERT, gpt-3, etc)',\n",
       " 91: 'Which of the following ML algorithms do you use on a regular basis? (Select all that apply): - Selected Choice - None',\n",
       " 92: 'Which of the following ML algorithms do you use on a regular basis? (Select all that apply): - Selected Choice - Other',\n",
       " 93: 'Which categories of computer vision methods do you use on a regular basis?  (Select all that apply) - Selected Choice - General purpose image/video tools (PIL, cv2, skimage, etc)',\n",
       " 94: 'Which categories of computer vision methods do you use on a regular basis?  (Select all that apply) - Selected Choice - Image segmentation methods (U-Net, Mask R-CNN, etc)',\n",
       " 95: 'Which categories of computer vision methods do you use on a regular basis?  (Select all that apply) - Selected Choice - Object detection methods (YOLOv3, RetinaNet, etc)',\n",
       " 96: 'Which categories of computer vision methods do you use on a regular basis?  (Select all that apply) - Selected Choice - Image classification and other general purpose networks (VGG, Inception, ResNet, ResNeXt, NASNet, EfficientNet, etc)',\n",
       " 97: 'Which categories of computer vision methods do you use on a regular basis?  (Select all that apply) - Selected Choice - Generative Networks (GAN, VAE, etc)',\n",
       " 98: 'Which categories of computer vision methods do you use on a regular basis?  (Select all that apply) - Selected Choice - None',\n",
       " 99: 'Which categories of computer vision methods do you use on a regular basis?  (Select all that apply) - Selected Choice - Other',\n",
       " 100: 'Which of the following natural language processing (NLP) methods do you use on a regular basis?  (Select all that apply) - Selected Choice - Word embeddings/vectors (GLoVe, fastText, word2vec)',\n",
       " 101: 'Which of the following natural language processing (NLP) methods do you use on a regular basis?  (Select all that apply) - Selected Choice - Encoder-decorder models (seq2seq, vanilla transformers)',\n",
       " 102: 'Which of the following natural language processing (NLP) methods do you use on a regular basis?  (Select all that apply) - Selected Choice - Contextualized embeddings (ELMo, CoVe)',\n",
       " 103: 'Which of the following natural language processing (NLP) methods do you use on a regular basis?  (Select all that apply) - Selected Choice - Transformer language models (GPT-3, BERT, XLnet, etc)',\n",
       " 104: 'Which of the following natural language processing (NLP) methods do you use on a regular basis?  (Select all that apply) - Selected Choice - None',\n",
       " 105: 'Which of the following natural language processing (NLP) methods do you use on a regular basis?  (Select all that apply) - Selected Choice - Other',\n",
       " 106: 'In what industry is your current employer/contract (or your most recent employer if retired)? - Selected Choice',\n",
       " 107: 'What is the size of the company where you are employed?',\n",
       " 108: 'Approximately how many individuals are responsible for data science workloads at your place of business?',\n",
       " 109: 'Does your current employer incorporate machine learning methods into their business?',\n",
       " 110: 'Select any activities that make up an important part of your role at work: (Select all that apply) - Selected Choice - Analyze and understand data to influence product or business decisions',\n",
       " 111: 'Select any activities that make up an important part of your role at work: (Select all that apply) - Selected Choice - Build and/or run the data infrastructure that my business uses for storing, analyzing, and operationalizing data',\n",
       " 112: 'Select any activities that make up an important part of your role at work: (Select all that apply) - Selected Choice - Build prototypes to explore applying machine learning to new areas',\n",
       " 113: 'Select any activities that make up an important part of your role at work: (Select all that apply) - Selected Choice - Build and/or run a machine learning service that operationally improves my product or workflows',\n",
       " 114: 'Select any activities that make up an important part of your role at work: (Select all that apply) - Selected Choice - Experimentation and iteration to improve existing ML models',\n",
       " 115: 'Select any activities that make up an important part of your role at work: (Select all that apply) - Selected Choice - Do research that advances the state of the art of machine learning',\n",
       " 116: 'Select any activities that make up an important part of your role at work: (Select all that apply) - Selected Choice - None of these activities are an important part of my role at work',\n",
       " 117: 'Select any activities that make up an important part of your role at work: (Select all that apply) - Selected Choice - Other',\n",
       " 118: 'What is your current yearly compensation (approximate $USD)?',\n",
       " 119: 'Approximately how much money have you (or your team) spent on machine learning and/or cloud computing services at home (or at work) in the past 5 years (approximate $USD)?',\n",
       " 120: 'Which of the following cloud computing platforms do you use on a regular basis? (Select all that apply) - Selected Choice -  Amazon Web Services (AWS) ',\n",
       " 121: 'Which of the following cloud computing platforms do you use on a regular basis? (Select all that apply) - Selected Choice -  Microsoft Azure ',\n",
       " 122: 'Which of the following cloud computing platforms do you use on a regular basis? (Select all that apply) - Selected Choice -  Google Cloud Platform (GCP) ',\n",
       " 123: 'Which of the following cloud computing platforms do you use on a regular basis? (Select all that apply) - Selected Choice -  IBM Cloud / Red Hat ',\n",
       " 124: 'Which of the following cloud computing platforms do you use on a regular basis? (Select all that apply) - Selected Choice -  Oracle Cloud ',\n",
       " 125: 'Which of the following cloud computing platforms do you use on a regular basis? (Select all that apply) - Selected Choice -  SAP Cloud ',\n",
       " 126: 'Which of the following cloud computing platforms do you use on a regular basis? (Select all that apply) - Selected Choice -  Salesforce Cloud ',\n",
       " 127: 'Which of the following cloud computing platforms do you use on a regular basis? (Select all that apply) - Selected Choice -  VMware Cloud ',\n",
       " 128: 'Which of the following cloud computing platforms do you use on a regular basis? (Select all that apply) - Selected Choice -  Alibaba Cloud ',\n",
       " 129: 'Which of the following cloud computing platforms do you use on a regular basis? (Select all that apply) - Selected Choice -  Tencent Cloud ',\n",
       " 130: 'Which of the following cloud computing platforms do you use on a regular basis? (Select all that apply) - Selected Choice - None',\n",
       " 131: 'Which of the following cloud computing platforms do you use on a regular basis? (Select all that apply) - Selected Choice - Other',\n",
       " 132: 'Do you use any of the following managed machine learning products on a regular basis? (Select all that apply) - Selected Choice -  Amazon SageMaker ',\n",
       " 133: 'Do you use any of the following managed machine learning products on a regular basis? (Select all that apply) - Selected Choice -  Azure Machine Learning Studio ',\n",
       " 134: 'Do you use any of the following managed machine learning products on a regular basis? (Select all that apply) - Selected Choice - No / None',\n",
       " 135: 'Do you use any of the following managed machine learning products on a regular basis? (Select all that apply) - Selected Choice - Other',\n",
       " 136: 'Which of the following big data products (relational databases, data warehouses, data lakes, or similar) do you use on a regular basis? (Select all that apply) - Selected Choice - MySQL ',\n",
       " 137: 'Which of the following big data products (relational databases, data warehouses, data lakes, or similar) do you use on a regular basis? (Select all that apply) - Selected Choice - PostgreSQL ',\n",
       " 138: 'Which of the following big data products (relational databases, data warehouses, data lakes, or similar) do you use on a regular basis? (Select all that apply) - Selected Choice - SQLite ',\n",
       " 139: 'Which of the following big data products (relational databases, data warehouses, data lakes, or similar) do you use on a regular basis? (Select all that apply) - Selected Choice - Oracle Database ',\n",
       " 140: 'Which of the following big data products (relational databases, data warehouses, data lakes, or similar) do you use on a regular basis? (Select all that apply) - Selected Choice - MongoDB ',\n",
       " 141: 'Which of the following big data products (relational databases, data warehouses, data lakes, or similar) do you use on a regular basis? (Select all that apply) - Selected Choice - Snowflake ',\n",
       " 142: 'Which of the following big data products (relational databases, data warehouses, data lakes, or similar) do you use on a regular basis? (Select all that apply) - Selected Choice - IBM Db2 ',\n",
       " 143: 'Which of the following big data products (relational databases, data warehouses, data lakes, or similar) do you use on a regular basis? (Select all that apply) - Selected Choice - Microsoft SQL Server ',\n",
       " 144: 'Which of the following big data products (relational databases, data warehouses, data lakes, or similar) do you use on a regular basis? (Select all that apply) - Selected Choice - Amazon Redshift ',\n",
       " 145: 'Which of the following big data products (relational databases, data warehouses, data lakes, or similar) do you use on a regular basis? (Select all that apply) - Selected Choice - Amazon DynamoDB ',\n",
       " 146: 'Which of the following big data products (relational databases, data warehouses, data lakes, or similar) do you use on a regular basis? (Select all that apply) - Selected Choice - Google Cloud BigQuery ',\n",
       " 147: 'Which of the following big data products (relational databases, data warehouses, data lakes, or similar) do you use on a regular basis? (Select all that apply) - Selected Choice - Google Cloud SQL ',\n",
       " 148: 'Which of the following big data products (relational databases, data warehouses, data lakes, or similar) do you use on a regular basis? (Select all that apply) - Selected Choice - Google Cloud Firestore ',\n",
       " 149: 'Which of the following big data products (relational databases, data warehouses, data lakes, or similar) do you use on a regular basis? (Select all that apply) - Selected Choice - None',\n",
       " 150: 'Which of the following big data products (relational databases, data warehouses, data lakes, or similar) do you use on a regular basis? (Select all that apply) - Selected Choice - Other',\n",
       " 151: 'Which of the following big data products (relational database, data warehouse, data lake, or similar) do you use most often? - Selected Choice',\n",
       " 152: 'Which of the following business intelligence tools do you use on a regular basis? (Select all that apply) - Selected Choice - Amazon QuickSight',\n",
       " 153: 'Which of the following business intelligence tools do you use on a regular basis? (Select all that apply) - Selected Choice - Microsoft Power BI',\n",
       " 154: 'Which of the following business intelligence tools do you use on a regular basis? (Select all that apply) - Selected Choice - Google Data Studio',\n",
       " 155: 'Which of the following business intelligence tools do you use on a regular basis? (Select all that apply) - Selected Choice - Looker',\n",
       " 156: 'Which of the following business intelligence tools do you use on a regular basis? (Select all that apply) - Selected Choice - Tableau',\n",
       " 157: 'Which of the following business intelligence tools do you use on a regular basis? (Select all that apply) - Selected Choice - Salesforce',\n",
       " 158: 'Which of the following business intelligence tools do you use on a regular basis? (Select all that apply) - Selected Choice - Qlik',\n",
       " 159: 'Which of the following business intelligence tools do you use on a regular basis? (Select all that apply) - Selected Choice - Domo',\n",
       " 160: 'Which of the following business intelligence tools do you use on a regular basis? (Select all that apply) - Selected Choice - TIBCO Spotfire',\n",
       " 161: 'Which of the following business intelligence tools do you use on a regular basis? (Select all that apply) - Selected Choice - Alteryx ',\n",
       " 162: 'Which of the following business intelligence tools do you use on a regular basis? (Select all that apply) - Selected Choice - Sisense ',\n",
       " 163: 'Which of the following business intelligence tools do you use on a regular basis? (Select all that apply) - Selected Choice - SAP Analytics Cloud ',\n",
       " 164: 'Which of the following business intelligence tools do you use on a regular basis? (Select all that apply) - Selected Choice - None',\n",
       " 165: 'Which of the following business intelligence tools do you use on a regular basis? (Select all that apply) - Selected Choice - Other',\n",
       " 166: 'Which of the following business intelligence tools do you use most often? - Selected Choice',\n",
       " 167: 'Do you use any automated machine learning tools (or partial AutoML tools) on a regular basis?  (Select all that apply) - Selected Choice - Automated data augmentation (e.g. imgaug, albumentations)',\n",
       " 168: 'Do you use any automated machine learning tools (or partial AutoML tools) on a regular basis?  (Select all that apply) - Selected Choice - Automated feature engineering/selection (e.g. tpot, boruta_py)',\n",
       " 169: 'Do you use any automated machine learning tools (or partial AutoML tools) on a regular basis?  (Select all that apply) - Selected Choice - Automated model selection (e.g. auto-sklearn, xcessiv)',\n",
       " 170: 'Do you use any automated machine learning tools (or partial AutoML tools) on a regular basis?  (Select all that apply) - Selected Choice - Automated model architecture searches (e.g. darts, enas)',\n",
       " 171: 'Do you use any automated machine learning tools (or partial AutoML tools) on a regular basis?  (Select all that apply) - Selected Choice - Automated hyperparameter tuning (e.g. hyperopt, ray.tune, Vizier)',\n",
       " 172: 'Do you use any automated machine learning tools (or partial AutoML tools) on a regular basis?  (Select all that apply) - Selected Choice - Automation of full ML pipelines (e.g. Google AutoML, H2O Driverless AI)',\n",
       " 173: 'Do you use any automated machine learning tools (or partial AutoML tools) on a regular basis?  (Select all that apply) - Selected Choice - No / None',\n",
       " 174: 'Do you use any automated machine learning tools (or partial AutoML tools) on a regular basis?  (Select all that apply) - Selected Choice - Other',\n",
       " 175: 'Which of the following automated machine learning tools (or partial AutoML tools) do you use on a regular basis?  (Select all that apply) - Selected Choice -  Google Cloud AutoML ',\n",
       " 176: 'Which of the following automated machine learning tools (or partial AutoML tools) do you use on a regular basis?  (Select all that apply) - Selected Choice -  H2O Driverless AI  ',\n",
       " 177: 'Which of the following automated machine learning tools (or partial AutoML tools) do you use on a regular basis?  (Select all that apply) - Selected Choice -  Databricks AutoML ',\n",
       " 178: 'Which of the following automated machine learning tools (or partial AutoML tools) do you use on a regular basis?  (Select all that apply) - Selected Choice -  DataRobot AutoML ',\n",
       " 179: 'Which of the following automated machine learning tools (or partial AutoML tools) do you use on a regular basis?  (Select all that apply) - Selected Choice - No / None',\n",
       " 180: 'Which of the following automated machine learning tools (or partial AutoML tools) do you use on a regular basis?  (Select all that apply) - Selected Choice - Other',\n",
       " 181: 'Do you use any tools to help manage machine learning experiments? (Select all that apply) - Selected Choice -  Neptune.ai ',\n",
       " 182: 'Do you use any tools to help manage machine learning experiments? (Select all that apply) - Selected Choice -  Weights & Biases ',\n",
       " 183: 'Do you use any tools to help manage machine learning experiments? (Select all that apply) - Selected Choice -  Comet.ml ',\n",
       " 184: 'Do you use any tools to help manage machine learning experiments? (Select all that apply) - Selected Choice -  Sacred + Omniboard ',\n",
       " 185: 'Do you use any tools to help manage machine learning experiments? (Select all that apply) - Selected Choice -  TensorBoard ',\n",
       " 186: 'Do you use any tools to help manage machine learning experiments? (Select all that apply) - Selected Choice -  Guild.ai ',\n",
       " 187: 'Do you use any tools to help manage machine learning experiments? (Select all that apply) - Selected Choice -  Polyaxon ',\n",
       " 188: 'Do you use any tools to help manage machine learning experiments? (Select all that apply) - Selected Choice -  Domino Model Monitor ',\n",
       " 189: 'Do you use any tools to help manage machine learning experiments? (Select all that apply) - Selected Choice - No / None',\n",
       " 190: 'Do you use any tools to help manage machine learning experiments? (Select all that apply) - Selected Choice - Other',\n",
       " 191: 'Where do you publicly share your data analysis or machine learning applications? (Select all that apply) - Selected Choice -  Plotly Dash ',\n",
       " 192: 'Where do you publicly share your data analysis or machine learning applications? (Select all that apply) - Selected Choice -  Streamlit ',\n",
       " 193: 'Where do you publicly share your data analysis or machine learning applications? (Select all that apply) - Selected Choice -  NBViewer ',\n",
       " 194: 'Where do you publicly share your data analysis or machine learning applications? (Select all that apply) - Selected Choice -  GitHub ',\n",
       " 195: 'Where do you publicly share your data analysis or machine learning applications? (Select all that apply) - Selected Choice -  Personal blog ',\n",
       " 196: 'Where do you publicly share your data analysis or machine learning applications? (Select all that apply) - Selected Choice -  Kaggle ',\n",
       " 197: 'Where do you publicly share your data analysis or machine learning applications? (Select all that apply) - Selected Choice -  Colab ',\n",
       " 198: 'Where do you publicly share your data analysis or machine learning applications? (Select all that apply) - Selected Choice -  Shiny ',\n",
       " 199: 'Where do you publicly share your data analysis or machine learning applications? (Select all that apply) - Selected Choice - I do not share my work publicly',\n",
       " 200: 'Where do you publicly share your data analysis or machine learning applications? (Select all that apply) - Selected Choice - Other',\n",
       " 201: 'On which platforms have you begun or completed data science courses? (Select all that apply) - Selected Choice - Coursera',\n",
       " 202: 'On which platforms have you begun or completed data science courses? (Select all that apply) - Selected Choice - edX',\n",
       " 203: 'On which platforms have you begun or completed data science courses? (Select all that apply) - Selected Choice - Kaggle Learn Courses',\n",
       " 204: 'On which platforms have you begun or completed data science courses? (Select all that apply) - Selected Choice - DataCamp',\n",
       " 205: 'On which platforms have you begun or completed data science courses? (Select all that apply) - Selected Choice - Fast.ai',\n",
       " 206: 'On which platforms have you begun or completed data science courses? (Select all that apply) - Selected Choice - Udacity',\n",
       " 207: 'On which platforms have you begun or completed data science courses? (Select all that apply) - Selected Choice - Udemy',\n",
       " 208: 'On which platforms have you begun or completed data science courses? (Select all that apply) - Selected Choice - LinkedIn Learning',\n",
       " 209: 'On which platforms have you begun or completed data science courses? (Select all that apply) - Selected Choice - Cloud-certification programs (direct from AWS, Azure, GCP, or similar)',\n",
       " 210: 'On which platforms have you begun or completed data science courses? (Select all that apply) - Selected Choice - University Courses (resulting in a university degree)',\n",
       " 211: 'On which platforms have you begun or completed data science courses? (Select all that apply) - Selected Choice - None',\n",
       " 212: 'On which platforms have you begun or completed data science courses? (Select all that apply) - Selected Choice - Other',\n",
       " 213: 'What is the primary tool that you use at work or school to analyze data? (Include text response) - Selected Choice',\n",
       " 214: 'Who/what are your favorite media sources that report on data science topics? (Select all that apply) - Selected Choice - Twitter (data science influencers)',\n",
       " 215: \"Who/what are your favorite media sources that report on data science topics? (Select all that apply) - Selected Choice - Email newsletters (Data Elixir, O'Reilly Data & AI, etc)\",\n",
       " 216: 'Who/what are your favorite media sources that report on data science topics? (Select all that apply) - Selected Choice - Reddit (r/machinelearning, etc)',\n",
       " 217: 'Who/what are your favorite media sources that report on data science topics? (Select all that apply) - Selected Choice - Kaggle (notebooks, forums, etc)',\n",
       " 218: 'Who/what are your favorite media sources that report on data science topics? (Select all that apply) - Selected Choice - Course Forums (forums.fast.ai, Coursera forums, etc)',\n",
       " 219: 'Who/what are your favorite media sources that report on data science topics? (Select all that apply) - Selected Choice - YouTube (Kaggle YouTube, Cloud AI Adventures, etc)',\n",
       " 220: 'Who/what are your favorite media sources that report on data science topics? (Select all that apply) - Selected Choice - Podcasts (Chai Time Data Science, Oâ€™Reilly Data Show, etc)',\n",
       " 221: 'Who/what are your favorite media sources that report on data science topics? (Select all that apply) - Selected Choice - Blogs (Towards Data Science, Analytics Vidhya, etc)',\n",
       " 222: 'Who/what are your favorite media sources that report on data science topics? (Select all that apply) - Selected Choice - Journal Publications (peer-reviewed journals, conference proceedings, etc)',\n",
       " 223: 'Who/what are your favorite media sources that report on data science topics? (Select all that apply) - Selected Choice - Slack Communities (ods.ai, kagglenoobs, etc)',\n",
       " 224: 'Who/what are your favorite media sources that report on data science topics? (Select all that apply) - Selected Choice - None',\n",
       " 225: 'Who/what are your favorite media sources that report on data science topics? (Select all that apply) - Selected Choice - Other',\n",
       " 226: 'Which of the following cloud computing platforms do you hope to become more familiar with in the next 2 years? - Selected Choice -  Amazon Web Services (AWS) ',\n",
       " 227: 'Which of the following cloud computing platforms do you hope to become more familiar with in the next 2 years? - Selected Choice -  Microsoft Azure ',\n",
       " 228: 'Which of the following cloud computing platforms do you hope to become more familiar with in the next 2 years? - Selected Choice -  Google Cloud Platform (GCP) ',\n",
       " 229: 'Which of the following cloud computing platforms do you hope to become more familiar with in the next 2 years? - Selected Choice -  IBM Cloud / Red Hat ',\n",
       " 230: 'Which of the following cloud computing platforms do you hope to become more familiar with in the next 2 years? - Selected Choice -  Oracle Cloud ',\n",
       " 231: 'Which of the following cloud computing platforms do you hope to become more familiar with in the next 2 years? - Selected Choice -  SAP Cloud ',\n",
       " 232: 'Which of the following cloud computing platforms do you hope to become more familiar with in the next 2 years? - Selected Choice -  VMware Cloud ',\n",
       " 233: 'Which of the following cloud computing platforms do you hope to become more familiar with in the next 2 years? - Selected Choice -  Salesforce Cloud ',\n",
       " 234: 'Which of the following cloud computing platforms do you hope to become more familiar with in the next 2 years? - Selected Choice -  Alibaba Cloud ',\n",
       " 235: 'Which of the following cloud computing platforms do you hope to become more familiar with in the next 2 years? - Selected Choice -  Tencent Cloud ',\n",
       " 236: 'Which of the following cloud computing platforms do you hope to become more familiar with in the next 2 years? - Selected Choice - None',\n",
       " 237: 'Which of the following cloud computing platforms do you hope to become more familiar with in the next 2 years? - Selected Choice - Other',\n",
       " 238: 'Which of the following big data products (relational databases, data warehouses, data lakes, or similar) do you hope to become more familiar with in the next 2 years? (Select all that apply) - Selected Choice - MySQL ',\n",
       " 239: 'Which of the following big data products (relational databases, data warehouses, data lakes, or similar) do you hope to become more familiar with in the next 2 years? (Select all that apply) - Selected Choice - PostgreSQL ',\n",
       " 240: 'Which of the following big data products (relational databases, data warehouses, data lakes, or similar) do you hope to become more familiar with in the next 2 years? (Select all that apply) - Selected Choice - SQLite ',\n",
       " 241: 'Which of the following big data products (relational databases, data warehouses, data lakes, or similar) do you hope to become more familiar with in the next 2 years? (Select all that apply) - Selected Choice - Oracle Database ',\n",
       " 242: 'Which of the following big data products (relational databases, data warehouses, data lakes, or similar) do you hope to become more familiar with in the next 2 years? (Select all that apply) - Selected Choice - MongoDB ',\n",
       " 243: 'Which of the following big data products (relational databases, data warehouses, data lakes, or similar) do you hope to become more familiar with in the next 2 years? (Select all that apply) - Selected Choice - Snowflake ',\n",
       " 244: 'Which of the following big data products (relational databases, data warehouses, data lakes, or similar) do you hope to become more familiar with in the next 2 years? (Select all that apply) - Selected Choice - IBM Db2 ',\n",
       " 245: 'Which of the following big data products (relational databases, data warehouses, data lakes, or similar) do you hope to become more familiar with in the next 2 years? (Select all that apply) - Selected Choice - Microsoft SQL Server ',\n",
       " 246: 'Which of the following big data products (relational databases, data warehouses, data lakes, or similar) do you hope to become more familiar with in the next 2 years? (Select all that apply) - Selected Choice - Amazon Redshift ',\n",
       " 247: 'Which of the following big data products (relational databases, data warehouses, data lakes, or similar) do you hope to become more familiar with in the next 2 years? (Select all that apply) - Selected Choice - Amazon DynamoDB '}"
      ]
     },
     "execution_count": 20,
     "metadata": {},
     "output_type": "execute_result"
    }
   ],
   "source": [
    "feature_dict = gen_dict(data)\n",
    "feature_dict"
   ]
  },
  {
   "cell_type": "code",
   "execution_count": 21,
   "id": "d1cc7860-d258-4635-8e15-1d2a486a8a50",
   "metadata": {
    "tags": []
   },
   "outputs": [
    {
     "data": {
      "text/plain": [
       "Student                                 21242\n",
       "Data Scientist                          16910\n",
       "Software Engineer                       10252\n",
       "Data Analyst                             8489\n",
       "Other                                    8346\n",
       "0                                        6985\n",
       "Research Scientist                       5371\n",
       "Business Analyst                         4097\n",
       "Currently not employed                   3638\n",
       "Machine Learning Engineer                3192\n",
       "Data Engineer                            2466\n",
       "Product/Project Manager                  1843\n",
       "Not employed                             1784\n",
       "Software Developer/Software Engineer     1726\n",
       "Statistician                             1451\n",
       "Scientist/Researcher                      960\n",
       "Program/Project Manager                   849\n",
       "Consultant                                785\n",
       "DBA/Database Engineer                     780\n",
       "Researcher                                601\n",
       "Research Assistant                        600\n",
       "Manager                                   590\n",
       "Engineer                                  546\n",
       "Programmer                                448\n",
       "Chief Officer                             360\n",
       "Computer Scientist                        329\n",
       "Product Manager                           319\n",
       "Predictive Modeler                        176\n",
       "Developer Advocate                        117\n",
       "Data Miner                                115\n",
       "Marketing Analyst                         115\n",
       "Salesperson                               102\n",
       "Developer Relations/Advocacy               99\n",
       "Principal Investigator                     97\n",
       "Operations Research Practitioner           56\n",
       "Data Journalist                            20\n",
       "Name: Select the title most similar to your current role (or most recent title if retired): - Selected Choice, dtype: int64"
      ]
     },
     "execution_count": 21,
     "metadata": {},
     "output_type": "execute_result"
    }
   ],
   "source": [
    "data[feature_dict[4]].value_counts()"
   ]
  },
  {
   "cell_type": "code",
   "execution_count": 22,
   "id": "8adf6638-c6ad-49e1-97a6-aa0418bab075",
   "metadata": {
    "tags": []
   },
   "outputs": [],
   "source": [
    "feat_df[\"Target\"] = data[feature_dict[4]].copy()"
   ]
  },
  {
   "cell_type": "code",
   "execution_count": 23,
   "id": "b1a8bf5a-220d-4367-a435-5c3bf1be8404",
   "metadata": {
    "tags": []
   },
   "outputs": [],
   "source": [
    "se_list = colvals_config[\"software_engineer\"]\n",
    "research_eng = colvals_config[\"research_engineer\"]\n",
    "feat_df.loc[feat_df[\"Target\"].isin(se_list), \"Target\"] = \"Software Engineer\"\n",
    "feat_df.loc[feat_df[\"Target\"].isin(research_eng), \"Target\"] = \"Researcher\""
   ]
  },
  {
   "cell_type": "code",
   "execution_count": 24,
   "id": "0807328e-ca70-4588-9c06-c9357cbbe3ef",
   "metadata": {
    "tags": []
   },
   "outputs": [
    {
     "data": {
      "text/plain": [
       "(105856, 279)"
      ]
     },
     "execution_count": 24,
     "metadata": {},
     "output_type": "execute_result"
    }
   ],
   "source": [
    "feat_df.shape"
   ]
  },
  {
   "cell_type": "code",
   "execution_count": 25,
   "id": "c2d67230-bffb-4218-af3a-0ac9b804d43d",
   "metadata": {
    "tags": []
   },
   "outputs": [],
   "source": [
    "feat_df = feat_df.rename(columns={feat_df.columns[(feat_df.shape[1] - 1)]: \"Target\"})\n",
    "feat_df = feat_df[feat_df[\"Target\"] != \"Currently not employed\"]\n",
    "feat_df.loc[feat_df[\"Target\"] == 0, \"Target\"] = \"Student\"\n",
    "feat_df.loc[feat_df[\"Target\"] == 0, \"Target\"] = \"Student\"\n",
    "se_list = [\"Software Developer/Software Engineer\", \"Software Engineer\"]\n",
    "analyst = [\"Business Analyst\", \"Data Analyst\"]\n",
    "research_eng = [\"Researcher\", \"Scientist/Researcher\"]\n",
    "feat_df.loc[feat_df[\"Target\"].isin(se_list), \"Target\"] = \"Software Engineer\"\n",
    "feat_df.loc[feat_df[\"Target\"].isin(research_eng), \"Target\"] = \"Researcher\"\n",
    "feat_df.loc[feat_df[\"Target\"].isin(analyst), \"Target\"] = \"Data Analyst\"\n",
    "labels = [\n",
    "    \"Student\",\n",
    "    \"Data Scientist\",\n",
    "    \"Data Analyst\",\n",
    "    \"Software Engineer\",\n",
    "    \"Research Scientist\",\n",
    "    \"Machine Learning Engineer\",\n",
    "    \"Data Engineer\",\n",
    "    \"Product/Project Manager\",\n",
    "    \"Statistician\",\n",
    "]\n",
    "feat_df.loc[~feat_df[\"Target\"].isin(labels), \"Target\"] = \"Other\""
   ]
  },
  {
   "cell_type": "code",
   "execution_count": 26,
   "id": "24115011-95d8-464b-b603-715e7c6b067d",
   "metadata": {
    "tags": []
   },
   "outputs": [],
   "source": [
    "exclude_list = [\"Other\", \"Student\"]\n",
    "feat_df = feat_df[~feat_df[\"Target\"].isin(exclude_list)]"
   ]
  },
  {
   "cell_type": "code",
   "execution_count": 27,
   "id": "3779be30-fde2-49e9-84b1-6260d6bd49af",
   "metadata": {
    "tags": []
   },
   "outputs": [],
   "source": [
    "feat_df.to_parquet(\n",
    "    processed_data_dir.joinpath(\"Features_Labels-KaggleResponses.parquet\"), index=False\n",
    ")"
   ]
  },
  {
   "cell_type": "code",
   "execution_count": 28,
   "id": "6a701bc8-2aa6-4cd8-a2fc-3b13a8c0e5d9",
   "metadata": {
    "tags": []
   },
   "outputs": [
    {
     "data": {
      "text/plain": [
       "Data Scientist               16910\n",
       "Data Analyst                 12586\n",
       "Software Engineer            11978\n",
       "Research Scientist            5371\n",
       "Machine Learning Engineer     3192\n",
       "Data Engineer                 2466\n",
       "Product/Project Manager       1843\n",
       "Statistician                  1451\n",
       "Name: Target, dtype: int64"
      ]
     },
     "execution_count": 28,
     "metadata": {},
     "output_type": "execute_result"
    }
   ],
   "source": [
    "feat_df[\"Target\"].value_counts()"
   ]
  },
  {
   "cell_type": "code",
   "execution_count": 29,
   "id": "0e2cc753-81c1-4421-82cb-c6422506146b",
   "metadata": {
    "tags": []
   },
   "outputs": [],
   "source": [
    "le = LabelEncoder()\n",
    "feat_df[\"Target\"] = le.fit_transform(feat_df[\"Target\"])\n",
    "pickle.dump(le, open(artifacts_dir.joinpath(\"target_encoder_v2.pkl\"), \"wb\"))"
   ]
  },
  {
   "cell_type": "code",
   "execution_count": 30,
   "id": "57192e24-d97a-48eb-9838-13afbab3cb84",
   "metadata": {
    "tags": []
   },
   "outputs": [
    {
     "name": "stdout",
     "output_type": "stream",
     "text": [
      "{'Data Analyst': 0, 'Data Engineer': 1, 'Data Scientist': 2, 'Machine Learning Engineer': 3, 'Product/Project Manager': 4, 'Research Scientist': 5, 'Software Engineer': 6, 'Statistician': 7}\n"
     ]
    }
   ],
   "source": [
    "## Load the feature and label encoder\n",
    "file = open(artifacts_dir.joinpath(\"target_encoder_v2.pkl\"), \"rb\")\n",
    "label_obj = pickle.load(file)\n",
    "le_name_mapping = dict(zip(label_obj.classes_, label_obj.transform(label_obj.classes_)))\n",
    "print(le_name_mapping)"
   ]
  },
  {
   "cell_type": "code",
   "execution_count": 31,
   "id": "aa705948-86c7-4ce2-87d1-80164450765f",
   "metadata": {
    "tags": []
   },
   "outputs": [],
   "source": [
    "## Filter business analyst and other profiles : ml eng/dataeng/statistician/product eng\n",
    "\n",
    "\n",
    "def generate_additional_samples(\n",
    "    majority_df: pd.DataFrame, minority_df: pd.DataFrame, minority_label: int\n",
    ") -> pd.DataFrame:\n",
    "    concat_df = pd.concat([majority_df, minority_df], axis=0)\n",
    "    X = concat_df.iloc[:, 1:-1].values\n",
    "    y = concat_df[\"Target\"].values\n",
    "    resample = SMOTETomek(tomek=TomekLinks(sampling_strategy=\"majority\"))\n",
    "    X, y = resample.fit_resample(X, y)\n",
    "    sample_indices = [elem for elem in range(len(y)) if y[elem] == minority_label]\n",
    "    X = X[sample_indices]\n",
    "    y = y[sample_indices]\n",
    "    oversample_df = pd.DataFrame(X, columns=minority_df.iloc[:, 1:-1].columns)\n",
    "    oversample_df[\"Target\"] = y\n",
    "    return oversample_df\n",
    "\n",
    "\n",
    "research_df = generate_additional_samples(\n",
    "    feat_df[feat_df[\"Target\"] == 6], feat_df[feat_df[\"Target\"] == 5], 5\n",
    ")\n",
    "ml_df = generate_additional_samples(\n",
    "    feat_df[feat_df[\"Target\"] == 6], feat_df[feat_df[\"Target\"] == 3], 3\n",
    ")\n",
    "pm_df = generate_additional_samples(\n",
    "    feat_df[feat_df[\"Target\"] == 6], feat_df[feat_df[\"Target\"] == 4], 4\n",
    ")\n",
    "de_df = generate_additional_samples(\n",
    "    feat_df[feat_df[\"Target\"] == 6], feat_df[feat_df[\"Target\"] == 1], 1\n",
    ")\n",
    "stats_df = generate_additional_samples(\n",
    "    feat_df[feat_df[\"Target\"] == 6], feat_df[feat_df[\"Target\"] == 7], 7\n",
    ")"
   ]
  },
  {
   "cell_type": "code",
   "execution_count": 32,
   "id": "6c61201e-1bda-492c-919d-31039bd6e2d8",
   "metadata": {
    "collapsed": true,
    "jupyter": {
     "outputs_hidden": true
    },
    "tags": []
   },
   "outputs": [
    {
     "ename": "ValueError",
     "evalue": "The target 'y' needs to have more than 1 class. Got 1 class instead",
     "output_type": "error",
     "traceback": [
      "\u001b[0;31m---------------------------------------------------------------------------\u001b[0m",
      "\u001b[0;31mValueError\u001b[0m                                Traceback (most recent call last)",
      "Cell \u001b[0;32mIn[32], line 1\u001b[0m\n\u001b[0;32m----> 1\u001b[0m ds_df \u001b[38;5;241m=\u001b[39m \u001b[43mgenerate_additional_samples\u001b[49m\u001b[43m(\u001b[49m\u001b[43mfeat_df\u001b[49m\u001b[43m[\u001b[49m\u001b[43mfeat_df\u001b[49m\u001b[43m[\u001b[49m\u001b[38;5;124;43m'\u001b[39;49m\u001b[38;5;124;43mTarget\u001b[39;49m\u001b[38;5;124;43m'\u001b[39;49m\u001b[43m]\u001b[49m\u001b[38;5;241;43m==\u001b[39;49m\u001b[38;5;241;43m2\u001b[39;49m\u001b[43m]\u001b[49m\u001b[43m,\u001b[49m\u001b[43m \u001b[49m\u001b[43mfeat_df\u001b[49m\u001b[43m[\u001b[49m\u001b[43mfeat_df\u001b[49m\u001b[43m[\u001b[49m\u001b[38;5;124;43m'\u001b[39;49m\u001b[38;5;124;43mTarget\u001b[39;49m\u001b[38;5;124;43m'\u001b[39;49m\u001b[43m]\u001b[49m\u001b[43m \u001b[49m\u001b[38;5;241;43m==\u001b[39;49m\u001b[43m \u001b[49m\u001b[38;5;241;43m2\u001b[39;49m\u001b[43m]\u001b[49m\u001b[43m,\u001b[49m\u001b[43m \u001b[49m\u001b[38;5;241;43m2\u001b[39;49m\u001b[43m)\u001b[49m\n\u001b[1;32m      2\u001b[0m df_df\u001b[38;5;241m.\u001b[39mshape\n",
      "Cell \u001b[0;32mIn[31], line 8\u001b[0m, in \u001b[0;36mgenerate_additional_samples\u001b[0;34m(majority_df, minority_df, minority_label)\u001b[0m\n\u001b[1;32m      6\u001b[0m y \u001b[38;5;241m=\u001b[39m concat_df[\u001b[38;5;124m'\u001b[39m\u001b[38;5;124mTarget\u001b[39m\u001b[38;5;124m'\u001b[39m]\u001b[38;5;241m.\u001b[39mvalues\n\u001b[1;32m      7\u001b[0m resample \u001b[38;5;241m=\u001b[39m SMOTETomek(tomek\u001b[38;5;241m=\u001b[39mTomekLinks(sampling_strategy\u001b[38;5;241m=\u001b[39m\u001b[38;5;124m'\u001b[39m\u001b[38;5;124mmajority\u001b[39m\u001b[38;5;124m'\u001b[39m))\n\u001b[0;32m----> 8\u001b[0m X, y \u001b[38;5;241m=\u001b[39m \u001b[43mresample\u001b[49m\u001b[38;5;241;43m.\u001b[39;49m\u001b[43mfit_resample\u001b[49m\u001b[43m(\u001b[49m\u001b[43mX\u001b[49m\u001b[43m,\u001b[49m\u001b[43m \u001b[49m\u001b[43my\u001b[49m\u001b[43m)\u001b[49m\n\u001b[1;32m      9\u001b[0m sample_indices \u001b[38;5;241m=\u001b[39m [elem \u001b[38;5;28;01mfor\u001b[39;00m elem \u001b[38;5;129;01min\u001b[39;00m \u001b[38;5;28mrange\u001b[39m(\u001b[38;5;28mlen\u001b[39m(y)) \u001b[38;5;28;01mif\u001b[39;00m y[elem] \u001b[38;5;241m==\u001b[39m minority_label]\n\u001b[1;32m     10\u001b[0m X \u001b[38;5;241m=\u001b[39m X[sample_indices]\n",
      "File \u001b[0;32m~/SageMaker/.persisted_conda/authentifield/lib/python3.9/site-packages/imblearn/base.py:203\u001b[0m, in \u001b[0;36mBaseSampler.fit_resample\u001b[0;34m(self, X, y)\u001b[0m\n\u001b[1;32m    182\u001b[0m \u001b[38;5;250m\u001b[39m\u001b[38;5;124;03m\"\"\"Resample the dataset.\u001b[39;00m\n\u001b[1;32m    183\u001b[0m \n\u001b[1;32m    184\u001b[0m \u001b[38;5;124;03mParameters\u001b[39;00m\n\u001b[0;32m   (...)\u001b[0m\n\u001b[1;32m    200\u001b[0m \u001b[38;5;124;03m    The corresponding label of `X_resampled`.\u001b[39;00m\n\u001b[1;32m    201\u001b[0m \u001b[38;5;124;03m\"\"\"\u001b[39;00m\n\u001b[1;32m    202\u001b[0m \u001b[38;5;28mself\u001b[39m\u001b[38;5;241m.\u001b[39m_validate_params()\n\u001b[0;32m--> 203\u001b[0m \u001b[38;5;28;01mreturn\u001b[39;00m \u001b[38;5;28;43msuper\u001b[39;49m\u001b[43m(\u001b[49m\u001b[43m)\u001b[49m\u001b[38;5;241;43m.\u001b[39;49m\u001b[43mfit_resample\u001b[49m\u001b[43m(\u001b[49m\u001b[43mX\u001b[49m\u001b[43m,\u001b[49m\u001b[43m \u001b[49m\u001b[43my\u001b[49m\u001b[43m)\u001b[49m\n",
      "File \u001b[0;32m~/SageMaker/.persisted_conda/authentifield/lib/python3.9/site-packages/imblearn/base.py:84\u001b[0m, in \u001b[0;36mSamplerMixin.fit_resample\u001b[0;34m(self, X, y)\u001b[0m\n\u001b[1;32m     81\u001b[0m arrays_transformer \u001b[38;5;241m=\u001b[39m ArraysTransformer(X, y)\n\u001b[1;32m     82\u001b[0m X, y, binarize_y \u001b[38;5;241m=\u001b[39m \u001b[38;5;28mself\u001b[39m\u001b[38;5;241m.\u001b[39m_check_X_y(X, y)\n\u001b[0;32m---> 84\u001b[0m \u001b[38;5;28mself\u001b[39m\u001b[38;5;241m.\u001b[39msampling_strategy_ \u001b[38;5;241m=\u001b[39m \u001b[43mcheck_sampling_strategy\u001b[49m\u001b[43m(\u001b[49m\n\u001b[1;32m     85\u001b[0m \u001b[43m    \u001b[49m\u001b[38;5;28;43mself\u001b[39;49m\u001b[38;5;241;43m.\u001b[39;49m\u001b[43msampling_strategy\u001b[49m\u001b[43m,\u001b[49m\u001b[43m \u001b[49m\u001b[43my\u001b[49m\u001b[43m,\u001b[49m\u001b[43m \u001b[49m\u001b[38;5;28;43mself\u001b[39;49m\u001b[38;5;241;43m.\u001b[39;49m\u001b[43m_sampling_type\u001b[49m\n\u001b[1;32m     86\u001b[0m \u001b[43m\u001b[49m\u001b[43m)\u001b[49m\n\u001b[1;32m     88\u001b[0m output \u001b[38;5;241m=\u001b[39m \u001b[38;5;28mself\u001b[39m\u001b[38;5;241m.\u001b[39m_fit_resample(X, y)\n\u001b[1;32m     90\u001b[0m y_ \u001b[38;5;241m=\u001b[39m (\n\u001b[1;32m     91\u001b[0m     label_binarize(output[\u001b[38;5;241m1\u001b[39m], classes\u001b[38;5;241m=\u001b[39mnp\u001b[38;5;241m.\u001b[39munique(y)) \u001b[38;5;28;01mif\u001b[39;00m binarize_y \u001b[38;5;28;01melse\u001b[39;00m output[\u001b[38;5;241m1\u001b[39m]\n\u001b[1;32m     92\u001b[0m )\n",
      "File \u001b[0;32m~/SageMaker/.persisted_conda/authentifield/lib/python3.9/site-packages/imblearn/utils/_validation.py:514\u001b[0m, in \u001b[0;36mcheck_sampling_strategy\u001b[0;34m(sampling_strategy, y, sampling_type, **kwargs)\u001b[0m\n\u001b[1;32m    508\u001b[0m     \u001b[38;5;28;01mraise\u001b[39;00m \u001b[38;5;167;01mValueError\u001b[39;00m(\n\u001b[1;32m    509\u001b[0m         \u001b[38;5;124mf\u001b[39m\u001b[38;5;124m\"\u001b[39m\u001b[38;5;124m'\u001b[39m\u001b[38;5;124msampling_type\u001b[39m\u001b[38;5;124m'\u001b[39m\u001b[38;5;124m should be one of \u001b[39m\u001b[38;5;132;01m{\u001b[39;00mSAMPLING_KIND\u001b[38;5;132;01m}\u001b[39;00m\u001b[38;5;124m. \u001b[39m\u001b[38;5;124m\"\u001b[39m\n\u001b[1;32m    510\u001b[0m         \u001b[38;5;124mf\u001b[39m\u001b[38;5;124m\"\u001b[39m\u001b[38;5;124mGot \u001b[39m\u001b[38;5;124m'\u001b[39m\u001b[38;5;132;01m{\u001b[39;00msampling_type\u001b[38;5;132;01m}\u001b[39;00m\u001b[38;5;124m instead.\u001b[39m\u001b[38;5;124m\"\u001b[39m\n\u001b[1;32m    511\u001b[0m     )\n\u001b[1;32m    513\u001b[0m \u001b[38;5;28;01mif\u001b[39;00m np\u001b[38;5;241m.\u001b[39munique(y)\u001b[38;5;241m.\u001b[39msize \u001b[38;5;241m<\u001b[39m\u001b[38;5;241m=\u001b[39m \u001b[38;5;241m1\u001b[39m:\n\u001b[0;32m--> 514\u001b[0m     \u001b[38;5;28;01mraise\u001b[39;00m \u001b[38;5;167;01mValueError\u001b[39;00m(\n\u001b[1;32m    515\u001b[0m         \u001b[38;5;124mf\u001b[39m\u001b[38;5;124m\"\u001b[39m\u001b[38;5;124mThe target \u001b[39m\u001b[38;5;124m'\u001b[39m\u001b[38;5;124my\u001b[39m\u001b[38;5;124m'\u001b[39m\u001b[38;5;124m needs to have more than 1 class. \u001b[39m\u001b[38;5;124m\"\u001b[39m\n\u001b[1;32m    516\u001b[0m         \u001b[38;5;124mf\u001b[39m\u001b[38;5;124m\"\u001b[39m\u001b[38;5;124mGot \u001b[39m\u001b[38;5;132;01m{\u001b[39;00mnp\u001b[38;5;241m.\u001b[39munique(y)\u001b[38;5;241m.\u001b[39msize\u001b[38;5;132;01m}\u001b[39;00m\u001b[38;5;124m class instead\u001b[39m\u001b[38;5;124m\"\u001b[39m\n\u001b[1;32m    517\u001b[0m     )\n\u001b[1;32m    519\u001b[0m \u001b[38;5;28;01mif\u001b[39;00m sampling_type \u001b[38;5;129;01min\u001b[39;00m (\u001b[38;5;124m\"\u001b[39m\u001b[38;5;124mensemble\u001b[39m\u001b[38;5;124m\"\u001b[39m, \u001b[38;5;124m\"\u001b[39m\u001b[38;5;124mbypass\u001b[39m\u001b[38;5;124m\"\u001b[39m):\n\u001b[1;32m    520\u001b[0m     \u001b[38;5;28;01mreturn\u001b[39;00m sampling_strategy\n",
      "\u001b[0;31mValueError\u001b[0m: The target 'y' needs to have more than 1 class. Got 1 class instead"
     ]
    }
   ],
   "source": [
    "ds_df = generate_additional_samples(\n",
    "    feat_df[feat_df[\"Target\"] == 2], feat_df[feat_df[\"Target\"] == 2], 2\n",
    ")\n",
    "df_df.shape"
   ]
  },
  {
   "cell_type": "code",
   "execution_count": 33,
   "id": "98602fcd-9056-4fd4-ad76-1bb404f40526",
   "metadata": {
    "tags": []
   },
   "outputs": [
    {
     "data": {
      "text/plain": [
       "5    17280\n",
       "2    16910\n",
       "3    15165\n",
       "1    14433\n",
       "4    13813\n",
       "7    13429\n",
       "0    12586\n",
       "6    11978\n",
       "Name: Target, dtype: int64"
      ]
     },
     "execution_count": 33,
     "metadata": {},
     "output_type": "execute_result"
    }
   ],
   "source": [
    "dfs = [stats_df, de_df, pm_df, ml_df, research_df]\n",
    "oversample_df = pd.concat(dfs, axis=0)\n",
    "oversample_df = pd.concat([feat_df, oversample_df], axis=0)\n",
    "oversample_df[\"Target\"].value_counts()"
   ]
  },
  {
   "cell_type": "code",
   "execution_count": 34,
   "id": "a52b8e33-9fd3-49a4-8adb-8733d105b90e",
   "metadata": {
    "tags": []
   },
   "outputs": [],
   "source": [
    "ds_df = generate_additional_samples(\n",
    "    oversample_df[oversample_df[\"Target\"] == 7],\n",
    "    oversample_df[oversample_df[\"Target\"] == 6],\n",
    "    6,\n",
    ")\n",
    "se_df = generate_additional_samples(\n",
    "    oversample_df[oversample_df[\"Target\"] == 7],\n",
    "    oversample_df[oversample_df[\"Target\"] == 0],\n",
    "    0,\n",
    ")\n",
    "da_df = generate_additional_samples(\n",
    "    oversample_df[oversample_df[\"Target\"] == 7],\n",
    "    oversample_df[oversample_df[\"Target\"] == 2],\n",
    "    2,\n",
    ")"
   ]
  },
  {
   "cell_type": "code",
   "execution_count": 35,
   "id": "11821176-6c3e-418b-979b-a329aae3cb6f",
   "metadata": {
    "tags": []
   },
   "outputs": [
    {
     "data": {
      "text/plain": [
       "2    33815\n",
       "0    26013\n",
       "6    25400\n",
       "5    17280\n",
       "3    15165\n",
       "1    14433\n",
       "4    13813\n",
       "7    13429\n",
       "Name: Target, dtype: int64"
      ]
     },
     "execution_count": 35,
     "metadata": {},
     "output_type": "execute_result"
    }
   ],
   "source": [
    "dfs = [ds_df, se_df, da_df]\n",
    "oversample_new_df = pd.concat(dfs, axis=0)\n",
    "oversample_df = pd.concat([oversample_df, oversample_new_df], axis=0)\n",
    "oversample_df[\"Target\"].value_counts()"
   ]
  },
  {
   "cell_type": "code",
   "execution_count": 36,
   "id": "0d7d765b-49ba-46d2-baab-01266d51297d",
   "metadata": {
    "tags": []
   },
   "outputs": [
    {
     "data": {
      "text/plain": [
       "(159348, 279)"
      ]
     },
     "execution_count": 36,
     "metadata": {},
     "output_type": "execute_result"
    }
   ],
   "source": [
    "oversample_df.shape"
   ]
  },
  {
   "cell_type": "code",
   "execution_count": 37,
   "id": "28f60a35-ad7c-4b2b-bee6-3f8cd8190228",
   "metadata": {
    "tags": []
   },
   "outputs": [],
   "source": [
    "feat_df = oversample_df.copy(deep=True)\n",
    "feat_df.to_csv(\n",
    "    processed_data_dir.joinpath(\"Features_KaggleResponses_v4.csv\"), index=False\n",
    ")"
   ]
  },
  {
   "cell_type": "code",
   "execution_count": 38,
   "id": "decae9ff-f34f-47a9-801a-285ddde98b25",
   "metadata": {
    "collapsed": true,
    "jupyter": {
     "outputs_hidden": true
    },
    "tags": []
   },
   "outputs": [
    {
     "data": {
      "text/plain": [
       "{0: 'Select the title most similar to your current role (or most recent title if retired): - Selected Choice',\n",
       " 1: 'What programming languages do you use on a regular basis? (Select all that apply) - Selected Choice - Python',\n",
       " 2: 'What programming languages do you use on a regular basis? (Select all that apply) - Selected Choice - R',\n",
       " 3: 'What programming languages do you use on a regular basis? (Select all that apply) - Selected Choice - SQL',\n",
       " 4: 'What programming languages do you use on a regular basis? (Select all that apply) - Selected Choice - C',\n",
       " 5: 'What programming languages do you use on a regular basis? (Select all that apply) - Selected Choice - C++',\n",
       " 6: 'What programming languages do you use on a regular basis? (Select all that apply) - Selected Choice - Java',\n",
       " 7: 'What programming languages do you use on a regular basis? (Select all that apply) - Selected Choice - Javascript',\n",
       " 8: 'What programming languages do you use on a regular basis? (Select all that apply) - Selected Choice - Julia',\n",
       " 9: 'What programming languages do you use on a regular basis? (Select all that apply) - Selected Choice - Swift',\n",
       " 10: 'What programming languages do you use on a regular basis? (Select all that apply) - Selected Choice - Bash',\n",
       " 11: 'What programming languages do you use on a regular basis? (Select all that apply) - Selected Choice - MATLAB',\n",
       " 12: 'What programming languages do you use on a regular basis? (Select all that apply) - Selected Choice - None',\n",
       " 13: 'What programming languages do you use on a regular basis? (Select all that apply) - Selected Choice - Other',\n",
       " 14: 'What programming language would you recommend an aspiring data scientist to learn first? - Selected Choice',\n",
       " 15: \"Which of the following integrated development environments (IDE's) do you use on a regular basis?  (Select all that apply) - Selected Choice - Jupyter (JupyterLab, Jupyter Notebooks, etc) \",\n",
       " 16: \"Which of the following integrated development environments (IDE's) do you use on a regular basis?  (Select all that apply) - Selected Choice -  RStudio \",\n",
       " 17: \"Which of the following integrated development environments (IDE's) do you use on a regular basis?  (Select all that apply) - Selected Choice -  Visual Studio / Visual Studio Code \",\n",
       " 18: \"Which of the following integrated development environments (IDE's) do you use on a regular basis?  (Select all that apply) - Selected Choice -  PyCharm \",\n",
       " 19: \"Which of the following integrated development environments (IDE's) do you use on a regular basis?  (Select all that apply) - Selected Choice -   Spyder  \",\n",
       " 20: \"Which of the following integrated development environments (IDE's) do you use on a regular basis?  (Select all that apply) - Selected Choice -   Notepad++  \",\n",
       " 21: \"Which of the following integrated development environments (IDE's) do you use on a regular basis?  (Select all that apply) - Selected Choice -   Sublime Text  \",\n",
       " 22: \"Which of the following integrated development environments (IDE's) do you use on a regular basis?  (Select all that apply) - Selected Choice -   Vim / Emacs  \",\n",
       " 23: \"Which of the following integrated development environments (IDE's) do you use on a regular basis?  (Select all that apply) - Selected Choice -  MATLAB \",\n",
       " 24: \"Which of the following integrated development environments (IDE's) do you use on a regular basis?  (Select all that apply) - Selected Choice - None\",\n",
       " 25: \"Which of the following integrated development environments (IDE's) do you use on a regular basis?  (Select all that apply) - Selected Choice - Other\",\n",
       " 26: 'Which of the following hosted notebook products do you use on a regular basis?  (Select all that apply) - Selected Choice -  Kaggle Notebooks',\n",
       " 27: 'Which of the following hosted notebook products do you use on a regular basis?  (Select all that apply) - Selected Choice - Colab Notebooks',\n",
       " 28: 'Which of the following hosted notebook products do you use on a regular basis?  (Select all that apply) - Selected Choice - Azure Notebooks',\n",
       " 29: 'Which of the following hosted notebook products do you use on a regular basis?  (Select all that apply) - Selected Choice -  Paperspace / Gradient ',\n",
       " 30: 'Which of the following hosted notebook products do you use on a regular basis?  (Select all that apply) - Selected Choice -  Binder / JupyterHub ',\n",
       " 31: 'Which of the following hosted notebook products do you use on a regular basis?  (Select all that apply) - Selected Choice -  Code Ocean ',\n",
       " 32: 'Which of the following hosted notebook products do you use on a regular basis?  (Select all that apply) - Selected Choice -  IBM Watson Studio ',\n",
       " 33: 'Which of the following hosted notebook products do you use on a regular basis?  (Select all that apply) - Selected Choice -  Amazon Sagemaker Studio Notebooks ',\n",
       " 34: 'Which of the following hosted notebook products do you use on a regular basis?  (Select all that apply) - Selected Choice -  Amazon EMR Notebooks ',\n",
       " 35: 'Which of the following hosted notebook products do you use on a regular basis?  (Select all that apply) - Selected Choice - Google Cloud Notebooks (AI Platform / Vertex AI) ',\n",
       " 36: 'Which of the following hosted notebook products do you use on a regular basis?  (Select all that apply) - Selected Choice - Google Cloud Datalab',\n",
       " 37: 'Which of the following hosted notebook products do you use on a regular basis?  (Select all that apply) - Selected Choice -  Databricks Collaborative Notebooks ',\n",
       " 38: 'Which of the following hosted notebook products do you use on a regular basis?  (Select all that apply) - Selected Choice - None',\n",
       " 39: 'Which of the following hosted notebook products do you use on a regular basis?  (Select all that apply) - Selected Choice - Other',\n",
       " 40: 'What type of computing platform do you use most often for your data science projects? - Selected Choice',\n",
       " 41: 'Which types of specialized hardware do you use on a regular basis?  (Select all that apply) - Selected Choice - CPUs',\n",
       " 42: 'Which types of specialized hardware do you use on a regular basis?  (Select all that apply) - Selected Choice -  NVIDIA GPUs ',\n",
       " 43: 'Which types of specialized hardware do you use on a regular basis?  (Select all that apply) - Selected Choice -  Google Cloud TPUs ',\n",
       " 44: 'Which types of specialized hardware do you use on a regular basis?  (Select all that apply) - Selected Choice - None',\n",
       " 45: 'Which types of specialized hardware do you use on a regular basis?  (Select all that apply) - Selected Choice - Other',\n",
       " 46: 'Approximately how many times have you used a TPU (tensor processing unit)?',\n",
       " 47: 'What data visualization libraries or tools do you use on a regular basis?  (Select all that apply) - Selected Choice -  Matplotlib ',\n",
       " 48: 'What data visualization libraries or tools do you use on a regular basis?  (Select all that apply) - Selected Choice -  Seaborn ',\n",
       " 49: 'What data visualization libraries or tools do you use on a regular basis?  (Select all that apply) - Selected Choice -  Plotly / Plotly Express ',\n",
       " 50: 'What data visualization libraries or tools do you use on a regular basis?  (Select all that apply) - Selected Choice -  Ggplot / ggplot2 ',\n",
       " 51: 'What data visualization libraries or tools do you use on a regular basis?  (Select all that apply) - Selected Choice -  Shiny ',\n",
       " 52: 'What data visualization libraries or tools do you use on a regular basis?  (Select all that apply) - Selected Choice -  D3 js ',\n",
       " 53: 'What data visualization libraries or tools do you use on a regular basis?  (Select all that apply) - Selected Choice -  Altair ',\n",
       " 54: 'What data visualization libraries or tools do you use on a regular basis?  (Select all that apply) - Selected Choice -  Bokeh ',\n",
       " 55: 'What data visualization libraries or tools do you use on a regular basis?  (Select all that apply) - Selected Choice -  Geoplotlib ',\n",
       " 56: 'What data visualization libraries or tools do you use on a regular basis?  (Select all that apply) - Selected Choice -  Leaflet / Folium ',\n",
       " 57: 'What data visualization libraries or tools do you use on a regular basis?  (Select all that apply) - Selected Choice - None',\n",
       " 58: 'What data visualization libraries or tools do you use on a regular basis?  (Select all that apply) - Selected Choice - Other',\n",
       " 59: 'For how many years have you used machine learning methods?',\n",
       " 60: 'Which of the following machine learning frameworks do you use on a regular basis? (Select all that apply) - Selected Choice -   Scikit-learn ',\n",
       " 61: 'Which of the following machine learning frameworks do you use on a regular basis? (Select all that apply) - Selected Choice -   TensorFlow ',\n",
       " 62: 'Which of the following machine learning frameworks do you use on a regular basis? (Select all that apply) - Selected Choice -  Keras ',\n",
       " 63: 'Which of the following machine learning frameworks do you use on a regular basis? (Select all that apply) - Selected Choice -  PyTorch ',\n",
       " 64: 'Which of the following machine learning frameworks do you use on a regular basis? (Select all that apply) - Selected Choice -  Fast.ai ',\n",
       " 65: 'Which of the following machine learning frameworks do you use on a regular basis? (Select all that apply) - Selected Choice -  MXNet ',\n",
       " 66: 'Which of the following machine learning frameworks do you use on a regular basis? (Select all that apply) - Selected Choice -  Xgboost ',\n",
       " 67: 'Which of the following machine learning frameworks do you use on a regular basis? (Select all that apply) - Selected Choice -  LightGBM ',\n",
       " 68: 'Which of the following machine learning frameworks do you use on a regular basis? (Select all that apply) - Selected Choice -  CatBoost ',\n",
       " 69: 'Which of the following machine learning frameworks do you use on a regular basis? (Select all that apply) - Selected Choice -  Prophet ',\n",
       " 70: 'Which of the following machine learning frameworks do you use on a regular basis? (Select all that apply) - Selected Choice -  H2O 3 ',\n",
       " 71: 'Which of the following machine learning frameworks do you use on a regular basis? (Select all that apply) - Selected Choice -  Caret ',\n",
       " 72: 'Which of the following machine learning frameworks do you use on a regular basis? (Select all that apply) - Selected Choice -  Tidymodels ',\n",
       " 73: 'Which of the following machine learning frameworks do you use on a regular basis? (Select all that apply) - Selected Choice -  JAX ',\n",
       " 74: 'Which of the following machine learning frameworks do you use on a regular basis? (Select all that apply) - Selected Choice - None',\n",
       " 75: 'Which of the following machine learning frameworks do you use on a regular basis? (Select all that apply) - Selected Choice - Other',\n",
       " 76: 'Which of the following ML algorithms do you use on a regular basis? (Select all that apply): - Selected Choice - Linear or Logistic Regression',\n",
       " 77: 'Which of the following ML algorithms do you use on a regular basis? (Select all that apply): - Selected Choice - Decision Trees or Random Forests',\n",
       " 78: 'Which of the following ML algorithms do you use on a regular basis? (Select all that apply): - Selected Choice - Gradient Boosting Machines (xgboost, lightgbm, etc)',\n",
       " 79: 'Which of the following ML algorithms do you use on a regular basis? (Select all that apply): - Selected Choice - Bayesian Approaches',\n",
       " 80: 'Which of the following ML algorithms do you use on a regular basis? (Select all that apply): - Selected Choice - Evolutionary Approaches',\n",
       " 81: 'Which of the following ML algorithms do you use on a regular basis? (Select all that apply): - Selected Choice - Dense Neural Networks (MLPs, etc)',\n",
       " 82: 'Which of the following ML algorithms do you use on a regular basis? (Select all that apply): - Selected Choice - Convolutional Neural Networks',\n",
       " 83: 'Which of the following ML algorithms do you use on a regular basis? (Select all that apply): - Selected Choice - Generative Adversarial Networks',\n",
       " 84: 'Which of the following ML algorithms do you use on a regular basis? (Select all that apply): - Selected Choice - Recurrent Neural Networks',\n",
       " 85: 'Which of the following ML algorithms do you use on a regular basis? (Select all that apply): - Selected Choice - Transformer Networks (BERT, gpt-3, etc)',\n",
       " 86: 'Which of the following ML algorithms do you use on a regular basis? (Select all that apply): - Selected Choice - None',\n",
       " 87: 'Which of the following ML algorithms do you use on a regular basis? (Select all that apply): - Selected Choice - Other',\n",
       " 88: 'Which categories of computer vision methods do you use on a regular basis?  (Select all that apply) - Selected Choice - General purpose image/video tools (PIL, cv2, skimage, etc)',\n",
       " 89: 'Which categories of computer vision methods do you use on a regular basis?  (Select all that apply) - Selected Choice - Image segmentation methods (U-Net, Mask R-CNN, etc)',\n",
       " 90: 'Which categories of computer vision methods do you use on a regular basis?  (Select all that apply) - Selected Choice - Object detection methods (YOLOv3, RetinaNet, etc)',\n",
       " 91: 'Which categories of computer vision methods do you use on a regular basis?  (Select all that apply) - Selected Choice - Image classification and other general purpose networks (VGG, Inception, ResNet, ResNeXt, NASNet, EfficientNet, etc)',\n",
       " 92: 'Which categories of computer vision methods do you use on a regular basis?  (Select all that apply) - Selected Choice - Generative Networks (GAN, VAE, etc)',\n",
       " 93: 'Which categories of computer vision methods do you use on a regular basis?  (Select all that apply) - Selected Choice - None',\n",
       " 94: 'Which categories of computer vision methods do you use on a regular basis?  (Select all that apply) - Selected Choice - Other',\n",
       " 95: 'Which of the following natural language processing (NLP) methods do you use on a regular basis?  (Select all that apply) - Selected Choice - Word embeddings/vectors (GLoVe, fastText, word2vec)',\n",
       " 96: 'Which of the following natural language processing (NLP) methods do you use on a regular basis?  (Select all that apply) - Selected Choice - Encoder-decorder models (seq2seq, vanilla transformers)',\n",
       " 97: 'Which of the following natural language processing (NLP) methods do you use on a regular basis?  (Select all that apply) - Selected Choice - Contextualized embeddings (ELMo, CoVe)',\n",
       " 98: 'Which of the following natural language processing (NLP) methods do you use on a regular basis?  (Select all that apply) - Selected Choice - Transformer language models (GPT-3, BERT, XLnet, etc)',\n",
       " 99: 'Which of the following natural language processing (NLP) methods do you use on a regular basis?  (Select all that apply) - Selected Choice - None',\n",
       " 100: 'Which of the following natural language processing (NLP) methods do you use on a regular basis?  (Select all that apply) - Selected Choice - Other',\n",
       " 101: 'In what industry is your current employer/contract (or your most recent employer if retired)? - Selected Choice',\n",
       " 102: 'What is the size of the company where you are employed?',\n",
       " 103: 'Approximately how many individuals are responsible for data science workloads at your place of business?',\n",
       " 104: 'Does your current employer incorporate machine learning methods into their business?',\n",
       " 105: 'Select any activities that make up an important part of your role at work: (Select all that apply) - Selected Choice - Analyze and understand data to influence product or business decisions',\n",
       " 106: 'Select any activities that make up an important part of your role at work: (Select all that apply) - Selected Choice - Build and/or run the data infrastructure that my business uses for storing, analyzing, and operationalizing data',\n",
       " 107: 'Select any activities that make up an important part of your role at work: (Select all that apply) - Selected Choice - Build prototypes to explore applying machine learning to new areas',\n",
       " 108: 'Select any activities that make up an important part of your role at work: (Select all that apply) - Selected Choice - Build and/or run a machine learning service that operationally improves my product or workflows',\n",
       " 109: 'Select any activities that make up an important part of your role at work: (Select all that apply) - Selected Choice - Experimentation and iteration to improve existing ML models',\n",
       " 110: 'Select any activities that make up an important part of your role at work: (Select all that apply) - Selected Choice - Do research that advances the state of the art of machine learning',\n",
       " 111: 'Select any activities that make up an important part of your role at work: (Select all that apply) - Selected Choice - None of these activities are an important part of my role at work',\n",
       " 112: 'Select any activities that make up an important part of your role at work: (Select all that apply) - Selected Choice - Other',\n",
       " 113: 'What is your current yearly compensation (approximate $USD)?',\n",
       " 114: 'Approximately how much money have you (or your team) spent on machine learning and/or cloud computing services at home (or at work) in the past 5 years (approximate $USD)?',\n",
       " 115: 'Which of the following cloud computing platforms do you use on a regular basis? (Select all that apply) - Selected Choice -  Amazon Web Services (AWS) ',\n",
       " 116: 'Which of the following cloud computing platforms do you use on a regular basis? (Select all that apply) - Selected Choice -  Microsoft Azure ',\n",
       " 117: 'Which of the following cloud computing platforms do you use on a regular basis? (Select all that apply) - Selected Choice -  Google Cloud Platform (GCP) ',\n",
       " 118: 'Which of the following cloud computing platforms do you use on a regular basis? (Select all that apply) - Selected Choice -  IBM Cloud / Red Hat ',\n",
       " 119: 'Which of the following cloud computing platforms do you use on a regular basis? (Select all that apply) - Selected Choice -  Oracle Cloud ',\n",
       " 120: 'Which of the following cloud computing platforms do you use on a regular basis? (Select all that apply) - Selected Choice -  SAP Cloud ',\n",
       " 121: 'Which of the following cloud computing platforms do you use on a regular basis? (Select all that apply) - Selected Choice -  Salesforce Cloud ',\n",
       " 122: 'Which of the following cloud computing platforms do you use on a regular basis? (Select all that apply) - Selected Choice -  VMware Cloud ',\n",
       " 123: 'Which of the following cloud computing platforms do you use on a regular basis? (Select all that apply) - Selected Choice -  Alibaba Cloud ',\n",
       " 124: 'Which of the following cloud computing platforms do you use on a regular basis? (Select all that apply) - Selected Choice -  Tencent Cloud ',\n",
       " 125: 'Which of the following cloud computing platforms do you use on a regular basis? (Select all that apply) - Selected Choice - None',\n",
       " 126: 'Which of the following cloud computing platforms do you use on a regular basis? (Select all that apply) - Selected Choice - Other',\n",
       " 127: 'Do you use any of the following managed machine learning products on a regular basis? (Select all that apply) - Selected Choice -  Amazon SageMaker ',\n",
       " 128: 'Do you use any of the following managed machine learning products on a regular basis? (Select all that apply) - Selected Choice -  Azure Machine Learning Studio ',\n",
       " 129: 'Do you use any of the following managed machine learning products on a regular basis? (Select all that apply) - Selected Choice - No / None',\n",
       " 130: 'Do you use any of the following managed machine learning products on a regular basis? (Select all that apply) - Selected Choice - Other',\n",
       " 131: 'Which of the following big data products (relational databases, data warehouses, data lakes, or similar) do you use on a regular basis? (Select all that apply) - Selected Choice - MySQL ',\n",
       " 132: 'Which of the following big data products (relational databases, data warehouses, data lakes, or similar) do you use on a regular basis? (Select all that apply) - Selected Choice - PostgreSQL ',\n",
       " 133: 'Which of the following big data products (relational databases, data warehouses, data lakes, or similar) do you use on a regular basis? (Select all that apply) - Selected Choice - SQLite ',\n",
       " 134: 'Which of the following big data products (relational databases, data warehouses, data lakes, or similar) do you use on a regular basis? (Select all that apply) - Selected Choice - Oracle Database ',\n",
       " 135: 'Which of the following big data products (relational databases, data warehouses, data lakes, or similar) do you use on a regular basis? (Select all that apply) - Selected Choice - MongoDB ',\n",
       " 136: 'Which of the following big data products (relational databases, data warehouses, data lakes, or similar) do you use on a regular basis? (Select all that apply) - Selected Choice - Snowflake ',\n",
       " 137: 'Which of the following big data products (relational databases, data warehouses, data lakes, or similar) do you use on a regular basis? (Select all that apply) - Selected Choice - IBM Db2 ',\n",
       " 138: 'Which of the following big data products (relational databases, data warehouses, data lakes, or similar) do you use on a regular basis? (Select all that apply) - Selected Choice - Microsoft SQL Server ',\n",
       " 139: 'Which of the following big data products (relational databases, data warehouses, data lakes, or similar) do you use on a regular basis? (Select all that apply) - Selected Choice - Amazon Redshift ',\n",
       " 140: 'Which of the following big data products (relational databases, data warehouses, data lakes, or similar) do you use on a regular basis? (Select all that apply) - Selected Choice - Amazon DynamoDB ',\n",
       " 141: 'Which of the following big data products (relational databases, data warehouses, data lakes, or similar) do you use on a regular basis? (Select all that apply) - Selected Choice - Google Cloud BigQuery ',\n",
       " 142: 'Which of the following big data products (relational databases, data warehouses, data lakes, or similar) do you use on a regular basis? (Select all that apply) - Selected Choice - Google Cloud SQL ',\n",
       " 143: 'Which of the following big data products (relational databases, data warehouses, data lakes, or similar) do you use on a regular basis? (Select all that apply) - Selected Choice - Google Cloud Firestore ',\n",
       " 144: 'Which of the following big data products (relational databases, data warehouses, data lakes, or similar) do you use on a regular basis? (Select all that apply) - Selected Choice - None',\n",
       " 145: 'Which of the following big data products (relational databases, data warehouses, data lakes, or similar) do you use on a regular basis? (Select all that apply) - Selected Choice - Other',\n",
       " 146: 'Which of the following big data products (relational database, data warehouse, data lake, or similar) do you use most often? - Selected Choice',\n",
       " 147: 'Which of the following business intelligence tools do you use on a regular basis? (Select all that apply) - Selected Choice - Amazon QuickSight',\n",
       " 148: 'Which of the following business intelligence tools do you use on a regular basis? (Select all that apply) - Selected Choice - Microsoft Power BI',\n",
       " 149: 'Which of the following business intelligence tools do you use on a regular basis? (Select all that apply) - Selected Choice - Google Data Studio',\n",
       " 150: 'Which of the following business intelligence tools do you use on a regular basis? (Select all that apply) - Selected Choice - Looker',\n",
       " 151: 'Which of the following business intelligence tools do you use on a regular basis? (Select all that apply) - Selected Choice - Tableau',\n",
       " 152: 'Which of the following business intelligence tools do you use on a regular basis? (Select all that apply) - Selected Choice - Salesforce',\n",
       " 153: 'Which of the following business intelligence tools do you use on a regular basis? (Select all that apply) - Selected Choice - Qlik',\n",
       " 154: 'Which of the following business intelligence tools do you use on a regular basis? (Select all that apply) - Selected Choice - Domo',\n",
       " 155: 'Which of the following business intelligence tools do you use on a regular basis? (Select all that apply) - Selected Choice - TIBCO Spotfire',\n",
       " 156: 'Which of the following business intelligence tools do you use on a regular basis? (Select all that apply) - Selected Choice - Alteryx ',\n",
       " 157: 'Which of the following business intelligence tools do you use on a regular basis? (Select all that apply) - Selected Choice - Sisense ',\n",
       " 158: 'Which of the following business intelligence tools do you use on a regular basis? (Select all that apply) - Selected Choice - SAP Analytics Cloud ',\n",
       " 159: 'Which of the following business intelligence tools do you use on a regular basis? (Select all that apply) - Selected Choice - None',\n",
       " 160: 'Which of the following business intelligence tools do you use on a regular basis? (Select all that apply) - Selected Choice - Other',\n",
       " 161: 'Which of the following business intelligence tools do you use most often? - Selected Choice',\n",
       " 162: 'Do you use any automated machine learning tools (or partial AutoML tools) on a regular basis?  (Select all that apply) - Selected Choice - Automated data augmentation (e.g. imgaug, albumentations)',\n",
       " 163: 'Do you use any automated machine learning tools (or partial AutoML tools) on a regular basis?  (Select all that apply) - Selected Choice - Automated feature engineering/selection (e.g. tpot, boruta_py)',\n",
       " 164: 'Do you use any automated machine learning tools (or partial AutoML tools) on a regular basis?  (Select all that apply) - Selected Choice - Automated model selection (e.g. auto-sklearn, xcessiv)',\n",
       " 165: 'Do you use any automated machine learning tools (or partial AutoML tools) on a regular basis?  (Select all that apply) - Selected Choice - Automated model architecture searches (e.g. darts, enas)',\n",
       " 166: 'Do you use any automated machine learning tools (or partial AutoML tools) on a regular basis?  (Select all that apply) - Selected Choice - Automated hyperparameter tuning (e.g. hyperopt, ray.tune, Vizier)',\n",
       " 167: 'Do you use any automated machine learning tools (or partial AutoML tools) on a regular basis?  (Select all that apply) - Selected Choice - Automation of full ML pipelines (e.g. Google AutoML, H2O Driverless AI)',\n",
       " 168: 'Do you use any automated machine learning tools (or partial AutoML tools) on a regular basis?  (Select all that apply) - Selected Choice - No / None',\n",
       " 169: 'Do you use any automated machine learning tools (or partial AutoML tools) on a regular basis?  (Select all that apply) - Selected Choice - Other',\n",
       " 170: 'Which of the following automated machine learning tools (or partial AutoML tools) do you use on a regular basis?  (Select all that apply) - Selected Choice -  Google Cloud AutoML ',\n",
       " 171: 'Which of the following automated machine learning tools (or partial AutoML tools) do you use on a regular basis?  (Select all that apply) - Selected Choice -  H2O Driverless AI  ',\n",
       " 172: 'Which of the following automated machine learning tools (or partial AutoML tools) do you use on a regular basis?  (Select all that apply) - Selected Choice -  Databricks AutoML ',\n",
       " 173: 'Which of the following automated machine learning tools (or partial AutoML tools) do you use on a regular basis?  (Select all that apply) - Selected Choice -  DataRobot AutoML ',\n",
       " 174: 'Which of the following automated machine learning tools (or partial AutoML tools) do you use on a regular basis?  (Select all that apply) - Selected Choice - No / None',\n",
       " 175: 'Which of the following automated machine learning tools (or partial AutoML tools) do you use on a regular basis?  (Select all that apply) - Selected Choice - Other',\n",
       " 176: 'Do you use any tools to help manage machine learning experiments? (Select all that apply) - Selected Choice -  Neptune.ai ',\n",
       " 177: 'Do you use any tools to help manage machine learning experiments? (Select all that apply) - Selected Choice -  Weights & Biases ',\n",
       " 178: 'Do you use any tools to help manage machine learning experiments? (Select all that apply) - Selected Choice -  Comet.ml ',\n",
       " 179: 'Do you use any tools to help manage machine learning experiments? (Select all that apply) - Selected Choice -  Sacred + Omniboard ',\n",
       " 180: 'Do you use any tools to help manage machine learning experiments? (Select all that apply) - Selected Choice -  TensorBoard ',\n",
       " 181: 'Do you use any tools to help manage machine learning experiments? (Select all that apply) - Selected Choice -  Guild.ai ',\n",
       " 182: 'Do you use any tools to help manage machine learning experiments? (Select all that apply) - Selected Choice -  Polyaxon ',\n",
       " 183: 'Do you use any tools to help manage machine learning experiments? (Select all that apply) - Selected Choice -  Domino Model Monitor ',\n",
       " 184: 'Do you use any tools to help manage machine learning experiments? (Select all that apply) - Selected Choice - No / None',\n",
       " 185: 'Do you use any tools to help manage machine learning experiments? (Select all that apply) - Selected Choice - Other',\n",
       " 186: 'Where do you publicly share your data analysis or machine learning applications? (Select all that apply) - Selected Choice -  Plotly Dash ',\n",
       " 187: 'Where do you publicly share your data analysis or machine learning applications? (Select all that apply) - Selected Choice -  Streamlit ',\n",
       " 188: 'Where do you publicly share your data analysis or machine learning applications? (Select all that apply) - Selected Choice -  NBViewer ',\n",
       " 189: 'Where do you publicly share your data analysis or machine learning applications? (Select all that apply) - Selected Choice -  GitHub ',\n",
       " 190: 'Where do you publicly share your data analysis or machine learning applications? (Select all that apply) - Selected Choice -  Personal blog ',\n",
       " 191: 'Where do you publicly share your data analysis or machine learning applications? (Select all that apply) - Selected Choice -  Kaggle ',\n",
       " 192: 'Where do you publicly share your data analysis or machine learning applications? (Select all that apply) - Selected Choice -  Colab ',\n",
       " 193: 'Where do you publicly share your data analysis or machine learning applications? (Select all that apply) - Selected Choice -  Shiny ',\n",
       " 194: 'Where do you publicly share your data analysis or machine learning applications? (Select all that apply) - Selected Choice - I do not share my work publicly',\n",
       " 195: 'Where do you publicly share your data analysis or machine learning applications? (Select all that apply) - Selected Choice - Other',\n",
       " 196: 'On which platforms have you begun or completed data science courses? (Select all that apply) - Selected Choice - Coursera',\n",
       " 197: 'On which platforms have you begun or completed data science courses? (Select all that apply) - Selected Choice - edX',\n",
       " 198: 'On which platforms have you begun or completed data science courses? (Select all that apply) - Selected Choice - Kaggle Learn Courses',\n",
       " 199: 'On which platforms have you begun or completed data science courses? (Select all that apply) - Selected Choice - DataCamp',\n",
       " 200: 'On which platforms have you begun or completed data science courses? (Select all that apply) - Selected Choice - Fast.ai',\n",
       " 201: 'On which platforms have you begun or completed data science courses? (Select all that apply) - Selected Choice - Udacity',\n",
       " 202: 'On which platforms have you begun or completed data science courses? (Select all that apply) - Selected Choice - Udemy',\n",
       " 203: 'On which platforms have you begun or completed data science courses? (Select all that apply) - Selected Choice - LinkedIn Learning',\n",
       " 204: 'On which platforms have you begun or completed data science courses? (Select all that apply) - Selected Choice - Cloud-certification programs (direct from AWS, Azure, GCP, or similar)',\n",
       " 205: 'On which platforms have you begun or completed data science courses? (Select all that apply) - Selected Choice - University Courses (resulting in a university degree)',\n",
       " 206: 'On which platforms have you begun or completed data science courses? (Select all that apply) - Selected Choice - None',\n",
       " 207: 'On which platforms have you begun or completed data science courses? (Select all that apply) - Selected Choice - Other',\n",
       " 208: 'What is the primary tool that you use at work or school to analyze data? (Include text response) - Selected Choice',\n",
       " 209: 'Who/what are your favorite media sources that report on data science topics? (Select all that apply) - Selected Choice - Twitter (data science influencers)',\n",
       " 210: \"Who/what are your favorite media sources that report on data science topics? (Select all that apply) - Selected Choice - Email newsletters (Data Elixir, O'Reilly Data & AI, etc)\",\n",
       " 211: 'Who/what are your favorite media sources that report on data science topics? (Select all that apply) - Selected Choice - Reddit (r/machinelearning, etc)',\n",
       " 212: 'Who/what are your favorite media sources that report on data science topics? (Select all that apply) - Selected Choice - Kaggle (notebooks, forums, etc)',\n",
       " 213: 'Who/what are your favorite media sources that report on data science topics? (Select all that apply) - Selected Choice - Course Forums (forums.fast.ai, Coursera forums, etc)',\n",
       " 214: 'Who/what are your favorite media sources that report on data science topics? (Select all that apply) - Selected Choice - YouTube (Kaggle YouTube, Cloud AI Adventures, etc)',\n",
       " 215: 'Who/what are your favorite media sources that report on data science topics? (Select all that apply) - Selected Choice - Podcasts (Chai Time Data Science, Oâ€™Reilly Data Show, etc)',\n",
       " 216: 'Who/what are your favorite media sources that report on data science topics? (Select all that apply) - Selected Choice - Blogs (Towards Data Science, Analytics Vidhya, etc)',\n",
       " 217: 'Who/what are your favorite media sources that report on data science topics? (Select all that apply) - Selected Choice - Journal Publications (peer-reviewed journals, conference proceedings, etc)',\n",
       " 218: 'Who/what are your favorite media sources that report on data science topics? (Select all that apply) - Selected Choice - Slack Communities (ods.ai, kagglenoobs, etc)',\n",
       " 219: 'Who/what are your favorite media sources that report on data science topics? (Select all that apply) - Selected Choice - None',\n",
       " 220: 'Who/what are your favorite media sources that report on data science topics? (Select all that apply) - Selected Choice - Other',\n",
       " 221: 'Which of the following cloud computing platforms do you hope to become more familiar with in the next 2 years? - Selected Choice -  Amazon Web Services (AWS) ',\n",
       " 222: 'Which of the following cloud computing platforms do you hope to become more familiar with in the next 2 years? - Selected Choice -  Microsoft Azure ',\n",
       " 223: 'Which of the following cloud computing platforms do you hope to become more familiar with in the next 2 years? - Selected Choice -  Google Cloud Platform (GCP) ',\n",
       " 224: 'Which of the following cloud computing platforms do you hope to become more familiar with in the next 2 years? - Selected Choice -  IBM Cloud / Red Hat ',\n",
       " 225: 'Which of the following cloud computing platforms do you hope to become more familiar with in the next 2 years? - Selected Choice -  Oracle Cloud ',\n",
       " 226: 'Which of the following cloud computing platforms do you hope to become more familiar with in the next 2 years? - Selected Choice -  SAP Cloud ',\n",
       " 227: 'Which of the following cloud computing platforms do you hope to become more familiar with in the next 2 years? - Selected Choice -  VMware Cloud ',\n",
       " 228: 'Which of the following cloud computing platforms do you hope to become more familiar with in the next 2 years? - Selected Choice -  Salesforce Cloud ',\n",
       " 229: 'Which of the following cloud computing platforms do you hope to become more familiar with in the next 2 years? - Selected Choice -  Alibaba Cloud ',\n",
       " 230: 'Which of the following cloud computing platforms do you hope to become more familiar with in the next 2 years? - Selected Choice -  Tencent Cloud ',\n",
       " 231: 'Which of the following cloud computing platforms do you hope to become more familiar with in the next 2 years? - Selected Choice - None',\n",
       " 232: 'Which of the following cloud computing platforms do you hope to become more familiar with in the next 2 years? - Selected Choice - Other',\n",
       " 233: 'Which of the following big data products (relational databases, data warehouses, data lakes, or similar) do you hope to become more familiar with in the next 2 years? (Select all that apply) - Selected Choice - MySQL ',\n",
       " 234: 'Which of the following big data products (relational databases, data warehouses, data lakes, or similar) do you hope to become more familiar with in the next 2 years? (Select all that apply) - Selected Choice - PostgreSQL ',\n",
       " 235: 'Which of the following big data products (relational databases, data warehouses, data lakes, or similar) do you hope to become more familiar with in the next 2 years? (Select all that apply) - Selected Choice - SQLite ',\n",
       " 236: 'Which of the following big data products (relational databases, data warehouses, data lakes, or similar) do you hope to become more familiar with in the next 2 years? (Select all that apply) - Selected Choice - Oracle Database ',\n",
       " 237: 'Which of the following big data products (relational databases, data warehouses, data lakes, or similar) do you hope to become more familiar with in the next 2 years? (Select all that apply) - Selected Choice - MongoDB ',\n",
       " 238: 'Which of the following big data products (relational databases, data warehouses, data lakes, or similar) do you hope to become more familiar with in the next 2 years? (Select all that apply) - Selected Choice - Snowflake ',\n",
       " 239: 'Which of the following big data products (relational databases, data warehouses, data lakes, or similar) do you hope to become more familiar with in the next 2 years? (Select all that apply) - Selected Choice - IBM Db2 ',\n",
       " 240: 'Which of the following big data products (relational databases, data warehouses, data lakes, or similar) do you hope to become more familiar with in the next 2 years? (Select all that apply) - Selected Choice - Microsoft SQL Server ',\n",
       " 241: 'Which of the following big data products (relational databases, data warehouses, data lakes, or similar) do you hope to become more familiar with in the next 2 years? (Select all that apply) - Selected Choice - Amazon Redshift ',\n",
       " 242: 'Which of the following big data products (relational databases, data warehouses, data lakes, or similar) do you hope to become more familiar with in the next 2 years? (Select all that apply) - Selected Choice - Amazon DynamoDB ',\n",
       " 243: 'Has taken DS Course Count',\n",
       " 244: 'Knows Pgm Lang Count',\n",
       " 245: 'Uses IDE for dev Count',\n",
       " 246: 'Uses Notebooks for dev Count',\n",
       " 247: 'Uses Data Visualization libs Count',\n",
       " 248: 'Uses ML Framework Count',\n",
       " 249: 'Uses ML Algorithms Count',\n",
       " 250: 'Uses Computer Vision Algorithms Count',\n",
       " 251: 'Uses NLP Algorithms Count',\n",
       " 252: 'Uses Auto ML tools Count',\n",
       " 253: 'Uses Business Intel tools Count',\n",
       " 254: 'Uses Big Data Products Count',\n",
       " 255: 'Has Managed ML tools Count',\n",
       " 256: 'Knows Cloud Compute Platforms Count',\n",
       " 257: 'Has taken DS Course',\n",
       " 258: 'Knows Pgm Lang',\n",
       " 259: 'Uses IDE for dev',\n",
       " 260: 'Uses Notebooks for dev',\n",
       " 261: 'Uses Data Visualization libs',\n",
       " 262: 'Uses ML Framework',\n",
       " 263: 'Uses ML Algorithms',\n",
       " 264: 'Uses Computer Vision Algorithms',\n",
       " 265: 'Uses NLP Algorithms',\n",
       " 266: 'Knows Cloud Compute Platforms',\n",
       " 267: 'Uses Auto ML tools',\n",
       " 268: 'Uses Business Intel tools',\n",
       " 269: 'Uses Big Data Products',\n",
       " 270: 'Has Managed ML tools',\n",
       " 271: 'What is the highest level of formal education that you have attained or plan to attain within the next 2 years?_Bachelors',\n",
       " 272: 'What is the highest level of formal education that you have attained or plan to attain within the next 2 years?_Doctorate',\n",
       " 273: 'What is the highest level of formal education that you have attained or plan to attain within the next 2 years?_High-School',\n",
       " 274: 'What is the highest level of formal education that you have attained or plan to attain within the next 2 years?_Masters',\n",
       " 275: 'What is the highest level of formal education that you have attained or plan to attain within the next 2 years?_No formal education past high school',\n",
       " 276: 'What is the highest level of formal education that you have attained or plan to attain within the next 2 years?_None',\n",
       " 277: 'What is the highest level of formal education that you have attained or plan to attain within the next 2 years?_Professional degree',\n",
       " 278: 'Target'}"
      ]
     },
     "execution_count": 38,
     "metadata": {},
     "output_type": "execute_result"
    }
   ],
   "source": [
    "encode_dict = gen_dict(feat_df)\n",
    "encode_dict"
   ]
  },
  {
   "cell_type": "code",
   "execution_count": 39,
   "id": "28dfcb0d-5f3c-40bd-9a55-22c8da8a5597",
   "metadata": {
    "tags": []
   },
   "outputs": [
    {
     "data": {
      "text/plain": [
       "2    33815\n",
       "0    26013\n",
       "6    25400\n",
       "5    17280\n",
       "3    15165\n",
       "1    14433\n",
       "4    13813\n",
       "7    13429\n",
       "Name: Target, dtype: int64"
      ]
     },
     "execution_count": 39,
     "metadata": {},
     "output_type": "execute_result"
    }
   ],
   "source": [
    "feat_df[\"Target\"].value_counts()"
   ]
  },
  {
   "cell_type": "code",
   "execution_count": 106,
   "id": "91dfd460-0614-4249-910a-52dcbb45e6b2",
   "metadata": {
    "tags": []
   },
   "outputs": [],
   "source": [
    "feat_df.to_csv(\n",
    "    processed_data_dir.joinpath(\"Features-KaggleResponses_v3.csv\"), index=False\n",
    ")"
   ]
  },
  {
   "cell_type": "code",
   "execution_count": 112,
   "id": "9980fa98-608a-4eb7-a193-e2e3c420af1d",
   "metadata": {
    "tags": []
   },
   "outputs": [],
   "source": [
    "feat_df = pd.read_csv(processed_data_dir.joinpath(\"Features-KaggleResponses_v3.csv\"))\n",
    "col_list = [\n",
    "    platform_ds,\n",
    "    pgm_lang,\n",
    "    ide,\n",
    "    notebooks,\n",
    "    data_viz,\n",
    "    ml_framework,\n",
    "    ml_algo,\n",
    "    comp_vision,\n",
    "    nlp_method,\n",
    "    cloud_compute,\n",
    "    automate_ml,\n",
    "    business_intel,\n",
    "    big_data,\n",
    "    managed_ml,\n",
    "]\n",
    "# final_df= drop_cols_list(col_list, feat_df)\n",
    "final_df = feat_df.copy()"
   ]
  },
  {
   "cell_type": "code",
   "execution_count": 113,
   "id": "04d3aa90-9be7-48e1-8b4b-e24f436db60b",
   "metadata": {
    "tags": []
   },
   "outputs": [
    {
     "data": {
      "text/plain": [
       "(55797, 279)"
      ]
     },
     "execution_count": 113,
     "metadata": {},
     "output_type": "execute_result"
    }
   ],
   "source": [
    "final_df.shape"
   ]
  },
  {
   "cell_type": "code",
   "execution_count": 114,
   "id": "13d48237-3734-4a5d-b6e7-8b6593c2b4c4",
   "metadata": {
    "tags": []
   },
   "outputs": [
    {
     "data": {
      "text/plain": [
       "3    16910\n",
       "7    11978\n",
       "1     8489\n",
       "6     5371\n",
       "0     4097\n",
       "4     3192\n",
       "2     2466\n",
       "5     1843\n",
       "8     1451\n",
       "Name: Target, dtype: int64"
      ]
     },
     "execution_count": 114,
     "metadata": {},
     "output_type": "execute_result"
    }
   ],
   "source": [
    "feat_df[\"Target\"].value_counts()"
   ]
  },
  {
   "cell_type": "markdown",
   "id": "8a0f318e-1706-4774-b644-ee75639c617c",
   "metadata": {},
   "source": [
    "### Sampling strategy for handling imbalance data"
   ]
  },
  {
   "cell_type": "code",
   "execution_count": 35,
   "id": "c511d30d-21fe-4d4c-b922-1caeb08f0695",
   "metadata": {
    "tags": []
   },
   "outputs": [],
   "source": [
    "X = final_df.iloc[:, 1:-1].values\n",
    "y = final_df[\"Target\"].values\n",
    "resample = SMOTETomek(tomek=TomekLinks(sampling_strategy=\"majority\"))\n",
    "X, y = resample.fit_resample(X, y)"
   ]
  },
  {
   "cell_type": "code",
   "execution_count": 36,
   "id": "b6425255-16ab-48b8-87de-742eb0a2297b",
   "metadata": {
    "tags": []
   },
   "outputs": [],
   "source": [
    "majority_sample = pd.DataFrame(X, columns=final_df.iloc[:, 1:-1].columns)\n",
    "target_sample = pd.DataFrame(y, columns=[\"Target\"])\n",
    "sampled_data = pd.concat([majority_sample, target_sample], axis=1)\n",
    "sampled_data.to_parquet(\n",
    "    processed_data_dir.joinpath(\"Features-KaggleResponses_Sampled_v2.parquet\"),\n",
    "    index=False,\n",
    ")"
   ]
  },
  {
   "cell_type": "markdown",
   "id": "2ffd8a7a-fbdf-48f0-b4d3-7354f6292ae8",
   "metadata": {},
   "source": [
    "### Split the data into train and test\n"
   ]
  },
  {
   "cell_type": "code",
   "execution_count": 8,
   "id": "3ddbcdda-7d89-4436-8d95-61af045d8802",
   "metadata": {
    "tags": []
   },
   "outputs": [],
   "source": [
    "sampled_data = pd.read_csv(\n",
    "    processed_data_dir.joinpath(\"Features_KaggleResponses_v4.csv\")\n",
    ")\n",
    "le = LabelEncoder()\n",
    "sampled_data[\"Target\"] = le.fit_transform(sampled_data[\"Target\"])\n",
    "sampled_data = sampled_data.fillna(0)\n",
    "X = sampled_data.iloc[:, 1:-1].values\n",
    "y = sampled_data[\"Target\"].values\n",
    "X_train, X_test, y_train, y_test = train_test_split(\n",
    "    X, y, test_size=0.20, stratify=y, random_state=42\n",
    ")"
   ]
  },
  {
   "cell_type": "markdown",
   "id": "c03ea0a1-88f8-4f75-9700-a3986f721e49",
   "metadata": {},
   "source": [
    "### Feature Selection using Chisquare"
   ]
  },
  {
   "cell_type": "code",
   "execution_count": 9,
   "id": "e0a11aec-67b0-4e7d-b4b6-87aa89b45a4e",
   "metadata": {
    "collapsed": true,
    "jupyter": {
     "outputs_hidden": true
    },
    "tags": []
   },
   "outputs": [
    {
     "name": "stdout",
     "output_type": "stream",
     "text": [
      " 1) Does your current employer incorporate machine learning methods into their business? 0.193237\n",
      " 2) For how many years have you used machine learning methods? 0.187876\n",
      " 3) What is your current yearly compensation (approximate $USD)? 0.181956\n",
      " 4) Uses ML Framework Count        0.167921\n",
      " 5) In what industry is your current employer/contract (or your most recent employer if retired)? - Selected Choice 0.156839\n",
      " 6) Knows Pgm Lang Count           0.150578\n",
      " 7) Uses IDE for dev Count         0.136272\n",
      " 8) Uses Data Visualization libs Count 0.135272\n",
      " 9) What is the highest level of formal education that you have attained or plan to attain within the next 2 years?_Doctorate 0.134787\n",
      "10) Has taken DS Course Count      0.130241\n",
      "11) Uses ML Algorithms Count       0.128869\n",
      "12) Approximately how many individuals are responsible for data science workloads at your place of business? 0.126312\n",
      "13) What is the size of the company where you are employed? 0.126136\n",
      "14) What is the primary tool that you use at work or school to analyze data? (Include text response) - Selected Choice 0.124320\n",
      "15) Uses Big Data Products Count   0.118964\n",
      "16) Approximately how much money have you (or your team) spent on machine learning and/or cloud computing services at home (or at work) in the past 5 years (approximate $USD)? 0.118598\n",
      "17) What type of computing platform do you use most often for your data science projects? - Selected Choice 0.117222\n",
      "18) Knows Cloud Compute Platforms Count 0.116054\n",
      "19) Select any activities that make up an important part of your role at work: (Select all that apply) - Selected Choice - Analyze and understand data to influence product or business decisions 0.112931\n",
      "20) What programming language would you recommend an aspiring data scientist to learn first? - Selected Choice 0.110386\n",
      "21) Select any activities that make up an important part of your role at work: (Select all that apply) - Selected Choice - Build prototypes to explore applying machine learning to new areas 0.103944\n",
      "22) What is the highest level of formal education that you have attained or plan to attain within the next 2 years?_Masters 0.102124\n",
      "23) What is the highest level of formal education that you have attained or plan to attain within the next 2 years?_Bachelors 0.100742\n",
      "24) Which of the following integrated development environments (IDE's) do you use on a regular basis?  (Select all that apply) - Selected Choice - Jupyter (JupyterLab, Jupyter Notebooks, etc)  0.100112\n",
      "25) Who/what are your favorite media sources that report on data science topics? (Select all that apply) - Selected Choice - Kaggle (notebooks, forums, etc) 0.099934\n",
      "26) What data visualization libraries or tools do you use on a regular basis?  (Select all that apply) - Selected Choice -  Matplotlib  0.099453\n",
      "27) Which of the following integrated development environments (IDE's) do you use on a regular basis?  (Select all that apply) - Selected Choice -  Visual Studio / Visual Studio Code  0.099353\n",
      "28) What data visualization libraries or tools do you use on a regular basis?  (Select all that apply) - Selected Choice -  Seaborn  0.094812\n",
      "29) What programming languages do you use on a regular basis? (Select all that apply) - Selected Choice - SQL 0.093396\n",
      "30) What programming languages do you use on a regular basis? (Select all that apply) - Selected Choice - R 0.092325\n",
      "31) Which of the following integrated development environments (IDE's) do you use on a regular basis?  (Select all that apply) - Selected Choice -  RStudio  0.092068\n",
      "32) Which of the following machine learning frameworks do you use on a regular basis? (Select all that apply) - Selected Choice -   TensorFlow  0.091739\n",
      "33) Select any activities that make up an important part of your role at work: (Select all that apply) - Selected Choice - Build and/or run a machine learning service that operationally improves my product or workflows 0.090691\n",
      "34) Which of the following machine learning frameworks do you use on a regular basis? (Select all that apply) - Selected Choice -   Scikit-learn  0.090646\n",
      "35) Which types of specialized hardware do you use on a regular basis?  (Select all that apply) - Selected Choice -  NVIDIA GPUs  0.090580\n",
      "36) Select any activities that make up an important part of your role at work: (Select all that apply) - Selected Choice - Build and/or run the data infrastructure that my business uses for storing, analyzing, and operationalizing data 0.086609\n",
      "37) Which of the following hosted notebook products do you use on a regular basis?  (Select all that apply) - Selected Choice -  Kaggle Notebooks 0.086357\n",
      "38) Which of the following hosted notebook products do you use on a regular basis?  (Select all that apply) - Selected Choice - Colab Notebooks 0.085017\n",
      "39) Which of the following integrated development environments (IDE's) do you use on a regular basis?  (Select all that apply) - Selected Choice -  PyCharm  0.084133\n",
      "40) Which of the following machine learning frameworks do you use on a regular basis? (Select all that apply) - Selected Choice -  Keras  0.083297\n",
      "41) Approximately how many times have you used a TPU (tensor processing unit)? 0.082919\n",
      "42) What data visualization libraries or tools do you use on a regular basis?  (Select all that apply) - Selected Choice -  Ggplot / ggplot2  0.081981\n",
      "43) Select any activities that make up an important part of your role at work: (Select all that apply) - Selected Choice - Do research that advances the state of the art of machine learning 0.079121\n",
      "44) Who/what are your favorite media sources that report on data science topics? (Select all that apply) - Selected Choice - Blogs (Towards Data Science, Analytics Vidhya, etc) 0.076372\n",
      "45) Which of the following cloud computing platforms do you use on a regular basis? (Select all that apply) - Selected Choice -  Amazon Web Services (AWS)  0.075724\n",
      "46) Who/what are your favorite media sources that report on data science topics? (Select all that apply) - Selected Choice - YouTube (Kaggle YouTube, Cloud AI Adventures, etc) 0.075262\n",
      "47) Uses Computer Vision Algorithms Count 0.075066\n",
      "48) Which of the following machine learning frameworks do you use on a regular basis? (Select all that apply) - Selected Choice -  PyTorch  0.074698\n",
      "49) Which of the following machine learning frameworks do you use on a regular basis? (Select all that apply) - Selected Choice -  Xgboost  0.074132\n",
      "50) Select any activities that make up an important part of your role at work: (Select all that apply) - Selected Choice - Experimentation and iteration to improve existing ML models 0.073505\n",
      "51) What programming languages do you use on a regular basis? (Select all that apply) - Selected Choice - Python 0.070469\n",
      "52) Who/what are your favorite media sources that report on data science topics? (Select all that apply) - Selected Choice - Journal Publications (peer-reviewed journals, conference proceedings, etc) 0.069981\n",
      "53) Which of the following integrated development environments (IDE's) do you use on a regular basis?  (Select all that apply) - Selected Choice -   Notepad++   0.069881\n",
      "54) What data visualization libraries or tools do you use on a regular basis?  (Select all that apply) - Selected Choice -  Plotly / Plotly Express  0.068913\n",
      "55) On which platforms have you begun or completed data science courses? (Select all that apply) - Selected Choice - Coursera 0.067760\n",
      "56) What programming languages do you use on a regular basis? (Select all that apply) - Selected Choice - Javascript 0.067141\n",
      "57) On which platforms have you begun or completed data science courses? (Select all that apply) - Selected Choice - Kaggle Learn Courses 0.066883\n",
      "58) Which of the following hosted notebook products do you use on a regular basis?  (Select all that apply) - Selected Choice - None 0.065952\n",
      "59) Which of the following ML algorithms do you use on a regular basis? (Select all that apply): - Selected Choice - Convolutional Neural Networks 0.065861\n",
      "60) Which of the following big data products (relational databases, data warehouses, data lakes, or similar) do you use on a regular basis? (Select all that apply) - Selected Choice - MySQL  0.065088\n",
      "61) What programming languages do you use on a regular basis? (Select all that apply) - Selected Choice - Java 0.061276\n",
      "62) Which of the following automated machine learning tools (or partial AutoML tools) do you use on a regular basis?  (Select all that apply) - Selected Choice - No / None 0.060312\n",
      "63) Which types of specialized hardware do you use on a regular basis?  (Select all that apply) - Selected Choice - None 0.059613\n",
      "64) Which of the following ML algorithms do you use on a regular basis? (Select all that apply): - Selected Choice - Gradient Boosting Machines (xgboost, lightgbm, etc) 0.058061\n",
      "65) Which of the following big data products (relational databases, data warehouses, data lakes, or similar) do you use on a regular basis? (Select all that apply) - Selected Choice - PostgreSQL  0.057608\n",
      "66) Which of the following cloud computing platforms do you use on a regular basis? (Select all that apply) - Selected Choice -  Google Cloud Platform (GCP)  0.057155\n",
      "67) Which of the following ML algorithms do you use on a regular basis? (Select all that apply): - Selected Choice - Dense Neural Networks (MLPs, etc) 0.056881\n",
      "68) Do you use any automated machine learning tools (or partial AutoML tools) on a regular basis?  (Select all that apply) - Selected Choice - No / None 0.056245\n",
      "69) Do you use any of the following managed machine learning products on a regular basis? (Select all that apply) - Selected Choice - No / None 0.056144\n",
      "70) Uses Notebooks for dev Count   0.055821\n",
      "71) Select any activities that make up an important part of your role at work: (Select all that apply) - Selected Choice - None of these activities are an important part of my role at work 0.054780\n",
      "72) On which platforms have you begun or completed data science courses? (Select all that apply) - Selected Choice - DataCamp 0.054527\n",
      "73) Which categories of computer vision methods do you use on a regular basis?  (Select all that apply) - Selected Choice - Image classification and other general purpose networks (VGG, Inception, ResNet, ResNeXt, NASNet, EfficientNet, etc) 0.054454\n",
      "74) On which platforms have you begun or completed data science courses? (Select all that apply) - Selected Choice - Udemy 0.054376\n",
      "75) Who/what are your favorite media sources that report on data science topics? (Select all that apply) - Selected Choice - Twitter (data science influencers) 0.053712\n",
      "76) Which of the following ML algorithms do you use on a regular basis? (Select all that apply): - Selected Choice - Decision Trees or Random Forests 0.053700\n",
      "77) Uses Auto ML tools Count       0.053443\n",
      "78) Which of the following integrated development environments (IDE's) do you use on a regular basis?  (Select all that apply) - Selected Choice -   Spyder   0.052752\n",
      "79) Which of the following integrated development environments (IDE's) do you use on a regular basis?  (Select all that apply) - Selected Choice -   Sublime Text   0.052487\n",
      "80) Which of the following integrated development environments (IDE's) do you use on a regular basis?  (Select all that apply) - Selected Choice -   Vim / Emacs   0.051870\n",
      "81) Which of the following cloud computing platforms do you use on a regular basis? (Select all that apply) - Selected Choice - None 0.050148\n",
      "82) What programming languages do you use on a regular basis? (Select all that apply) - Selected Choice - Bash 0.049580\n",
      "83) Which of the following big data products (relational databases, data warehouses, data lakes, or similar) do you use on a regular basis? (Select all that apply) - Selected Choice - Microsoft SQL Server  0.048402\n",
      "84) Which of the following cloud computing platforms do you use on a regular basis? (Select all that apply) - Selected Choice -  Microsoft Azure  0.048376\n",
      "85) Which of the following ML algorithms do you use on a regular basis? (Select all that apply): - Selected Choice - Linear or Logistic Regression 0.047034\n",
      "86) Which of the following ML algorithms do you use on a regular basis? (Select all that apply): - Selected Choice - Recurrent Neural Networks 0.047003\n",
      "87) What data visualization libraries or tools do you use on a regular basis?  (Select all that apply) - Selected Choice -  Shiny  0.047002\n",
      "88) Uses NLP Algorithms Count      0.046738\n",
      "89) On which platforms have you begun or completed data science courses? (Select all that apply) - Selected Choice - University Courses (resulting in a university degree) 0.046676\n",
      "90) Which of the following business intelligence tools do you use on a regular basis? (Select all that apply) - Selected Choice - None 0.045728\n",
      "91) Which of the following machine learning frameworks do you use on a regular basis? (Select all that apply) - Selected Choice -  Caret  0.044171\n",
      "92) On which platforms have you begun or completed data science courses? (Select all that apply) - Selected Choice - edX 0.044157\n",
      "93) What programming languages do you use on a regular basis? (Select all that apply) - Selected Choice - C++ 0.043901\n",
      "94) Which of the following big data products (relational database, data warehouse, data lake, or similar) do you use most often? - Selected Choice 0.043048\n",
      "95) Which categories of computer vision methods do you use on a regular basis?  (Select all that apply) - Selected Choice - General purpose image/video tools (PIL, cv2, skimage, etc) 0.042423\n",
      "96) Which of the following ML algorithms do you use on a regular basis? (Select all that apply): - Selected Choice - Bayesian Approaches 0.042280\n",
      "97) What programming languages do you use on a regular basis? (Select all that apply) - Selected Choice - MATLAB 0.041607\n",
      "98) Uses Business Intel tools Count 0.041569\n",
      "99) Which of the following machine learning frameworks do you use on a regular basis? (Select all that apply) - Selected Choice - None 0.041106\n",
      "100) Which of the following machine learning frameworks do you use on a regular basis? (Select all that apply) - Selected Choice -  LightGBM  0.040373\n",
      "101) Which categories of computer vision methods do you use on a regular basis?  (Select all that apply) - Selected Choice - Object detection methods (YOLOv3, RetinaNet, etc) 0.040136\n",
      "102) Which types of specialized hardware do you use on a regular basis?  (Select all that apply) - Selected Choice - CPUs 0.040000\n",
      "103) Which of the following big data products (relational databases, data warehouses, data lakes, or similar) do you use on a regular basis? (Select all that apply) - Selected Choice - SQLite  0.039450\n",
      "104) Which of the following hosted notebook products do you use on a regular basis?  (Select all that apply) - Selected Choice -  Binder / JupyterHub  0.039239\n",
      "105) What data visualization libraries or tools do you use on a regular basis?  (Select all that apply) - Selected Choice - None 0.038816\n",
      "106) Who/what are your favorite media sources that report on data science topics? (Select all that apply) - Selected Choice - Reddit (r/machinelearning, etc) 0.038762\n",
      "107) Which of the following integrated development environments (IDE's) do you use on a regular basis?  (Select all that apply) - Selected Choice -  MATLAB  0.038559\n",
      "108) Which categories of computer vision methods do you use on a regular basis?  (Select all that apply) - Selected Choice - Image segmentation methods (U-Net, Mask R-CNN, etc) 0.038104\n",
      "109) On which platforms have you begun or completed data science courses? (Select all that apply) - Selected Choice - Udacity 0.037968\n",
      "110) Where do you publicly share your data analysis or machine learning applications? (Select all that apply) - Selected Choice -  GitHub  0.037677\n",
      "111) Who/what are your favorite media sources that report on data science topics? (Select all that apply) - Selected Choice - Course Forums (forums.fast.ai, Coursera forums, etc) 0.037298\n",
      "112) Which of the following natural language processing (NLP) methods do you use on a regular basis?  (Select all that apply) - Selected Choice - Transformer language models (GPT-3, BERT, XLnet, etc) 0.037121\n",
      "113) Which of the following ML algorithms do you use on a regular basis? (Select all that apply): - Selected Choice - Transformer Networks (BERT, gpt-3, etc) 0.035773\n",
      "114) Which of the following natural language processing (NLP) methods do you use on a regular basis?  (Select all that apply) - Selected Choice - Word embeddings/vectors (GLoVe, fastText, word2vec) 0.034121\n",
      "115) Do you use any tools to help manage machine learning experiments? (Select all that apply) - Selected Choice -  TensorBoard  0.033521\n",
      "116) Which of the following big data products (relational databases, data warehouses, data lakes, or similar) do you use on a regular basis? (Select all that apply) - Selected Choice - Oracle Database  0.033395\n",
      "117) What programming languages do you use on a regular basis? (Select all that apply) - Selected Choice - C 0.033156\n",
      "118) Which of the following big data products (relational databases, data warehouses, data lakes, or similar) do you use on a regular basis? (Select all that apply) - Selected Choice - None 0.033001\n",
      "119) Where do you publicly share your data analysis or machine learning applications? (Select all that apply) - Selected Choice - I do not share my work publicly 0.032495\n",
      "120) Knows Pgm Lang                 0.030564\n",
      "121) Do you use any tools to help manage machine learning experiments? (Select all that apply) - Selected Choice - No / None 0.029775\n",
      "122) Has Managed ML tools Count     0.029646\n",
      "123) What programming languages do you use on a regular basis? (Select all that apply) - Selected Choice - Other 0.029520\n",
      "124) On which platforms have you begun or completed data science courses? (Select all that apply) - Selected Choice - Fast.ai 0.028493\n",
      "125) Uses Data Visualization libs   0.027654\n",
      "126) Who/what are your favorite media sources that report on data science topics? (Select all that apply) - Selected Choice - Email newsletters (Data Elixir, O'Reilly Data & AI, etc) 0.027629\n",
      "127) Where do you publicly share your data analysis or machine learning applications? (Select all that apply) - Selected Choice -  Kaggle  0.027522\n",
      "128) Has taken DS Course            0.027414\n",
      "129) Do you use any automated machine learning tools (or partial AutoML tools) on a regular basis?  (Select all that apply) - Selected Choice - Automated hyperparameter tuning (e.g. hyperopt, ray.tune, Vizier) 0.027045\n",
      "130) What data visualization libraries or tools do you use on a regular basis?  (Select all that apply) - Selected Choice -  D3 js  0.027044\n",
      "131) Which of the following natural language processing (NLP) methods do you use on a regular basis?  (Select all that apply) - Selected Choice - Encoder-decorder models (seq2seq, vanilla transformers) 0.025957\n",
      "132) Which types of specialized hardware do you use on a regular basis?  (Select all that apply) - Selected Choice -  Google Cloud TPUs  0.025845\n",
      "133) What data visualization libraries or tools do you use on a regular basis?  (Select all that apply) - Selected Choice -  Bokeh  0.025749\n",
      "134) Which of the following business intelligence tools do you use most often? - Selected Choice 0.025073\n",
      "135) Who/what are your favorite media sources that report on data science topics? (Select all that apply) - Selected Choice - Podcasts (Chai Time Data Science, Oâ€™Reilly Data Show, etc) 0.024891\n",
      "136) Who/what are your favorite media sources that report on data science topics? (Select all that apply) - Selected Choice - None 0.024798\n",
      "137) Who/what are your favorite media sources that report on data science topics? (Select all that apply) - Selected Choice - Slack Communities (ods.ai, kagglenoobs, etc) 0.024787\n",
      "138) On which platforms have you begun or completed data science courses? (Select all that apply) - Selected Choice - Other 0.024235\n",
      "139) Which of the following machine learning frameworks do you use on a regular basis? (Select all that apply) - Selected Choice -  CatBoost  0.024067\n",
      "140) On which platforms have you begun or completed data science courses? (Select all that apply) - Selected Choice - None 0.022644\n",
      "141) Where do you publicly share your data analysis or machine learning applications? (Select all that apply) - Selected Choice -  Colab  0.022181\n",
      "142) Which of the following business intelligence tools do you use on a regular basis? (Select all that apply) - Selected Choice - Microsoft Power BI 0.021790\n",
      "143) Which of the following business intelligence tools do you use on a regular basis? (Select all that apply) - Selected Choice - Tableau 0.021712\n",
      "144) Which of the following big data products (relational databases, data warehouses, data lakes, or similar) do you use on a regular basis? (Select all that apply) - Selected Choice - Amazon DynamoDB  0.021415\n",
      "145) Who/what are your favorite media sources that report on data science topics? (Select all that apply) - Selected Choice - Other 0.021108\n",
      "146) Which of the following ML algorithms do you use on a regular basis? (Select all that apply): - Selected Choice - Generative Adversarial Networks 0.020825\n",
      "147) Do you use any automated machine learning tools (or partial AutoML tools) on a regular basis?  (Select all that apply) - Selected Choice - Automated data augmentation (e.g. imgaug, albumentations) 0.020501\n",
      "148) On which platforms have you begun or completed data science courses? (Select all that apply) - Selected Choice - LinkedIn Learning 0.020424\n",
      "149) Do you use any automated machine learning tools (or partial AutoML tools) on a regular basis?  (Select all that apply) - Selected Choice - Automated model selection (e.g. auto-sklearn, xcessiv) 0.020174\n",
      "150) Which of the following big data products (relational databases, data warehouses, data lakes, or similar) do you hope to become more familiar with in the next 2 years? (Select all that apply) - Selected Choice - MySQL  0.019751\n",
      "151) Which of the following cloud computing platforms do you hope to become more familiar with in the next 2 years? - Selected Choice -  Google Cloud Platform (GCP)  0.019378\n",
      "152) Which of the following hosted notebook products do you use on a regular basis?  (Select all that apply) - Selected Choice - Azure Notebooks 0.019166\n",
      "153) Which of the following cloud computing platforms do you hope to become more familiar with in the next 2 years? - Selected Choice -  Amazon Web Services (AWS)  0.018567\n",
      "154) Which of the following hosted notebook products do you use on a regular basis?  (Select all that apply) - Selected Choice - Google Cloud Datalab 0.018369\n",
      "155) Which of the following machine learning frameworks do you use on a regular basis? (Select all that apply) - Selected Choice -  Fast.ai  0.018322\n",
      "156) Which of the following big data products (relational databases, data warehouses, data lakes, or similar) do you use on a regular basis? (Select all that apply) - Selected Choice - MongoDB  0.018243\n",
      "157) Which of the following ML algorithms do you use on a regular basis? (Select all that apply): - Selected Choice - None 0.018228\n",
      "158) Which categories of computer vision methods do you use on a regular basis?  (Select all that apply) - Selected Choice - Generative Networks (GAN, VAE, etc) 0.018094\n",
      "159) Do you use any of the following managed machine learning products on a regular basis? (Select all that apply) - Selected Choice -  Amazon SageMaker  0.017700\n",
      "160) What is the highest level of formal education that you have attained or plan to attain within the next 2 years?_High-School 0.017366\n",
      "161) Uses IDE for dev               0.017294\n",
      "162) Which of the following integrated development environments (IDE's) do you use on a regular basis?  (Select all that apply) - Selected Choice - Other 0.016994\n",
      "163) Which of the following ML algorithms do you use on a regular basis? (Select all that apply): - Selected Choice - Evolutionary Approaches 0.016950\n",
      "164) Do you use any of the following managed machine learning products on a regular basis? (Select all that apply) - Selected Choice -  Azure Machine Learning Studio  0.016693\n",
      "165) Which of the following cloud computing platforms do you hope to become more familiar with in the next 2 years? - Selected Choice -  Microsoft Azure  0.016047\n",
      "166) Which of the following machine learning frameworks do you use on a regular basis? (Select all that apply) - Selected Choice -  Prophet  0.016044\n",
      "167) Which of the following hosted notebook products do you use on a regular basis?  (Select all that apply) - Selected Choice - Google Cloud Notebooks (AI Platform / Vertex AI)  0.015876\n",
      "168) Which of the following cloud computing platforms do you hope to become more familiar with in the next 2 years? - Selected Choice - None 0.015771\n",
      "169) Which of the following automated machine learning tools (or partial AutoML tools) do you use on a regular basis?  (Select all that apply) - Selected Choice -  Google Cloud AutoML  0.015535\n",
      "170) Which categories of computer vision methods do you use on a regular basis?  (Select all that apply) - Selected Choice - None 0.015349\n",
      "171) Which of the following natural language processing (NLP) methods do you use on a regular basis?  (Select all that apply) - Selected Choice - Contextualized embeddings (ELMo, CoVe) 0.015253\n",
      "172) Do you use any automated machine learning tools (or partial AutoML tools) on a regular basis?  (Select all that apply) - Selected Choice - Automation of full ML pipelines (e.g. Google AutoML, H2O Driverless AI) 0.015089\n",
      "173) Which of the following cloud computing platforms do you use on a regular basis? (Select all that apply) - Selected Choice -  IBM Cloud / Red Hat  0.014639\n",
      "174) What data visualization libraries or tools do you use on a regular basis?  (Select all that apply) - Selected Choice -  Geoplotlib  0.014351\n",
      "175) On which platforms have you begun or completed data science courses? (Select all that apply) - Selected Choice - Cloud-certification programs (direct from AWS, Azure, GCP, or similar) 0.014236\n",
      "176) Which of the following machine learning frameworks do you use on a regular basis? (Select all that apply) - Selected Choice -  H2O 3  0.013746\n",
      "177) Which of the following hosted notebook products do you use on a regular basis?  (Select all that apply) - Selected Choice -  Amazon Sagemaker Studio Notebooks  0.013525\n",
      "178) Which of the following natural language processing (NLP) methods do you use on a regular basis?  (Select all that apply) - Selected Choice - None 0.013507\n",
      "179) Which of the following big data products (relational databases, data warehouses, data lakes, or similar) do you use on a regular basis? (Select all that apply) - Selected Choice - Google Cloud SQL  0.013394\n",
      "180) Where do you publicly share your data analysis or machine learning applications? (Select all that apply) - Selected Choice -  Personal blog  0.013118\n",
      "181) What is the highest level of formal education that you have attained or plan to attain within the next 2 years?_Professional degree 0.013067\n",
      "182) Which of the following big data products (relational databases, data warehouses, data lakes, or similar) do you use on a regular basis? (Select all that apply) - Selected Choice - Google Cloud BigQuery  0.012921\n",
      "183) Which of the following big data products (relational databases, data warehouses, data lakes, or similar) do you use on a regular basis? (Select all that apply) - Selected Choice - Amazon Redshift  0.012698\n",
      "184) Which of the following big data products (relational databases, data warehouses, data lakes, or similar) do you hope to become more familiar with in the next 2 years? (Select all that apply) - Selected Choice - PostgreSQL  0.012342\n",
      "185) Uses Notebooks for dev         0.012109\n",
      "186) Do you use any automated machine learning tools (or partial AutoML tools) on a regular basis?  (Select all that apply) - Selected Choice - Automated feature engineering/selection (e.g. tpot, boruta_py) 0.011947\n",
      "187) Which of the following big data products (relational databases, data warehouses, data lakes, or similar) do you use on a regular basis? (Select all that apply) - Selected Choice - Other 0.011720\n",
      "188) Which of the following machine learning frameworks do you use on a regular basis? (Select all that apply) - Selected Choice -  Tidymodels  0.011138\n",
      "189) Which of the following hosted notebook products do you use on a regular basis?  (Select all that apply) - Selected Choice - Other 0.011124\n",
      "190) Select any activities that make up an important part of your role at work: (Select all that apply) - Selected Choice - Other 0.010945\n",
      "191) Which of the following business intelligence tools do you use on a regular basis? (Select all that apply) - Selected Choice - Google Data Studio 0.010448\n",
      "192) Do you use any tools to help manage machine learning experiments? (Select all that apply) - Selected Choice -  Weights & Biases  0.010318\n",
      "193) What is the highest level of formal education that you have attained or plan to attain within the next 2 years?_None 0.010081\n",
      "194) What data visualization libraries or tools do you use on a regular basis?  (Select all that apply) - Selected Choice - Other 0.010006\n",
      "195) Uses Business Intel tools      0.009739\n",
      "196) What data visualization libraries or tools do you use on a regular basis?  (Select all that apply) - Selected Choice -  Leaflet / Folium  0.009625\n",
      "197) Which of the following integrated development environments (IDE's) do you use on a regular basis?  (Select all that apply) - Selected Choice - None 0.009429\n",
      "198) Which types of specialized hardware do you use on a regular basis?  (Select all that apply) - Selected Choice - Other 0.009236\n",
      "199) What programming languages do you use on a regular basis? (Select all that apply) - Selected Choice - None 0.009209\n",
      "200) Which of the following hosted notebook products do you use on a regular basis?  (Select all that apply) - Selected Choice -  Databricks Collaborative Notebooks  0.009135\n",
      "201) Which of the following big data products (relational databases, data warehouses, data lakes, or similar) do you hope to become more familiar with in the next 2 years? (Select all that apply) - Selected Choice - MongoDB  0.009132\n",
      "202) Which of the following big data products (relational databases, data warehouses, data lakes, or similar) do you hope to become more familiar with in the next 2 years? (Select all that apply) - Selected Choice - Oracle Database  0.008722\n",
      "203) Which of the following hosted notebook products do you use on a regular basis?  (Select all that apply) - Selected Choice -  IBM Watson Studio  0.008598\n",
      "204) Where do you publicly share your data analysis or machine learning applications? (Select all that apply) - Selected Choice -  Streamlit  0.008542\n",
      "205) Which of the following cloud computing platforms do you use on a regular basis? (Select all that apply) - Selected Choice -  Oracle Cloud  0.008365\n",
      "206) Which of the following big data products (relational databases, data warehouses, data lakes, or similar) do you hope to become more familiar with in the next 2 years? (Select all that apply) - Selected Choice - Amazon DynamoDB  0.008064\n",
      "207) Which of the following big data products (relational databases, data warehouses, data lakes, or similar) do you use on a regular basis? (Select all that apply) - Selected Choice - Snowflake  0.007857\n",
      "208) Which of the following cloud computing platforms do you hope to become more familiar with in the next 2 years? - Selected Choice -  IBM Cloud / Red Hat  0.007833\n",
      "209) Which of the following cloud computing platforms do you use on a regular basis? (Select all that apply) - Selected Choice - Other 0.007720\n",
      "210) Which of the following cloud computing platforms do you hope to become more familiar with in the next 2 years? - Selected Choice -  Salesforce Cloud  0.007517\n",
      "211) What data visualization libraries or tools do you use on a regular basis?  (Select all that apply) - Selected Choice -  Altair  0.007236\n",
      "212) Uses Auto ML tools             0.007226\n",
      "213) Where do you publicly share your data analysis or machine learning applications? (Select all that apply) - Selected Choice -  Shiny  0.007205\n",
      "214) Which of the following ML algorithms do you use on a regular basis? (Select all that apply): - Selected Choice - Other 0.006808\n",
      "215) Which of the following automated machine learning tools (or partial AutoML tools) do you use on a regular basis?  (Select all that apply) - Selected Choice -  DataRobot AutoML  0.006688\n",
      "216) Which of the following machine learning frameworks do you use on a regular basis? (Select all that apply) - Selected Choice -  MXNet  0.006676\n",
      "217) Uses Big Data Products         0.006566\n",
      "218) Uses ML Framework              0.006273\n",
      "219) Which of the following hosted notebook products do you use on a regular basis?  (Select all that apply) - Selected Choice -  Paperspace / Gradient  0.006161\n",
      "220) Which of the following big data products (relational databases, data warehouses, data lakes, or similar) do you hope to become more familiar with in the next 2 years? (Select all that apply) - Selected Choice - Amazon Redshift  0.005998\n",
      "221) Which of the following cloud computing platforms do you hope to become more familiar with in the next 2 years? - Selected Choice -  Oracle Cloud  0.005990\n",
      "222) Which of the following cloud computing platforms do you hope to become more familiar with in the next 2 years? - Selected Choice -  VMware Cloud  0.005975\n",
      "223) Which of the following big data products (relational databases, data warehouses, data lakes, or similar) do you hope to become more familiar with in the next 2 years? (Select all that apply) - Selected Choice - IBM Db2  0.005949\n",
      "224) Which of the following big data products (relational databases, data warehouses, data lakes, or similar) do you hope to become more familiar with in the next 2 years? (Select all that apply) - Selected Choice - Microsoft SQL Server  0.005792\n",
      "225) Which of the following machine learning frameworks do you use on a regular basis? (Select all that apply) - Selected Choice - Other 0.005789\n",
      "226) Which of the following cloud computing platforms do you use on a regular basis? (Select all that apply) - Selected Choice -  Alibaba Cloud  0.005696\n",
      "227) What is the highest level of formal education that you have attained or plan to attain within the next 2 years?_No formal education past high school 0.005693\n",
      "228) Uses NLP Algorithms            0.005672\n",
      "229) Which of the following big data products (relational databases, data warehouses, data lakes, or similar) do you hope to become more familiar with in the next 2 years? (Select all that apply) - Selected Choice - SQLite  0.005557\n",
      "230) Which of the following big data products (relational databases, data warehouses, data lakes, or similar) do you use on a regular basis? (Select all that apply) - Selected Choice - Google Cloud Firestore  0.005540\n",
      "231) Which of the following automated machine learning tools (or partial AutoML tools) do you use on a regular basis?  (Select all that apply) - Selected Choice -  H2O Driverless AI   0.005496\n",
      "232) Which of the following big data products (relational databases, data warehouses, data lakes, or similar) do you hope to become more familiar with in the next 2 years? (Select all that apply) - Selected Choice - Snowflake  0.005469\n",
      "233) Which of the following business intelligence tools do you use on a regular basis? (Select all that apply) - Selected Choice - Qlik 0.004883\n",
      "234) Do you use any automated machine learning tools (or partial AutoML tools) on a regular basis?  (Select all that apply) - Selected Choice - Automated model architecture searches (e.g. darts, enas) 0.004814\n",
      "235) Which of the following automated machine learning tools (or partial AutoML tools) do you use on a regular basis?  (Select all that apply) - Selected Choice - Other 0.004578\n",
      "236) Do you use any tools to help manage machine learning experiments? (Select all that apply) - Selected Choice - Other 0.004559\n",
      "237) Which of the following cloud computing platforms do you use on a regular basis? (Select all that apply) - Selected Choice -  SAP Cloud  0.004517\n",
      "238) Do you use any tools to help manage machine learning experiments? (Select all that apply) - Selected Choice -  Polyaxon  0.004452\n",
      "239) Has Managed ML tools           0.004354\n",
      "240) Where do you publicly share your data analysis or machine learning applications? (Select all that apply) - Selected Choice - Other 0.004063\n",
      "241) Uses ML Algorithms             0.004030\n",
      "242) What programming languages do you use on a regular basis? (Select all that apply) - Selected Choice - Julia 0.003846\n",
      "243) Which of the following cloud computing platforms do you use on a regular basis? (Select all that apply) - Selected Choice -  VMware Cloud  0.003845\n",
      "244) Which of the following cloud computing platforms do you use on a regular basis? (Select all that apply) - Selected Choice -  Tencent Cloud  0.003820\n",
      "245) Which of the following cloud computing platforms do you use on a regular basis? (Select all that apply) - Selected Choice -  Salesforce Cloud  0.003615\n",
      "246) Which of the following business intelligence tools do you use on a regular basis? (Select all that apply) - Selected Choice - Other 0.003590\n",
      "247) Which of the following automated machine learning tools (or partial AutoML tools) do you use on a regular basis?  (Select all that apply) - Selected Choice -  Databricks AutoML  0.003376\n",
      "248) Which of the following cloud computing platforms do you hope to become more familiar with in the next 2 years? - Selected Choice -  SAP Cloud  0.003288\n",
      "249) Where do you publicly share your data analysis or machine learning applications? (Select all that apply) - Selected Choice -  NBViewer  0.003027\n",
      "250) Which of the following natural language processing (NLP) methods do you use on a regular basis?  (Select all that apply) - Selected Choice - Other 0.002982\n",
      "251) Which of the following cloud computing platforms do you hope to become more familiar with in the next 2 years? - Selected Choice -  Alibaba Cloud  0.002962\n",
      "252) Which of the following business intelligence tools do you use on a regular basis? (Select all that apply) - Selected Choice - Alteryx  0.002837\n",
      "253) Which of the following business intelligence tools do you use on a regular basis? (Select all that apply) - Selected Choice - Looker 0.002759\n",
      "254) Which of the following business intelligence tools do you use on a regular basis? (Select all that apply) - Selected Choice - Domo 0.002699\n",
      "255) Uses Computer Vision Algorithms 0.002625\n",
      "256) Which of the following hosted notebook products do you use on a regular basis?  (Select all that apply) - Selected Choice -  Code Ocean  0.002577\n",
      "257) Which of the following business intelligence tools do you use on a regular basis? (Select all that apply) - Selected Choice - TIBCO Spotfire 0.002397\n",
      "258) Do you use any tools to help manage machine learning experiments? (Select all that apply) - Selected Choice -  Neptune.ai  0.002371\n",
      "259) Knows Cloud Compute Platforms  0.002148\n",
      "260) Where do you publicly share your data analysis or machine learning applications? (Select all that apply) - Selected Choice -  Plotly Dash  0.002006\n",
      "261) Do you use any automated machine learning tools (or partial AutoML tools) on a regular basis?  (Select all that apply) - Selected Choice - Other 0.002006\n",
      "262) Do you use any of the following managed machine learning products on a regular basis? (Select all that apply) - Selected Choice - Other 0.001853\n",
      "263) Do you use any tools to help manage machine learning experiments? (Select all that apply) - Selected Choice -  Sacred + Omniboard  0.001789\n",
      "264) Which of the following business intelligence tools do you use on a regular basis? (Select all that apply) - Selected Choice - Amazon QuickSight 0.001759\n",
      "265) Which of the following business intelligence tools do you use on a regular basis? (Select all that apply) - Selected Choice - Salesforce 0.001682\n",
      "266) Which of the following cloud computing platforms do you hope to become more familiar with in the next 2 years? - Selected Choice - Other 0.001558\n",
      "267) Which of the following big data products (relational databases, data warehouses, data lakes, or similar) do you use on a regular basis? (Select all that apply) - Selected Choice - IBM Db2  0.001404\n",
      "268) Which of the following business intelligence tools do you use on a regular basis? (Select all that apply) - Selected Choice - SAP Analytics Cloud  0.001321\n",
      "269) What programming languages do you use on a regular basis? (Select all that apply) - Selected Choice - Swift 0.000978\n",
      "270) Which of the following machine learning frameworks do you use on a regular basis? (Select all that apply) - Selected Choice -  JAX  0.000872\n",
      "271) Which of the following hosted notebook products do you use on a regular basis?  (Select all that apply) - Selected Choice -  Amazon EMR Notebooks  0.000862\n",
      "272) Do you use any tools to help manage machine learning experiments? (Select all that apply) - Selected Choice -  Guild.ai  0.000373\n",
      "273) Which of the following cloud computing platforms do you hope to become more familiar with in the next 2 years? - Selected Choice -  Tencent Cloud  0.000164\n",
      "274) Do you use any tools to help manage machine learning experiments? (Select all that apply) - Selected Choice -  Comet.ml  0.000000\n",
      "275) Which of the following business intelligence tools do you use on a regular basis? (Select all that apply) - Selected Choice - Sisense  0.000000\n",
      "276) Do you use any tools to help manage machine learning experiments? (Select all that apply) - Selected Choice -  Domino Model Monitor  0.000000\n",
      "277) Which categories of computer vision methods do you use on a regular basis?  (Select all that apply) - Selected Choice - Other 0.000000\n"
     ]
    }
   ],
   "source": [
    "X_train_fs, X_test_fs, sorted_cols = get_feat_importance(\n",
    "    sampled_data, X_train, y_train, X_test\n",
    ")"
   ]
  },
  {
   "cell_type": "code",
   "execution_count": 10,
   "id": "e87fbaf5-f73a-4ed5-a5bc-06b83f56b2b2",
   "metadata": {
    "tags": []
   },
   "outputs": [],
   "source": [
    "## Feature store\n",
    "import yaml, json\n",
    "\n",
    "column_dictionary = {\n",
    "    str(indice): sampled_data.iloc[:, 1:-1].columns[indice]\n",
    "    for indice in sorted_cols[0:36]\n",
    "}\n",
    "with open(\n",
    "    features_dir.joinpath(\"features_select_mutual_info_v4.json\"), \"w\"\n",
    ") as json_file:\n",
    "    json.dump(column_dictionary, json_file)"
   ]
  },
  {
   "cell_type": "code",
   "execution_count": 50,
   "id": "d294293e-4d20-4603-855f-71342fa0b99b",
   "metadata": {
    "collapsed": true,
    "jupyter": {
     "outputs_hidden": true
    },
    "tags": []
   },
   "outputs": [
    {
     "data": {
      "text/plain": [
       "{'112': 'What is your current yearly compensation (approximate $USD)?',\n",
       " '113': 'Approximately how much money have you (or your team) spent on machine learning and/or cloud computing services at home (or at work) in the past 5 years (approximate $USD)?',\n",
       " '100': 'In what industry is your current employer/contract (or your most recent employer if retired)? - Selected Choice',\n",
       " '102': 'Approximately how many individuals are responsible for data science workloads at your place of business?',\n",
       " '145': 'Which of the following big data products (relational database, data warehouse, data lake, or similar) do you use most often? - Selected Choice',\n",
       " '249': 'Uses Computer Vision Algorithms Count',\n",
       " '101': 'What is the size of the company where you are employed?',\n",
       " '248': 'Uses ML Algorithms Count',\n",
       " '103': 'Does your current employer incorporate machine learning methods into their business?',\n",
       " '247': 'Uses ML Framework Count',\n",
       " '271': 'What is the highest level of formal education that you have attained or plan to attain within the next 2 years?_Doctorate',\n",
       " '58': 'For how many years have you used machine learning methods?',\n",
       " '39': 'What type of computing platform do you use most often for your data science projects? - Selected Choice',\n",
       " '250': 'Uses NLP Algorithms Count',\n",
       " '41': 'Which types of specialized hardware do you use on a regular basis?  (Select all that apply) - Selected Choice -  NVIDIA GPUs ',\n",
       " '108': 'Select any activities that make up an important part of your role at work: (Select all that apply) - Selected Choice - Experimentation and iteration to improve existing ML models',\n",
       " '253': 'Uses Big Data Products Count',\n",
       " '105': 'Select any activities that make up an important part of your role at work: (Select all that apply) - Selected Choice - Build and/or run the data infrastructure that my business uses for storing, analyzing, and operationalizing data',\n",
       " '216': 'Who/what are your favorite media sources that report on data science topics? (Select all that apply) - Selected Choice - Journal Publications (peer-reviewed journals, conference proceedings, etc)',\n",
       " '15': \"Which of the following integrated development environments (IDE's) do you use on a regular basis?  (Select all that apply) - Selected Choice -  RStudio \",\n",
       " '1': 'What programming languages do you use on a regular basis? (Select all that apply) - Selected Choice - R',\n",
       " '81': 'Which of the following ML algorithms do you use on a regular basis? (Select all that apply): - Selected Choice - Convolutional Neural Networks',\n",
       " '106': 'Select any activities that make up an important part of your role at work: (Select all that apply) - Selected Choice - Build prototypes to explore applying machine learning to new areas',\n",
       " '90': 'Which categories of computer vision methods do you use on a regular basis?  (Select all that apply) - Selected Choice - Image classification and other general purpose networks (VGG, Inception, ResNet, ResNeXt, NASNet, EfficientNet, etc)',\n",
       " '109': 'Select any activities that make up an important part of your role at work: (Select all that apply) - Selected Choice - Do research that advances the state of the art of machine learning',\n",
       " '104': 'Select any activities that make up an important part of your role at work: (Select all that apply) - Selected Choice - Analyze and understand data to influence product or business decisions',\n",
       " '114': 'Which of the following cloud computing platforms do you use on a regular basis? (Select all that apply) - Selected Choice -  Amazon Web Services (AWS) ',\n",
       " '6': 'What programming languages do you use on a regular basis? (Select all that apply) - Selected Choice - Javascript',\n",
       " '107': 'Select any activities that make up an important part of your role at work: (Select all that apply) - Selected Choice - Build and/or run a machine learning service that operationally improves my product or workflows',\n",
       " '252': 'Uses Business Intel tools Count',\n",
       " '45': 'Approximately how many times have you used a TPU (tensor processing unit)?',\n",
       " '251': 'Uses Auto ML tools Count',\n",
       " '80': 'Which of the following ML algorithms do you use on a regular basis? (Select all that apply): - Selected Choice - Dense Neural Networks (MLPs, etc)',\n",
       " '16': \"Which of the following integrated development environments (IDE's) do you use on a regular basis?  (Select all that apply) - Selected Choice -  Visual Studio / Visual Studio Code \",\n",
       " '89': 'Which categories of computer vision methods do you use on a regular basis?  (Select all that apply) - Selected Choice - Object detection methods (YOLOv3, RetinaNet, etc)',\n",
       " '131': 'Which of the following big data products (relational databases, data warehouses, data lakes, or similar) do you use on a regular basis? (Select all that apply) - Selected Choice - PostgreSQL '}"
      ]
     },
     "execution_count": 50,
     "metadata": {},
     "output_type": "execute_result"
    }
   ],
   "source": [
    "with open(features_dir.joinpath(\"features_select_v2.json\"), \"r\") as fp:\n",
    "    data = json.load(fp)\n",
    "data"
   ]
  },
  {
   "cell_type": "markdown",
   "id": "19210903-8701-426c-a8c3-efea47b33aee",
   "metadata": {},
   "source": [
    "### Modelling with Baseline,Bagging & Boosting methods"
   ]
  },
  {
   "cell_type": "code",
   "execution_count": 53,
   "id": "e5e7fdea-cf0c-4bf1-9d66-a1bdf2e43733",
   "metadata": {
    "tags": []
   },
   "outputs": [
    {
     "name": "stdout",
     "output_type": "stream",
     "text": [
      "{'Business Analyst': 0, 'Data Analyst': 1, 'Data Engineer': 2, 'Data Scientist': 3, 'Machine Learning Engineer': 4, 'Other': 5, 'Product/Project Manager': 6, 'Research Scientist': 7, 'Software Engineer': 8, 'Statistician': 9, 'Student': 10}\n"
     ]
    }
   ],
   "source": [
    "file = open(artifacts_dir.joinpath(\"target_encoder_v2.pkl\"), \"rb\")\n",
    "label_obj = pickle.load(file)\n",
    "le_name_mapping = dict(zip(label_obj.classes_, label_obj.transform(label_obj.classes_)))\n",
    "print(le_name_mapping)"
   ]
  },
  {
   "cell_type": "code",
   "execution_count": 54,
   "id": "662cbf3a-9a52-4328-b25a-105599f1a5ff",
   "metadata": {
    "collapsed": true,
    "jupyter": {
     "outputs_hidden": true
    },
    "tags": []
   },
   "outputs": [
    {
     "name": "stdout",
     "output_type": "stream",
     "text": [
      "Metrics for Baseline & Chisquare are \n",
      "               precision    recall  f1-score   support\n",
      "\n",
      "           0       0.25      0.17      0.20      5625\n",
      "           1       0.28      0.18      0.21      5645\n",
      "           2       0.36      0.36      0.36      5645\n",
      "           3       0.33      0.26      0.29      5645\n",
      "           4       0.47      0.47      0.47      5646\n",
      "           5       0.17      0.07      0.10      5646\n",
      "           6       0.30      0.29      0.30      5645\n",
      "           7       0.44      0.55      0.48      5646\n",
      "           8       0.36      0.31      0.33      5645\n",
      "           9       0.38      0.36      0.37      5645\n",
      "          10       0.35      0.87      0.50      5646\n",
      "\n",
      "    accuracy                           0.35     62079\n",
      "   macro avg       0.33      0.35      0.33     62079\n",
      "weighted avg       0.33      0.35      0.33     62079\n",
      "\n"
     ]
    }
   ],
   "source": [
    "log_regression = LogisticRegression()\n",
    "log_regression.fit(X_train_fs[:, sorted_cols[0:36]], y_train)\n",
    "y_preds = log_regression.predict(X_test_fs[:, sorted_cols[0:36]])\n",
    "get_multiclass_report(\"Baseline\", \"Chisquare\", y_preds, y_test)"
   ]
  },
  {
   "cell_type": "code",
   "execution_count": 20,
   "id": "bf937fb1-374a-42a4-9ba1-2bb0c1e0393a",
   "metadata": {
    "collapsed": true,
    "jupyter": {
     "outputs_hidden": true
    },
    "tags": []
   },
   "outputs": [
    {
     "name": "stdout",
     "output_type": "stream",
     "text": [
      "Metrics for Baseline & Chisquare are \n",
      "               precision    recall  f1-score   support\n",
      "\n",
      "           0       0.41      0.39      0.40      5735\n",
      "           1       0.45      0.41      0.43      5755\n",
      "           2       0.43      0.37      0.40      5755\n",
      "           3       0.20      0.06      0.09      5756\n",
      "           4       0.58      0.70      0.64      5756\n",
      "           5       0.45      0.43      0.44      5756\n",
      "           6       0.49      0.89      0.63      5755\n",
      "\n",
      "    accuracy                           0.46     40268\n",
      "   macro avg       0.43      0.46      0.43     40268\n",
      "weighted avg       0.43      0.46      0.43     40268\n",
      "\n"
     ]
    }
   ],
   "source": [
    "log_regression = LogisticRegression()\n",
    "log_regression.fit(X_train_fs[:, sorted_cols[0:36]], y_train)\n",
    "y_preds = log_regression.predict(X_test_fs[:, sorted_cols[0:36]])\n",
    "get_multiclass_report(\"Baseline\", \"Chisquare\", y_preds, y_test)"
   ]
  },
  {
   "cell_type": "code",
   "execution_count": 18,
   "id": "8876eb5c-fb02-4eed-8020-2a4c9ea98e33",
   "metadata": {
    "collapsed": true,
    "jupyter": {
     "outputs_hidden": true
    },
    "tags": []
   },
   "outputs": [
    {
     "name": "stdout",
     "output_type": "stream",
     "text": [
      "Metrics for Majority Vote & Chisquare are \n",
      "               precision    recall  f1-score   support\n",
      "\n",
      "           0       0.55      0.74      0.63      5735\n",
      "           1       0.67      0.72      0.70      5755\n",
      "           2       0.67      0.41      0.51      5755\n",
      "           3       0.42      0.09      0.14      5756\n",
      "           4       0.63      0.94      0.75      5756\n",
      "           5       0.87      0.37      0.51      5756\n",
      "           6       0.48      0.89      0.63      5755\n",
      "\n",
      "    accuracy                           0.59     40268\n",
      "   macro avg       0.61      0.59      0.55     40268\n",
      "weighted avg       0.61      0.59      0.55     40268\n",
      "\n"
     ]
    }
   ],
   "source": [
    "majority_vote = build_majorityvote()\n",
    "majority_vote.fit(X_train_fs[:, sorted_cols[0:36]], y_train)\n",
    "y_preds = majority_vote.predict(X_test_fs[:, sorted_cols[0:36]])\n",
    "get_multiclass_report(\"Majority Vote\", \"Chisquare\", y_preds, y_test)"
   ]
  },
  {
   "cell_type": "code",
   "execution_count": 55,
   "id": "e45321b6-8c26-4840-af04-7d58a5c02940",
   "metadata": {
    "tags": []
   },
   "outputs": [
    {
     "name": "stdout",
     "output_type": "stream",
     "text": [
      "Metrics for Majority Vote & Chisquare are \n",
      "               precision    recall  f1-score   support\n",
      "\n",
      "           0       0.56      0.61      0.59      5625\n",
      "           1       0.59      0.55      0.57      5645\n",
      "           2       0.67      0.71      0.69      5645\n",
      "           3       0.59      0.45      0.51      5645\n",
      "           4       0.70      0.59      0.64      5646\n",
      "           5       0.52      0.20      0.29      5646\n",
      "           6       0.45      0.93      0.60      5645\n",
      "           7       0.67      0.54      0.60      5646\n",
      "           8       0.92      0.25      0.39      5645\n",
      "           9       0.96      0.36      0.52      5645\n",
      "          10       0.37      0.87      0.52      5646\n",
      "\n",
      "    accuracy                           0.55     62079\n",
      "   macro avg       0.63      0.55      0.54     62079\n",
      "weighted avg       0.63      0.55      0.54     62079\n",
      "\n"
     ]
    }
   ],
   "source": [
    "majority_vote = build_majorityvote()\n",
    "majority_vote.fit(X_train_fs[:, sorted_cols[0:36]], y_train)\n",
    "y_preds = majority_vote.predict(X_test_fs[:, sorted_cols[0:36]])\n",
    "get_multiclass_report(\"Majority Vote\", \"Chisquare\", y_preds, y_test)"
   ]
  },
  {
   "cell_type": "code",
   "execution_count": 22,
   "id": "12572602-dae5-49b5-a1cf-0957c65b1cc3",
   "metadata": {
    "collapsed": true,
    "jupyter": {
     "outputs_hidden": true
    },
    "tags": []
   },
   "outputs": [
    {
     "name": "stdout",
     "output_type": "stream",
     "text": [
      "[07:49:20] WARNING: ../src/learner.cc:1115: Starting in XGBoost 1.3.0, the default evaluation metric used with the objective 'multi:softprob' was changed from 'merror' to 'mlogloss'. Explicitly set eval_metric if you'd like to restore the old behavior.\n",
      "Metrics for XGB Classification & Chisquare are \n",
      "               precision    recall  f1-score   support\n",
      "\n",
      "           0       0.61      0.46      0.52      5735\n",
      "           1       0.71      0.76      0.73      5755\n",
      "           2       0.59      0.46      0.51      5755\n",
      "           3       0.48      0.45      0.46      5756\n",
      "           4       0.79      0.80      0.80      5756\n",
      "           5       0.63      0.48      0.54      5756\n",
      "           6       0.55      0.95      0.70      5755\n",
      "\n",
      "    accuracy                           0.62     40268\n",
      "   macro avg       0.62      0.62      0.61     40268\n",
      "weighted avg       0.62      0.62      0.61     40268\n",
      "\n"
     ]
    }
   ],
   "source": [
    "xgb_class = xgb.XGBClassifier()\n",
    "xgb_class.fit(X_train_fs[:, sorted_cols[0:36]], y_train)\n",
    "y_preds = xgb_class.predict(X_test_fs[:, sorted_cols[0:36]])\n",
    "get_multiclass_report(\"XGB Classification\", \"Chisquare\", y_preds, y_test)"
   ]
  },
  {
   "cell_type": "code",
   "execution_count": 56,
   "id": "df29d122-d711-4476-aa42-7f602559256d",
   "metadata": {
    "collapsed": true,
    "jupyter": {
     "outputs_hidden": true
    },
    "tags": []
   },
   "outputs": [
    {
     "name": "stdout",
     "output_type": "stream",
     "text": [
      "[17:04:55] WARNING: ../src/learner.cc:1115: Starting in XGBoost 1.3.0, the default evaluation metric used with the objective 'multi:softprob' was changed from 'merror' to 'mlogloss'. Explicitly set eval_metric if you'd like to restore the old behavior.\n",
      "Metrics for XGB Classification & Chisquare are \n",
      "               precision    recall  f1-score   support\n",
      "\n",
      "           0       0.54      0.37      0.44      5625\n",
      "           1       0.49      0.32      0.39      5645\n",
      "           2       0.64      0.63      0.64      5645\n",
      "           3       0.54      0.43      0.48      5645\n",
      "           4       0.68      0.66      0.67      5646\n",
      "           5       0.49      0.22      0.31      5646\n",
      "           6       0.59      0.72      0.65      5645\n",
      "           7       0.71      0.71      0.71      5646\n",
      "           8       0.53      0.42      0.47      5645\n",
      "           9       0.59      0.71      0.64      5645\n",
      "          10       0.42      0.95      0.58      5646\n",
      "\n",
      "    accuracy                           0.56     62079\n",
      "   macro avg       0.57      0.56      0.54     62079\n",
      "weighted avg       0.57      0.56      0.54     62079\n",
      "\n"
     ]
    }
   ],
   "source": [
    "xgb_class = xgb.XGBClassifier()\n",
    "xgb_class.fit(X_train_fs[:, sorted_cols[0:36]], y_train)\n",
    "y_preds = xgb_class.predict(X_test_fs[:, sorted_cols[0:36]])\n",
    "get_multiclass_report(\"XGB Classification\", \"Chisquare\", y_preds, y_test)"
   ]
  },
  {
   "cell_type": "code",
   "execution_count": 53,
   "id": "4c01475d-dcb7-4c65-b72c-e0b81c0ed02e",
   "metadata": {
    "tags": []
   },
   "outputs": [
    {
     "name": "stdout",
     "output_type": "stream",
     "text": [
      "{'Business Analyst': 0, 'Data Analyst': 1, 'Data Engineer': 2, 'Data Scientist': 3, 'Machine Learning Engineer': 4, 'Other': 5, 'Product/Project Manager': 6, 'Research Scientist': 7, 'Software Engineer': 8, 'Statistician': 9, 'Student': 10}\n"
     ]
    }
   ],
   "source": [
    "file = open(artifacts_dir.joinpath(\"target_encoder_v2.pkl\"), \"rb\")\n",
    "label_obj = pickle.load(file)\n",
    "le_name_mapping = dict(zip(label_obj.classes_, label_obj.transform(label_obj.classes_)))\n",
    "print(le_name_mapping)"
   ]
  },
  {
   "cell_type": "code",
   "execution_count": 58,
   "id": "6232c2f6-9120-4b1f-94d0-d74e12380f66",
   "metadata": {
    "tags": []
   },
   "outputs": [
    {
     "name": "stdout",
     "output_type": "stream",
     "text": [
      "Metrics for XGB Classification & Chisquare are \n",
      "               precision    recall  f1-score   support\n",
      "\n",
      "           0       0.80      0.62      0.70      5625\n",
      "           1       0.67      0.51      0.58      5645\n",
      "           2       0.83      0.86      0.84      5645\n",
      "           3       0.59      0.50      0.54      5645\n",
      "           4       0.78      0.73      0.75      5646\n",
      "           5       0.59      0.25      0.35      5646\n",
      "           6       0.83      0.89      0.86      5645\n",
      "           7       0.78      0.81      0.80      5646\n",
      "           8       0.66      0.52      0.58      5645\n",
      "           9       0.73      0.80      0.76      5645\n",
      "          10       0.42      0.93      0.58      5646\n",
      "\n",
      "    accuracy                           0.67     62079\n",
      "   macro avg       0.70      0.67      0.67     62079\n",
      "weighted avg       0.70      0.67      0.67     62079\n",
      "\n"
     ]
    }
   ],
   "source": [
    "rf_class = RandomForestClassifier()\n",
    "rf_class.fit(X_train_fs[:, sorted_cols[0:36]], y_train)\n",
    "y_preds = rf_class.predict(X_test_fs[:, sorted_cols[0:36]])\n",
    "get_multiclass_report(\"XGB Classification\", \"Chisquare\", y_preds, y_test)"
   ]
  },
  {
   "cell_type": "markdown",
   "id": "c0aa0484-7718-4ff8-99de-aa48d140d094",
   "metadata": {},
   "source": [
    "### Reduced Features Modelling\n"
   ]
  },
  {
   "cell_type": "code",
   "execution_count": 17,
   "id": "2f9b87f2-1118-4b8c-b554-ef1f58e39e76",
   "metadata": {
    "tags": []
   },
   "outputs": [],
   "source": [
    "col_list = [\n",
    "    platform_ds,\n",
    "    pgm_lang,\n",
    "    ide,\n",
    "    notebooks,\n",
    "    data_viz,\n",
    "    ml_framework,\n",
    "    ml_algo,\n",
    "    comp_vision,\n",
    "    nlp_method,\n",
    "    cloud_compute,\n",
    "    automate_ml,\n",
    "    business_intel,\n",
    "    big_data,\n",
    "    managed_ml,\n",
    "]\n",
    "final_df = drop_cols_list(col_list, sampled_data)\n",
    "X = final_df.iloc[:, 1:-1].values\n",
    "y = final_df[\"Target\"].values\n",
    "X_train, X_test, y_train, y_test = train_test_split(\n",
    "    X, y, test_size=0.20, stratify=y, random_state=42\n",
    ")"
   ]
  },
  {
   "cell_type": "code",
   "execution_count": 18,
   "id": "83a542a6-6366-4e92-bb1c-7743652e5ddc",
   "metadata": {
    "tags": []
   },
   "outputs": [
    {
     "data": {
      "text/plain": [
       "(115600, 93)"
      ]
     },
     "execution_count": 18,
     "metadata": {},
     "output_type": "execute_result"
    }
   ],
   "source": [
    "final_df.shape"
   ]
  },
  {
   "cell_type": "code",
   "execution_count": 19,
   "id": "c6c611f4-68b5-49d8-909e-37c1a452675d",
   "metadata": {
    "tags": []
   },
   "outputs": [
    {
     "name": "stdout",
     "output_type": "stream",
     "text": [
      " 1) What is your current yearly compensation (approximate $USD)? 36147.495596\n",
      " 2) Uses Computer Vision Algorithms Count 19017.741564\n",
      " 3) What is the highest level of formal education that you have attained or plan to attain within the next 2 years?_Doctorate 16539.287712\n",
      " 4) Uses ML Algorithms Count       14096.367058\n",
      " 5) Uses ML Framework Count        13515.752686\n",
      " 6) What type of computing platform do you use most often for your data science projects? - Selected Choice 13465.958808\n",
      " 7) In what industry is your current employer/contract (or your most recent employer if retired)? - Selected Choice 12149.330708\n",
      " 8) For how many years have you used machine learning methods? 10057.127200\n",
      " 9) Uses NLP Algorithms Count      8767.756241\n",
      "10) Which types of specialized hardware do you use on a regular basis?  (Select all that apply) - Selected Choice -  NVIDIA GPUs  8440.465980\n",
      "11) Who/what are your favorite media sources that report on data science topics? (Select all that apply) - Selected Choice - Journal Publications (peer-reviewed journals, conference proceedings, etc) 6491.368989\n",
      "12) Uses Big Data Products Count   6235.853697\n",
      "13) Select any activities that make up an important part of your role at work: (Select all that apply) - Selected Choice - Do research that advances the state of the art of machine learning 4984.485823\n",
      "14) Select any activities that make up an important part of your role at work: (Select all that apply) - Selected Choice - Build and/or run the data infrastructure that my business uses for storing, analyzing, and operationalizing data 4786.267155\n",
      "15) What programming language would you recommend an aspiring data scientist to learn first? - Selected Choice 4571.806057\n",
      "16) Select any activities that make up an important part of your role at work: (Select all that apply) - Selected Choice - Experimentation and iteration to improve existing ML models 4479.090101\n",
      "17) Approximately how many times have you used a TPU (tensor processing unit)? 4393.926316\n",
      "18) Do you use any tools to help manage machine learning experiments? (Select all that apply) - Selected Choice -  TensorBoard  4190.672029\n",
      "19) Approximately how much money have you (or your team) spent on machine learning and/or cloud computing services at home (or at work) in the past 5 years (approximate $USD)? 4175.301541\n",
      "20) What is the highest level of formal education that you have attained or plan to attain within the next 2 years?_Bachelors 3930.250486\n",
      "21) Select any activities that make up an important part of your role at work: (Select all that apply) - Selected Choice - Build and/or run a machine learning service that operationally improves my product or workflows 3761.457270\n",
      "22) Select any activities that make up an important part of your role at work: (Select all that apply) - Selected Choice - None of these activities are an important part of my role at work 3706.817339\n",
      "23) Select any activities that make up an important part of your role at work: (Select all that apply) - Selected Choice - Build prototypes to explore applying machine learning to new areas 3583.404472\n",
      "24) Uses Business Intel tools Count 3497.637847\n",
      "25) Uses IDE for dev Count         3315.179105\n",
      "26) Uses Auto ML tools Count       3050.400509\n",
      "27) Approximately how many individuals are responsible for data science workloads at your place of business? 2986.615370\n",
      "28) Which types of specialized hardware do you use on a regular basis?  (Select all that apply) - Selected Choice - CPUs 2745.832098\n",
      "29) What is the size of the company where you are employed? 2621.542399\n",
      "30) Knows Cloud Compute Platforms Count 2579.305941\n",
      "31) Does your current employer incorporate machine learning methods into their business? 2533.385634\n",
      "32) Select any activities that make up an important part of your role at work: (Select all that apply) - Selected Choice - Analyze and understand data to influence product or business decisions 2429.874727\n",
      "33) Where do you publicly share your data analysis or machine learning applications? (Select all that apply) - Selected Choice -  GitHub  2389.709619\n",
      "34) Uses Data Visualization libs Count 2281.282642\n",
      "35) Has taken DS Course Count      2281.282642\n",
      "36) Who/what are your favorite media sources that report on data science topics? (Select all that apply) - Selected Choice - Kaggle (notebooks, forums, etc) 2144.639371\n",
      "37) Where do you publicly share your data analysis or machine learning applications? (Select all that apply) - Selected Choice -  Colab  1947.167693\n",
      "38) What is the primary tool that you use at work or school to analyze data? (Include text response) - Selected Choice 1861.189708\n",
      "39) What is the highest level of formal education that you have attained or plan to attain within the next 2 years?_Masters 1545.996580\n",
      "40) Who/what are your favorite media sources that report on data science topics? (Select all that apply) - Selected Choice - Blogs (Towards Data Science, Analytics Vidhya, etc) 1523.037200\n",
      "41) Where do you publicly share your data analysis or machine learning applications? (Select all that apply) - Selected Choice -  Kaggle  1374.797353\n",
      "42) Knows Pgm Lang Count           1335.277448\n",
      "43) Which types of specialized hardware do you use on a regular basis?  (Select all that apply) - Selected Choice -  Google Cloud TPUs  1318.983165\n",
      "44) Has Managed ML tools Count     1287.886049\n",
      "45) Do you use any tools to help manage machine learning experiments? (Select all that apply) - Selected Choice -  Weights & Biases  1249.516970\n",
      "46) Which types of specialized hardware do you use on a regular basis?  (Select all that apply) - Selected Choice - None 1064.816720\n",
      "47) Who/what are your favorite media sources that report on data science topics? (Select all that apply) - Selected Choice - Course Forums (forums.fast.ai, Coursera forums, etc) 958.417309\n",
      "48) Knows Pgm Lang                 711.586321\n",
      "49) Who/what are your favorite media sources that report on data science topics? (Select all that apply) - Selected Choice - Email newsletters (Data Elixir, O'Reilly Data & AI, etc) 670.337164\n",
      "50) Where do you publicly share your data analysis or machine learning applications? (Select all that apply) - Selected Choice -  Streamlit  618.209123\n",
      "51) What is the highest level of formal education that you have attained or plan to attain within the next 2 years?_High-School 590.779743\n",
      "52) Uses Notebooks for dev Count   567.362048\n",
      "53) Where do you publicly share your data analysis or machine learning applications? (Select all that apply) - Selected Choice -  Personal blog  485.469517\n",
      "54) What is the highest level of formal education that you have attained or plan to attain within the next 2 years?_Professional degree 397.356008\n",
      "55) Who/what are your favorite media sources that report on data science topics? (Select all that apply) - Selected Choice - Twitter (data science influencers) 394.210488\n",
      "56) Who/what are your favorite media sources that report on data science topics? (Select all that apply) - Selected Choice - None 385.023053\n",
      "57) Uses IDE for dev               353.633521\n",
      "58) Who/what are your favorite media sources that report on data science topics? (Select all that apply) - Selected Choice - YouTube (Kaggle YouTube, Cloud AI Adventures, etc) 345.134296\n",
      "59) Uses Business Intel tools      327.671592\n",
      "60) Who/what are your favorite media sources that report on data science topics? (Select all that apply) - Selected Choice - Podcasts (Chai Time Data Science, Oâ€™Reilly Data Show, etc) 309.679458\n",
      "61) Who/what are your favorite media sources that report on data science topics? (Select all that apply) - Selected Choice - Reddit (r/machinelearning, etc) 309.231146\n",
      "62) Who/what are your favorite media sources that report on data science topics? (Select all that apply) - Selected Choice - Slack Communities (ods.ai, kagglenoobs, etc) 275.017742\n",
      "63) Uses Data Visualization libs   270.785742\n",
      "64) Has taken DS Course            270.785742\n",
      "65) Where do you publicly share your data analysis or machine learning applications? (Select all that apply) - Selected Choice - I do not share my work publicly 264.049982\n",
      "66) Do you use any tools to help manage machine learning experiments? (Select all that apply) - Selected Choice - Other 263.587353\n",
      "67) Do you use any tools to help manage machine learning experiments? (Select all that apply) - Selected Choice -  Comet.ml  242.766093\n",
      "68) Which types of specialized hardware do you use on a regular basis?  (Select all that apply) - Selected Choice - Other 236.796009\n",
      "69) Where do you publicly share your data analysis or machine learning applications? (Select all that apply) - Selected Choice -  Shiny  232.658609\n",
      "70) Select any activities that make up an important part of your role at work: (Select all that apply) - Selected Choice - Other 224.040918\n",
      "71) Do you use any tools to help manage machine learning experiments? (Select all that apply) - Selected Choice -  Polyaxon  215.880063\n",
      "72) Do you use any tools to help manage machine learning experiments? (Select all that apply) - Selected Choice -  Neptune.ai  215.050339\n",
      "73) Where do you publicly share your data analysis or machine learning applications? (Select all that apply) - Selected Choice -  Plotly Dash  210.350149\n",
      "74) Who/what are your favorite media sources that report on data science topics? (Select all that apply) - Selected Choice - Other 207.953542\n",
      "75) Uses ML Algorithms             206.984016\n",
      "76) Do you use any tools to help manage machine learning experiments? (Select all that apply) - Selected Choice - No / None 187.539168\n",
      "77) Uses Big Data Products         183.849888\n",
      "78) Uses ML Framework              159.650608\n",
      "79) What is the highest level of formal education that you have attained or plan to attain within the next 2 years?_None 149.348234\n",
      "80) Where do you publicly share your data analysis or machine learning applications? (Select all that apply) - Selected Choice - Other 134.851706\n",
      "81) Where do you publicly share your data analysis or machine learning applications? (Select all that apply) - Selected Choice -  NBViewer  123.007878\n",
      "82) What is the highest level of formal education that you have attained or plan to attain within the next 2 years?_No formal education past high school 116.297163\n",
      "83) Uses Auto ML tools             115.660802\n",
      "84) Do you use any tools to help manage machine learning experiments? (Select all that apply) - Selected Choice -  Guild.ai  96.475679\n",
      "85) Uses Computer Vision Algorithms 94.468162\n",
      "86) Uses Notebooks for dev         77.920686\n",
      "87) Do you use any tools to help manage machine learning experiments? (Select all that apply) - Selected Choice -  Sacred + Omniboard  75.913075\n",
      "88) Do you use any tools to help manage machine learning experiments? (Select all that apply) - Selected Choice -  Domino Model Monitor  73.549060\n",
      "89) Uses NLP Algorithms            61.541084\n",
      "90) Has Managed ML tools           54.934879\n",
      "91) Knows Cloud Compute Platforms  53.444558\n"
     ]
    }
   ],
   "source": [
    "X_train_red, X_test_red, sorted_cols = get_feat_importance(\n",
    "    final_df, X_train, y_train, X_test\n",
    ")"
   ]
  },
  {
   "cell_type": "code",
   "execution_count": 20,
   "id": "65c91e35-5306-4984-b0d0-09b568b5434c",
   "metadata": {
    "tags": []
   },
   "outputs": [],
   "source": [
    "import yaml, json\n",
    "\n",
    "column_dictionary = {\n",
    "    str(indice): final_df.columns[indice] for indice in sorted_cols[0:36]\n",
    "}\n",
    "with open(features_dir.joinpath(\"features_select_reduced_v3.json\"), \"w\") as json_file:\n",
    "    json.dump(column_dictionary, json_file)"
   ]
  },
  {
   "cell_type": "code",
   "execution_count": 32,
   "id": "a04d5ba6-6eed-41e5-bf5c-55f63c602f2a",
   "metadata": {
    "collapsed": true,
    "jupyter": {
     "outputs_hidden": true
    },
    "tags": []
   },
   "outputs": [
    {
     "name": "stdout",
     "output_type": "stream",
     "text": [
      "Metrics for Baseline & Chisquare are \n",
      "               precision    recall  f1-score   support\n",
      "\n",
      "           0       0.39      0.38      0.38      5735\n",
      "           1       0.44      0.43      0.43      5755\n",
      "           2       0.42      0.36      0.39      5755\n",
      "           3       0.23      0.15      0.18      5756\n",
      "           4       0.57      0.70      0.63      5756\n",
      "           5       0.42      0.37      0.39      5756\n",
      "           6       0.56      0.83      0.67      5755\n",
      "\n",
      "    accuracy                           0.46     40268\n",
      "   macro avg       0.43      0.46      0.44     40268\n",
      "weighted avg       0.43      0.46      0.44     40268\n",
      "\n"
     ]
    }
   ],
   "source": [
    "log_regression = LogisticRegression()\n",
    "log_regression.fit(X_train_red[:, sorted_cols[0:36]], y_train)\n",
    "y_preds = log_regression.predict(X_test_red[:, sorted_cols[0:36]])\n",
    "get_multiclass_report(\"Baseline\", \"Chisquare\", y_preds, y_test)"
   ]
  },
  {
   "cell_type": "code",
   "execution_count": 33,
   "id": "20f68f92-9bdc-4ea7-8046-53913f1b8ff7",
   "metadata": {
    "collapsed": true,
    "jupyter": {
     "outputs_hidden": true
    },
    "tags": []
   },
   "outputs": [
    {
     "name": "stdout",
     "output_type": "stream",
     "text": [
      "Metrics for Majority Vote & Chisquare are \n",
      "               precision    recall  f1-score   support\n",
      "\n",
      "           0       0.54      0.74      0.62      5735\n",
      "           1       0.65      0.73      0.69      5755\n",
      "           2       0.60      0.43      0.50      5755\n",
      "           3       0.44      0.08      0.13      5756\n",
      "           4       0.62      0.94      0.75      5756\n",
      "           5       0.84      0.32      0.47      5756\n",
      "           6       0.51      0.87      0.64      5755\n",
      "\n",
      "    accuracy                           0.59     40268\n",
      "   macro avg       0.60      0.59      0.54     40268\n",
      "weighted avg       0.60      0.59      0.54     40268\n",
      "\n"
     ]
    }
   ],
   "source": [
    "majority_vote = build_majorityvote()\n",
    "majority_vote.fit(X_train_red[:, sorted_cols[0:36]], y_train)\n",
    "y_preds = majority_vote.predict(X_test_red[:, sorted_cols[0:36]])\n",
    "get_multiclass_report(\"Majority Vote\", \"Chisquare\", y_preds, y_test)"
   ]
  },
  {
   "cell_type": "code",
   "execution_count": 34,
   "id": "ecb05c64-2f0d-4b3e-b133-f2076dbda2b7",
   "metadata": {
    "collapsed": true,
    "jupyter": {
     "outputs_hidden": true
    },
    "tags": []
   },
   "outputs": [
    {
     "name": "stdout",
     "output_type": "stream",
     "text": [
      "[08:03:10] WARNING: ../src/learner.cc:1115: Starting in XGBoost 1.3.0, the default evaluation metric used with the objective 'multi:softprob' was changed from 'merror' to 'mlogloss'. Explicitly set eval_metric if you'd like to restore the old behavior.\n",
      "Metrics for XGB Classification & Chisquare are \n",
      "               precision    recall  f1-score   support\n",
      "\n",
      "           0       0.42      0.39      0.40      5735\n",
      "           1       0.53      0.53      0.53      5755\n",
      "           2       0.48      0.39      0.43      5755\n",
      "           3       0.30      0.35      0.32      5756\n",
      "           4       0.68      0.76      0.71      5756\n",
      "           5       0.44      0.41      0.43      5756\n",
      "           6       0.75      0.78      0.77      5755\n",
      "\n",
      "    accuracy                           0.52     40268\n",
      "   macro avg       0.51      0.52      0.51     40268\n",
      "weighted avg       0.51      0.52      0.51     40268\n",
      "\n"
     ]
    }
   ],
   "source": [
    "xgb_class = xgb.XGBRFClassifier()\n",
    "xgb_class.fit(X_train_red[:, sorted_cols[0:36]], y_train)\n",
    "y_preds = xgb_class.predict(X_test_red[:, sorted_cols[0:36]])\n",
    "get_multiclass_report(\"XGB Classification\", \"Chisquare\", y_preds, y_test)"
   ]
  },
  {
   "cell_type": "code",
   "execution_count": 63,
   "id": "92c5951f-c5b7-4c09-880f-4b3c74605dc0",
   "metadata": {
    "collapsed": true,
    "jupyter": {
     "outputs_hidden": true
    },
    "tags": []
   },
   "outputs": [
    {
     "name": "stdout",
     "output_type": "stream",
     "text": [
      "Metrics for RGB Classification & Chisquare are \n",
      "               precision    recall  f1-score   support\n",
      "\n",
      "           0       0.81      0.65      0.72      5625\n",
      "           1       0.66      0.57      0.61      5645\n",
      "           2       0.83      0.87      0.85      5645\n",
      "           3       0.59      0.52      0.55      5645\n",
      "           4       0.58      0.84      0.68      5646\n",
      "           5       0.37      0.38      0.37      5646\n",
      "           6       0.85      0.91      0.88      5645\n",
      "           7       0.79      0.84      0.81      5646\n",
      "           8       0.66      0.48      0.56      5645\n",
      "           9       0.76      0.85      0.80      5645\n",
      "          10       0.83      0.78      0.80      5646\n",
      "\n",
      "    accuracy                           0.70     62079\n",
      "   macro avg       0.70      0.70      0.69     62079\n",
      "weighted avg       0.70      0.70      0.69     62079\n",
      "\n"
     ]
    }
   ],
   "source": [
    "random_class = RandomForestClassifier()\n",
    "random_class.fit(X_train_red[:, sorted_cols[0:36]], y_train)\n",
    "y_preds = random_class.predict(X_test_red[:, sorted_cols[0:36]])\n",
    "get_multiclass_report(\"RGB Classification\", \"Chisquare\", y_preds, y_test)"
   ]
  },
  {
   "cell_type": "code",
   "execution_count": 41,
   "id": "264fd10a-33c6-4361-a57c-fde8b254622d",
   "metadata": {
    "tags": []
   },
   "outputs": [
    {
     "name": "stdout",
     "output_type": "stream",
     "text": [
      "Metrics for RGB Classification & Chisquare are \n",
      "               precision    recall  f1-score   support\n",
      "\n",
      "           0       0.70      0.54      0.61      5735\n",
      "           1       0.82      0.86      0.84      5755\n",
      "           2       0.60      0.51      0.55      5755\n",
      "           3       0.49      0.41      0.45      5756\n",
      "           4       0.82      0.84      0.83      5756\n",
      "           5       0.69      0.52      0.59      5756\n",
      "           6       0.55      0.93      0.69      5755\n",
      "\n",
      "    accuracy                           0.66     40268\n",
      "   macro avg       0.67      0.66      0.65     40268\n",
      "weighted avg       0.67      0.66      0.65     40268\n",
      "\n"
     ]
    }
   ],
   "source": [
    "random_class = RandomForestClassifier()\n",
    "random_class.fit(X_train_fs[:, sorted_cols[0:36]], y_train)\n",
    "y_preds = random_class.predict(X_test_fs[:, sorted_cols[0:36]])\n",
    "get_multiclass_report(\"RGB Classification\", \"Chisquare\", y_preds, y_test)"
   ]
  },
  {
   "cell_type": "markdown",
   "id": "fa26d3b5-54a9-445f-a0ea-c77aae2bbeb8",
   "metadata": {},
   "source": [
    "### OLD EXPERIMENTS"
   ]
  },
  {
   "cell_type": "code",
   "execution_count": 16,
   "id": "617f1bcb-ec4c-4dd5-9240-e1f131b87461",
   "metadata": {
    "tags": []
   },
   "outputs": [
    {
     "name": "stdout",
     "output_type": "stream",
     "text": [
      "              precision    recall  f1-score   support\n",
      "\n",
      "           0       0.56      0.64      0.60      5729\n",
      "           1       0.38      0.95      0.55      5755\n",
      "           2       0.81      0.32      0.46      5755\n",
      "           3       0.46      0.05      0.09      5756\n",
      "           4       0.86      0.68      0.76      5756\n",
      "           5       0.88      0.36      0.51      5756\n",
      "           6       0.51      0.86      0.64      5755\n",
      "\n",
      "    accuracy                           0.55     40262\n",
      "   macro avg       0.64      0.55      0.51     40262\n",
      "weighted avg       0.64      0.55      0.51     40262\n",
      "\n"
     ]
    }
   ],
   "source": [
    "from sklearn.metrics import classification_report\n",
    "\n",
    "print(classification_report(y_test, preds))"
   ]
  },
  {
   "cell_type": "markdown",
   "id": "a16f4998-bb97-4050-92f6-5b94fadb2fd3",
   "metadata": {},
   "source": [
    "### Using XGBClassifier"
   ]
  },
  {
   "cell_type": "code",
   "execution_count": 87,
   "id": "6b73ae73-67d8-4eae-85ee-89f60d81b8aa",
   "metadata": {
    "tags": []
   },
   "outputs": [],
   "source": [
    "def select_features(X_train, y_train, X_test):\n",
    "    fs = SelectKBest(score_func=chi2, k=\"all\")\n",
    "    fs.fit(X_train, y_train)\n",
    "    X_train_fs = fs.transform(X_train)\n",
    "    X_test_fs = fs.transform(X_test)\n",
    "    return X_train_fs, X_test_fs, fs"
   ]
  },
  {
   "cell_type": "code",
   "execution_count": 88,
   "id": "11feb6a4-64d3-4d2a-b2d1-e53efa073cb0",
   "metadata": {
    "tags": []
   },
   "outputs": [],
   "source": [
    "def select_features_mutual_info(X_train, y_train, X_test):\n",
    "    fs = SelectKBest(score_func=mutual_info_classif, k=\"all\")\n",
    "    fs.fit(X_train, y_train)\n",
    "    X_train_fs = fs.transform(X_train)\n",
    "    X_test_fs = fs.transform(X_test)\n",
    "    return X_train_fs, X_test_fs, fs"
   ]
  },
  {
   "cell_type": "code",
   "execution_count": 18,
   "id": "52613e6e-9546-4a1d-ae3b-5a6a4c267670",
   "metadata": {
    "collapsed": true,
    "jupyter": {
     "outputs_hidden": true
    },
    "tags": []
   },
   "outputs": [
    {
     "name": "stdout",
     "output_type": "stream",
     "text": [
      " 1) What is your current yearly compensation (approximate $USD)? 232910.496204\n",
      " 2) Approximately how many individuals are responsible for data science workloads at your place of business? 48746.844752\n",
      " 3) Approximately how much money have you (or your team) spent on machine learning and/or cloud computing services at home (or at work) in the past 5 years (approximate $USD)? 47714.058598\n",
      " 4) In what industry is your current employer/contract (or your most recent employer if retired)? - Selected Choice 44786.254887\n",
      " 5) What is the size of the company where you are employed? 43840.329188\n",
      " 6) Does your current employer incorporate machine learning methods into their business? 40207.116155\n",
      " 7) What is the highest level of formal education that you have attained or plan to attain within the next 2 years?_Doctorate 34415.318950\n",
      " 8) For how many years have you used machine learning methods? 31753.086800\n",
      " 9) Uses ML Framework Count        21220.146958\n",
      "10) Uses ML Algorithms Count       17377.124014\n",
      "11) Who/what are your favorite media sources that report on data science topics? (Select all that apply) - Selected Choice - Journal Publications (peer-reviewed journals, conference proceedings, etc) 15599.271098\n",
      "12) Select any activities that make up an important part of your role at work: (Select all that apply) - Selected Choice - Build and/or run the data infrastructure that my business uses for storing, analyzing, and operationalizing data 15318.428569\n",
      "13) Select any activities that make up an important part of your role at work: (Select all that apply) - Selected Choice - Analyze and understand data to influence product or business decisions 14590.955117\n",
      "14) Select any activities that make up an important part of your role at work: (Select all that apply) - Selected Choice - Do research that advances the state of the art of machine learning 12727.170753\n",
      "15) Select any activities that make up an important part of your role at work: (Select all that apply) - Selected Choice - Build prototypes to explore applying machine learning to new areas 12167.194592\n",
      "16) Uses Business Intel tools Count 11917.560626\n",
      "17) Uses Big Data Products Count   11785.800209\n",
      "18) Select any activities that make up an important part of your role at work: (Select all that apply) - Selected Choice - Experimentation and iteration to improve existing ML models 9520.309468\n",
      "19) Uses Computer Vision Algorithms Count 9384.354495\n",
      "20) Select any activities that make up an important part of your role at work: (Select all that apply) - Selected Choice - Build and/or run a machine learning service that operationally improves my product or workflows 9316.038517\n",
      "21) Select any activities that make up an important part of your role at work: (Select all that apply) - Selected Choice - None of these activities are an important part of my role at work 8939.436883\n",
      "22) Uses Auto ML tools Count       7753.180652\n",
      "23) Uses Data Visualization libs Count 7416.073014\n",
      "24) Has taken DS Course Count      7416.073014\n",
      "25) What is the highest level of formal education that you have attained or plan to attain within the next 2 years?_Bachelors 7365.330372\n",
      "26) What is the primary tool that you use at work or school to analyze data? (Include text response) - Selected Choice 6752.954203\n",
      "27) What is the highest level of formal education that you have attained or plan to attain within the next 2 years?_None 6221.949554\n",
      "28) Uses IDE for dev Count         5197.140199\n",
      "29) Uses NLP Algorithms Count      4994.385628\n",
      "30) Do you use any tools to help manage machine learning experiments? (Select all that apply) - Selected Choice - No / None 4212.930296\n",
      "31) What is the highest level of formal education that you have attained or plan to attain within the next 2 years?_Masters 3320.819141\n",
      "32) Where do you publicly share your data analysis or machine learning applications? (Select all that apply) - Selected Choice -  GitHub  3295.906441\n",
      "33) Has Managed ML tools Count     2975.453890\n",
      "34) Knows Pgm Lang Count           2894.136682\n",
      "35) Which types of specialized hardware do you use on a regular basis?  (Select all that apply) - Selected Choice -  NVIDIA GPUs  2874.215493\n",
      "36) What type of computing platform do you use most often for your data science projects? - Selected Choice 2597.897995\n",
      "37) Who/what are your favorite media sources that report on data science topics? (Select all that apply) - Selected Choice - Blogs (Towards Data Science, Analytics Vidhya, etc) 2580.508359\n",
      "38) Knows Pgm Lang                 2435.202777\n",
      "39) Approximately how many times have you used a TPU (tensor processing unit)? 2419.024657\n",
      "40) Who/what are your favorite media sources that report on data science topics? (Select all that apply) - Selected Choice - Kaggle (notebooks, forums, etc) 2182.023291\n",
      "41) What programming language would you recommend an aspiring data scientist to learn first? - Selected Choice 2109.658723\n",
      "42) What is the highest level of formal education that you have attained or plan to attain within the next 2 years?_High-School 2007.931317\n",
      "43) Where do you publicly share your data analysis or machine learning applications? (Select all that apply) - Selected Choice - I do not share my work publicly 1948.088210\n",
      "44) Which types of specialized hardware do you use on a regular basis?  (Select all that apply) - Selected Choice - CPUs 1896.141132\n",
      "45) Do you use any tools to help manage machine learning experiments? (Select all that apply) - Selected Choice -  TensorBoard  1788.914925\n",
      "46) Knows Cloud Compute Platforms Count 1733.700573\n",
      "47) Where do you publicly share your data analysis or machine learning applications? (Select all that apply) - Selected Choice -  Kaggle  1622.044024\n",
      "48) Where do you publicly share your data analysis or machine learning applications? (Select all that apply) - Selected Choice -  Colab  1312.242054\n",
      "49) Which types of specialized hardware do you use on a regular basis?  (Select all that apply) - Selected Choice - None 1025.921110\n",
      "50) Uses Business Intel tools      897.891312\n",
      "51) Who/what are your favorite media sources that report on data science topics? (Select all that apply) - Selected Choice - Twitter (data science influencers) 833.559309\n",
      "52) Uses Big Data Products         773.391664\n",
      "53) Uses Notebooks for dev Count   685.319356\n",
      "54) Who/what are your favorite media sources that report on data science topics? (Select all that apply) - Selected Choice - Podcasts (Chai Time Data Science, Oâ€™Reilly Data Show, etc) 671.076897\n",
      "55) Who/what are your favorite media sources that report on data science topics? (Select all that apply) - Selected Choice - Course Forums (forums.fast.ai, Coursera forums, etc) 648.437189\n",
      "56) Where do you publicly share your data analysis or machine learning applications? (Select all that apply) - Selected Choice -  Shiny  526.205745\n",
      "57) Uses ML Algorithms             501.416126\n",
      "58) Uses IDE for dev               485.886335\n",
      "59) Where do you publicly share your data analysis or machine learning applications? (Select all that apply) - Selected Choice -  Personal blog  484.664195\n",
      "60) Uses ML Framework              483.933171\n",
      "61) Do you use any tools to help manage machine learning experiments? (Select all that apply) - Selected Choice -  Weights & Biases  447.915793\n",
      "62) Who/what are your favorite media sources that report on data science topics? (Select all that apply) - Selected Choice - None 406.906207\n",
      "63) Where do you publicly share your data analysis or machine learning applications? (Select all that apply) - Selected Choice -  Plotly Dash  405.587666\n",
      "64) Where do you publicly share your data analysis or machine learning applications? (Select all that apply) - Selected Choice - Other 390.931273\n",
      "65) Who/what are your favorite media sources that report on data science topics? (Select all that apply) - Selected Choice - Reddit (r/machinelearning, etc) 360.868487\n",
      "66) Where do you publicly share your data analysis or machine learning applications? (Select all that apply) - Selected Choice -  Streamlit  355.898206\n",
      "67) Who/what are your favorite media sources that report on data science topics? (Select all that apply) - Selected Choice - Slack Communities (ods.ai, kagglenoobs, etc) 334.987845\n",
      "68) Who/what are your favorite media sources that report on data science topics? (Select all that apply) - Selected Choice - YouTube (Kaggle YouTube, Cloud AI Adventures, etc) 317.016163\n",
      "69) What is the highest level of formal education that you have attained or plan to attain within the next 2 years?_Professional degree 307.870695\n",
      "70) Has Managed ML tools           266.481918\n",
      "71) Uses Auto ML tools             260.994382\n",
      "72) Who/what are your favorite media sources that report on data science topics? (Select all that apply) - Selected Choice - Other 248.090282\n",
      "73) Do you use any tools to help manage machine learning experiments? (Select all that apply) - Selected Choice - Other 246.716570\n",
      "74) Who/what are your favorite media sources that report on data science topics? (Select all that apply) - Selected Choice - Email newsletters (Data Elixir, O'Reilly Data & AI, etc) 213.302701\n",
      "75) Uses Notebooks for dev         179.320364\n",
      "76) Has taken DS Course            175.869335\n",
      "77) Uses Data Visualization libs   175.869335\n",
      "78) Do you use any tools to help manage machine learning experiments? (Select all that apply) - Selected Choice -  Neptune.ai  154.478719\n",
      "79) What is the highest level of formal education that you have attained or plan to attain within the next 2 years?_No formal education past high school 140.227293\n",
      "80) Do you use any tools to help manage machine learning experiments? (Select all that apply) - Selected Choice -  Domino Model Monitor  125.359278\n",
      "81) Where do you publicly share your data analysis or machine learning applications? (Select all that apply) - Selected Choice -  NBViewer  115.442622\n",
      "82) Uses Computer Vision Algorithms 113.232016\n",
      "83) Which types of specialized hardware do you use on a regular basis?  (Select all that apply) - Selected Choice -  Google Cloud TPUs  101.826312\n",
      "84) Do you use any tools to help manage machine learning experiments? (Select all that apply) - Selected Choice -  Polyaxon  94.241056\n",
      "85) Do you use any tools to help manage machine learning experiments? (Select all that apply) - Selected Choice -  Comet.ml  86.956748\n",
      "86) Select any activities that make up an important part of your role at work: (Select all that apply) - Selected Choice - Other 70.612382\n",
      "87) Do you use any tools to help manage machine learning experiments? (Select all that apply) - Selected Choice -  Guild.ai  66.512742\n",
      "88) Do you use any tools to help manage machine learning experiments? (Select all that apply) - Selected Choice -  Sacred + Omniboard  63.454282\n",
      "89) Uses NLP Algorithms            60.944791\n",
      "90) Knows Cloud Compute Platforms  56.749264\n",
      "91) Which types of specialized hardware do you use on a regular basis?  (Select all that apply) - Selected Choice - Other 49.385123\n"
     ]
    }
   ],
   "source": [
    "X_train_fs, X_test_fs, fs = select_features(X_train, y_train, X_test)\n",
    "importances = fs.scores_\n",
    "indices = np.argsort(importances)[::-1]\n",
    "train_df = final_df.iloc[:, 1:-1].columns\n",
    "for f in range(X_train.shape[1]):\n",
    "    print(\"%2d) %-*s %f\" % (f + 1, 30, train_df[indices[f]], importances[indices[f]]))"
   ]
  },
  {
   "cell_type": "code",
   "execution_count": 41,
   "id": "8d4bb498-ab59-4a51-bf95-1b3688bb2128",
   "metadata": {
    "collapsed": true,
    "jupyter": {
     "outputs_hidden": true
    },
    "tags": []
   },
   "outputs": [
    {
     "name": "stdout",
     "output_type": "stream",
     "text": [
      " 1) Does your current employer incorporate machine learning methods into their business? 0.266590\n",
      " 2) What is your current yearly compensation (approximate $USD)? 0.259972\n",
      " 3) In what industry is your current employer/contract (or your most recent employer if retired)? - Selected Choice 0.195653\n",
      " 4) Approximately how many individuals are responsible for data science workloads at your place of business? 0.192819\n",
      " 5) What is the size of the company where you are employed? 0.191226\n",
      " 6) For how many years have you used machine learning methods? 0.181922\n",
      " 7) Approximately how much money have you (or your team) spent on machine learning and/or cloud computing services at home (or at work) in the past 5 years (approximate $USD)? 0.171965\n",
      " 8) What is the highest level of formal education that you have attained or plan to attain within the next 2 years?_Doctorate 0.164828\n",
      " 9) Select any activities that make up an important part of your role at work: (Select all that apply) - Selected Choice - Analyze and understand data to influence product or business decisions 0.161596\n",
      "10) Knows Pgm Lang Count           0.153973\n",
      "11) Uses ML Framework Count        0.153025\n",
      "12) Uses IDE for dev Count         0.138114\n",
      "13) Knows Cloud Compute Platforms Count 0.127219\n",
      "14) Uses Data Visualization libs Count 0.127160\n",
      "15) Has taken DS Course Count      0.126241\n",
      "16) Select any activities that make up an important part of your role at work: (Select all that apply) - Selected Choice - Build and/or run the data infrastructure that my business uses for storing, analyzing, and operationalizing data 0.122898\n",
      "17) Uses Big Data Products Count   0.120211\n",
      "18) Select any activities that make up an important part of your role at work: (Select all that apply) - Selected Choice - Build prototypes to explore applying machine learning to new areas 0.117853\n",
      "19) What is the highest level of formal education that you have attained or plan to attain within the next 2 years?_Bachelors 0.116808\n",
      "20) Uses ML Algorithms Count       0.108495\n",
      "21) What is the primary tool that you use at work or school to analyze data? (Include text response) - Selected Choice 0.105231\n",
      "22) What is the highest level of formal education that you have attained or plan to attain within the next 2 years?_Masters 0.100848\n",
      "23) Select any activities that make up an important part of your role at work: (Select all that apply) - Selected Choice - Do research that advances the state of the art of machine learning 0.092031\n",
      "24) Select any activities that make up an important part of your role at work: (Select all that apply) - Selected Choice - Build and/or run a machine learning service that operationally improves my product or workflows 0.085279\n",
      "25) What programming language would you recommend an aspiring data scientist to learn first? - Selected Choice 0.081438\n",
      "26) Select any activities that make up an important part of your role at work: (Select all that apply) - Selected Choice - Experimentation and iteration to improve existing ML models 0.073591\n",
      "27) What type of computing platform do you use most often for your data science projects? - Selected Choice 0.072562\n",
      "28) Who/what are your favorite media sources that report on data science topics? (Select all that apply) - Selected Choice - Kaggle (notebooks, forums, etc) 0.067572\n",
      "29) Who/what are your favorite media sources that report on data science topics? (Select all that apply) - Selected Choice - Journal Publications (peer-reviewed journals, conference proceedings, etc) 0.067410\n",
      "30) Approximately how many times have you used a TPU (tensor processing unit)? 0.064270\n",
      "31) Who/what are your favorite media sources that report on data science topics? (Select all that apply) - Selected Choice - Blogs (Towards Data Science, Analytics Vidhya, etc) 0.058692\n",
      "32) Uses Notebooks for dev Count   0.057027\n",
      "33) Which types of specialized hardware do you use on a regular basis?  (Select all that apply) - Selected Choice -  NVIDIA GPUs  0.056418\n",
      "34) Select any activities that make up an important part of your role at work: (Select all that apply) - Selected Choice - None of these activities are an important part of my role at work 0.055916\n",
      "35) Uses Computer Vision Algorithms Count 0.055159\n",
      "36) Who/what are your favorite media sources that report on data science topics? (Select all that apply) - Selected Choice - YouTube (Kaggle YouTube, Cloud AI Adventures, etc) 0.053809\n",
      "37) Uses Business Intel tools Count 0.053518\n",
      "38) Uses Auto ML tools Count       0.052538\n",
      "39) Do you use any tools to help manage machine learning experiments? (Select all that apply) - Selected Choice - No / None 0.049390\n",
      "40) Who/what are your favorite media sources that report on data science topics? (Select all that apply) - Selected Choice - Twitter (data science influencers) 0.047325\n",
      "41) Which types of specialized hardware do you use on a regular basis?  (Select all that apply) - Selected Choice - None 0.047028\n",
      "42) Where do you publicly share your data analysis or machine learning applications? (Select all that apply) - Selected Choice -  GitHub  0.039261\n",
      "43) Who/what are your favorite media sources that report on data science topics? (Select all that apply) - Selected Choice - Course Forums (forums.fast.ai, Coursera forums, etc) 0.036449\n",
      "44) Uses NLP Algorithms Count      0.033955\n",
      "45) Where do you publicly share your data analysis or machine learning applications? (Select all that apply) - Selected Choice - I do not share my work publicly 0.033213\n",
      "46) Has Managed ML tools Count     0.031784\n",
      "47) Who/what are your favorite media sources that report on data science topics? (Select all that apply) - Selected Choice - Reddit (r/machinelearning, etc) 0.029132\n",
      "48) Knows Pgm Lang                 0.028944\n",
      "49) Where do you publicly share your data analysis or machine learning applications? (Select all that apply) - Selected Choice -  Kaggle  0.026280\n",
      "50) What is the highest level of formal education that you have attained or plan to attain within the next 2 years?_None 0.025674\n",
      "51) Has taken DS Course            0.024696\n",
      "52) What is the highest level of formal education that you have attained or plan to attain within the next 2 years?_High-School 0.023483\n",
      "53) Who/what are your favorite media sources that report on data science topics? (Select all that apply) - Selected Choice - Slack Communities (ods.ai, kagglenoobs, etc) 0.021837\n",
      "54) Who/what are your favorite media sources that report on data science topics? (Select all that apply) - Selected Choice - None 0.021646\n",
      "55) Uses Data Visualization libs   0.021623\n",
      "56) Which types of specialized hardware do you use on a regular basis?  (Select all that apply) - Selected Choice - CPUs 0.021354\n",
      "57) Who/what are your favorite media sources that report on data science topics? (Select all that apply) - Selected Choice - Email newsletters (Data Elixir, O'Reilly Data & AI, etc) 0.021030\n",
      "58) Who/what are your favorite media sources that report on data science topics? (Select all that apply) - Selected Choice - Podcasts (Chai Time Data Science, Oâ€™Reilly Data Show, etc) 0.020075\n",
      "59) Where do you publicly share your data analysis or machine learning applications? (Select all that apply) - Selected Choice -  Colab  0.019741\n",
      "60) Uses IDE for dev               0.017374\n",
      "61) Do you use any tools to help manage machine learning experiments? (Select all that apply) - Selected Choice -  TensorBoard  0.017105\n",
      "62) Which types of specialized hardware do you use on a regular basis?  (Select all that apply) - Selected Choice -  Google Cloud TPUs  0.014622\n",
      "63) Who/what are your favorite media sources that report on data science topics? (Select all that apply) - Selected Choice - Other 0.013904\n",
      "64) Uses Notebooks for dev         0.012883\n",
      "65) What is the highest level of formal education that you have attained or plan to attain within the next 2 years?_No formal education past high school 0.011001\n",
      "66) Uses ML Algorithms             0.010644\n",
      "67) What is the highest level of formal education that you have attained or plan to attain within the next 2 years?_Professional degree 0.010241\n",
      "68) Uses Business Intel tools      0.010138\n",
      "69) Select any activities that make up an important part of your role at work: (Select all that apply) - Selected Choice - Other 0.009664\n",
      "70) Uses ML Framework              0.008473\n",
      "71) Uses Big Data Products         0.008018\n",
      "72) Where do you publicly share your data analysis or machine learning applications? (Select all that apply) - Selected Choice -  Personal blog  0.007878\n",
      "73) Do you use any tools to help manage machine learning experiments? (Select all that apply) - Selected Choice -  Weights & Biases  0.007441\n",
      "74) Uses Auto ML tools             0.006559\n",
      "75) Where do you publicly share your data analysis or machine learning applications? (Select all that apply) - Selected Choice -  Shiny  0.005548\n",
      "76) Has Managed ML tools           0.005465\n",
      "77) Which types of specialized hardware do you use on a regular basis?  (Select all that apply) - Selected Choice - Other 0.005360\n",
      "78) Where do you publicly share your data analysis or machine learning applications? (Select all that apply) - Selected Choice -  Streamlit  0.005152\n",
      "79) Do you use any tools to help manage machine learning experiments? (Select all that apply) - Selected Choice -  Neptune.ai  0.003588\n",
      "80) Do you use any tools to help manage machine learning experiments? (Select all that apply) - Selected Choice - Other 0.003434\n",
      "81) Where do you publicly share your data analysis or machine learning applications? (Select all that apply) - Selected Choice - Other 0.003344\n",
      "82) Where do you publicly share your data analysis or machine learning applications? (Select all that apply) - Selected Choice -  NBViewer  0.003258\n",
      "83) Where do you publicly share your data analysis or machine learning applications? (Select all that apply) - Selected Choice -  Plotly Dash  0.003244\n",
      "84) Knows Cloud Compute Platforms  0.002838\n",
      "85) Do you use any tools to help manage machine learning experiments? (Select all that apply) - Selected Choice -  Sacred + Omniboard  0.002457\n",
      "86) Do you use any tools to help manage machine learning experiments? (Select all that apply) - Selected Choice -  Domino Model Monitor  0.001293\n",
      "87) Uses NLP Algorithms            0.001110\n",
      "88) Do you use any tools to help manage machine learning experiments? (Select all that apply) - Selected Choice -  Polyaxon  0.000921\n",
      "89) Uses Computer Vision Algorithms 0.000711\n",
      "90) Do you use any tools to help manage machine learning experiments? (Select all that apply) - Selected Choice -  Comet.ml  0.000705\n",
      "91) Do you use any tools to help manage machine learning experiments? (Select all that apply) - Selected Choice -  Guild.ai  0.000000\n"
     ]
    }
   ],
   "source": [
    "X_train_fs, X_test_fs, fs = select_features_mutual_info(X_train, y_train, X_test)\n",
    "importances = fs.scores_\n",
    "indices = np.argsort(importances)[::-1]\n",
    "train_df = final_df.iloc[:, 1:-1].columns\n",
    "for f in range(X_train.shape[1]):\n",
    "    print(\"%2d) %-*s %f\" % (f + 1, 30, train_df[indices[f]], importances[indices[f]]))"
   ]
  },
  {
   "cell_type": "code",
   "execution_count": 19,
   "id": "9f0b4b12-6806-4fdd-9fbb-866f14477873",
   "metadata": {
    "tags": []
   },
   "outputs": [],
   "source": [
    "X_test_fs_red = X_test_fs[:, indices[0:35]]\n",
    "X_train_red = X_train_fs[:, indices[0:35]]"
   ]
  },
  {
   "cell_type": "code",
   "execution_count": 20,
   "id": "7f16db45-cd32-407e-a416-b3bbce43ad9b",
   "metadata": {
    "tags": []
   },
   "outputs": [
    {
     "data": {
      "text/plain": [
       "MajorityVoteClassifier(classifiers=[LogisticRegression(C=0.001,\n",
       "                                                       random_state=42),\n",
       "                                    DecisionTreeClassifier(criterion='entropy',\n",
       "                                                           max_depth=1,\n",
       "                                                           random_state=42),\n",
       "                                    KNeighborsClassifier(n_neighbors=1)])"
      ]
     },
     "execution_count": 20,
     "metadata": {},
     "output_type": "execute_result"
    }
   ],
   "source": [
    "majority_vote.fit(X_train_red, y_train)"
   ]
  },
  {
   "cell_type": "markdown",
   "id": "52595d2c-5e71-45c7-a3ac-a6b6d62a5f75",
   "metadata": {},
   "source": [
    "### Chisquare test"
   ]
  },
  {
   "cell_type": "code",
   "execution_count": null,
   "id": "c3ad9d54-8a36-413c-8299-c3a288a6155e",
   "metadata": {},
   "outputs": [],
   "source": [
    "## useline baseline\n",
    "## majority,xgb\n",
    "## hyperparam xgb"
   ]
  },
  {
   "cell_type": "code",
   "execution_count": 21,
   "id": "5dc19843-5044-4139-ae5c-7321485aca34",
   "metadata": {
    "tags": []
   },
   "outputs": [
    {
     "name": "stdout",
     "output_type": "stream",
     "text": [
      "              precision    recall  f1-score   support\n",
      "\n",
      "           0       0.56      0.63      0.59      5729\n",
      "           1       0.38      0.95      0.54      5755\n",
      "           2       0.83      0.32      0.46      5755\n",
      "           3       0.43      0.08      0.13      5756\n",
      "           4       0.93      0.67      0.78      5756\n",
      "           5       0.87      0.33      0.48      5756\n",
      "           6       0.51      0.87      0.64      5755\n",
      "\n",
      "    accuracy                           0.55     40262\n",
      "   macro avg       0.64      0.55      0.52     40262\n",
      "weighted avg       0.64      0.55      0.52     40262\n",
      "\n"
     ]
    }
   ],
   "source": [
    "preds = majority_vote.predict(X_test_fs_red)\n",
    "print(classification_report(y_test, preds))"
   ]
  },
  {
   "cell_type": "markdown",
   "id": "6764e333-7f1f-4e27-98c9-9d07d630754c",
   "metadata": {},
   "source": [
    "#### Mutual Info gain"
   ]
  },
  {
   "cell_type": "code",
   "execution_count": 42,
   "id": "00f8486a-bb7d-4216-9753-99beef06bbad",
   "metadata": {
    "tags": []
   },
   "outputs": [
    {
     "name": "stdout",
     "output_type": "stream",
     "text": [
      "              precision    recall  f1-score   support\n",
      "\n",
      "           0       0.56      0.62      0.59      5729\n",
      "           1       0.37      0.94      0.54      5755\n",
      "           2       0.81      0.32      0.46      5755\n",
      "           3       0.45      0.04      0.08      5756\n",
      "           4       0.86      0.68      0.76      5756\n",
      "           5       0.88      0.34      0.49      5756\n",
      "           6       0.51      0.87      0.64      5755\n",
      "\n",
      "    accuracy                           0.54     40262\n",
      "   macro avg       0.64      0.54      0.51     40262\n",
      "weighted avg       0.64      0.54      0.51     40262\n",
      "\n"
     ]
    }
   ],
   "source": [
    "X_test_mutinfo = X_test_fs[:, indices[0:35]]\n",
    "X_train_mutinfo = X_train_fs[:, indices[0:35]]\n",
    "majority_vote.fit(X_train_mutinfo, y_train)\n",
    "preds = majority_vote.predict(X_test_mutinfo)\n",
    "print(classification_report(y_test, preds))"
   ]
  },
  {
   "cell_type": "markdown",
   "id": "da9059b7-c58f-455d-9eb7-051d82b9772d",
   "metadata": {},
   "source": [
    "### XGB + Chisquare Feats"
   ]
  },
  {
   "cell_type": "code",
   "execution_count": null,
   "id": "2197c4dc-2095-4a09-95e1-da04fd57961b",
   "metadata": {
    "tags": []
   },
   "outputs": [
    {
     "name": "stdout",
     "output_type": "stream",
     "text": [
      "              precision    recall  f1-score   support\n",
      "\n",
      "           0       0.51      0.43      0.47      5729\n",
      "           1       0.70      0.74      0.72      5755\n",
      "           2       0.43      0.35      0.38      5755\n",
      "           3       0.36      0.45      0.40      5756\n",
      "           4       0.73      0.73      0.73      5756\n",
      "           5       0.50      0.39      0.44      5756\n",
      "           6       0.65      0.81      0.73      5755\n",
      "\n",
      "    accuracy                           0.56     40262\n",
      "   macro avg       0.55      0.56      0.55     40262\n",
      "weighted avg       0.55      0.56      0.55     40262\n",
      "\n"
     ]
    }
   ],
   "source": [
    "dt_classifier = DecisionTreeClassifier()\n",
    "dt_classifier.fit(X_train_red, y_train)\n",
    "preds = dt_classifier.predict(X_test_fs_red)\n",
    "print(classification_report(y_test, preds))"
   ]
  },
  {
   "cell_type": "code",
   "execution_count": null,
   "id": "848957b6-e250-4614-aab5-9e856d2c406e",
   "metadata": {
    "tags": []
   },
   "outputs": [
    {
     "name": "stdout",
     "output_type": "stream",
     "text": [
      "              precision    recall  f1-score   support\n",
      "\n",
      "           0       0.71      0.55      0.62      5729\n",
      "           1       0.82      0.88      0.85      5755\n",
      "           2       0.59      0.51      0.55      5755\n",
      "           3       0.42      0.51      0.46      5756\n",
      "           4       0.81      0.85      0.83      5756\n",
      "           5       0.70      0.51      0.59      5756\n",
      "           6       0.67      0.87      0.76      5755\n",
      "\n",
      "    accuracy                           0.67     40262\n",
      "   macro avg       0.68      0.67      0.67     40262\n",
      "weighted avg       0.68      0.67      0.67     40262\n",
      "\n"
     ]
    }
   ],
   "source": [
    "## RandomRandomForestClassifier\n",
    "random_forest = RandomForestClassifier()\n",
    "random_forest.fit(X_train_red, y_train)\n",
    "preds = random_forest.predict(X_test_fs_red)\n",
    "print(classification_report(y_test, preds))"
   ]
  },
  {
   "cell_type": "code",
   "execution_count": 22,
   "id": "52ade3ad-ff99-470f-86fb-d4f0d150dbf8",
   "metadata": {
    "tags": []
   },
   "outputs": [
    {
     "name": "stdout",
     "output_type": "stream",
     "text": [
      "[12:31:15] WARNING: ../src/learner.cc:1115: Starting in XGBoost 1.3.0, the default evaluation metric used with the objective 'multi:softprob' was changed from 'merror' to 'mlogloss'. Explicitly set eval_metric if you'd like to restore the old behavior.\n",
      "              precision    recall  f1-score   support\n",
      "\n",
      "           0       0.62      0.45      0.52      5729\n",
      "           1       0.70      0.77      0.73      5755\n",
      "           2       0.58      0.46      0.51      5755\n",
      "           3       0.41      0.54      0.47      5756\n",
      "           4       0.79      0.80      0.79      5756\n",
      "           5       0.61      0.46      0.53      5756\n",
      "           6       0.67      0.89      0.76      5755\n",
      "\n",
      "    accuracy                           0.62     40262\n",
      "   macro avg       0.63      0.62      0.62     40262\n",
      "weighted avg       0.63      0.62      0.62     40262\n",
      "\n"
     ]
    }
   ],
   "source": [
    "tuned_model = xgb.XGBClassifier()\n",
    "tuned_model.fit(X_train_red, y_train)\n",
    "preds = tuned_model.predict(X_test_fs_red)\n",
    "print(classification_report(y_test, preds))"
   ]
  },
  {
   "cell_type": "markdown",
   "id": "192baaa9-1b55-4241-abc2-cb7bea5d52ee",
   "metadata": {},
   "source": [
    "### XGB + Mutual Info gain"
   ]
  },
  {
   "cell_type": "code",
   "execution_count": 43,
   "id": "9770c450-2ae5-4ca6-8fe4-be39efd52ab2",
   "metadata": {
    "tags": []
   },
   "outputs": [
    {
     "name": "stdout",
     "output_type": "stream",
     "text": [
      "[14:37:41] WARNING: ../src/learner.cc:1115: Starting in XGBoost 1.3.0, the default evaluation metric used with the objective 'multi:softprob' was changed from 'merror' to 'mlogloss'. Explicitly set eval_metric if you'd like to restore the old behavior.\n",
      "              precision    recall  f1-score   support\n",
      "\n",
      "           0       0.60      0.48      0.54      5729\n",
      "           1       0.71      0.77      0.74      5755\n",
      "           2       0.59      0.46      0.51      5755\n",
      "           3       0.42      0.54      0.47      5756\n",
      "           4       0.79      0.80      0.79      5756\n",
      "           5       0.57      0.51      0.54      5756\n",
      "           6       0.74      0.85      0.79      5755\n",
      "\n",
      "    accuracy                           0.63     40262\n",
      "   macro avg       0.63      0.63      0.63     40262\n",
      "weighted avg       0.63      0.63      0.63     40262\n",
      "\n"
     ]
    }
   ],
   "source": [
    "tuned_model = xgb.XGBClassifier()\n",
    "tuned_model.fit(X_train_mutinfo, y_train)\n",
    "preds = tuned_model.predict(X_test_mutinfo)\n",
    "print(classification_report(y_test, preds))"
   ]
  },
  {
   "cell_type": "markdown",
   "id": "95b8c3ac-97e1-414b-abca-f16da95c64af",
   "metadata": {},
   "source": [
    "### Hyperparameter tuning with optuna"
   ]
  },
  {
   "cell_type": "code",
   "execution_count": 24,
   "id": "b67f3c15-25db-497d-a57e-7bb27360e9ba",
   "metadata": {
    "tags": []
   },
   "outputs": [],
   "source": [
    "def objective(trial):\n",
    "    \"\"\"Define the objective function\"\"\"\n",
    "\n",
    "    params = {\n",
    "        \"max_depth\": trial.suggest_int(\"max_depth\", 1, 9),\n",
    "        \"learning_rate\": trial.suggest_loguniform(\"learning_rate\", 0.01, 1.0),\n",
    "        \"n_estimators\": trial.suggest_int(\"n_estimators\", 50, 500),\n",
    "        \"min_child_weight\": trial.suggest_int(\"min_child_weight\", 1, 10),\n",
    "        \"gamma\": trial.suggest_loguniform(\"gamma\", 1e-8, 1.0),\n",
    "        \"subsample\": trial.suggest_loguniform(\"subsample\", 0.01, 1.0),\n",
    "        \"colsample_bytree\": trial.suggest_loguniform(\"colsample_bytree\", 0.01, 1.0),\n",
    "        \"reg_alpha\": trial.suggest_loguniform(\"reg_alpha\", 1e-8, 1.0),\n",
    "        \"reg_lambda\": trial.suggest_loguniform(\"reg_lambda\", 1e-8, 1.0),\n",
    "        \"eval_metric\": \"mlogloss\",\n",
    "        \"use_label_encoder\": False,\n",
    "    }\n",
    "\n",
    "    # Fit the model\n",
    "    optuna_model = xgb.XGBClassifier(**params)\n",
    "    optuna_model.fit(X_train_red, y_train)\n",
    "\n",
    "    # Make predictions\n",
    "    y_pred = optuna_model.predict(X_test_fs_red)\n",
    "\n",
    "    # Evaluate predictions\n",
    "    accuracy = accuracy_score(y_test, y_pred)\n",
    "    return accuracy"
   ]
  },
  {
   "cell_type": "code",
   "execution_count": 26,
   "id": "de40000c-29de-41eb-bb27-d8d00a895a77",
   "metadata": {
    "collapsed": true,
    "jupyter": {
     "outputs_hidden": true
    },
    "tags": []
   },
   "outputs": [
    {
     "name": "stderr",
     "output_type": "stream",
     "text": [
      "\u001b[32m[I 2023-08-02 12:33:06,994]\u001b[0m A new study created in memory with name: no-name-c186c9ac-d1ee-4577-bb36-b93a3a2a9949\u001b[0m\n",
      "\u001b[32m[I 2023-08-02 12:34:21,269]\u001b[0m Trial 0 finished with value: 0.5441359097908698 and parameters: {'max_depth': 8, 'learning_rate': 0.21299226181626638, 'n_estimators': 500, 'min_child_weight': 9, 'gamma': 0.0014769202765595336, 'subsample': 0.0864466416277673, 'colsample_bytree': 0.04835182195102151, 'reg_alpha': 0.004932013900037481, 'reg_lambda': 1.1012446136221117e-08}. Best is trial 0 with value: 0.5441359097908698.\u001b[0m\n",
      "\u001b[32m[I 2023-08-02 12:35:30,987]\u001b[0m Trial 1 finished with value: 0.5359395956485024 and parameters: {'max_depth': 7, 'learning_rate': 0.09546011251564891, 'n_estimators': 437, 'min_child_weight': 8, 'gamma': 3.484445039207656e-08, 'subsample': 0.26869617259188067, 'colsample_bytree': 0.03798076183097272, 'reg_alpha': 4.3378460675602554e-05, 'reg_lambda': 0.04515879392799709}. Best is trial 0 with value: 0.5441359097908698.\u001b[0m\n",
      "\u001b[32m[I 2023-08-02 12:35:53,879]\u001b[0m Trial 2 finished with value: 0.46112960111271173 and parameters: {'max_depth': 1, 'learning_rate': 0.011231743869600633, 'n_estimators': 369, 'min_child_weight': 4, 'gamma': 6.147882035701281e-07, 'subsample': 0.027314532819468194, 'colsample_bytree': 0.14380678016245754, 'reg_alpha': 0.015139764998685027, 'reg_lambda': 4.3026447891726045e-05}. Best is trial 0 with value: 0.5441359097908698.\u001b[0m\n",
      "\u001b[32m[I 2023-08-02 12:36:11,606]\u001b[0m Trial 3 finished with value: 0.5184292881625354 and parameters: {'max_depth': 2, 'learning_rate': 0.5067129638648544, 'n_estimators': 250, 'min_child_weight': 1, 'gamma': 3.4846910214830046e-07, 'subsample': 0.01531990522729147, 'colsample_bytree': 0.02691519052779007, 'reg_alpha': 0.06442321385303965, 'reg_lambda': 0.2264267220613384}. Best is trial 0 with value: 0.5441359097908698.\u001b[0m\n",
      "\u001b[32m[I 2023-08-02 12:36:44,374]\u001b[0m Trial 4 finished with value: 0.5038994585465203 and parameters: {'max_depth': 3, 'learning_rate': 0.05159038792880831, 'n_estimators': 232, 'min_child_weight': 1, 'gamma': 2.7397861933966523e-08, 'subsample': 0.501155176599573, 'colsample_bytree': 0.020657406476547208, 'reg_alpha': 1.4435600885156672e-08, 'reg_lambda': 0.00684016883053251}. Best is trial 0 with value: 0.5441359097908698.\u001b[0m\n",
      "\u001b[32m[I 2023-08-02 12:37:53,734]\u001b[0m Trial 5 finished with value: 0.5398390541950226 and parameters: {'max_depth': 4, 'learning_rate': 0.014587454500835798, 'n_estimators': 356, 'min_child_weight': 4, 'gamma': 0.12860083968260552, 'subsample': 0.06762115593776097, 'colsample_bytree': 0.5496016103719856, 'reg_alpha': 8.556935308409585e-06, 'reg_lambda': 6.834561918670309e-06}. Best is trial 0 with value: 0.5441359097908698.\u001b[0m\n",
      "\u001b[32m[I 2023-08-02 12:38:12,204]\u001b[0m Trial 6 finished with value: 0.4953305846704088 and parameters: {'max_depth': 8, 'learning_rate': 0.12089067967171975, 'n_estimators': 126, 'min_child_weight': 4, 'gamma': 1.3359081660769364e-06, 'subsample': 0.07707592205867235, 'colsample_bytree': 0.05508279153021228, 'reg_alpha': 0.04566024153800445, 'reg_lambda': 2.0560469034353348e-05}. Best is trial 0 with value: 0.5441359097908698.\u001b[0m\n",
      "\u001b[32m[I 2023-08-02 12:38:57,612]\u001b[0m Trial 7 finished with value: 0.5433907903233819 and parameters: {'max_depth': 8, 'learning_rate': 0.06513559161370093, 'n_estimators': 310, 'min_child_weight': 8, 'gamma': 4.996394899590121e-07, 'subsample': 0.014599992848523825, 'colsample_bytree': 0.07999834020317066, 'reg_alpha': 7.582704484397098e-08, 'reg_lambda': 3.119943596837669e-06}. Best is trial 0 with value: 0.5441359097908698.\u001b[0m\n",
      "\u001b[33m[W 2023-08-02 12:39:22,062]\u001b[0m Trial 8 failed because of the following error: KeyboardInterrupt()\u001b[0m\n",
      "Traceback (most recent call last):\n",
      "  File \"/home/ec2-user/SageMaker/.persisted_conda/authentifield/lib/python3.9/site-packages/optuna/study/_optimize.py\", line 196, in _run_trial\n",
      "    value_or_values = func(trial)\n",
      "  File \"/tmp/ipykernel_20533/586239267.py\", line 20, in objective\n",
      "    optuna_model.fit(X_train_red,y_train)\n",
      "  File \"/home/ec2-user/SageMaker/.persisted_conda/authentifield/lib/python3.9/site-packages/xgboost/core.py\", line 506, in inner_f\n",
      "    return f(**kwargs)\n",
      "  File \"/home/ec2-user/SageMaker/.persisted_conda/authentifield/lib/python3.9/site-packages/xgboost/sklearn.py\", line 1250, in fit\n",
      "    self._Booster = train(\n",
      "  File \"/home/ec2-user/SageMaker/.persisted_conda/authentifield/lib/python3.9/site-packages/xgboost/training.py\", line 188, in train\n",
      "    bst = _train_internal(params, dtrain,\n",
      "  File \"/home/ec2-user/SageMaker/.persisted_conda/authentifield/lib/python3.9/site-packages/xgboost/training.py\", line 81, in _train_internal\n",
      "    bst.update(dtrain, i, obj)\n",
      "  File \"/home/ec2-user/SageMaker/.persisted_conda/authentifield/lib/python3.9/site-packages/xgboost/core.py\", line 1680, in update\n",
      "    _check_call(_LIB.XGBoosterUpdateOneIter(self.handle,\n",
      "KeyboardInterrupt\n"
     ]
    },
    {
     "ename": "KeyboardInterrupt",
     "evalue": "",
     "output_type": "error",
     "traceback": [
      "\u001b[0;31m---------------------------------------------------------------------------\u001b[0m",
      "\u001b[0;31mKeyboardInterrupt\u001b[0m                         Traceback (most recent call last)",
      "Cell \u001b[0;32mIn[26], line 2\u001b[0m\n\u001b[1;32m      1\u001b[0m study \u001b[38;5;241m=\u001b[39m optuna\u001b[38;5;241m.\u001b[39mcreate_study(direction\u001b[38;5;241m=\u001b[39m\u001b[38;5;124m'\u001b[39m\u001b[38;5;124mmaximize\u001b[39m\u001b[38;5;124m'\u001b[39m)\n\u001b[0;32m----> 2\u001b[0m \u001b[43mstudy\u001b[49m\u001b[38;5;241;43m.\u001b[39;49m\u001b[43moptimize\u001b[49m\u001b[43m(\u001b[49m\u001b[43mobjective\u001b[49m\u001b[43m,\u001b[49m\u001b[43m \u001b[49m\u001b[43mn_trials\u001b[49m\u001b[38;5;241;43m=\u001b[39;49m\u001b[38;5;241;43m10\u001b[39;49m\u001b[43m)\u001b[49m\n\u001b[1;32m      3\u001b[0m params \u001b[38;5;241m=\u001b[39m study\u001b[38;5;241m.\u001b[39mbest_trial\u001b[38;5;241m.\u001b[39mparams\n",
      "File \u001b[0;32m~/SageMaker/.persisted_conda/authentifield/lib/python3.9/site-packages/optuna/study/study.py:419\u001b[0m, in \u001b[0;36mStudy.optimize\u001b[0;34m(self, func, n_trials, timeout, n_jobs, catch, callbacks, gc_after_trial, show_progress_bar)\u001b[0m\n\u001b[1;32m    315\u001b[0m \u001b[38;5;28;01mdef\u001b[39;00m \u001b[38;5;21moptimize\u001b[39m(\n\u001b[1;32m    316\u001b[0m     \u001b[38;5;28mself\u001b[39m,\n\u001b[1;32m    317\u001b[0m     func: ObjectiveFuncType,\n\u001b[0;32m   (...)\u001b[0m\n\u001b[1;32m    324\u001b[0m     show_progress_bar: \u001b[38;5;28mbool\u001b[39m \u001b[38;5;241m=\u001b[39m \u001b[38;5;28;01mFalse\u001b[39;00m,\n\u001b[1;32m    325\u001b[0m ) \u001b[38;5;241m-\u001b[39m\u001b[38;5;241m>\u001b[39m \u001b[38;5;28;01mNone\u001b[39;00m:\n\u001b[1;32m    326\u001b[0m \u001b[38;5;250m    \u001b[39m\u001b[38;5;124;03m\"\"\"Optimize an objective function.\u001b[39;00m\n\u001b[1;32m    327\u001b[0m \n\u001b[1;32m    328\u001b[0m \u001b[38;5;124;03m    Optimization is done by choosing a suitable set of hyperparameter values from a given\u001b[39;00m\n\u001b[0;32m   (...)\u001b[0m\n\u001b[1;32m    416\u001b[0m \u001b[38;5;124;03m            If nested invocation of this method occurs.\u001b[39;00m\n\u001b[1;32m    417\u001b[0m \u001b[38;5;124;03m    \"\"\"\u001b[39;00m\n\u001b[0;32m--> 419\u001b[0m     \u001b[43m_optimize\u001b[49m\u001b[43m(\u001b[49m\n\u001b[1;32m    420\u001b[0m \u001b[43m        \u001b[49m\u001b[43mstudy\u001b[49m\u001b[38;5;241;43m=\u001b[39;49m\u001b[38;5;28;43mself\u001b[39;49m\u001b[43m,\u001b[49m\n\u001b[1;32m    421\u001b[0m \u001b[43m        \u001b[49m\u001b[43mfunc\u001b[49m\u001b[38;5;241;43m=\u001b[39;49m\u001b[43mfunc\u001b[49m\u001b[43m,\u001b[49m\n\u001b[1;32m    422\u001b[0m \u001b[43m        \u001b[49m\u001b[43mn_trials\u001b[49m\u001b[38;5;241;43m=\u001b[39;49m\u001b[43mn_trials\u001b[49m\u001b[43m,\u001b[49m\n\u001b[1;32m    423\u001b[0m \u001b[43m        \u001b[49m\u001b[43mtimeout\u001b[49m\u001b[38;5;241;43m=\u001b[39;49m\u001b[43mtimeout\u001b[49m\u001b[43m,\u001b[49m\n\u001b[1;32m    424\u001b[0m \u001b[43m        \u001b[49m\u001b[43mn_jobs\u001b[49m\u001b[38;5;241;43m=\u001b[39;49m\u001b[43mn_jobs\u001b[49m\u001b[43m,\u001b[49m\n\u001b[1;32m    425\u001b[0m \u001b[43m        \u001b[49m\u001b[43mcatch\u001b[49m\u001b[38;5;241;43m=\u001b[39;49m\u001b[43mcatch\u001b[49m\u001b[43m,\u001b[49m\n\u001b[1;32m    426\u001b[0m \u001b[43m        \u001b[49m\u001b[43mcallbacks\u001b[49m\u001b[38;5;241;43m=\u001b[39;49m\u001b[43mcallbacks\u001b[49m\u001b[43m,\u001b[49m\n\u001b[1;32m    427\u001b[0m \u001b[43m        \u001b[49m\u001b[43mgc_after_trial\u001b[49m\u001b[38;5;241;43m=\u001b[39;49m\u001b[43mgc_after_trial\u001b[49m\u001b[43m,\u001b[49m\n\u001b[1;32m    428\u001b[0m \u001b[43m        \u001b[49m\u001b[43mshow_progress_bar\u001b[49m\u001b[38;5;241;43m=\u001b[39;49m\u001b[43mshow_progress_bar\u001b[49m\u001b[43m,\u001b[49m\n\u001b[1;32m    429\u001b[0m \u001b[43m    \u001b[49m\u001b[43m)\u001b[49m\n",
      "File \u001b[0;32m~/SageMaker/.persisted_conda/authentifield/lib/python3.9/site-packages/optuna/study/_optimize.py:66\u001b[0m, in \u001b[0;36m_optimize\u001b[0;34m(study, func, n_trials, timeout, n_jobs, catch, callbacks, gc_after_trial, show_progress_bar)\u001b[0m\n\u001b[1;32m     64\u001b[0m \u001b[38;5;28;01mtry\u001b[39;00m:\n\u001b[1;32m     65\u001b[0m     \u001b[38;5;28;01mif\u001b[39;00m n_jobs \u001b[38;5;241m==\u001b[39m \u001b[38;5;241m1\u001b[39m:\n\u001b[0;32m---> 66\u001b[0m         \u001b[43m_optimize_sequential\u001b[49m\u001b[43m(\u001b[49m\n\u001b[1;32m     67\u001b[0m \u001b[43m            \u001b[49m\u001b[43mstudy\u001b[49m\u001b[43m,\u001b[49m\n\u001b[1;32m     68\u001b[0m \u001b[43m            \u001b[49m\u001b[43mfunc\u001b[49m\u001b[43m,\u001b[49m\n\u001b[1;32m     69\u001b[0m \u001b[43m            \u001b[49m\u001b[43mn_trials\u001b[49m\u001b[43m,\u001b[49m\n\u001b[1;32m     70\u001b[0m \u001b[43m            \u001b[49m\u001b[43mtimeout\u001b[49m\u001b[43m,\u001b[49m\n\u001b[1;32m     71\u001b[0m \u001b[43m            \u001b[49m\u001b[43mcatch\u001b[49m\u001b[43m,\u001b[49m\n\u001b[1;32m     72\u001b[0m \u001b[43m            \u001b[49m\u001b[43mcallbacks\u001b[49m\u001b[43m,\u001b[49m\n\u001b[1;32m     73\u001b[0m \u001b[43m            \u001b[49m\u001b[43mgc_after_trial\u001b[49m\u001b[43m,\u001b[49m\n\u001b[1;32m     74\u001b[0m \u001b[43m            \u001b[49m\u001b[43mreseed_sampler_rng\u001b[49m\u001b[38;5;241;43m=\u001b[39;49m\u001b[38;5;28;43;01mFalse\u001b[39;49;00m\u001b[43m,\u001b[49m\n\u001b[1;32m     75\u001b[0m \u001b[43m            \u001b[49m\u001b[43mtime_start\u001b[49m\u001b[38;5;241;43m=\u001b[39;49m\u001b[38;5;28;43;01mNone\u001b[39;49;00m\u001b[43m,\u001b[49m\n\u001b[1;32m     76\u001b[0m \u001b[43m            \u001b[49m\u001b[43mprogress_bar\u001b[49m\u001b[38;5;241;43m=\u001b[39;49m\u001b[43mprogress_bar\u001b[49m\u001b[43m,\u001b[49m\n\u001b[1;32m     77\u001b[0m \u001b[43m        \u001b[49m\u001b[43m)\u001b[49m\n\u001b[1;32m     78\u001b[0m     \u001b[38;5;28;01melse\u001b[39;00m:\n\u001b[1;32m     79\u001b[0m         \u001b[38;5;28;01mif\u001b[39;00m n_jobs \u001b[38;5;241m==\u001b[39m \u001b[38;5;241m-\u001b[39m\u001b[38;5;241m1\u001b[39m:\n",
      "File \u001b[0;32m~/SageMaker/.persisted_conda/authentifield/lib/python3.9/site-packages/optuna/study/_optimize.py:160\u001b[0m, in \u001b[0;36m_optimize_sequential\u001b[0;34m(study, func, n_trials, timeout, catch, callbacks, gc_after_trial, reseed_sampler_rng, time_start, progress_bar)\u001b[0m\n\u001b[1;32m    157\u001b[0m         \u001b[38;5;28;01mbreak\u001b[39;00m\n\u001b[1;32m    159\u001b[0m \u001b[38;5;28;01mtry\u001b[39;00m:\n\u001b[0;32m--> 160\u001b[0m     frozen_trial \u001b[38;5;241m=\u001b[39m \u001b[43m_run_trial\u001b[49m\u001b[43m(\u001b[49m\u001b[43mstudy\u001b[49m\u001b[43m,\u001b[49m\u001b[43m \u001b[49m\u001b[43mfunc\u001b[49m\u001b[43m,\u001b[49m\u001b[43m \u001b[49m\u001b[43mcatch\u001b[49m\u001b[43m)\u001b[49m\n\u001b[1;32m    161\u001b[0m \u001b[38;5;28;01mfinally\u001b[39;00m:\n\u001b[1;32m    162\u001b[0m     \u001b[38;5;66;03m# The following line mitigates memory problems that can be occurred in some\u001b[39;00m\n\u001b[1;32m    163\u001b[0m     \u001b[38;5;66;03m# environments (e.g., services that use computing containers such as CircleCI).\u001b[39;00m\n\u001b[1;32m    164\u001b[0m     \u001b[38;5;66;03m# Please refer to the following PR for further details:\u001b[39;00m\n\u001b[1;32m    165\u001b[0m     \u001b[38;5;66;03m# https://github.com/optuna/optuna/pull/325.\u001b[39;00m\n\u001b[1;32m    166\u001b[0m     \u001b[38;5;28;01mif\u001b[39;00m gc_after_trial:\n",
      "File \u001b[0;32m~/SageMaker/.persisted_conda/authentifield/lib/python3.9/site-packages/optuna/study/_optimize.py:234\u001b[0m, in \u001b[0;36m_run_trial\u001b[0;34m(study, func, catch)\u001b[0m\n\u001b[1;32m    227\u001b[0m         \u001b[38;5;28;01massert\u001b[39;00m \u001b[38;5;28;01mFalse\u001b[39;00m, \u001b[38;5;124m\"\u001b[39m\u001b[38;5;124mShould not reach.\u001b[39m\u001b[38;5;124m\"\u001b[39m\n\u001b[1;32m    229\u001b[0m \u001b[38;5;28;01mif\u001b[39;00m (\n\u001b[1;32m    230\u001b[0m     frozen_trial\u001b[38;5;241m.\u001b[39mstate \u001b[38;5;241m==\u001b[39m TrialState\u001b[38;5;241m.\u001b[39mFAIL\n\u001b[1;32m    231\u001b[0m     \u001b[38;5;129;01mand\u001b[39;00m func_err \u001b[38;5;129;01mis\u001b[39;00m \u001b[38;5;129;01mnot\u001b[39;00m \u001b[38;5;28;01mNone\u001b[39;00m\n\u001b[1;32m    232\u001b[0m     \u001b[38;5;129;01mand\u001b[39;00m \u001b[38;5;129;01mnot\u001b[39;00m \u001b[38;5;28misinstance\u001b[39m(func_err, catch)\n\u001b[1;32m    233\u001b[0m ):\n\u001b[0;32m--> 234\u001b[0m     \u001b[38;5;28;01mraise\u001b[39;00m func_err\n\u001b[1;32m    235\u001b[0m \u001b[38;5;28;01mreturn\u001b[39;00m frozen_trial\n",
      "File \u001b[0;32m~/SageMaker/.persisted_conda/authentifield/lib/python3.9/site-packages/optuna/study/_optimize.py:196\u001b[0m, in \u001b[0;36m_run_trial\u001b[0;34m(study, func, catch)\u001b[0m\n\u001b[1;32m    194\u001b[0m \u001b[38;5;28;01mwith\u001b[39;00m get_heartbeat_thread(trial\u001b[38;5;241m.\u001b[39m_trial_id, study\u001b[38;5;241m.\u001b[39m_storage):\n\u001b[1;32m    195\u001b[0m     \u001b[38;5;28;01mtry\u001b[39;00m:\n\u001b[0;32m--> 196\u001b[0m         value_or_values \u001b[38;5;241m=\u001b[39m \u001b[43mfunc\u001b[49m\u001b[43m(\u001b[49m\u001b[43mtrial\u001b[49m\u001b[43m)\u001b[49m\n\u001b[1;32m    197\u001b[0m     \u001b[38;5;28;01mexcept\u001b[39;00m exceptions\u001b[38;5;241m.\u001b[39mTrialPruned \u001b[38;5;28;01mas\u001b[39;00m e:\n\u001b[1;32m    198\u001b[0m         \u001b[38;5;66;03m# TODO(mamu): Handle multi-objective cases.\u001b[39;00m\n\u001b[1;32m    199\u001b[0m         state \u001b[38;5;241m=\u001b[39m TrialState\u001b[38;5;241m.\u001b[39mPRUNED\n",
      "Cell \u001b[0;32mIn[24], line 20\u001b[0m, in \u001b[0;36mobjective\u001b[0;34m(trial)\u001b[0m\n\u001b[1;32m     18\u001b[0m \u001b[38;5;66;03m# Fit the model\u001b[39;00m\n\u001b[1;32m     19\u001b[0m optuna_model \u001b[38;5;241m=\u001b[39m xgb\u001b[38;5;241m.\u001b[39mXGBClassifier(\u001b[38;5;241m*\u001b[39m\u001b[38;5;241m*\u001b[39mparams)\n\u001b[0;32m---> 20\u001b[0m \u001b[43moptuna_model\u001b[49m\u001b[38;5;241;43m.\u001b[39;49m\u001b[43mfit\u001b[49m\u001b[43m(\u001b[49m\u001b[43mX_train_red\u001b[49m\u001b[43m,\u001b[49m\u001b[43my_train\u001b[49m\u001b[43m)\u001b[49m\n\u001b[1;32m     22\u001b[0m \u001b[38;5;66;03m# Make predictions\u001b[39;00m\n\u001b[1;32m     23\u001b[0m y_pred \u001b[38;5;241m=\u001b[39m optuna_model\u001b[38;5;241m.\u001b[39mpredict(X_test_fs_red)\n",
      "File \u001b[0;32m~/SageMaker/.persisted_conda/authentifield/lib/python3.9/site-packages/xgboost/core.py:506\u001b[0m, in \u001b[0;36m_deprecate_positional_args.<locals>.inner_f\u001b[0;34m(*args, **kwargs)\u001b[0m\n\u001b[1;32m    504\u001b[0m \u001b[38;5;28;01mfor\u001b[39;00m k, arg \u001b[38;5;129;01min\u001b[39;00m \u001b[38;5;28mzip\u001b[39m(sig\u001b[38;5;241m.\u001b[39mparameters, args):\n\u001b[1;32m    505\u001b[0m     kwargs[k] \u001b[38;5;241m=\u001b[39m arg\n\u001b[0;32m--> 506\u001b[0m \u001b[38;5;28;01mreturn\u001b[39;00m \u001b[43mf\u001b[49m\u001b[43m(\u001b[49m\u001b[38;5;241;43m*\u001b[39;49m\u001b[38;5;241;43m*\u001b[39;49m\u001b[43mkwargs\u001b[49m\u001b[43m)\u001b[49m\n",
      "File \u001b[0;32m~/SageMaker/.persisted_conda/authentifield/lib/python3.9/site-packages/xgboost/sklearn.py:1250\u001b[0m, in \u001b[0;36mXGBClassifier.fit\u001b[0;34m(self, X, y, sample_weight, base_margin, eval_set, eval_metric, early_stopping_rounds, verbose, xgb_model, sample_weight_eval_set, base_margin_eval_set, feature_weights, callbacks)\u001b[0m\n\u001b[1;32m   1230\u001b[0m model, feval, params \u001b[38;5;241m=\u001b[39m \u001b[38;5;28mself\u001b[39m\u001b[38;5;241m.\u001b[39m_configure_fit(xgb_model, eval_metric, params)\n\u001b[1;32m   1231\u001b[0m train_dmatrix, evals \u001b[38;5;241m=\u001b[39m _wrap_evaluation_matrices(\n\u001b[1;32m   1232\u001b[0m     missing\u001b[38;5;241m=\u001b[39m\u001b[38;5;28mself\u001b[39m\u001b[38;5;241m.\u001b[39mmissing,\n\u001b[1;32m   1233\u001b[0m     X\u001b[38;5;241m=\u001b[39mX,\n\u001b[0;32m   (...)\u001b[0m\n\u001b[1;32m   1247\u001b[0m     label_transform\u001b[38;5;241m=\u001b[39mlabel_transform,\n\u001b[1;32m   1248\u001b[0m )\n\u001b[0;32m-> 1250\u001b[0m \u001b[38;5;28mself\u001b[39m\u001b[38;5;241m.\u001b[39m_Booster \u001b[38;5;241m=\u001b[39m \u001b[43mtrain\u001b[49m\u001b[43m(\u001b[49m\n\u001b[1;32m   1251\u001b[0m \u001b[43m    \u001b[49m\u001b[43mparams\u001b[49m\u001b[43m,\u001b[49m\n\u001b[1;32m   1252\u001b[0m \u001b[43m    \u001b[49m\u001b[43mtrain_dmatrix\u001b[49m\u001b[43m,\u001b[49m\n\u001b[1;32m   1253\u001b[0m \u001b[43m    \u001b[49m\u001b[38;5;28;43mself\u001b[39;49m\u001b[38;5;241;43m.\u001b[39;49m\u001b[43mget_num_boosting_rounds\u001b[49m\u001b[43m(\u001b[49m\u001b[43m)\u001b[49m\u001b[43m,\u001b[49m\n\u001b[1;32m   1254\u001b[0m \u001b[43m    \u001b[49m\u001b[43mevals\u001b[49m\u001b[38;5;241;43m=\u001b[39;49m\u001b[43mevals\u001b[49m\u001b[43m,\u001b[49m\n\u001b[1;32m   1255\u001b[0m \u001b[43m    \u001b[49m\u001b[43mearly_stopping_rounds\u001b[49m\u001b[38;5;241;43m=\u001b[39;49m\u001b[43mearly_stopping_rounds\u001b[49m\u001b[43m,\u001b[49m\n\u001b[1;32m   1256\u001b[0m \u001b[43m    \u001b[49m\u001b[43mevals_result\u001b[49m\u001b[38;5;241;43m=\u001b[39;49m\u001b[43mevals_result\u001b[49m\u001b[43m,\u001b[49m\n\u001b[1;32m   1257\u001b[0m \u001b[43m    \u001b[49m\u001b[43mobj\u001b[49m\u001b[38;5;241;43m=\u001b[39;49m\u001b[43mobj\u001b[49m\u001b[43m,\u001b[49m\n\u001b[1;32m   1258\u001b[0m \u001b[43m    \u001b[49m\u001b[43mfeval\u001b[49m\u001b[38;5;241;43m=\u001b[39;49m\u001b[43mfeval\u001b[49m\u001b[43m,\u001b[49m\n\u001b[1;32m   1259\u001b[0m \u001b[43m    \u001b[49m\u001b[43mverbose_eval\u001b[49m\u001b[38;5;241;43m=\u001b[39;49m\u001b[43mverbose\u001b[49m\u001b[43m,\u001b[49m\n\u001b[1;32m   1260\u001b[0m \u001b[43m    \u001b[49m\u001b[43mxgb_model\u001b[49m\u001b[38;5;241;43m=\u001b[39;49m\u001b[43mmodel\u001b[49m\u001b[43m,\u001b[49m\n\u001b[1;32m   1261\u001b[0m \u001b[43m    \u001b[49m\u001b[43mcallbacks\u001b[49m\u001b[38;5;241;43m=\u001b[39;49m\u001b[43mcallbacks\u001b[49m\u001b[43m,\u001b[49m\n\u001b[1;32m   1262\u001b[0m \u001b[43m\u001b[49m\u001b[43m)\u001b[49m\n\u001b[1;32m   1264\u001b[0m \u001b[38;5;28;01mif\u001b[39;00m \u001b[38;5;129;01mnot\u001b[39;00m callable(\u001b[38;5;28mself\u001b[39m\u001b[38;5;241m.\u001b[39mobjective):\n\u001b[1;32m   1265\u001b[0m     \u001b[38;5;28mself\u001b[39m\u001b[38;5;241m.\u001b[39mobjective \u001b[38;5;241m=\u001b[39m params[\u001b[38;5;124m\"\u001b[39m\u001b[38;5;124mobjective\u001b[39m\u001b[38;5;124m\"\u001b[39m]\n",
      "File \u001b[0;32m~/SageMaker/.persisted_conda/authentifield/lib/python3.9/site-packages/xgboost/training.py:188\u001b[0m, in \u001b[0;36mtrain\u001b[0;34m(params, dtrain, num_boost_round, evals, obj, feval, maximize, early_stopping_rounds, evals_result, verbose_eval, xgb_model, callbacks)\u001b[0m\n\u001b[1;32m    115\u001b[0m \u001b[38;5;28;01mdef\u001b[39;00m \u001b[38;5;21mtrain\u001b[39m(params, dtrain, num_boost_round\u001b[38;5;241m=\u001b[39m\u001b[38;5;241m10\u001b[39m, evals\u001b[38;5;241m=\u001b[39m(), obj\u001b[38;5;241m=\u001b[39m\u001b[38;5;28;01mNone\u001b[39;00m, feval\u001b[38;5;241m=\u001b[39m\u001b[38;5;28;01mNone\u001b[39;00m,\n\u001b[1;32m    116\u001b[0m           maximize\u001b[38;5;241m=\u001b[39m\u001b[38;5;28;01mNone\u001b[39;00m, early_stopping_rounds\u001b[38;5;241m=\u001b[39m\u001b[38;5;28;01mNone\u001b[39;00m, evals_result\u001b[38;5;241m=\u001b[39m\u001b[38;5;28;01mNone\u001b[39;00m,\n\u001b[1;32m    117\u001b[0m           verbose_eval\u001b[38;5;241m=\u001b[39m\u001b[38;5;28;01mTrue\u001b[39;00m, xgb_model\u001b[38;5;241m=\u001b[39m\u001b[38;5;28;01mNone\u001b[39;00m, callbacks\u001b[38;5;241m=\u001b[39m\u001b[38;5;28;01mNone\u001b[39;00m):\n\u001b[1;32m    118\u001b[0m     \u001b[38;5;66;03m# pylint: disable=too-many-statements,too-many-branches, attribute-defined-outside-init\u001b[39;00m\n\u001b[1;32m    119\u001b[0m \u001b[38;5;250m    \u001b[39m\u001b[38;5;124;03m\"\"\"Train a booster with given parameters.\u001b[39;00m\n\u001b[1;32m    120\u001b[0m \n\u001b[1;32m    121\u001b[0m \u001b[38;5;124;03m    Parameters\u001b[39;00m\n\u001b[0;32m   (...)\u001b[0m\n\u001b[1;32m    186\u001b[0m \u001b[38;5;124;03m    Booster : a trained booster model\u001b[39;00m\n\u001b[1;32m    187\u001b[0m \u001b[38;5;124;03m    \"\"\"\u001b[39;00m\n\u001b[0;32m--> 188\u001b[0m     bst \u001b[38;5;241m=\u001b[39m \u001b[43m_train_internal\u001b[49m\u001b[43m(\u001b[49m\u001b[43mparams\u001b[49m\u001b[43m,\u001b[49m\u001b[43m \u001b[49m\u001b[43mdtrain\u001b[49m\u001b[43m,\u001b[49m\n\u001b[1;32m    189\u001b[0m \u001b[43m                          \u001b[49m\u001b[43mnum_boost_round\u001b[49m\u001b[38;5;241;43m=\u001b[39;49m\u001b[43mnum_boost_round\u001b[49m\u001b[43m,\u001b[49m\n\u001b[1;32m    190\u001b[0m \u001b[43m                          \u001b[49m\u001b[43mevals\u001b[49m\u001b[38;5;241;43m=\u001b[39;49m\u001b[43mevals\u001b[49m\u001b[43m,\u001b[49m\n\u001b[1;32m    191\u001b[0m \u001b[43m                          \u001b[49m\u001b[43mobj\u001b[49m\u001b[38;5;241;43m=\u001b[39;49m\u001b[43mobj\u001b[49m\u001b[43m,\u001b[49m\u001b[43m \u001b[49m\u001b[43mfeval\u001b[49m\u001b[38;5;241;43m=\u001b[39;49m\u001b[43mfeval\u001b[49m\u001b[43m,\u001b[49m\n\u001b[1;32m    192\u001b[0m \u001b[43m                          \u001b[49m\u001b[43mxgb_model\u001b[49m\u001b[38;5;241;43m=\u001b[39;49m\u001b[43mxgb_model\u001b[49m\u001b[43m,\u001b[49m\u001b[43m \u001b[49m\u001b[43mcallbacks\u001b[49m\u001b[38;5;241;43m=\u001b[39;49m\u001b[43mcallbacks\u001b[49m\u001b[43m,\u001b[49m\n\u001b[1;32m    193\u001b[0m \u001b[43m                          \u001b[49m\u001b[43mverbose_eval\u001b[49m\u001b[38;5;241;43m=\u001b[39;49m\u001b[43mverbose_eval\u001b[49m\u001b[43m,\u001b[49m\n\u001b[1;32m    194\u001b[0m \u001b[43m                          \u001b[49m\u001b[43mevals_result\u001b[49m\u001b[38;5;241;43m=\u001b[39;49m\u001b[43mevals_result\u001b[49m\u001b[43m,\u001b[49m\n\u001b[1;32m    195\u001b[0m \u001b[43m                          \u001b[49m\u001b[43mmaximize\u001b[49m\u001b[38;5;241;43m=\u001b[39;49m\u001b[43mmaximize\u001b[49m\u001b[43m,\u001b[49m\n\u001b[1;32m    196\u001b[0m \u001b[43m                          \u001b[49m\u001b[43mearly_stopping_rounds\u001b[49m\u001b[38;5;241;43m=\u001b[39;49m\u001b[43mearly_stopping_rounds\u001b[49m\u001b[43m)\u001b[49m\n\u001b[1;32m    197\u001b[0m     \u001b[38;5;28;01mreturn\u001b[39;00m bst\n",
      "File \u001b[0;32m~/SageMaker/.persisted_conda/authentifield/lib/python3.9/site-packages/xgboost/training.py:81\u001b[0m, in \u001b[0;36m_train_internal\u001b[0;34m(params, dtrain, num_boost_round, evals, obj, feval, xgb_model, callbacks, evals_result, maximize, verbose_eval, early_stopping_rounds)\u001b[0m\n\u001b[1;32m     79\u001b[0m \u001b[38;5;28;01mif\u001b[39;00m callbacks\u001b[38;5;241m.\u001b[39mbefore_iteration(bst, i, dtrain, evals):\n\u001b[1;32m     80\u001b[0m     \u001b[38;5;28;01mbreak\u001b[39;00m\n\u001b[0;32m---> 81\u001b[0m \u001b[43mbst\u001b[49m\u001b[38;5;241;43m.\u001b[39;49m\u001b[43mupdate\u001b[49m\u001b[43m(\u001b[49m\u001b[43mdtrain\u001b[49m\u001b[43m,\u001b[49m\u001b[43m \u001b[49m\u001b[43mi\u001b[49m\u001b[43m,\u001b[49m\u001b[43m \u001b[49m\u001b[43mobj\u001b[49m\u001b[43m)\u001b[49m\n\u001b[1;32m     82\u001b[0m \u001b[38;5;28;01mif\u001b[39;00m callbacks\u001b[38;5;241m.\u001b[39mafter_iteration(bst, i, dtrain, evals):\n\u001b[1;32m     83\u001b[0m     \u001b[38;5;28;01mbreak\u001b[39;00m\n",
      "File \u001b[0;32m~/SageMaker/.persisted_conda/authentifield/lib/python3.9/site-packages/xgboost/core.py:1680\u001b[0m, in \u001b[0;36mBooster.update\u001b[0;34m(self, dtrain, iteration, fobj)\u001b[0m\n\u001b[1;32m   1677\u001b[0m \u001b[38;5;28mself\u001b[39m\u001b[38;5;241m.\u001b[39m_validate_features(dtrain)\n\u001b[1;32m   1679\u001b[0m \u001b[38;5;28;01mif\u001b[39;00m fobj \u001b[38;5;129;01mis\u001b[39;00m \u001b[38;5;28;01mNone\u001b[39;00m:\n\u001b[0;32m-> 1680\u001b[0m     _check_call(\u001b[43m_LIB\u001b[49m\u001b[38;5;241;43m.\u001b[39;49m\u001b[43mXGBoosterUpdateOneIter\u001b[49m\u001b[43m(\u001b[49m\u001b[38;5;28;43mself\u001b[39;49m\u001b[38;5;241;43m.\u001b[39;49m\u001b[43mhandle\u001b[49m\u001b[43m,\u001b[49m\n\u001b[1;32m   1681\u001b[0m \u001b[43m                                            \u001b[49m\u001b[43mctypes\u001b[49m\u001b[38;5;241;43m.\u001b[39;49m\u001b[43mc_int\u001b[49m\u001b[43m(\u001b[49m\u001b[43miteration\u001b[49m\u001b[43m)\u001b[49m\u001b[43m,\u001b[49m\n\u001b[1;32m   1682\u001b[0m \u001b[43m                                            \u001b[49m\u001b[43mdtrain\u001b[49m\u001b[38;5;241;43m.\u001b[39;49m\u001b[43mhandle\u001b[49m\u001b[43m)\u001b[49m)\n\u001b[1;32m   1683\u001b[0m \u001b[38;5;28;01melse\u001b[39;00m:\n\u001b[1;32m   1684\u001b[0m     pred \u001b[38;5;241m=\u001b[39m \u001b[38;5;28mself\u001b[39m\u001b[38;5;241m.\u001b[39mpredict(dtrain, output_margin\u001b[38;5;241m=\u001b[39m\u001b[38;5;28;01mTrue\u001b[39;00m, training\u001b[38;5;241m=\u001b[39m\u001b[38;5;28;01mTrue\u001b[39;00m)\n",
      "\u001b[0;31mKeyboardInterrupt\u001b[0m: "
     ]
    }
   ],
   "source": [
    "study = optuna.create_study(direction=\"maximize\")\n",
    "study.optimize(objective, n_trials=10)\n",
    "params = study.best_trial.params"
   ]
  },
  {
   "cell_type": "code",
   "execution_count": 29,
   "id": "56e742cc-ad29-419d-b0a6-83d5a587d134",
   "metadata": {
    "tags": []
   },
   "outputs": [
    {
     "name": "stdout",
     "output_type": "stream",
     "text": [
      "[12:43:01] WARNING: ../src/learner.cc:1115: Starting in XGBoost 1.3.0, the default evaluation metric used with the objective 'multi:softprob' was changed from 'merror' to 'mlogloss'. Explicitly set eval_metric if you'd like to restore the old behavior.\n",
      "              precision    recall  f1-score   support\n",
      "\n",
      "           0       0.47      0.34      0.39      5729\n",
      "           1       0.55      0.56      0.56      5755\n",
      "           2       0.51      0.40      0.45      5755\n",
      "           3       0.38      0.54      0.45      5756\n",
      "           4       0.73      0.72      0.72      5756\n",
      "           5       0.52      0.36      0.43      5756\n",
      "           6       0.65      0.88      0.75      5755\n",
      "\n",
      "    accuracy                           0.54     40262\n",
      "   macro avg       0.54      0.54      0.54     40262\n",
      "weighted avg       0.54      0.54      0.54     40262\n",
      "\n"
     ]
    }
   ],
   "source": [
    "params = {\n",
    "    \"max_depth\": 8,\n",
    "    \"learning_rate\": 0.21299226181626638,\n",
    "    \"n_estimators\": 500,\n",
    "    \"min_child_weight\": 9,\n",
    "    \"gamma\": 0.0014769202765595336,\n",
    "    \"subsample\": 0.0864466416277673,\n",
    "    \"colsample_bytree\": 0.04835182195102151,\n",
    "    \"reg_alpha\": 0.004932013900037481,\n",
    "    \"reg_lambda\": 1.1012446136221117e-08,\n",
    "}\n",
    "tuned_model = xgb.XGBClassifier(**params)\n",
    "tuned_model.fit(X_train_red, y_train)\n",
    "preds = tuned_model.predict(X_test_fs_red)\n",
    "print(classification_report(y_test, preds))"
   ]
  },
  {
   "cell_type": "code",
   "execution_count": 38,
   "id": "a0fde655-56db-4ef4-967d-cf2833e6c327",
   "metadata": {
    "collapsed": true,
    "jupyter": {
     "outputs_hidden": true
    },
    "tags": []
   },
   "outputs": [
    {
     "data": {
      "text/plain": [
       "Index(['Select any activities that make up an important part of your role at work: (Select all that apply) - Selected Choice - Other',\n",
       "       'What is the size of the company where you are employed?',\n",
       "       'What is your current yearly compensation (approximate $USD)?',\n",
       "       'For how many years have you used machine learning methods?',\n",
       "       'In what industry is your current employer/contract (or your most recent employer if retired)? - Selected Choice',\n",
       "       'Approximately how many individuals are responsible for data science workloads at your place of business?',\n",
       "       'What is the highest level of formal education that you have attained or plan to attain within the next 2 years?_Bachelors',\n",
       "       'Approximately how many times have you used a TPU (tensor processing unit)?',\n",
       "       'Uses Data Visualization libs Count', 'Uses ML Framework Count',\n",
       "       'Who/what are your favorite media sources that report on data science topics? (Select all that apply) - Selected Choice - Blogs (Towards Data Science, Analytics Vidhya, etc)',\n",
       "       'Select any activities that make up an important part of your role at work: (Select all that apply) - Selected Choice - Analyze and understand data to influence product or business decisions',\n",
       "       'Does your current employer incorporate machine learning methods into their business?',\n",
       "       'Select any activities that make up an important part of your role at work: (Select all that apply) - Selected Choice - Experimentation and iteration to improve existing ML models',\n",
       "       'Select any activities that make up an important part of your role at work: (Select all that apply) - Selected Choice - Build and/or run the data infrastructure that my business uses for storing, analyzing, and operationalizing data',\n",
       "       'Uses Auto ML tools Count', 'Uses Business Intel tools Count',\n",
       "       'Select any activities that make up an important part of your role at work: (Select all that apply) - Selected Choice - Build and/or run a machine learning service that operationally improves my product or workflows',\n",
       "       'Uses ML Algorithms Count',\n",
       "       'Select any activities that make up an important part of your role at work: (Select all that apply) - Selected Choice - Build prototypes to explore applying machine learning to new areas',\n",
       "       'Select any activities that make up an important part of your role at work: (Select all that apply) - Selected Choice - Do research that advances the state of the art of machine learning',\n",
       "       'Uses NLP Algorithms Count', 'Uses Notebooks for dev Count',\n",
       "       'Who/what are your favorite media sources that report on data science topics? (Select all that apply) - Selected Choice - Other',\n",
       "       'Has Managed ML tools',\n",
       "       'Where do you publicly share your data analysis or machine learning applications? (Select all that apply) - Selected Choice - Other',\n",
       "       'What is the highest level of formal education that you have attained or plan to attain within the next 2 years?_No formal education past high school',\n",
       "       'Knows Pgm Lang Count', 'Uses Computer Vision Algorithms Count',\n",
       "       'Do you use any tools to help manage machine learning experiments? (Select all that apply) - Selected Choice -  Domino Model Monitor ',\n",
       "       'What is the highest level of formal education that you have attained or plan to attain within the next 2 years?_High-School',\n",
       "       'Where do you publicly share your data analysis or machine learning applications? (Select all that apply) - Selected Choice -  NBViewer ',\n",
       "       'Uses Big Data Products Count', 'Has taken DS Course Count',\n",
       "       'Which types of specialized hardware do you use on a regular basis?  (Select all that apply) - Selected Choice - CPUs',\n",
       "       'What programming language would you recommend an aspiring data scientist to learn first? - Selected Choice',\n",
       "       'Who/what are your favorite media sources that report on data science topics? (Select all that apply) - Selected Choice - Podcasts (Chai Time Data Science, Oâ€™Reilly Data Show, etc)',\n",
       "       'Has taken DS Course',\n",
       "       'Which types of specialized hardware do you use on a regular basis?  (Select all that apply) - Selected Choice - Other',\n",
       "       'Who/what are your favorite media sources that report on data science topics? (Select all that apply) - Selected Choice - Reddit (r/machinelearning, etc)',\n",
       "       'Select the title most similar to your current role (or most recent title if retired): - Selected Choice',\n",
       "       'What is the highest level of formal education that you have attained or plan to attain within the next 2 years?_Doctorate',\n",
       "       'Where do you publicly share your data analysis or machine learning applications? (Select all that apply) - Selected Choice -  Shiny ',\n",
       "       'What type of computing platform do you use most often for your data science projects? - Selected Choice',\n",
       "       'Do you use any tools to help manage machine learning experiments? (Select all that apply) - Selected Choice -  Sacred + Omniboard ',\n",
       "       'Has Managed ML tools Count',\n",
       "       'Where do you publicly share your data analysis or machine learning applications? (Select all that apply) - Selected Choice -  Personal blog ',\n",
       "       'Where do you publicly share your data analysis or machine learning applications? (Select all that apply) - Selected Choice -  Kaggle ',\n",
       "       'Which types of specialized hardware do you use on a regular basis?  (Select all that apply) - Selected Choice -  Google Cloud TPUs ',\n",
       "       'Uses Auto ML tools',\n",
       "       'What is the primary tool that you use at work or school to analyze data? (Include text response) - Selected Choice',\n",
       "       'Uses Business Intel tools', 'Uses IDE for dev Count',\n",
       "       'Who/what are your favorite media sources that report on data science topics? (Select all that apply) - Selected Choice - YouTube (Kaggle YouTube, Cloud AI Adventures, etc)',\n",
       "       'Who/what are your favorite media sources that report on data science topics? (Select all that apply) - Selected Choice - Kaggle (notebooks, forums, etc)',\n",
       "       'Where do you publicly share your data analysis or machine learning applications? (Select all that apply) - Selected Choice -  Colab ',\n",
       "       'Uses ML Framework', 'Knows Pgm Lang',\n",
       "       'Where do you publicly share your data analysis or machine learning applications? (Select all that apply) - Selected Choice -  GitHub ',\n",
       "       'Uses Data Visualization libs',\n",
       "       'Do you use any tools to help manage machine learning experiments? (Select all that apply) - Selected Choice -  Neptune.ai ',\n",
       "       'Who/what are your favorite media sources that report on data science topics? (Select all that apply) - Selected Choice - Slack Communities (ods.ai, kagglenoobs, etc)',\n",
       "       'Do you use any tools to help manage machine learning experiments? (Select all that apply) - Selected Choice - Other',\n",
       "       'Where do you publicly share your data analysis or machine learning applications? (Select all that apply) - Selected Choice - I do not share my work publicly',\n",
       "       'Who/what are your favorite media sources that report on data science topics? (Select all that apply) - Selected Choice - Email newsletters (Data Elixir, O'Reilly Data & AI, etc)',\n",
       "       'Where do you publicly share your data analysis or machine learning applications? (Select all that apply) - Selected Choice -  Plotly Dash ',\n",
       "       'Who/what are your favorite media sources that report on data science topics? (Select all that apply) - Selected Choice - Journal Publications (peer-reviewed journals, conference proceedings, etc)',\n",
       "       'Who/what are your favorite media sources that report on data science topics? (Select all that apply) - Selected Choice - Course Forums (forums.fast.ai, Coursera forums, etc)',\n",
       "       'What is the highest level of formal education that you have attained or plan to attain within the next 2 years?_None',\n",
       "       'Uses Big Data Products', 'Knows Cloud Compute Platforms',\n",
       "       'Who/what are your favorite media sources that report on data science topics? (Select all that apply) - Selected Choice - None',\n",
       "       'Do you use any tools to help manage machine learning experiments? (Select all that apply) - Selected Choice - No / None',\n",
       "       'Who/what are your favorite media sources that report on data science topics? (Select all that apply) - Selected Choice - Twitter (data science influencers)',\n",
       "       'Uses IDE for dev', 'Knows Cloud Compute Platforms Count',\n",
       "       'Uses Notebooks for dev',\n",
       "       'Approximately how much money have you (or your team) spent on machine learning and/or cloud computing services at home (or at work) in the past 5 years (approximate $USD)?',\n",
       "       'What is the highest level of formal education that you have attained or plan to attain within the next 2 years?_Masters',\n",
       "       'Do you use any tools to help manage machine learning experiments? (Select all that apply) - Selected Choice -  Polyaxon ',\n",
       "       'Where do you publicly share your data analysis or machine learning applications? (Select all that apply) - Selected Choice -  Streamlit ',\n",
       "       'Uses ML Algorithms',\n",
       "       'Which types of specialized hardware do you use on a regular basis?  (Select all that apply) - Selected Choice -  NVIDIA GPUs ',\n",
       "       'Do you use any tools to help manage machine learning experiments? (Select all that apply) - Selected Choice -  Guild.ai ',\n",
       "       'Do you use any tools to help manage machine learning experiments? (Select all that apply) - Selected Choice -  Weights & Biases ',\n",
       "       'Select any activities that make up an important part of your role at work: (Select all that apply) - Selected Choice - None of these activities are an important part of my role at work',\n",
       "       'Do you use any tools to help manage machine learning experiments? (Select all that apply) - Selected Choice -  TensorBoard ',\n",
       "       'Do you use any tools to help manage machine learning experiments? (Select all that apply) - Selected Choice -  Comet.ml ',\n",
       "       'Uses Computer Vision Algorithms', 'Uses NLP Algorithms',\n",
       "       'Which types of specialized hardware do you use on a regular basis?  (Select all that apply) - Selected Choice - None'],\n",
       "      dtype='object')"
      ]
     },
     "execution_count": 38,
     "metadata": {},
     "output_type": "execute_result"
    }
   ],
   "source": [
    "final_df.columns[indices]"
   ]
  },
  {
   "cell_type": "markdown",
   "id": "82ffc339-60a4-4635-b4de-be54395fb3fa",
   "metadata": {},
   "source": [
    "### RandomCV hyperparams"
   ]
  },
  {
   "cell_type": "code",
   "execution_count": null,
   "id": "5967ef6a-e3eb-4a16-a8af-4ee8f36622d7",
   "metadata": {
    "collapsed": true,
    "jupyter": {
     "outputs_hidden": true
    },
    "tags": []
   },
   "outputs": [
    {
     "name": "stdout",
     "output_type": "stream",
     "text": [
      "[14:49:54] WARNING: ../src/learner.cc:1115: Starting in XGBoost 1.3.0, the default evaluation metric used with the objective 'multi:softprob' was changed from 'merror' to 'mlogloss'. Explicitly set eval_metric if you'd like to restore the old behavior.\n",
      "[14:58:50] WARNING: ../src/learner.cc:1115: Starting in XGBoost 1.3.0, the default evaluation metric used with the objective 'multi:softprob' was changed from 'merror' to 'mlogloss'. Explicitly set eval_metric if you'd like to restore the old behavior.\n",
      "[15:07:45] WARNING: ../src/learner.cc:1115: Starting in XGBoost 1.3.0, the default evaluation metric used with the objective 'multi:softprob' was changed from 'merror' to 'mlogloss'. Explicitly set eval_metric if you'd like to restore the old behavior.\n",
      "[15:16:41] WARNING: ../src/learner.cc:1115: Starting in XGBoost 1.3.0, the default evaluation metric used with the objective 'multi:softprob' was changed from 'merror' to 'mlogloss'. Explicitly set eval_metric if you'd like to restore the old behavior.\n",
      "[15:25:36] WARNING: ../src/learner.cc:1115: Starting in XGBoost 1.3.0, the default evaluation metric used with the objective 'multi:softprob' was changed from 'merror' to 'mlogloss'. Explicitly set eval_metric if you'd like to restore the old behavior.\n",
      "[15:34:31] WARNING: ../src/learner.cc:1115: Starting in XGBoost 1.3.0, the default evaluation metric used with the objective 'multi:softprob' was changed from 'merror' to 'mlogloss'. Explicitly set eval_metric if you'd like to restore the old behavior.\n",
      "[15:40:08] WARNING: ../src/learner.cc:1115: Starting in XGBoost 1.3.0, the default evaluation metric used with the objective 'multi:softprob' was changed from 'merror' to 'mlogloss'. Explicitly set eval_metric if you'd like to restore the old behavior.\n",
      "[15:45:43] WARNING: ../src/learner.cc:1115: Starting in XGBoost 1.3.0, the default evaluation metric used with the objective 'multi:softprob' was changed from 'merror' to 'mlogloss'. Explicitly set eval_metric if you'd like to restore the old behavior.\n",
      "[15:51:15] WARNING: ../src/learner.cc:1115: Starting in XGBoost 1.3.0, the default evaluation metric used with the objective 'multi:softprob' was changed from 'merror' to 'mlogloss'. Explicitly set eval_metric if you'd like to restore the old behavior.\n",
      "[15:56:52] WARNING: ../src/learner.cc:1115: Starting in XGBoost 1.3.0, the default evaluation metric used with the objective 'multi:softprob' was changed from 'merror' to 'mlogloss'. Explicitly set eval_metric if you'd like to restore the old behavior.\n",
      "[16:02:30] WARNING: ../src/learner.cc:1115: Starting in XGBoost 1.3.0, the default evaluation metric used with the objective 'multi:softprob' was changed from 'merror' to 'mlogloss'. Explicitly set eval_metric if you'd like to restore the old behavior.\n",
      "[16:08:39] WARNING: ../src/learner.cc:1115: Starting in XGBoost 1.3.0, the default evaluation metric used with the objective 'multi:softprob' was changed from 'merror' to 'mlogloss'. Explicitly set eval_metric if you'd like to restore the old behavior.\n",
      "[16:14:50] WARNING: ../src/learner.cc:1115: Starting in XGBoost 1.3.0, the default evaluation metric used with the objective 'multi:softprob' was changed from 'merror' to 'mlogloss'. Explicitly set eval_metric if you'd like to restore the old behavior.\n",
      "[16:21:01] WARNING: ../src/learner.cc:1115: Starting in XGBoost 1.3.0, the default evaluation metric used with the objective 'multi:softprob' was changed from 'merror' to 'mlogloss'. Explicitly set eval_metric if you'd like to restore the old behavior.\n",
      "[16:27:11] WARNING: ../src/learner.cc:1115: Starting in XGBoost 1.3.0, the default evaluation metric used with the objective 'multi:softprob' was changed from 'merror' to 'mlogloss'. Explicitly set eval_metric if you'd like to restore the old behavior.\n",
      "[16:33:20] WARNING: ../src/learner.cc:1115: Starting in XGBoost 1.3.0, the default evaluation metric used with the objective 'multi:softprob' was changed from 'merror' to 'mlogloss'. Explicitly set eval_metric if you'd like to restore the old behavior.\n",
      "[16:35:47] WARNING: ../src/learner.cc:1115: Starting in XGBoost 1.3.0, the default evaluation metric used with the objective 'multi:softprob' was changed from 'merror' to 'mlogloss'. Explicitly set eval_metric if you'd like to restore the old behavior.\n",
      "[16:38:14] WARNING: ../src/learner.cc:1115: Starting in XGBoost 1.3.0, the default evaluation metric used with the objective 'multi:softprob' was changed from 'merror' to 'mlogloss'. Explicitly set eval_metric if you'd like to restore the old behavior.\n",
      "[16:40:42] WARNING: ../src/learner.cc:1115: Starting in XGBoost 1.3.0, the default evaluation metric used with the objective 'multi:softprob' was changed from 'merror' to 'mlogloss'. Explicitly set eval_metric if you'd like to restore the old behavior.\n",
      "[16:43:09] WARNING: ../src/learner.cc:1115: Starting in XGBoost 1.3.0, the default evaluation metric used with the objective 'multi:softprob' was changed from 'merror' to 'mlogloss'. Explicitly set eval_metric if you'd like to restore the old behavior.\n",
      "[16:45:32] WARNING: ../src/learner.cc:1115: Starting in XGBoost 1.3.0, the default evaluation metric used with the objective 'multi:softprob' was changed from 'merror' to 'mlogloss'. Explicitly set eval_metric if you'd like to restore the old behavior.\n",
      "[16:52:50] WARNING: ../src/learner.cc:1115: Starting in XGBoost 1.3.0, the default evaluation metric used with the objective 'multi:softprob' was changed from 'merror' to 'mlogloss'. Explicitly set eval_metric if you'd like to restore the old behavior.\n",
      "[17:00:02] WARNING: ../src/learner.cc:1115: Starting in XGBoost 1.3.0, the default evaluation metric used with the objective 'multi:softprob' was changed from 'merror' to 'mlogloss'. Explicitly set eval_metric if you'd like to restore the old behavior.\n",
      "[17:07:19] WARNING: ../src/learner.cc:1115: Starting in XGBoost 1.3.0, the default evaluation metric used with the objective 'multi:softprob' was changed from 'merror' to 'mlogloss'. Explicitly set eval_metric if you'd like to restore the old behavior.\n",
      "[17:14:31] WARNING: ../src/learner.cc:1115: Starting in XGBoost 1.3.0, the default evaluation metric used with the objective 'multi:softprob' was changed from 'merror' to 'mlogloss'. Explicitly set eval_metric if you'd like to restore the old behavior.\n",
      "[17:21:46] WARNING: ../src/learner.cc:1115: Starting in XGBoost 1.3.0, the default evaluation metric used with the objective 'multi:softprob' was changed from 'merror' to 'mlogloss'. Explicitly set eval_metric if you'd like to restore the old behavior.\n",
      "[17:37:19] WARNING: ../src/learner.cc:1115: Starting in XGBoost 1.3.0, the default evaluation metric used with the objective 'multi:softprob' was changed from 'merror' to 'mlogloss'. Explicitly set eval_metric if you'd like to restore the old behavior.\n",
      "[17:52:53] WARNING: ../src/learner.cc:1115: Starting in XGBoost 1.3.0, the default evaluation metric used with the objective 'multi:softprob' was changed from 'merror' to 'mlogloss'. Explicitly set eval_metric if you'd like to restore the old behavior.\n",
      "[18:08:27] WARNING: ../src/learner.cc:1115: Starting in XGBoost 1.3.0, the default evaluation metric used with the objective 'multi:softprob' was changed from 'merror' to 'mlogloss'. Explicitly set eval_metric if you'd like to restore the old behavior.\n",
      "[18:24:03] WARNING: ../src/learner.cc:1115: Starting in XGBoost 1.3.0, the default evaluation metric used with the objective 'multi:softprob' was changed from 'merror' to 'mlogloss'. Explicitly set eval_metric if you'd like to restore the old behavior.\n",
      "[18:39:39] WARNING: ../src/learner.cc:1115: Starting in XGBoost 1.3.0, the default evaluation metric used with the objective 'multi:softprob' was changed from 'merror' to 'mlogloss'. Explicitly set eval_metric if you'd like to restore the old behavior.\n",
      "[18:53:17] WARNING: ../src/learner.cc:1115: Starting in XGBoost 1.3.0, the default evaluation metric used with the objective 'multi:softprob' was changed from 'merror' to 'mlogloss'. Explicitly set eval_metric if you'd like to restore the old behavior.\n",
      "[19:06:59] WARNING: ../src/learner.cc:1115: Starting in XGBoost 1.3.0, the default evaluation metric used with the objective 'multi:softprob' was changed from 'merror' to 'mlogloss'. Explicitly set eval_metric if you'd like to restore the old behavior.\n",
      "[19:20:35] WARNING: ../src/learner.cc:1115: Starting in XGBoost 1.3.0, the default evaluation metric used with the objective 'multi:softprob' was changed from 'merror' to 'mlogloss'. Explicitly set eval_metric if you'd like to restore the old behavior.\n",
      "[19:34:12] WARNING: ../src/learner.cc:1115: Starting in XGBoost 1.3.0, the default evaluation metric used with the objective 'multi:softprob' was changed from 'merror' to 'mlogloss'. Explicitly set eval_metric if you'd like to restore the old behavior.\n",
      "[19:47:48] WARNING: ../src/learner.cc:1115: Starting in XGBoost 1.3.0, the default evaluation metric used with the objective 'multi:softprob' was changed from 'merror' to 'mlogloss'. Explicitly set eval_metric if you'd like to restore the old behavior.\n",
      "[19:52:01] WARNING: ../src/learner.cc:1115: Starting in XGBoost 1.3.0, the default evaluation metric used with the objective 'multi:softprob' was changed from 'merror' to 'mlogloss'. Explicitly set eval_metric if you'd like to restore the old behavior.\n",
      "[19:56:08] WARNING: ../src/learner.cc:1115: Starting in XGBoost 1.3.0, the default evaluation metric used with the objective 'multi:softprob' was changed from 'merror' to 'mlogloss'. Explicitly set eval_metric if you'd like to restore the old behavior.\n",
      "[20:00:16] WARNING: ../src/learner.cc:1115: Starting in XGBoost 1.3.0, the default evaluation metric used with the objective 'multi:softprob' was changed from 'merror' to 'mlogloss'. Explicitly set eval_metric if you'd like to restore the old behavior.\n",
      "[20:04:29] WARNING: ../src/learner.cc:1115: Starting in XGBoost 1.3.0, the default evaluation metric used with the objective 'multi:softprob' was changed from 'merror' to 'mlogloss'. Explicitly set eval_metric if you'd like to restore the old behavior.\n",
      "[20:08:36] WARNING: ../src/learner.cc:1115: Starting in XGBoost 1.3.0, the default evaluation metric used with the objective 'multi:softprob' was changed from 'merror' to 'mlogloss'. Explicitly set eval_metric if you'd like to restore the old behavior.\n",
      "[20:14:56] WARNING: ../src/learner.cc:1115: Starting in XGBoost 1.3.0, the default evaluation metric used with the objective 'multi:softprob' was changed from 'merror' to 'mlogloss'. Explicitly set eval_metric if you'd like to restore the old behavior.\n",
      "[20:21:15] WARNING: ../src/learner.cc:1115: Starting in XGBoost 1.3.0, the default evaluation metric used with the objective 'multi:softprob' was changed from 'merror' to 'mlogloss'. Explicitly set eval_metric if you'd like to restore the old behavior.\n",
      "[20:27:35] WARNING: ../src/learner.cc:1115: Starting in XGBoost 1.3.0, the default evaluation metric used with the objective 'multi:softprob' was changed from 'merror' to 'mlogloss'. Explicitly set eval_metric if you'd like to restore the old behavior.\n",
      "[20:33:55] WARNING: ../src/learner.cc:1115: Starting in XGBoost 1.3.0, the default evaluation metric used with the objective 'multi:softprob' was changed from 'merror' to 'mlogloss'. Explicitly set eval_metric if you'd like to restore the old behavior.\n",
      "[20:40:14] WARNING: ../src/learner.cc:1115: Starting in XGBoost 1.3.0, the default evaluation metric used with the objective 'multi:softprob' was changed from 'merror' to 'mlogloss'. Explicitly set eval_metric if you'd like to restore the old behavior.\n",
      "[20:45:43] WARNING: ../src/learner.cc:1115: Starting in XGBoost 1.3.0, the default evaluation metric used with the objective 'multi:softprob' was changed from 'merror' to 'mlogloss'. Explicitly set eval_metric if you'd like to restore the old behavior.\n",
      "[20:51:07] WARNING: ../src/learner.cc:1115: Starting in XGBoost 1.3.0, the default evaluation metric used with the objective 'multi:softprob' was changed from 'merror' to 'mlogloss'. Explicitly set eval_metric if you'd like to restore the old behavior.\n",
      "[20:56:34] WARNING: ../src/learner.cc:1115: Starting in XGBoost 1.3.0, the default evaluation metric used with the objective 'multi:softprob' was changed from 'merror' to 'mlogloss'. Explicitly set eval_metric if you'd like to restore the old behavior.\n",
      "[21:02:02] WARNING: ../src/learner.cc:1115: Starting in XGBoost 1.3.0, the default evaluation metric used with the objective 'multi:softprob' was changed from 'merror' to 'mlogloss'. Explicitly set eval_metric if you'd like to restore the old behavior.\n",
      "[21:07:31] WARNING: ../src/learner.cc:1115: Starting in XGBoost 1.3.0, the default evaluation metric used with the objective 'multi:softprob' was changed from 'merror' to 'mlogloss'. Explicitly set eval_metric if you'd like to restore the old behavior.\n"
     ]
    },
    {
     "data": {
      "text/plain": [
       "RandomizedSearchCV(estimator=XGBClassifier(base_score=0.5, booster='gbtree',\n",
       "                                           colsample_bylevel=1,\n",
       "                                           colsample_bynode=1,\n",
       "                                           colsample_bytree=1,\n",
       "                                           enable_categorical=False, gamma=0,\n",
       "                                           gpu_id=-1, importance_type=None,\n",
       "                                           interaction_constraints='',\n",
       "                                           learning_rate=0.300000012,\n",
       "                                           max_delta_step=0, max_depth=6,\n",
       "                                           min_child_weight=1, missing=nan,\n",
       "                                           monotone_constraints='()',\n",
       "                                           n_estimators=1...\n",
       "                   param_distributions={'colsample_bytree': <scipy.stats._distn_infrastructure.rv_frozen object at 0x7f9af93f4f40>,\n",
       "                                        'learning_rate': <scipy.stats._distn_infrastructure.rv_frozen object at 0x7f9af93f4730>,\n",
       "                                        'max_depth': [3, 4, 5, 6, 7, 8, 9],\n",
       "                                        'min_child_weight': [1, 2, 3, 4],\n",
       "                                        'n_estimators': <scipy.stats._distn_infrastructure.rv_frozen object at 0x7f9af93d8550>,\n",
       "                                        'subsample': <scipy.stats._distn_infrastructure.rv_frozen object at 0x7f9af9bf7190>},\n",
       "                   random_state=42)"
      ]
     },
     "execution_count": 47,
     "metadata": {},
     "output_type": "execute_result"
    }
   ],
   "source": [
    "param_dist = {\n",
    "    \"n_estimators\": stats.randint(150, 1000),\n",
    "    \"learning_rate\": stats.uniform(0.01, 0.59),\n",
    "    \"subsample\": stats.uniform(0.3, 0.6),\n",
    "    \"max_depth\": [3, 4, 5, 6, 7, 8, 9],\n",
    "    \"colsample_bytree\": stats.uniform(0.5, 0.4),\n",
    "    \"min_child_weight\": [1, 2, 3, 4],\n",
    "}\n",
    "randomcv = RandomizedSearchCV(tuned_model, param_dist, random_state=42)\n",
    "randomcv.fit(X_train_fs, y_train)"
   ]
  },
  {
   "cell_type": "code",
   "execution_count": null,
   "id": "7f383a41-7619-4704-8414-8c2607c76445",
   "metadata": {},
   "outputs": [],
   "source": []
  }
 ],
 "metadata": {
  "kernelspec": {
   "display_name": "conda_authentifield",
   "language": "python",
   "name": "conda_authentifield"
  },
  "language_info": {
   "codemirror_mode": {
    "name": "ipython",
    "version": 3
   },
   "file_extension": ".py",
   "mimetype": "text/x-python",
   "name": "python",
   "nbconvert_exporter": "python",
   "pygments_lexer": "ipython3",
   "version": "3.9.16"
  }
 },
 "nbformat": 4,
 "nbformat_minor": 5
}
