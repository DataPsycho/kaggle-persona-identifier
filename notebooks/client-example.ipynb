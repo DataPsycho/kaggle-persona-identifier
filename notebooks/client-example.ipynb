{
 "cells": [
  {
   "cell_type": "markdown",
   "id": "fd3ebcdd",
   "metadata": {},
   "source": [
    "# Example of Sending The Requests"
   ]
  },
  {
   "cell_type": "code",
   "execution_count": 2,
   "id": "379a2861",
   "metadata": {},
   "outputs": [],
   "source": [
    "import os\n",
    "os.chdir('/home/ec2-user/SageMaker/persona_identifier/')"
   ]
  },
  {
   "cell_type": "code",
   "execution_count": 8,
   "id": "9fc05893",
   "metadata": {},
   "outputs": [],
   "source": [
    "from src.pathfinder import PathConfig\n",
    "import pandas as pd\n",
    "import requests\n",
    "import json"
   ]
  },
  {
   "cell_type": "code",
   "execution_count": 4,
   "id": "25c85169",
   "metadata": {},
   "outputs": [],
   "source": [
    "# Load a Test Data\n",
    "paths = PathConfig()\n",
    "test_df = pd.read_csv(paths.test_dir.joinpath('Kaggle-Responses_v2.csv'))\n",
    "sample_input_array = test_df.iloc[:,:-1].values[15]\n",
    "payload = dict(enumerate(sample_input_array.flatten(), 1))"
   ]
  },
  {
   "cell_type": "code",
   "execution_count": null,
   "id": "58aa38c2",
   "metadata": {},
   "outputs": [],
   "source": [
    "# Fix the URIs\n",
    "uri = \" https://9d9767xtv8.execute-api.us-east-1.amazonaws.com/dev\"\n",
    "health_check_ep = f\"{uri}/healthcheck-post\"\n",
    "headers = {'Content-type': 'application/json'}\n",
    "\n",
    "# Send the response\n",
    "result = requests.post(uri, data=json.dumps(payload), headers=headers)\n",
    "result_json = result.json()\n",
    "result_json"
   ]
  },
  {
   "cell_type": "code",
   "execution_count": null,
   "id": "d979cb60",
   "metadata": {},
   "outputs": [],
   "source": [
    "json.loads(result_json[\"result\"])"
   ]
  },
  {
   "cell_type": "markdown",
   "id": "5fede358",
   "metadata": {},
   "source": [
    "# Debugging Code: Not Important"
   ]
  },
  {
   "cell_type": "code",
   "execution_count": 48,
   "id": "5767ee17",
   "metadata": {},
   "outputs": [],
   "source": [
    "import requests\n",
    "import json\n",
    "from pathlib import Path"
   ]
  },
  {
   "cell_type": "code",
   "execution_count": null,
   "id": "3323ff31",
   "metadata": {},
   "outputs": [],
   "source": [
    "data_source = \"../data\""
   ]
  },
  {
   "cell_type": "code",
   "execution_count": 27,
   "id": "8b0b5a58",
   "metadata": {},
   "outputs": [
    {
     "data": {
      "text/plain": [
       "{'test': 'status'}"
      ]
     },
     "execution_count": 27,
     "metadata": {},
     "output_type": "execute_result"
    }
   ],
   "source": [
    "result = requests.post(url=health_check_ep, json={\"test\": \"status\"})\n",
    "result.json()"
   ]
  },
  {
   "cell_type": "code",
   "execution_count": 43,
   "id": "62a0003b",
   "metadata": {},
   "outputs": [],
   "source": [
    "result = requests.post(url=uri, json={\"test\": \"This is a status status\"})\n",
    "result_json = result.json()\n",
    "result_body = result_json[\"body\"]"
   ]
  },
  {
   "cell_type": "code",
   "execution_count": 45,
   "id": "dc68cef8",
   "metadata": {},
   "outputs": [
    {
     "data": {
      "text/plain": [
       "{'test': 'This is a status status'}"
      ]
     },
     "execution_count": 45,
     "metadata": {},
     "output_type": "execute_result"
    }
   ],
   "source": [
    "result_body"
   ]
  },
  {
   "cell_type": "code",
   "execution_count": 49,
   "id": "92624e0c",
   "metadata": {},
   "outputs": [
    {
     "data": {
      "text/plain": [
       "{'statusCode': 200, 'header': {}, 'body': {'test': 'This is a status status'}}"
      ]
     },
     "execution_count": 49,
     "metadata": {},
     "output_type": "execute_result"
    }
   ],
   "source": [
    "\n",
    "# result_body = result_json[\"body\"]\n",
    "# result_body"
   ]
  }
 ],
 "metadata": {
  "kernelspec": {
   "display_name": "conda_persona_identifier",
   "language": "python",
   "name": "conda_persona_identifier"
  },
  "language_info": {
   "codemirror_mode": {
    "name": "ipython",
    "version": 3
   },
   "file_extension": ".py",
   "mimetype": "text/x-python",
   "name": "python",
   "nbconvert_exporter": "python",
   "pygments_lexer": "ipython3",
   "version": "3.9.17"
  }
 },
 "nbformat": 4,
 "nbformat_minor": 5
}
